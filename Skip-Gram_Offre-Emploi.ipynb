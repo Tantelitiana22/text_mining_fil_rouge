{
 "cells": [
  {
   "cell_type": "code",
   "execution_count": 1,
   "metadata": {},
   "outputs": [],
   "source": [
    "import pandas as pd\n",
    "import numpy as np\n",
    "import nltk\n",
    "import string\n",
    "import regex\n",
    "import re\n",
    "import seaborn as sn\n",
    "import matplotlib.pyplot as plt\n",
    "from nltk.corpus import stopwords\n",
    "from textblob import Word\n",
    "from sklearn.model_selection import train_test_split\n",
    "from sklearn.feature_extraction.text import TfidfVectorizer\n",
    "from sklearn.naive_bayes import MultinomialNB\n",
    "from sklearn.svm import LinearSVC\n",
    "from sklearn.calibration import CalibratedClassifierCV\n",
    "from sklearn.metrics import accuracy_score,roc_curve,auc\n",
    "from sklearn.multiclass import OneVsOneClassifier\n",
    "from sklearn.metrics import confusion_matrix\n",
    "from sklearn.linear_model import LogisticRegression\n",
    "from sklearn.model_selection import GridSearchCV\n",
    "from sklearn.neighbors import KNeighborsClassifier\n",
    "from sklearn.model_selection import cross_val_score\n",
    "from sklearn.pipeline import Pipeline\n",
    "from tqdm import tqdm\n",
    "from sklearn.manifold import TSNE\n",
    "from sklearn.feature_extraction.text import CountVectorizer,TfidfTransformer\n",
    "from sklearn.preprocessing import LabelEncoder,LabelBinarizer\n",
    "from sklearn.metrics import classification_report\n",
    "plt.style.use('ggplot')\n",
    "%matplotlib notebook"
   ]
  },
  {
   "cell_type": "markdown",
   "metadata": {},
   "source": [
    "## Chargement des données et néttoyage:"
   ]
  },
  {
   "cell_type": "code",
   "execution_count": 2,
   "metadata": {},
   "outputs": [],
   "source": [
    "def fonction_nettoyage_text(df):\n",
    "    # supprission des ponctuations\n",
    "    rm_ponct = str.maketrans('','',string.punctuation)\n",
    "    df = df.apply(lambda x:x.translate(rm_ponct))\n",
    "    # suppression les unicodes\n",
    "    df = df.apply(lambda x:x.encode(\"ascii\",\"ignore\").decode(\"utf-8\"))\n",
    "                                                \n",
    "    # suppression des URLs\n",
    "    df = df.apply(lambda x:re.sub(r'http\\S+',\"\",x))\n",
    "    \n",
    "    # suppression des stopwords\n",
    "    stop_en = stopwords.words(\"english\")\n",
    "    df = df.apply(lambda x:\" \".join(x.lower() for x in np.str(x).split() if x.lower() not in stop_en))\n",
    "                                                  # Lemmatisation\n",
    "    df = df.apply(lambda x:\" \".join([Word(word).lemmatize() for word in x.split()]))\n",
    "                  \n",
    "    return(df)"
   ]
  },
  {
   "cell_type": "markdown",
   "metadata": {},
   "source": [
    "## Split train-test validation:"
   ]
  },
  {
   "cell_type": "code",
   "execution_count": 3,
   "metadata": {},
   "outputs": [],
   "source": [
    "dataset = pd.read_csv(\"data_set_version_final.csv\")\n",
    "dataset.resume=fonction_nettoyage_text(dataset.resume)"
   ]
  },
  {
   "cell_type": "code",
   "execution_count": 4,
   "metadata": {},
   "outputs": [],
   "source": [
    "X_train,X_test,Y_train,y_test = train_test_split(dataset.resume,dataset.Labels,test_size=0.3,shuffle=True)\n",
    "x_train,x_val,y_train,y_val = train_test_split(X_train,Y_train,test_size=0.3,shuffle=True)"
   ]
  },
  {
   "cell_type": "markdown",
   "metadata": {},
   "source": [
    "## Skip-gram:"
   ]
  },
  {
   "cell_type": "markdown",
   "metadata": {},
   "source": [
    "L'idée dans cette partie est d'utiliser les métriques qui se trouvent dans la construction de la méthode word2vec pour réaliser des prédictions. \n"
   ]
  },
  {
   "cell_type": "markdown",
   "metadata": {},
   "source": [
    "\n",
    "<img src=\"image_file/word_embeding.png\" width=\"400\">\n"
   ]
  },
  {
   "cell_type": "markdown",
   "metadata": {},
   "source": [
    "Pour cela, on a déjà une classe qui a été codé pour simplifier les taches. Utilisons cette classe pour transformer notre text: "
   ]
  },
  {
   "cell_type": "code",
   "execution_count": 5,
   "metadata": {},
   "outputs": [],
   "source": [
    "from Word2VecTransformer import Embedding_Word2Vec"
   ]
  },
  {
   "cell_type": "code",
   "execution_count": 6,
   "metadata": {},
   "outputs": [],
   "source": [
    "word2vecmodel=Embedding_Word2Vec(n_size=150,n_window=10,n_min_count=5,n_workers=4)"
   ]
  },
  {
   "cell_type": "markdown",
   "metadata": {},
   "source": [
    "Par défaut, ce que l'on fait dans cette méthode c'est que l'on fait la moyenne des vecteurs de mot pour chaque documents. \n",
    "## Explication des différentes paramètres:"
   ]
  },
  {
   "cell_type": "markdown",
   "metadata": {},
   "source": [
    "- **n_size** ici corréspond à la taille de la couche caché qui va nous servir  comme étant le vecteur qui représente un mot.\n",
    "- **n_window** est la distance maximale entre le mot actuel et les mots qui lui corréspondent.\n",
    "- **n_workers** est le nombre de processeur que l'on souaite utiliser.\n",
    "- **n_min_count** on ignore les mots dont la fréquence est inféireur à cette paramètre.\n",
    "- **n_sg** nous permet de choisir entre skip-gram et cbow (par défaut skip-gram)\n",
    "- **n_sh** nous permet de choisir entre la fonction de soft max et le négatif simpling lorsque l'on va faire une déscente de gradien pour la partie optimisation.(valeur par défaut soft max)\n",
    "\n",
    "On peut encore ajouter d'autre paramètres mais ces paramètres ci-dessus nous suffit. \n",
    "\n",
    "## Entrainement du modèle et transformation:"
   ]
  },
  {
   "cell_type": "code",
   "execution_count": 7,
   "metadata": {},
   "outputs": [
    {
     "data": {
      "text/plain": [
       "<Word2VecTransformer.Embedding_Word2Vec at 0x7fa11efae668>"
      ]
     },
     "execution_count": 7,
     "metadata": {},
     "output_type": "execute_result"
    }
   ],
   "source": [
    "word2vecmodel.fit(x_train)"
   ]
  },
  {
   "cell_type": "code",
   "execution_count": 8,
   "metadata": {},
   "outputs": [
    {
     "name": "stderr",
     "output_type": "stream",
     "text": [
      "/home/tantely/anaconda3/lib/python3.6/site-packages/gensim/matutils.py:737: FutureWarning: Conversion of the second argument of issubdtype from `int` to `np.signedinteger` is deprecated. In future, it will be treated as `np.int64 == np.dtype(int).type`.\n",
      "  if np.issubdtype(vec.dtype, np.int):\n",
      "/home/tantely/anaconda3/lib/python3.6/site-packages/gensim/matutils.py:737: FutureWarning: Conversion of the second argument of issubdtype from `int` to `np.signedinteger` is deprecated. In future, it will be treated as `np.int64 == np.dtype(int).type`.\n",
      "  if np.issubdtype(vec.dtype, np.int):\n",
      "/home/tantely/anaconda3/lib/python3.6/site-packages/gensim/matutils.py:737: FutureWarning: Conversion of the second argument of issubdtype from `int` to `np.signedinteger` is deprecated. In future, it will be treated as `np.int64 == np.dtype(int).type`.\n",
      "  if np.issubdtype(vec.dtype, np.int):\n"
     ]
    }
   ],
   "source": [
    "X_embeded_train_w2v=word2vecmodel.transform(x_train)\n",
    "X_embeded_val_w2v=word2vecmodel.transform(x_val)\n",
    "X_embeded_test_w2v=word2vecmodel.transform(X_test)"
   ]
  },
  {
   "cell_type": "markdown",
   "metadata": {},
   "source": [
    "Utilisons maintenant les différentes algorithmes de classifications sur ces plongements de mots que l'on a réalisé."
   ]
  },
  {
   "cell_type": "markdown",
   "metadata": {},
   "source": [
    "## SVM:"
   ]
  },
  {
   "cell_type": "code",
   "execution_count": 9,
   "metadata": {},
   "outputs": [
    {
     "name": "stderr",
     "output_type": "stream",
     "text": [
      "/home/tantely/anaconda3/lib/python3.6/site-packages/sklearn/svm/base.py:931: ConvergenceWarning: Liblinear failed to converge, increase the number of iterations.\n",
      "  \"the number of iterations.\", ConvergenceWarning)\n",
      "/home/tantely/anaconda3/lib/python3.6/site-packages/sklearn/svm/base.py:931: ConvergenceWarning: Liblinear failed to converge, increase the number of iterations.\n",
      "  \"the number of iterations.\", ConvergenceWarning)\n",
      "/home/tantely/anaconda3/lib/python3.6/site-packages/sklearn/svm/base.py:931: ConvergenceWarning: Liblinear failed to converge, increase the number of iterations.\n",
      "  \"the number of iterations.\", ConvergenceWarning)\n",
      "/home/tantely/anaconda3/lib/python3.6/site-packages/sklearn/svm/base.py:931: ConvergenceWarning: Liblinear failed to converge, increase the number of iterations.\n",
      "  \"the number of iterations.\", ConvergenceWarning)\n",
      "/home/tantely/anaconda3/lib/python3.6/site-packages/sklearn/svm/base.py:931: ConvergenceWarning: Liblinear failed to converge, increase the number of iterations.\n",
      "  \"the number of iterations.\", ConvergenceWarning)\n",
      "/home/tantely/anaconda3/lib/python3.6/site-packages/sklearn/svm/base.py:931: ConvergenceWarning: Liblinear failed to converge, increase the number of iterations.\n",
      "  \"the number of iterations.\", ConvergenceWarning)\n",
      "/home/tantely/anaconda3/lib/python3.6/site-packages/sklearn/svm/base.py:931: ConvergenceWarning: Liblinear failed to converge, increase the number of iterations.\n",
      "  \"the number of iterations.\", ConvergenceWarning)\n"
     ]
    },
    {
     "name": "stdout",
     "output_type": "stream",
     "text": [
      "\n",
      " C optimal = 3.7275937203149416\n"
     ]
    },
    {
     "data": {
      "image/png": "[encoded data removed]",
      "text/plain": [
       "<Figure size 432x288 with 1 Axes>"
      ]
     },
     "metadata": {
      "needs_background": "light"
     },
     "output_type": "display_data"
    }
   ],
   "source": [
    "vectC = np.logspace(-3, 2, 15)\n",
    "err_val = np.empty(vectC.shape[0])\n",
    "err_app = np.empty(vectC.shape[0])\n",
    "clf_svm=LinearSVC(C=1)\n",
    "\n",
    "for ind_C, C in enumerate(vectC):\n",
    "    clf_svm.C = C\n",
    "    clf_svm.fit(X_embeded_train_w2v, y_train)\n",
    "    # calcule erreur sur les donnees de validation et app\n",
    "    err_val[ind_C] = 1 - accuracy_score(y_val, clf_svm.predict(X_embeded_val_w2v))\n",
    "    err_app[ind_C] = 1 - accuracy_score(y_train, clf_svm.predict(X_embeded_train_w2v))\n",
    "err_min_val, ind_min = err_val.min(), err_val.argmin()\n",
    "Copt = vectC[ind_min]\n",
    "print(\"\\n C optimal = {}\".format(Copt))\n",
    "# Trace courbe erreur\n",
    "plt.figure()\n",
    "plt.semilogx(vectC, err_app, color=\"blue\", linestyle=\"--\", marker=\"s\", markersize=5, label=\"Apprentissage\")\n",
    "plt.semilogx(vectC, err_val, color=\"green\", linestyle=\"--\", marker=\"s\", markersize=5, label=\"Validation\")\n",
    "plt.xlabel(\"Parametre C\")\n",
    "plt.ylabel(\"Erreur Classification\")\n",
    "plt.legend(loc=\"best\")\n",
    "plt.show()"
   ]
  },
  {
   "cell_type": "markdown",
   "metadata": {},
   "source": [
    "## Qualité du modèle:"
   ]
  },
  {
   "cell_type": "code",
   "execution_count": 10,
   "metadata": {},
   "outputs": [],
   "source": [
    "from sklearn.metrics import recall_score,average_precision_score,f1_score\n",
    "from sklearn.calibration import CalibratedClassifierCV"
   ]
  },
  {
   "cell_type": "code",
   "execution_count": 11,
   "metadata": {},
   "outputs": [
    {
     "name": "stderr",
     "output_type": "stream",
     "text": [
      "/home/tantely/anaconda3/lib/python3.6/site-packages/sklearn/svm/base.py:931: ConvergenceWarning: Liblinear failed to converge, increase the number of iterations.\n",
      "  \"the number of iterations.\", ConvergenceWarning)\n",
      "/home/tantely/anaconda3/lib/python3.6/site-packages/sklearn/svm/base.py:931: ConvergenceWarning: Liblinear failed to converge, increase the number of iterations.\n",
      "  \"the number of iterations.\", ConvergenceWarning)\n",
      "/home/tantely/anaconda3/lib/python3.6/site-packages/sklearn/svm/base.py:931: ConvergenceWarning: Liblinear failed to converge, increase the number of iterations.\n",
      "  \"the number of iterations.\", ConvergenceWarning)\n",
      "/home/tantely/anaconda3/lib/python3.6/site-packages/sklearn/svm/base.py:931: ConvergenceWarning: Liblinear failed to converge, increase the number of iterations.\n",
      "  \"the number of iterations.\", ConvergenceWarning)\n",
      "/home/tantely/anaconda3/lib/python3.6/site-packages/sklearn/svm/base.py:931: ConvergenceWarning: Liblinear failed to converge, increase the number of iterations.\n",
      "  \"the number of iterations.\", ConvergenceWarning)\n"
     ]
    }
   ],
   "source": [
    "clf_svm.C = Copt\n",
    "clf_svm_prob=CalibratedClassifierCV(clf_svm,cv=5)\n",
    "clf_svm_prob.fit(X_embeded_train_w2v, y_train)\n",
    "prediction_proba=clf_svm_prob.predict_proba(X_embeded_test_w2v)"
   ]
  },
  {
   "cell_type": "code",
   "execution_count": 12,
   "metadata": {},
   "outputs": [],
   "source": [
    "prediction=clf_svm.predict(X_embeded_test_w2v)"
   ]
  },
  {
   "cell_type": "code",
   "execution_count": 13,
   "metadata": {},
   "outputs": [
    {
     "name": "stdout",
     "output_type": "stream",
     "text": [
      "recall:0.9459545158278577\n",
      "accuracy:0.9459545158278577\n",
      "F1-score:0.9460029184081234\n"
     ]
    }
   ],
   "source": [
    "print(\"recall:{}\".format(recall_score(y_test, prediction,average='weighted')))\n",
    "print(\"accuracy:{}\".format(accuracy_score(y_test,prediction)))\n",
    "print(\"F1-score:{}\".format(f1_score(y_test, prediction,average='weighted')))\n",
    "#average_precision_score(y_test, prediction_proba)"
   ]
  },
  {
   "cell_type": "code",
   "execution_count": 14,
   "metadata": {},
   "outputs": [
    {
     "name": "stdout",
     "output_type": "stream",
     "text": [
      "                   precision    recall  f1-score   support\n",
      "\n",
      "Finance_actuariat       1.00      0.99      1.00      1495\n",
      "       chirurgien       0.93      0.93      0.93      8051\n",
      "     cryptography       0.94      0.97      0.96      3161\n",
      "   data scientist       0.94      0.95      0.94      3470\n",
      "          dentist       0.97      0.92      0.95      8277\n",
      "        developer       0.92      0.96      0.94      2188\n",
      "ditital_marketing       0.97      0.99      0.98      3684\n",
      " network_engineer       0.98      0.97      0.98      3735\n",
      "            nurse       0.90      0.95      0.93     10782\n",
      "       pharmacist       0.98      0.91      0.94      6260\n",
      "          robotic       0.96      0.95      0.96      5664\n",
      "\n",
      "        micro avg       0.95      0.95      0.95     56767\n",
      "        macro avg       0.95      0.95      0.95     56767\n",
      "     weighted avg       0.95      0.95      0.95     56767\n",
      "\n"
     ]
    }
   ],
   "source": [
    "print(classification_report(y_test, prediction))"
   ]
  },
  {
   "cell_type": "markdown",
   "metadata": {},
   "source": [
    "## Regression logistique:"
   ]
  },
  {
   "cell_type": "code",
   "execution_count": 15,
   "metadata": {},
   "outputs": [
    {
     "data": {
      "text/plain": [
       "Pipeline(memory=None,\n",
       "     steps=[('skip_gram', <Word2VecTransformer.Embedding_Word2Vec object at 0x7fa11fd2b9e8>), ('RL', LogisticRegression(C=1, class_weight=None, dual=False, fit_intercept=True,\n",
       "          intercept_scaling=1, max_iter=100, multi_class='warn',\n",
       "          n_jobs=None, penalty='l2', random_state=None, solver='warn',\n",
       "          tol=0.0001, verbose=0, warm_start=False))])"
      ]
     },
     "execution_count": 15,
     "metadata": {},
     "output_type": "execute_result"
    }
   ],
   "source": [
    "pipline_RL=Pipeline([('skip_gram',Embedding_Word2Vec(n_size=150,n_window=10,n_min_count=5,n_workers=4)),('RL',LogisticRegression())])\n",
    "pipline_RL.set_params(RL__C=1)"
   ]
  },
  {
   "cell_type": "markdown",
   "metadata": {},
   "source": [
    "## Entrainement du modèle et inialisation du paramètre de la regression Linéaire:"
   ]
  },
  {
   "cell_type": "code",
   "execution_count": 16,
   "metadata": {},
   "outputs": [
    {
     "name": "stderr",
     "output_type": "stream",
     "text": [
      "/home/tantely/anaconda3/lib/python3.6/site-packages/gensim/matutils.py:737: FutureWarning: Conversion of the second argument of issubdtype from `int` to `np.signedinteger` is deprecated. In future, it will be treated as `np.int64 == np.dtype(int).type`.\n",
      "  if np.issubdtype(vec.dtype, np.int):\n",
      "/home/tantely/anaconda3/lib/python3.6/site-packages/sklearn/linear_model/logistic.py:433: FutureWarning: Default solver will be changed to 'lbfgs' in 0.22. Specify a solver to silence this warning.\n",
      "  FutureWarning)\n",
      "/home/tantely/anaconda3/lib/python3.6/site-packages/sklearn/linear_model/logistic.py:460: FutureWarning: Default multi_class will be changed to 'auto' in 0.22. Specify the multi_class option to silence this warning.\n",
      "  \"this warning.\", FutureWarning)\n"
     ]
    }
   ],
   "source": [
    "rl=LogisticRegression()\n",
    "rl.C=1\n",
    "#rl.fit(X_embeded_train_w2v,y_train)\n",
    "ter=pipline_RL.fit(x_train,y_train)\n",
    "#pipline_RL.score(x_val,y_val)"
   ]
  },
  {
   "cell_type": "code",
   "execution_count": 17,
   "metadata": {},
   "outputs": [
    {
     "name": "stderr",
     "output_type": "stream",
     "text": [
      "/home/tantely/anaconda3/lib/python3.6/site-packages/gensim/matutils.py:737: FutureWarning: Conversion of the second argument of issubdtype from `int` to `np.signedinteger` is deprecated. In future, it will be treated as `np.int64 == np.dtype(int).type`.\n",
      "  if np.issubdtype(vec.dtype, np.int):\n"
     ]
    }
   ],
   "source": [
    "predictionRL=pipline_RL.predict(X_test)"
   ]
  },
  {
   "cell_type": "code",
   "execution_count": 18,
   "metadata": {},
   "outputs": [
    {
     "name": "stdout",
     "output_type": "stream",
     "text": [
      "recall:0.9463068331953424\n",
      "accuracy:0.9463068331953424\n",
      "F1-score:0.9464874684426319\n"
     ]
    }
   ],
   "source": [
    "print(\"recall:{}\".format(recall_score(y_test, predictionRL,average='weighted')))\n",
    "print(\"accuracy:{}\".format(accuracy_score(y_test,predictionRL)))\n",
    "print(\"F1-score:{}\".format(f1_score(y_test, predictionRL,average='weighted')))"
   ]
  },
  {
   "cell_type": "code",
   "execution_count": 19,
   "metadata": {},
   "outputs": [
    {
     "name": "stdout",
     "output_type": "stream",
     "text": [
      "                   precision    recall  f1-score   support\n",
      "\n",
      "Finance_actuariat       0.99      0.98      0.98      1495\n",
      "       chirurgien       0.95      0.91      0.93      8051\n",
      "     cryptography       0.95      0.97      0.96      3161\n",
      "   data scientist       0.94      0.95      0.94      3470\n",
      "          dentist       0.97      0.93      0.95      8277\n",
      "        developer       0.96      0.93      0.94      2188\n",
      "ditital_marketing       0.98      0.99      0.98      3684\n",
      " network_engineer       0.98      0.97      0.98      3735\n",
      "            nurse       0.88      0.97      0.92     10782\n",
      "       pharmacist       0.98      0.90      0.94      6260\n",
      "          robotic       0.96      0.96      0.96      5664\n",
      "\n",
      "        micro avg       0.95      0.95      0.95     56767\n",
      "        macro avg       0.96      0.95      0.95     56767\n",
      "     weighted avg       0.95      0.95      0.95     56767\n",
      "\n"
     ]
    }
   ],
   "source": [
    "print(classification_report(y_test, predictionRL))"
   ]
  },
  {
   "cell_type": "markdown",
   "metadata": {},
   "source": [
    "## Cross Validation sur le modèle logistique:"
   ]
  },
  {
   "cell_type": "code",
   "execution_count": 21,
   "metadata": {},
   "outputs": [
    {
     "name": "stderr",
     "output_type": "stream",
     "text": [
      "0it [00:00, ?it/s]/home/tantely/anaconda3/lib/python3.7/site-packages/sklearn/linear_model/logistic.py:433: FutureWarning: Default solver will be changed to 'lbfgs' in 0.22. Specify a solver to silence this warning.\n",
      "  FutureWarning)\n",
      "/home/tantely/anaconda3/lib/python3.7/site-packages/sklearn/linear_model/logistic.py:460: FutureWarning: Default multi_class will be changed to 'auto' in 0.22. Specify the multi_class option to silence this warning.\n",
      "  \"this warning.\", FutureWarning)\n",
      "1it [02:03, 123.60s/it]/home/tantely/anaconda3/lib/python3.7/site-packages/sklearn/linear_model/logistic.py:433: FutureWarning: Default solver will be changed to 'lbfgs' in 0.22. Specify a solver to silence this warning.\n",
      "  FutureWarning)\n",
      "/home/tantely/anaconda3/lib/python3.7/site-packages/sklearn/linear_model/logistic.py:460: FutureWarning: Default multi_class will be changed to 'auto' in 0.22. Specify the multi_class option to silence this warning.\n",
      "  \"this warning.\", FutureWarning)\n",
      "2it [04:02, 122.16s/it]/home/tantely/anaconda3/lib/python3.7/site-packages/sklearn/linear_model/logistic.py:433: FutureWarning: Default solver will be changed to 'lbfgs' in 0.22. Specify a solver to silence this warning.\n",
      "  FutureWarning)\n",
      "/home/tantely/anaconda3/lib/python3.7/site-packages/sklearn/linear_model/logistic.py:460: FutureWarning: Default multi_class will be changed to 'auto' in 0.22. Specify the multi_class option to silence this warning.\n",
      "  \"this warning.\", FutureWarning)\n",
      "3it [06:08, 123.33s/it]/home/tantely/anaconda3/lib/python3.7/site-packages/sklearn/linear_model/logistic.py:433: FutureWarning: Default solver will be changed to 'lbfgs' in 0.22. Specify a solver to silence this warning.\n",
      "  FutureWarning)\n",
      "/home/tantely/anaconda3/lib/python3.7/site-packages/sklearn/linear_model/logistic.py:460: FutureWarning: Default multi_class will be changed to 'auto' in 0.22. Specify the multi_class option to silence this warning.\n",
      "  \"this warning.\", FutureWarning)\n",
      "4it [08:23, 126.80s/it]/home/tantely/anaconda3/lib/python3.7/site-packages/sklearn/linear_model/logistic.py:433: FutureWarning: Default solver will be changed to 'lbfgs' in 0.22. Specify a solver to silence this warning.\n",
      "  FutureWarning)\n",
      "/home/tantely/anaconda3/lib/python3.7/site-packages/sklearn/linear_model/logistic.py:460: FutureWarning: Default multi_class will be changed to 'auto' in 0.22. Specify the multi_class option to silence this warning.\n",
      "  \"this warning.\", FutureWarning)\n",
      "5it [10:40, 129.80s/it]/home/tantely/anaconda3/lib/python3.7/site-packages/sklearn/linear_model/logistic.py:433: FutureWarning: Default solver will be changed to 'lbfgs' in 0.22. Specify a solver to silence this warning.\n",
      "  FutureWarning)\n",
      "/home/tantely/anaconda3/lib/python3.7/site-packages/sklearn/linear_model/logistic.py:460: FutureWarning: Default multi_class will be changed to 'auto' in 0.22. Specify the multi_class option to silence this warning.\n",
      "  \"this warning.\", FutureWarning)\n",
      "6it [12:57, 132.12s/it]/home/tantely/anaconda3/lib/python3.7/site-packages/sklearn/linear_model/logistic.py:433: FutureWarning: Default solver will be changed to 'lbfgs' in 0.22. Specify a solver to silence this warning.\n",
      "  FutureWarning)\n",
      "/home/tantely/anaconda3/lib/python3.7/site-packages/sklearn/linear_model/logistic.py:460: FutureWarning: Default multi_class will be changed to 'auto' in 0.22. Specify the multi_class option to silence this warning.\n",
      "  \"this warning.\", FutureWarning)\n",
      "7it [15:19, 134.96s/it]/home/tantely/anaconda3/lib/python3.7/site-packages/sklearn/linear_model/logistic.py:433: FutureWarning: Default solver will be changed to 'lbfgs' in 0.22. Specify a solver to silence this warning.\n",
      "  FutureWarning)\n",
      "/home/tantely/anaconda3/lib/python3.7/site-packages/sklearn/linear_model/logistic.py:460: FutureWarning: Default multi_class will be changed to 'auto' in 0.22. Specify the multi_class option to silence this warning.\n",
      "  \"this warning.\", FutureWarning)\n",
      "8it [17:40, 136.91s/it]/home/tantely/anaconda3/lib/python3.7/site-packages/sklearn/linear_model/logistic.py:433: FutureWarning: Default solver will be changed to 'lbfgs' in 0.22. Specify a solver to silence this warning.\n",
      "  FutureWarning)\n",
      "/home/tantely/anaconda3/lib/python3.7/site-packages/sklearn/linear_model/logistic.py:460: FutureWarning: Default multi_class will be changed to 'auto' in 0.22. Specify the multi_class option to silence this warning.\n",
      "  \"this warning.\", FutureWarning)\n",
      "9it [20:02, 138.47s/it]/home/tantely/anaconda3/lib/python3.7/site-packages/sklearn/linear_model/logistic.py:433: FutureWarning: Default solver will be changed to 'lbfgs' in 0.22. Specify a solver to silence this warning.\n",
      "  FutureWarning)\n",
      "/home/tantely/anaconda3/lib/python3.7/site-packages/sklearn/linear_model/logistic.py:460: FutureWarning: Default multi_class will be changed to 'auto' in 0.22. Specify the multi_class option to silence this warning.\n",
      "  \"this warning.\", FutureWarning)\n",
      "10it [22:23, 139.18s/it]/home/tantely/anaconda3/lib/python3.7/site-packages/sklearn/linear_model/logistic.py:433: FutureWarning: Default solver will be changed to 'lbfgs' in 0.22. Specify a solver to silence this warning.\n",
      "  FutureWarning)\n",
      "/home/tantely/anaconda3/lib/python3.7/site-packages/sklearn/linear_model/logistic.py:460: FutureWarning: Default multi_class will be changed to 'auto' in 0.22. Specify the multi_class option to silence this warning.\n",
      "  \"this warning.\", FutureWarning)\n",
      "11it [24:47, 140.60s/it]/home/tantely/anaconda3/lib/python3.7/site-packages/sklearn/linear_model/logistic.py:433: FutureWarning: Default solver will be changed to 'lbfgs' in 0.22. Specify a solver to silence this warning.\n",
      "  FutureWarning)\n",
      "/home/tantely/anaconda3/lib/python3.7/site-packages/sklearn/linear_model/logistic.py:460: FutureWarning: Default multi_class will be changed to 'auto' in 0.22. Specify the multi_class option to silence this warning.\n",
      "  \"this warning.\", FutureWarning)\n",
      "12it [27:08, 140.57s/it]/home/tantely/anaconda3/lib/python3.7/site-packages/sklearn/linear_model/logistic.py:433: FutureWarning: Default solver will be changed to 'lbfgs' in 0.22. Specify a solver to silence this warning.\n",
      "  FutureWarning)\n",
      "/home/tantely/anaconda3/lib/python3.7/site-packages/sklearn/linear_model/logistic.py:460: FutureWarning: Default multi_class will be changed to 'auto' in 0.22. Specify the multi_class option to silence this warning.\n",
      "  \"this warning.\", FutureWarning)\n",
      "13it [29:26, 139.95s/it]/home/tantely/anaconda3/lib/python3.7/site-packages/sklearn/linear_model/logistic.py:433: FutureWarning: Default solver will be changed to 'lbfgs' in 0.22. Specify a solver to silence this warning.\n",
      "  FutureWarning)\n",
      "/home/tantely/anaconda3/lib/python3.7/site-packages/sklearn/linear_model/logistic.py:460: FutureWarning: Default multi_class will be changed to 'auto' in 0.22. Specify the multi_class option to silence this warning.\n",
      "  \"this warning.\", FutureWarning)\n",
      "14it [31:58, 143.51s/it]/home/tantely/anaconda3/lib/python3.7/site-packages/sklearn/linear_model/logistic.py:433: FutureWarning: Default solver will be changed to 'lbfgs' in 0.22. Specify a solver to silence this warning.\n",
      "  FutureWarning)\n",
      "/home/tantely/anaconda3/lib/python3.7/site-packages/sklearn/linear_model/logistic.py:460: FutureWarning: Default multi_class will be changed to 'auto' in 0.22. Specify the multi_class option to silence this warning.\n",
      "  \"this warning.\", FutureWarning)\n",
      "15it [34:27, 145.31s/it]/home/tantely/anaconda3/lib/python3.7/site-packages/sklearn/linear_model/logistic.py:433: FutureWarning: Default solver will be changed to 'lbfgs' in 0.22. Specify a solver to silence this warning.\n",
      "  FutureWarning)\n",
      "/home/tantely/anaconda3/lib/python3.7/site-packages/sklearn/linear_model/logistic.py:460: FutureWarning: Default multi_class will be changed to 'auto' in 0.22. Specify the multi_class option to silence this warning.\n",
      "  \"this warning.\", FutureWarning)\n",
      "16it [36:47, 143.57s/it]/home/tantely/anaconda3/lib/python3.7/site-packages/sklearn/linear_model/logistic.py:433: FutureWarning: Default solver will be changed to 'lbfgs' in 0.22. Specify a solver to silence this warning.\n",
      "  FutureWarning)\n",
      "/home/tantely/anaconda3/lib/python3.7/site-packages/sklearn/linear_model/logistic.py:460: FutureWarning: Default multi_class will be changed to 'auto' in 0.22. Specify the multi_class option to silence this warning.\n",
      "  \"this warning.\", FutureWarning)\n"
     ]
    },
    {
     "name": "stderr",
     "output_type": "stream",
     "text": [
      "17it [39:12, 143.93s/it]/home/tantely/anaconda3/lib/python3.7/site-packages/sklearn/linear_model/logistic.py:433: FutureWarning: Default solver will be changed to 'lbfgs' in 0.22. Specify a solver to silence this warning.\n",
      "  FutureWarning)\n",
      "/home/tantely/anaconda3/lib/python3.7/site-packages/sklearn/linear_model/logistic.py:460: FutureWarning: Default multi_class will be changed to 'auto' in 0.22. Specify the multi_class option to silence this warning.\n",
      "  \"this warning.\", FutureWarning)\n",
      "18it [41:51, 148.62s/it]/home/tantely/anaconda3/lib/python3.7/site-packages/sklearn/linear_model/logistic.py:433: FutureWarning: Default solver will be changed to 'lbfgs' in 0.22. Specify a solver to silence this warning.\n",
      "  FutureWarning)\n",
      "/home/tantely/anaconda3/lib/python3.7/site-packages/sklearn/linear_model/logistic.py:460: FutureWarning: Default multi_class will be changed to 'auto' in 0.22. Specify the multi_class option to silence this warning.\n",
      "  \"this warning.\", FutureWarning)\n",
      "19it [44:22, 149.34s/it]/home/tantely/anaconda3/lib/python3.7/site-packages/sklearn/linear_model/logistic.py:433: FutureWarning: Default solver will be changed to 'lbfgs' in 0.22. Specify a solver to silence this warning.\n",
      "  FutureWarning)\n",
      "/home/tantely/anaconda3/lib/python3.7/site-packages/sklearn/linear_model/logistic.py:460: FutureWarning: Default multi_class will be changed to 'auto' in 0.22. Specify the multi_class option to silence this warning.\n",
      "  \"this warning.\", FutureWarning)\n",
      "20it [46:55, 150.48s/it]/home/tantely/anaconda3/lib/python3.7/site-packages/sklearn/linear_model/logistic.py:433: FutureWarning: Default solver will be changed to 'lbfgs' in 0.22. Specify a solver to silence this warning.\n",
      "  FutureWarning)\n",
      "/home/tantely/anaconda3/lib/python3.7/site-packages/sklearn/linear_model/logistic.py:460: FutureWarning: Default multi_class will be changed to 'auto' in 0.22. Specify the multi_class option to silence this warning.\n",
      "  \"this warning.\", FutureWarning)\n",
      "21it [49:37, 153.72s/it]/home/tantely/anaconda3/lib/python3.7/site-packages/sklearn/linear_model/logistic.py:433: FutureWarning: Default solver will be changed to 'lbfgs' in 0.22. Specify a solver to silence this warning.\n",
      "  FutureWarning)\n",
      "/home/tantely/anaconda3/lib/python3.7/site-packages/sklearn/linear_model/logistic.py:460: FutureWarning: Default multi_class will be changed to 'auto' in 0.22. Specify the multi_class option to silence this warning.\n",
      "  \"this warning.\", FutureWarning)\n",
      "22it [52:12, 154.07s/it]/home/tantely/anaconda3/lib/python3.7/site-packages/sklearn/linear_model/logistic.py:433: FutureWarning: Default solver will be changed to 'lbfgs' in 0.22. Specify a solver to silence this warning.\n",
      "  FutureWarning)\n",
      "/home/tantely/anaconda3/lib/python3.7/site-packages/sklearn/linear_model/logistic.py:460: FutureWarning: Default multi_class will be changed to 'auto' in 0.22. Specify the multi_class option to silence this warning.\n",
      "  \"this warning.\", FutureWarning)\n",
      "23it [54:49, 154.98s/it]/home/tantely/anaconda3/lib/python3.7/site-packages/sklearn/linear_model/logistic.py:433: FutureWarning: Default solver will be changed to 'lbfgs' in 0.22. Specify a solver to silence this warning.\n",
      "  FutureWarning)\n",
      "/home/tantely/anaconda3/lib/python3.7/site-packages/sklearn/linear_model/logistic.py:460: FutureWarning: Default multi_class will be changed to 'auto' in 0.22. Specify the multi_class option to silence this warning.\n",
      "  \"this warning.\", FutureWarning)\n",
      "24it [57:26, 155.72s/it]\n"
     ]
    },
    {
     "name": "stdout",
     "output_type": "stream",
     "text": [
      "\n",
      " C optimal = 5.5\n"
     ]
    },
    {
     "data": {
      "image/png": "[encoded data removed]",
      "text/plain": [
       "<Figure size 432x288 with 1 Axes>"
      ]
     },
     "metadata": {
      "needs_background": "light"
     },
     "output_type": "display_data"
    }
   ],
   "source": [
    "vectC = np.array([1e-4,1e-3,1e-2,1e-1,0.2,0.3,0.4,0.5,0.6,0.7,0.8,0.9,1,1.5,1.6,2,2.5,3,3.5,4,4.5,5,5.5,10])\n",
    "err_val = np.empty(vectC.shape[0])\n",
    "err_app = np.empty(vectC.shape[0])\n",
    "for ind_C, C in tqdm(enumerate(vectC)):\n",
    "    pipline_RL.set_params(RL__C=C)\n",
    "    temp=pipline_RL.fit(x_train, y_train)\n",
    "    # calcule erreur sur les donnees de validation et app\n",
    "    err_val[ind_C] = 1 - accuracy_score(y_val, pipline_RL.predict(x_val))\n",
    "    err_app[ind_C] = 1 - accuracy_score(y_train, pipline_RL.predict(x_train))\n",
    "err_min_val, ind_min = err_val.min(), err_val.argmin()\n",
    "Copt = vectC[ind_min]\n",
    "print(\"\\n C optimal = {}\".format(Copt))\n",
    "# Trace courbe erreur\n",
    "plt.figure()\n",
    "plt.semilogx(vectC, err_app, color=\"blue\", linestyle=\"--\", marker=\"s\", markersize=5, label=\"Apprentissage\")\n",
    "plt.semilogx(vectC, err_val, color=\"green\", linestyle=\"--\", marker=\"s\", markersize=5, label=\"Validation\")\n",
    "plt.xlabel(\"Parametre alpha\")\n",
    "plt.ylabel(\"Erreur Classification\")\n",
    "plt.legend(loc=\"best\")\n",
    "plt.show()"
   ]
  },
  {
   "cell_type": "code",
   "execution_count": 22,
   "metadata": {},
   "outputs": [
    {
     "name": "stderr",
     "output_type": "stream",
     "text": [
      "/home/tantely/anaconda3/lib/python3.7/site-packages/sklearn/linear_model/logistic.py:433: FutureWarning: Default solver will be changed to 'lbfgs' in 0.22. Specify a solver to silence this warning.\n",
      "  FutureWarning)\n",
      "/home/tantely/anaconda3/lib/python3.7/site-packages/sklearn/linear_model/logistic.py:460: FutureWarning: Default multi_class will be changed to 'auto' in 0.22. Specify the multi_class option to silence this warning.\n",
      "  \"this warning.\", FutureWarning)\n"
     ]
    },
    {
     "name": "stdout",
     "output_type": "stream",
     "text": [
      "recall:0.9492134514770906\n",
      "accuracy:0.9492134514770906\n",
      "F1-score:0.9492541919905253\n"
     ]
    }
   ],
   "source": [
    "pipline_RL.set_params(RL__C=Copt)\n",
    "temp=pipline_RL.fit(x_train, y_train)\n",
    "predRL=pipline_RL.predict(X_test)   \n",
    "print(\"recall:{}\".format(recall_score(y_test, predRL,average='weighted')))\n",
    "print(\"accuracy:{}\".format(accuracy_score(y_test,predRL)))\n",
    "print(\"F1-score:{}\".format(f1_score(y_test,predRL,average='weighted')))"
   ]
  },
  {
   "cell_type": "code",
   "execution_count": 23,
   "metadata": {},
   "outputs": [
    {
     "name": "stdout",
     "output_type": "stream",
     "text": [
      "                   precision    recall  f1-score   support\n",
      "\n",
      "Finance_actuariat       0.99      1.00      1.00      1522\n",
      "       chirurgien       0.95      0.91      0.93      7955\n",
      "     cryptography       0.98      0.96      0.97      3211\n",
      "   data scientist       0.95      0.94      0.95      3426\n",
      "          dentist       0.96      0.94      0.95      8149\n",
      "        developer       0.96      0.94      0.95      2227\n",
      "ditital_marketing       0.98      0.99      0.99      3666\n",
      " network_engineer       0.98      0.97      0.97      3716\n",
      "            nurse       0.90      0.95      0.93     10857\n",
      "       pharmacist       0.94      0.94      0.94      6379\n",
      "          robotic       0.96      0.97      0.97      5659\n",
      "\n",
      "        micro avg       0.95      0.95      0.95     56767\n",
      "        macro avg       0.96      0.96      0.96     56767\n",
      "     weighted avg       0.95      0.95      0.95     56767\n",
      "\n"
     ]
    }
   ],
   "source": [
    "print(classification_report(y_test, prediction))"
   ]
  },
  {
   "cell_type": "markdown",
   "metadata": {},
   "source": [
    "## KNN:"
   ]
  },
  {
   "cell_type": "code",
   "execution_count": 28,
   "metadata": {},
   "outputs": [],
   "source": [
    "pipline=Pipeline([('skip_gram',Embedding_Word2Vec(n_size=150,n_window=10,n_min_count=5,n_workers=4)),('knn',KNeighborsClassifier())])"
   ]
  },
  {
   "cell_type": "code",
   "execution_count": null,
   "metadata": {},
   "outputs": [
    {
     "name": "stderr",
     "output_type": "stream",
     "text": [
      "  0%|          | 0/8 [00:00<?, ?it/s]/home/tantely/anaconda3/lib/python3.6/site-packages/gensim/matutils.py:737: FutureWarning: Conversion of the second argument of issubdtype from `int` to `np.signedinteger` is deprecated. In future, it will be treated as `np.int64 == np.dtype(int).type`.\n",
      "  if np.issubdtype(vec.dtype, np.int):\n",
      "/home/tantely/anaconda3/lib/python3.6/site-packages/gensim/matutils.py:737: FutureWarning: Conversion of the second argument of issubdtype from `int` to `np.signedinteger` is deprecated. In future, it will be treated as `np.int64 == np.dtype(int).type`.\n",
      "  if np.issubdtype(vec.dtype, np.int):\n",
      "/home/tantely/anaconda3/lib/python3.6/site-packages/gensim/matutils.py:737: FutureWarning: Conversion of the second argument of issubdtype from `int` to `np.signedinteger` is deprecated. In future, it will be treated as `np.int64 == np.dtype(int).type`.\n",
      "  if np.issubdtype(vec.dtype, np.int):\n",
      " 12%|█▎        | 1/8 [12:32<1:27:50, 752.93s/it]/home/tantely/anaconda3/lib/python3.6/site-packages/gensim/matutils.py:737: FutureWarning: Conversion of the second argument of issubdtype from `int` to `np.signedinteger` is deprecated. In future, it will be treated as `np.int64 == np.dtype(int).type`.\n",
      "  if np.issubdtype(vec.dtype, np.int):\n",
      "/home/tantely/anaconda3/lib/python3.6/site-packages/gensim/matutils.py:737: FutureWarning: Conversion of the second argument of issubdtype from `int` to `np.signedinteger` is deprecated. In future, it will be treated as `np.int64 == np.dtype(int).type`.\n",
      "  if np.issubdtype(vec.dtype, np.int):\n",
      "/home/tantely/anaconda3/lib/python3.6/site-packages/gensim/matutils.py:737: FutureWarning: Conversion of the second argument of issubdtype from `int` to `np.signedinteger` is deprecated. In future, it will be treated as `np.int64 == np.dtype(int).type`.\n",
      "  if np.issubdtype(vec.dtype, np.int):\n",
      " 25%|██▌       | 2/8 [31:49<1:27:23, 873.93s/it]/home/tantely/anaconda3/lib/python3.6/site-packages/gensim/matutils.py:737: FutureWarning: Conversion of the second argument of issubdtype from `int` to `np.signedinteger` is deprecated. In future, it will be treated as `np.int64 == np.dtype(int).type`.\n",
      "  if np.issubdtype(vec.dtype, np.int):\n",
      "/home/tantely/anaconda3/lib/python3.6/site-packages/gensim/matutils.py:737: FutureWarning: Conversion of the second argument of issubdtype from `int` to `np.signedinteger` is deprecated. In future, it will be treated as `np.int64 == np.dtype(int).type`.\n",
      "  if np.issubdtype(vec.dtype, np.int):\n"
     ]
    }
   ],
   "source": [
    "k_values = [2,3,5,6,7,8,9,10]\n",
    "perf_train=[]\n",
    "perf_val=[]\n",
    "for k in tqdm(k_values):\n",
    "    pipline.set_params(knn__n_neighbors=k)\n",
    "    pipline.fit(x_train, y_train)\n",
    "    y_pred_train = pipline.predict(x_train)\n",
    "    y_pred_val=pipline.predict(x_val)\n",
    "    scores_train = accuracy_score(y_train, y_pred_train)\n",
    "    scores_val=accuracy_score(y_val,y_pred_val)\n",
    "    perf_train.append(scores_train)\n",
    "    perf_val.append(scores_val)\n",
    "plt.figure()\n",
    "plt.plot(range(1,len(perf_train)+1),perf_train,\"--r\",range(1,len(perf_val)+1),perf_val,\"--g^\")\n",
    "plt.legend(['accuracy train', 'accuracy val'],loc=\"lower right\")\n",
    "print('With all being CV, best k is '    +repr(k_values[perf_val.index(max(perf_val))])+ ' and best perf is ' + repr(max(perf_val)))"
   ]
  },
  {
   "cell_type": "markdown",
   "metadata": {},
   "source": [
    "Entre l'accuracy et le train,on a un décalage qui semble être constante pour tout valeur de k. Dons on peut dire que l'on ne suaprend pas."
   ]
  },
  {
   "cell_type": "code",
   "execution_count": null,
   "metadata": {},
   "outputs": [],
   "source": [
    "pipline.set_params(knn__n_neighbors=k_values[perf_val.index(max(perf_val))])\n",
    "pipline.fit(x_train, y_train)\n",
    "pred_knn = pipline.predict(X_test)"
   ]
  },
  {
   "cell_type": "code",
   "execution_count": null,
   "metadata": {},
   "outputs": [],
   "source": [
    "print(\"recall:{}\".format(recall_score(y_test, pred_knn,average='weighted')))\n",
    "print(\"accuracy:{}\".format(accuracy_score(y_test,pred_knn)))\n",
    "print(\"F1-score:{}\".format(f1_score(y_test,pred_knn,average='weighted')))"
   ]
  },
  {
   "cell_type": "markdown",
   "metadata": {},
   "source": [
    "Dans ce cas ci, on remarque que le knn semble être meilleur comparé  à la regression logistique et la régression linéaire. "
   ]
  },
  {
   "cell_type": "markdown",
   "metadata": {},
   "source": [
    "### Utilisation du négative Simpling pour la déscente de gradien:\n",
    "Nous allons refaire tout ce que l'on avait fait avant et prendre l'option **n_sh** comme étant égale à 0 pour l'utilisation du négatif simpling. \n",
    "\n",
    "## Remarque:\n",
    "Comme l'utilisation du Pipeline prend plus de temps, nous 'allons plus utiliser les pipelines dans la suite."
   ]
  },
  {
   "cell_type": "code",
   "execution_count": 31,
   "metadata": {},
   "outputs": [],
   "source": [
    "word2vecmodel=Embedding_Word2Vec(n_size=150,n_window=10,n_min_count=5,n_workers=4,n_hs=0)\n",
    "word2vecmodel.fit(x_train)\n",
    "X_embeded_train_w2v=word2vecmodel.transform(x_train)\n",
    "X_embeded_val_w2v=word2vecmodel.transform(x_val)\n",
    "X_embeded_test_w2v=word2vecmodel.transform(X_test)"
   ]
  },
  {
   "cell_type": "code",
   "execution_count": 33,
   "metadata": {},
   "outputs": [
    {
     "name": "stderr",
     "output_type": "stream",
     "text": [
      "12it [01:36, 15.03s/it]/home/tantely/anaconda3/lib/python3.7/site-packages/sklearn/svm/base.py:922: ConvergenceWarning: Liblinear failed to converge, increase the number of iterations.\n",
      "  \"the number of iterations.\", ConvergenceWarning)\n",
      "13it [02:36, 28.65s/it]/home/tantely/anaconda3/lib/python3.7/site-packages/sklearn/svm/base.py:922: ConvergenceWarning: Liblinear failed to converge, increase the number of iterations.\n",
      "  \"the number of iterations.\", ConvergenceWarning)\n",
      "14it [03:55, 43.77s/it]/home/tantely/anaconda3/lib/python3.7/site-packages/sklearn/svm/base.py:922: ConvergenceWarning: Liblinear failed to converge, increase the number of iterations.\n",
      "  \"the number of iterations.\", ConvergenceWarning)\n",
      "15it [05:39, 61.91s/it]\n"
     ]
    },
    {
     "name": "stdout",
     "output_type": "stream",
     "text": [
      "\n",
      " C optimal = 100.0\n"
     ]
    },
    {
     "data": {
      "image/png": "[encoded data removed]",
      "text/plain": [
       "<Figure size 432x288 with 1 Axes>"
      ]
     },
     "metadata": {
      "needs_background": "light"
     },
     "output_type": "display_data"
    }
   ],
   "source": [
    "vectC = np.logspace(-3, 2, 15)\n",
    "err_val = np.empty(vectC.shape[0])\n",
    "err_app = np.empty(vectC.shape[0])\n",
    "clf_svm=LinearSVC(C=1)\n",
    "\n",
    "for ind_C, C in tqdm(enumerate(vectC)):\n",
    "    clf_svm.C = C\n",
    "    clf_svm.fit(X_embeded_train_w2v, y_train)\n",
    "    # calcule erreur sur les donnees de validation et app\n",
    "    err_val[ind_C] = 1 - accuracy_score(y_val, clf_svm.predict(X_embeded_val_w2v))\n",
    "    err_app[ind_C] = 1 - accuracy_score(y_train, clf_svm.predict(X_embeded_train_w2v))\n",
    "err_min_val, ind_min = err_val.min(), err_val.argmin()\n",
    "Copt = vectC[ind_min]\n",
    "print(\"\\n C optimal = {}\".format(Copt))\n",
    "# Trace courbe erreur\n",
    "plt.figure()\n",
    "plt.semilogx(vectC, err_app, color=\"blue\", linestyle=\"--\", marker=\"s\", markersize=5, label=\"Apprentissage\")\n",
    "plt.semilogx(vectC, err_val, color=\"green\", linestyle=\"--\", marker=\"s\", markersize=5, label=\"Validation\")\n",
    "plt.xlabel(\"Parametre C\")\n",
    "plt.ylabel(\"Erreur Classification\")\n",
    "plt.legend(loc=\"best\")\n",
    "plt.show()"
   ]
  },
  {
   "cell_type": "code",
   "execution_count": 34,
   "metadata": {},
   "outputs": [
    {
     "name": "stderr",
     "output_type": "stream",
     "text": [
      "/home/tantely/anaconda3/lib/python3.7/site-packages/sklearn/svm/base.py:922: ConvergenceWarning: Liblinear failed to converge, increase the number of iterations.\n",
      "  \"the number of iterations.\", ConvergenceWarning)\n",
      "/home/tantely/anaconda3/lib/python3.7/site-packages/sklearn/svm/base.py:922: ConvergenceWarning: Liblinear failed to converge, increase the number of iterations.\n",
      "  \"the number of iterations.\", ConvergenceWarning)\n",
      "/home/tantely/anaconda3/lib/python3.7/site-packages/sklearn/svm/base.py:922: ConvergenceWarning: Liblinear failed to converge, increase the number of iterations.\n",
      "  \"the number of iterations.\", ConvergenceWarning)\n",
      "/home/tantely/anaconda3/lib/python3.7/site-packages/sklearn/svm/base.py:922: ConvergenceWarning: Liblinear failed to converge, increase the number of iterations.\n",
      "  \"the number of iterations.\", ConvergenceWarning)\n",
      "/home/tantely/anaconda3/lib/python3.7/site-packages/sklearn/svm/base.py:922: ConvergenceWarning: Liblinear failed to converge, increase the number of iterations.\n",
      "  \"the number of iterations.\", ConvergenceWarning)\n"
     ]
    }
   ],
   "source": [
    "clf_svm.C = Copt\n",
    "clf_svm_prob=CalibratedClassifierCV(clf_svm,cv=5)\n",
    "clf_svm_prob.fit(X_embeded_train_w2v, y_train)\n",
    "prediction_proba=clf_svm_prob.predict_proba(X_embeded_test_w2v)"
   ]
  },
  {
   "cell_type": "code",
   "execution_count": 38,
   "metadata": {},
   "outputs": [
    {
     "name": "stdout",
     "output_type": "stream",
     "text": [
      "recall:0.9501294766325507\n",
      "accuracy:0.9501294766325507\n",
      "F1-score:0.9501662479942362\n"
     ]
    }
   ],
   "source": [
    "prediction=clf_svm.predict(X_embeded_test_w2v)\n",
    "print(\"recall:{}\".format(recall_score(y_test, prediction,average='weighted')))\n",
    "print(\"accuracy:{}\".format(accuracy_score(y_test,prediction)))\n",
    "print(\"F1-score:{}\".format(f1_score(y_test, prediction,average='weighted')))"
   ]
  },
  {
   "cell_type": "code",
   "execution_count": 57,
   "metadata": {},
   "outputs": [
    {
     "name": "stdout",
     "output_type": "stream",
     "text": [
      "                   precision    recall  f1-score   support\n",
      "\n",
      "Finance_actuariat       1.00      1.00      1.00      1522\n",
      "       chirurgien       0.94      0.92      0.93      8047\n",
      "     cryptography       0.97      0.97      0.97      3172\n",
      "   data scientist       0.93      0.96      0.95      3317\n",
      "          dentist       0.95      0.95      0.95      8222\n",
      "        developer       0.96      0.94      0.95      2200\n",
      "ditital_marketing       0.99      0.99      0.99      3592\n",
      " network_engineer       0.99      0.98      0.98      3748\n",
      "            nurse       0.91      0.95      0.93     10888\n",
      "       pharmacist       0.96      0.93      0.94      6391\n",
      "          robotic       0.97      0.97      0.97      5668\n",
      "\n",
      "        micro avg       0.95      0.95      0.95     56767\n",
      "        macro avg       0.96      0.96      0.96     56767\n",
      "     weighted avg       0.95      0.95      0.95     56767\n",
      "\n"
     ]
    }
   ],
   "source": [
    "print(classification_report(y_test, prediction))"
   ]
  },
  {
   "cell_type": "markdown",
   "metadata": {},
   "source": [
    "A partir de la 4 eme décimale on remarque que l'on est moins meilleurs que lorsqu'on utilise la fonction soft max."
   ]
  },
  {
   "cell_type": "markdown",
   "metadata": {},
   "source": [
    "## Regression logistique:"
   ]
  },
  {
   "cell_type": "code",
   "execution_count": 44,
   "metadata": {},
   "outputs": [],
   "source": [
    "rl=LogisticRegression(multi_class=\"auto\",solver=\"lbfgs\")"
   ]
  },
  {
   "cell_type": "code",
   "execution_count": 45,
   "metadata": {},
   "outputs": [
    {
     "name": "stderr",
     "output_type": "stream",
     "text": [
      "\n",
      "\n",
      "0it [00:00, ?it/s]\u001b[A\u001b[A\n",
      "\n",
      "1it [00:01,  1.76s/it]\u001b[A\u001b[A\n",
      "\n",
      "2it [00:03,  1.85s/it]\u001b[A\u001b[A\n",
      "\n",
      "3it [00:07,  2.30s/it]\u001b[A\u001b[A/home/tantely/anaconda3/lib/python3.7/site-packages/sklearn/linear_model/logistic.py:758: ConvergenceWarning: lbfgs failed to converge. Increase the number of iterations.\n",
      "  \"of iterations.\", ConvergenceWarning)\n",
      "\n",
      "\n",
      "4it [00:12,  3.27s/it]\u001b[A\u001b[A/home/tantely/anaconda3/lib/python3.7/site-packages/sklearn/linear_model/logistic.py:758: ConvergenceWarning: lbfgs failed to converge. Increase the number of iterations.\n",
      "  \"of iterations.\", ConvergenceWarning)\n",
      "\n",
      "\n",
      "5it [00:18,  3.98s/it]\u001b[A\u001b[A/home/tantely/anaconda3/lib/python3.7/site-packages/sklearn/linear_model/logistic.py:758: ConvergenceWarning: lbfgs failed to converge. Increase the number of iterations.\n",
      "  \"of iterations.\", ConvergenceWarning)\n",
      "\n",
      "\n",
      "6it [00:24,  4.50s/it]\u001b[A\u001b[A/home/tantely/anaconda3/lib/python3.7/site-packages/sklearn/linear_model/logistic.py:758: ConvergenceWarning: lbfgs failed to converge. Increase the number of iterations.\n",
      "  \"of iterations.\", ConvergenceWarning)\n",
      "\n",
      "\n",
      "7it [00:29,  4.81s/it]\u001b[A\u001b[A/home/tantely/anaconda3/lib/python3.7/site-packages/sklearn/linear_model/logistic.py:758: ConvergenceWarning: lbfgs failed to converge. Increase the number of iterations.\n",
      "  \"of iterations.\", ConvergenceWarning)\n",
      "\n",
      "\n",
      "8it [00:35,  5.05s/it]\u001b[A\u001b[A/home/tantely/anaconda3/lib/python3.7/site-packages/sklearn/linear_model/logistic.py:758: ConvergenceWarning: lbfgs failed to converge. Increase the number of iterations.\n",
      "  \"of iterations.\", ConvergenceWarning)\n",
      "\n",
      "\n",
      "9it [00:40,  5.19s/it]\u001b[A\u001b[A/home/tantely/anaconda3/lib/python3.7/site-packages/sklearn/linear_model/logistic.py:758: ConvergenceWarning: lbfgs failed to converge. Increase the number of iterations.\n",
      "  \"of iterations.\", ConvergenceWarning)\n",
      "\n",
      "\n",
      "10it [00:46,  5.30s/it]\u001b[A\u001b[A/home/tantely/anaconda3/lib/python3.7/site-packages/sklearn/linear_model/logistic.py:758: ConvergenceWarning: lbfgs failed to converge. Increase the number of iterations.\n",
      "  \"of iterations.\", ConvergenceWarning)\n",
      "\n",
      "\n",
      "11it [00:51,  5.37s/it]\u001b[A\u001b[A/home/tantely/anaconda3/lib/python3.7/site-packages/sklearn/linear_model/logistic.py:758: ConvergenceWarning: lbfgs failed to converge. Increase the number of iterations.\n",
      "  \"of iterations.\", ConvergenceWarning)\n",
      "\n",
      "\n",
      "12it [00:57,  5.45s/it]\u001b[A\u001b[A/home/tantely/anaconda3/lib/python3.7/site-packages/sklearn/linear_model/logistic.py:758: ConvergenceWarning: lbfgs failed to converge. Increase the number of iterations.\n",
      "  \"of iterations.\", ConvergenceWarning)\n",
      "\n",
      "\n",
      "13it [01:02,  5.46s/it]\u001b[A\u001b[A/home/tantely/anaconda3/lib/python3.7/site-packages/sklearn/linear_model/logistic.py:758: ConvergenceWarning: lbfgs failed to converge. Increase the number of iterations.\n",
      "  \"of iterations.\", ConvergenceWarning)\n",
      "\n",
      "\n",
      "14it [01:08,  5.50s/it]\u001b[A\u001b[A/home/tantely/anaconda3/lib/python3.7/site-packages/sklearn/linear_model/logistic.py:758: ConvergenceWarning: lbfgs failed to converge. Increase the number of iterations.\n",
      "  \"of iterations.\", ConvergenceWarning)\n",
      "\n",
      "\n",
      "15it [01:14,  5.53s/it]\u001b[A\u001b[A/home/tantely/anaconda3/lib/python3.7/site-packages/sklearn/linear_model/logistic.py:758: ConvergenceWarning: lbfgs failed to converge. Increase the number of iterations.\n",
      "  \"of iterations.\", ConvergenceWarning)\n",
      "\n",
      "\n",
      "16it [01:19,  5.53s/it]\u001b[A\u001b[A/home/tantely/anaconda3/lib/python3.7/site-packages/sklearn/linear_model/logistic.py:758: ConvergenceWarning: lbfgs failed to converge. Increase the number of iterations.\n",
      "  \"of iterations.\", ConvergenceWarning)\n",
      "\n",
      "\n",
      "17it [01:25,  5.60s/it]\u001b[A\u001b[A/home/tantely/anaconda3/lib/python3.7/site-packages/sklearn/linear_model/logistic.py:758: ConvergenceWarning: lbfgs failed to converge. Increase the number of iterations.\n",
      "  \"of iterations.\", ConvergenceWarning)\n",
      "\n",
      "\n",
      "18it [01:30,  5.60s/it]\u001b[A\u001b[A/home/tantely/anaconda3/lib/python3.7/site-packages/sklearn/linear_model/logistic.py:758: ConvergenceWarning: lbfgs failed to converge. Increase the number of iterations.\n",
      "  \"of iterations.\", ConvergenceWarning)\n",
      "\n",
      "\n",
      "19it [01:36,  5.64s/it]\u001b[A\u001b[A/home/tantely/anaconda3/lib/python3.7/site-packages/sklearn/linear_model/logistic.py:758: ConvergenceWarning: lbfgs failed to converge. Increase the number of iterations.\n",
      "  \"of iterations.\", ConvergenceWarning)\n",
      "\n",
      "\n",
      "20it [01:42,  5.61s/it]\u001b[A\u001b[A/home/tantely/anaconda3/lib/python3.7/site-packages/sklearn/linear_model/logistic.py:758: ConvergenceWarning: lbfgs failed to converge. Increase the number of iterations.\n",
      "  \"of iterations.\", ConvergenceWarning)\n",
      "\n",
      "\n",
      "21it [01:47,  5.62s/it]\u001b[A\u001b[A/home/tantely/anaconda3/lib/python3.7/site-packages/sklearn/linear_model/logistic.py:758: ConvergenceWarning: lbfgs failed to converge. Increase the number of iterations.\n",
      "  \"of iterations.\", ConvergenceWarning)\n",
      "\n",
      "\n",
      "22it [01:53,  5.67s/it]\u001b[A\u001b[A/home/tantely/anaconda3/lib/python3.7/site-packages/sklearn/linear_model/logistic.py:758: ConvergenceWarning: lbfgs failed to converge. Increase the number of iterations.\n",
      "  \"of iterations.\", ConvergenceWarning)\n",
      "\n",
      "\n",
      "23it [01:59,  5.73s/it]\u001b[A\u001b[A/home/tantely/anaconda3/lib/python3.7/site-packages/sklearn/linear_model/logistic.py:758: ConvergenceWarning: lbfgs failed to converge. Increase the number of iterations.\n",
      "  \"of iterations.\", ConvergenceWarning)\n",
      "\n",
      "\n",
      "24it [02:05,  5.70s/it]\u001b[A\u001b[A\n",
      "\n",
      "\u001b[A\u001b[A"
     ]
    },
    {
     "name": "stdout",
     "output_type": "stream",
     "text": [
      "\n",
      " C optimal = 10.0\n"
     ]
    },
    {
     "data": {
      "image/png": "[encoded data removed]",
      "text/plain": [
       "<Figure size 432x288 with 1 Axes>"
      ]
     },
     "metadata": {
      "needs_background": "light"
     },
     "output_type": "display_data"
    }
   ],
   "source": [
    "vectC = np.array([1e-4,1e-3,1e-2,1e-1,0.2,0.3,0.4,0.5,0.6,0.7,0.8,0.9,1,1.5,1.6,2,2.5,3,3.5,4,4.5,5,5.5,10])\n",
    "err_val = np.empty(vectC.shape[0])\n",
    "err_app = np.empty(vectC.shape[0])\n",
    "for ind_C, C in tqdm(enumerate(vectC)):\n",
    "    rl.C=C\n",
    "    temp=rl.fit(X_embeded_train_w2v, y_train)\n",
    "    # calcule erreur sur les donnees de validation et app\n",
    "    err_val[ind_C] = 1 - accuracy_score(y_val, rl.predict(X_embeded_val_w2v))\n",
    "    err_app[ind_C] = 1 - accuracy_score(y_train, rl.predict(X_embeded_train_w2v))\n",
    "err_min_val, ind_min = err_val.min(), err_val.argmin()\n",
    "Copt = vectC[ind_min]\n",
    "print(\"\\n C optimal = {}\".format(Copt))\n",
    "# Trace courbe erreur\n",
    "plt.figure()\n",
    "plt.semilogx(vectC, err_app, color=\"blue\", linestyle=\"--\", marker=\"s\", markersize=5, label=\"Apprentissage\")\n",
    "plt.semilogx(vectC, err_val, color=\"green\", linestyle=\"--\", marker=\"s\", markersize=5, label=\"Validation\")\n",
    "plt.xlabel(\"Parametre alpha\")\n",
    "plt.ylabel(\"Erreur Classification\")\n",
    "plt.legend(loc=\"best\")\n",
    "plt.show()"
   ]
  },
  {
   "cell_type": "code",
   "execution_count": 46,
   "metadata": {},
   "outputs": [
    {
     "name": "stderr",
     "output_type": "stream",
     "text": [
      "/home/tantely/anaconda3/lib/python3.7/site-packages/sklearn/linear_model/logistic.py:758: ConvergenceWarning: lbfgs failed to converge. Increase the number of iterations.\n",
      "  \"of iterations.\", ConvergenceWarning)\n"
     ]
    },
    {
     "name": "stdout",
     "output_type": "stream",
     "text": [
      "recall:0.9524900029946977\n",
      "accuracy:0.9524900029946977\n",
      "F1-score:0.9525244747525584\n"
     ]
    }
   ],
   "source": [
    "rl.C=Copt\n",
    "temp=rl.fit(X_embeded_train_w2v, y_train)\n",
    "predRL=rl.predict(X_embeded_test_w2v)   \n",
    "print(\"recall:{}\".format(recall_score(y_test, predRL,average='weighted')))\n",
    "print(\"accuracy:{}\".format(accuracy_score(y_test,predRL)))\n",
    "print(\"F1-score:{}\".format(f1_score(y_test,predRL,average='weighted')))"
   ]
  },
  {
   "cell_type": "code",
   "execution_count": 56,
   "metadata": {},
   "outputs": [
    {
     "name": "stdout",
     "output_type": "stream",
     "text": [
      "                   precision    recall  f1-score   support\n",
      "\n",
      "Finance_actuariat       0.99      0.99      0.99      1522\n",
      "       chirurgien       0.94      0.92      0.93      8047\n",
      "     cryptography       0.98      0.96      0.97      3172\n",
      "   data scientist       0.95      0.95      0.95      3317\n",
      "          dentist       0.96      0.95      0.95      8222\n",
      "        developer       0.95      0.94      0.95      2200\n",
      "ditital_marketing       0.99      0.99      0.99      3592\n",
      " network_engineer       0.99      0.98      0.98      3748\n",
      "            nurse       0.92      0.94      0.93     10888\n",
      "       pharmacist       0.95      0.94      0.94      6391\n",
      "          robotic       0.96      0.98      0.97      5668\n",
      "\n",
      "        micro avg       0.95      0.95      0.95     56767\n",
      "        macro avg       0.96      0.96      0.96     56767\n",
      "     weighted avg       0.95      0.95      0.95     56767\n",
      "\n"
     ]
    }
   ],
   "source": [
    "print(classification_report(y_test, predRL))"
   ]
  },
  {
   "cell_type": "markdown",
   "metadata": {},
   "source": [
    "On a des valeurs un peu plus optimal lorsque l'on utilise le negatif simpling à la place de la fonction soft max."
   ]
  },
  {
   "cell_type": "markdown",
   "metadata": {},
   "source": [
    "## KNN:"
   ]
  },
  {
   "cell_type": "code",
   "execution_count": 47,
   "metadata": {},
   "outputs": [],
   "source": [
    "knn=KNeighborsClassifier()"
   ]
  },
  {
   "cell_type": "code",
   "execution_count": 48,
   "metadata": {},
   "outputs": [
    {
     "name": "stderr",
     "output_type": "stream",
     "text": [
      "\n",
      "\n",
      "  0%|          | 0/8 [00:00<?, ?it/s]\u001b[A\u001b[A\n",
      "\n",
      " 12%|█▎        | 1/8 [09:21<1:05:30, 561.49s/it]\u001b[A\u001b[A\n",
      "\n",
      " 25%|██▌       | 2/8 [25:04<1:07:35, 675.92s/it]\u001b[A\u001b[A\n",
      "\n",
      " 38%|███▊      | 3/8 [49:07<1:15:30, 906.04s/it]\u001b[A\u001b[A\n",
      "\n",
      " 50%|█████     | 4/8 [1:16:32<1:15:11, 1127.82s/it]\u001b[A\u001b[A\n",
      "\n",
      " 62%|██████▎   | 5/8 [1:47:16<1:07:07, 1342.55s/it]\u001b[A\u001b[A\n",
      "\n",
      " 75%|███████▌  | 6/8 [2:20:09<51:03, 1531.83s/it]  \u001b[A\u001b[A\n",
      "\n",
      " 88%|████████▊ | 7/8 [2:56:07<28:39, 1719.66s/it]\u001b[A\u001b[A\n",
      "\n",
      "100%|██████████| 8/8 [3:33:41<00:00, 1879.90s/it]\u001b[A\u001b[A\n",
      "\n",
      "\u001b[A\u001b[A"
     ]
    },
    {
     "name": "stdout",
     "output_type": "stream",
     "text": [
      "With all being CV, best k is 2 and best perf is 0.9768477741148048\n"
     ]
    },
    {
     "data": {
      "image/png": "[encoded data removed]",
      "text/plain": [
       "<Figure size 432x288 with 1 Axes>"
      ]
     },
     "metadata": {
      "needs_background": "light"
     },
     "output_type": "display_data"
    }
   ],
   "source": [
    "k_values = [2,3,5,6,7,8,9,10]\n",
    "perf_train=[]\n",
    "perf_val=[]\n",
    "for k in tqdm(k_values):\n",
    "    knn.n_neighbors=k\n",
    "    knn.fit(X_embeded_train_w2v, y_train)\n",
    "    y_pred_train = knn.predict(X_embeded_train_w2v)\n",
    "    y_pred_val=knn.predict(X_embeded_val_w2v)\n",
    "    scores_train = accuracy_score(y_train, y_pred_train)\n",
    "    scores_val=accuracy_score(y_val,y_pred_val)\n",
    "    perf_train.append(scores_train)\n",
    "    perf_val.append(scores_val)\n",
    "plt.figure()\n",
    "plt.plot(range(1,len(perf_train)+1),perf_train,\"--r\",range(1,len(perf_val)+1),perf_val,\"--g^\")\n",
    "plt.legend(['accuracy train', 'accuracy val'],loc=\"lower right\")\n",
    "print('With all being CV, best k is '    +repr(k_values[perf_val.index(max(perf_val))])+ ' and best perf is ' + repr(max(perf_val)))"
   ]
  },
  {
   "cell_type": "code",
   "execution_count": 52,
   "metadata": {},
   "outputs": [],
   "source": [
    "knn.n_neighbors=k_values[perf_val.index(max(perf_val))]\n",
    "knn.fit(X_embeded_train_w2v, y_train)\n",
    "pred_knn = knn.predict(X_embeded_test_w2v)"
   ]
  },
  {
   "cell_type": "code",
   "execution_count": 53,
   "metadata": {},
   "outputs": [
    {
     "name": "stdout",
     "output_type": "stream",
     "text": [
      "recall:0.9779449327954621\n",
      "accuracy:0.9779449327954621\n",
      "F1-score:0.9779601054311012\n"
     ]
    }
   ],
   "source": [
    "print(\"recall:{}\".format(recall_score(y_test, pred_knn,average='weighted')))\n",
    "print(\"accuracy:{}\".format(accuracy_score(y_test,pred_knn)))\n",
    "print(\"F1-score:{}\".format(f1_score(y_test,pred_knn,average='weighted')))"
   ]
  },
  {
   "cell_type": "code",
   "execution_count": 55,
   "metadata": {},
   "outputs": [
    {
     "name": "stdout",
     "output_type": "stream",
     "text": [
      "                   precision    recall  f1-score   support\n",
      "\n",
      "Finance_actuariat       1.00      1.00      1.00      1522\n",
      "       chirurgien       0.95      0.98      0.97      8047\n",
      "     cryptography       0.99      1.00      0.99      3172\n",
      "   data scientist       0.97      0.99      0.98      3317\n",
      "          dentist       0.98      0.98      0.98      8222\n",
      "        developer       0.98      0.97      0.98      2200\n",
      "ditital_marketing       0.99      0.99      0.99      3592\n",
      " network_engineer       0.99      0.99      0.99      3748\n",
      "            nurse       0.97      0.96      0.96     10888\n",
      "       pharmacist       0.99      0.96      0.97      6391\n",
      "          robotic       1.00      0.98      0.99      5668\n",
      "\n",
      "        micro avg       0.98      0.98      0.98     56767\n",
      "        macro avg       0.98      0.98      0.98     56767\n",
      "     weighted avg       0.98      0.98      0.98     56767\n",
      "\n"
     ]
    }
   ],
   "source": [
    "print(classification_report(y_test, pred_knn))"
   ]
  },
  {
   "cell_type": "markdown",
   "metadata": {},
   "source": [
    "## Naîve Baysian:"
   ]
  },
  {
   "cell_type": "code",
   "execution_count": 20,
   "metadata": {},
   "outputs": [],
   "source": [
    "modelNB=MultinomialNB()"
   ]
  },
  {
   "cell_type": "code",
   "execution_count": 24,
   "metadata": {},
   "outputs": [
    {
     "name": "stderr",
     "output_type": "stream",
     "text": [
      "24it [00:10,  2.40it/s]\n"
     ]
    },
    {
     "name": "stdout",
     "output_type": "stream",
     "text": [
      "\n",
      " C optimal = 10.0\n"
     ]
    },
    {
     "data": {
      "image/png": "[encoded data removed]",
      "text/plain": [
       "<Figure size 432x288 with 1 Axes>"
      ]
     },
     "metadata": {
      "needs_background": "light"
     },
     "output_type": "display_data"
    }
   ],
   "source": [
    "vectC = np.array([1e-4,1e-3,1e-2,1e-1,0.2,0.3,0.4,0.5,0.6,0.7,0.8,0.9,1,1.5,1.6,2,2.5,3,3.5,4,4.5,5,5.5,10])\n",
    "err_val = np.empty(vectC.shape[0])\n",
    "err_app = np.empty(vectC.shape[0])\n",
    "for ind_C, C in tqdm(enumerate(vectC)):\n",
    "    modelNB.set_params(alpha=C)\n",
    "    modelNB.fit(X_embeded_train_w2v, y_train)\n",
    "    # calcule erreur sur les donnees de validation et app\n",
    "    err_val[ind_C] = accuracy_score(y_val, modelNB.predict(X_embeded_val_w2v))\n",
    "    err_app[ind_C] =accuracy_score(y_train, modelNB.predict(X_embeded_train_w2v))\n",
    "err_min_val, ind_min = err_val.min(), err_val.argmin()\n",
    "Copt = vectC[ind_min]\n",
    "print(\"\\n C optimal = {}\".format(Copt))\n",
    "# Trace courbe erreur\n",
    "plt.figure()\n",
    "plt.semilogx(vectC, err_app, color=\"blue\", linestyle=\"--\", marker=\"s\", markersize=5, label=\"Apprentissage\")\n",
    "plt.semilogx(vectC, err_val, color=\"green\", linestyle=\"--\", marker=\"s\", markersize=5, label=\"Validation\")\n",
    "plt.xlabel(\"Parametre alpha\")\n",
    "plt.ylabel(\"accuracy Classification\")\n",
    "plt.legend(loc=\"best\")\n",
    "plt.show()"
   ]
  },
  {
   "cell_type": "code",
   "execution_count": 25,
   "metadata": {},
   "outputs": [],
   "source": [
    "modelNB.set_params(alpha=Copt)\n",
    "modelNB.fit(X_embeded_train_w2v, y_train)\n",
    "pred=modelNB.predict(X_embeded_test_w2v)"
   ]
  },
  {
   "cell_type": "code",
   "execution_count": 26,
   "metadata": {},
   "outputs": [
    {
     "name": "stdout",
     "output_type": "stream",
     "text": [
      "                   precision    recall  f1-score   support\n",
      "\n",
      "Finance_actuariat       0.99      0.59      0.74      1495\n",
      "       chirurgien       0.91      0.78      0.84      8051\n",
      "     cryptography       0.98      0.70      0.81      3161\n",
      "   data scientist       0.90      0.86      0.88      3470\n",
      "          dentist       0.88      0.85      0.86      8277\n",
      "        developer       0.99      0.66      0.79      2188\n",
      "ditital_marketing       0.99      0.95      0.97      3684\n",
      " network_engineer       0.98      0.87      0.92      3735\n",
      "            nurse       0.66      0.96      0.78     10782\n",
      "       pharmacist       0.99      0.61      0.75      6260\n",
      "          robotic       0.73      0.95      0.83      5664\n",
      "\n",
      "        micro avg       0.83      0.83      0.83     56767\n",
      "        macro avg       0.91      0.80      0.83     56767\n",
      "     weighted avg       0.87      0.83      0.83     56767\n",
      "\n"
     ]
    }
   ],
   "source": [
    "print(classification_report(y_test, pred))"
   ]
  },
  {
   "cell_type": "code",
   "execution_count": 27,
   "metadata": {},
   "outputs": [
    {
     "name": "stdout",
     "output_type": "stream",
     "text": [
      "recall:0.8311342857646168\n",
      "accuracy:0.8311342857646168\n",
      "F1-score:0.8317000690508695\n"
     ]
    }
   ],
   "source": [
    "print(\"recall:{}\".format(recall_score(y_test, pred,average='weighted')))\n",
    "print(\"accuracy:{}\".format(accuracy_score(y_test,pred)))\n",
    "print(\"F1-score:{}\".format(f1_score(y_test,pred,average='weighted')))"
   ]
  },
  {
   "cell_type": "code",
   "execution_count": null,
   "metadata": {},
   "outputs": [],
   "source": []
  }
 ],
 "metadata": {
  "kernelspec": {
   "display_name": "Python 3",
   "language": "python",
   "name": "python3"
  },
  "language_info": {
   "codemirror_mode": {
    "name": "ipython",
    "version": 3
   },
   "file_extension": ".py",
   "mimetype": "text/x-python",
   "name": "python",
   "nbconvert_exporter": "python",
   "pygments_lexer": "ipython3",
   "version": "3.6.8"
  },
  "toc": {
   "base_numbering": 1,
   "nav_menu": {},
   "number_sections": false,
   "sideBar": false,
   "skip_h1_title": false,
   "title_cell": "Table of Contents",
   "title_sidebar": "Contents",
   "toc_cell": false,
   "toc_position": {},
   "toc_section_display": false,
   "toc_window_display": false
  }
 },
 "nbformat": 4,
 "nbformat_minor": 2
}
