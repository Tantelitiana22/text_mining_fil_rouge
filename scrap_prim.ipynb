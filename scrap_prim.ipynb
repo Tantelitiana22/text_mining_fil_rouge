{
 "cells": [
  {
   "cell_type": "code",
   "execution_count": 1,
   "metadata": {},
   "outputs": [],
   "source": [
    "import requests\n",
    "import bs4\n",
    "from bs4 import BeautifulSoup\n",
    "import pandas as pd\n",
    "import time\n",
    "from IPython.display import clear_output"
   ]
  },
  {
   "cell_type": "code",
   "execution_count": 2,
   "metadata": {},
   "outputs": [],
   "source": [
    "def scrap_indeed_offer(URL,city_set,nb_resu_par_ville=1,extension=\"https://www.indeed.com\"):\n",
    "    columns = [\"ville\", \"utituler_offre\",\"description\",\"entreprise\",\"lacalisation\", \"resume\"]\n",
    "    sample_df = pd.DataFrame(columns = columns)\n",
    "    for city in city_set:\n",
    "      for start in range(0,nb_resu_par_ville, 10):\n",
    "          page = requests.get(URL+\"&l=\"+str(city)+'&start='+str(start))\n",
    "          soup = BeautifulSoup(page.text, \"lxml\", from_encoding=\"utf-8\")\n",
    "          for div in soup.find_all(name=\"div\", attrs={\"class\":\"row\"}): \n",
    "            #specification du nombre de lignes\n",
    "            num = (len(sample_df) + 1) \n",
    "            \n",
    "            job_post = [] \n",
    "            job_post.append(city) \n",
    "            for a in div.find_all(name=\"a\", attrs={\"data-tn-element\":\"jobTitle\"}):\n",
    "              job_post.append(a[\"title\"])\n",
    "             # recuperer site sousjacent contenant le descriptif de l'offre \n",
    "              url_fils=extension+a[\"href\"]\n",
    "              page_fils=requests.get(url_fils)\n",
    "              soup_fils=BeautifulSoup(page_fils.text,\"lxml\",from_encoding=\"utf-8\")\n",
    "              div_class=\"jobsearch-JobComponent-description icl-u-xs-mt--md\"\n",
    "              for desc in soup_fils.find_all(name=\"div\",attrs={\"class\":div_class}):\n",
    "                  if len(desc.text)>0:\n",
    "                     job_post.append(desc.text)\n",
    "                  else:\n",
    "                     job_post.append(\"\")\n",
    "              #NOm de la companie\n",
    "              company = div.find_all(name=\"span\", attrs={\"class\":\"company\"}) \n",
    "              if len(company) > 0: \n",
    "                  for b in company:\n",
    "                    job_post.append(b.text.strip()) \n",
    "              else: \n",
    "                sec_try = div.find_all(name=\"span\", attrs={\"class\":\"result-link-source\"})\n",
    "                for span in sec_try:\n",
    "                    job_post.append(span.text) \n",
    "        #localisation\n",
    "              c = div.findAll(\"span\", attrs={\"class\": \"location\"}) \n",
    "              if len(c)>0:\n",
    "                for span in c: \n",
    "                    job_post.append(span.text)\n",
    "              else:\n",
    "                    job_post.append(\"pas localisé\")\n",
    "        #resumer\n",
    "              d = div.findAll(\"span\", attrs={\"class\": \"summary\"}) \n",
    "              for span in d:\n",
    "                if len(span.text.strip())>0:\n",
    "                    job_post.append(span.text.strip())\n",
    "                else:\n",
    "                    job_post.append(\"\")        \n",
    "        #mise a jours de notre dataframe\n",
    "            clear_output(wait=True)\n",
    "            print(\"nb_boocle:{}\".format(num))\n",
    "            print(\"len job_post={}\".format(len(job_post)))\n",
    "            print(job_post)\n",
    "            if len(job_post)==sample_df.shape[1]:\n",
    "                sample_df.loc[num,:] = job_post\n",
    "    t=[\"ville\", \"utituler_offre\",\"entreprise\",\"localisation\", \"resume\",\"description\"]\n",
    "    res=sample_df.loc[:,t]\n",
    "    return(res)"
   ]
  },
  {
   "cell_type": "markdown",
   "metadata": {},
   "source": [
    "## scrap cryptography Job:"
   ]
  },
  {
   "cell_type": "code",
   "execution_count": 5,
   "metadata": {},
   "outputs": [
    {
     "name": "stdout",
     "output_type": "stream",
     "text": [
      "nb_boocle:28853\n",
      "len job_post=6\n",
      "['Panama+City', 'Unmanned Aerial System Technician', \"We are looking to place an Unmanned Aerial System Technician on site at Tyndall AFB, FloridaResponsibilities: Assist in the dissemination of information gained on a project or program specific basis to all Air Force programs.Store, transmit, evaluate and/or present data generated in support of the AFCECPerform data collection in support of AFCEC’s programs and goals. Provide technical support and data collection for the Expeditionary Facilities and Equipment Modernization Program with initial focus on Airfield Damage Repair (ADR), Basic Expeditionary Airfield Resources (BEAR), and Hardened Infrastructure Protection for Persistent Operations (HIPPO).Assist in digital design and produce visual media products, such as PowerPoint presentation material, in support of mission briefings and the AFCEC mission when required.Assist in supporting the development of software applications by capturing and translating user requirements into applicablePerform and deliver technical reviews of data deliverables, and equipment submitted by non-A&AS contractors as required.Assist in maintaining spreadsheets and databases tracking current and future materials and equipment procurementsAssist in documenting program files, organizing files and providing administrative support, such as filing minutes of regulatory and partnering sessions at local or worldwideProvide technical support for development of modernization (initially ADR, BEAR, and HIPPO) solutions including development of test plans and on-site coordination of various test and equipment modernization/modification efforts and post-test analysis of test data as well as monitoring of various Civil Engineer research, development, and testProvide support on equipment, material, and vehicle fielding issues and shall advise and assist in the development of guidance and publications.Support and develop funding requirements for the procurement, fielding, and sustainment of expeditionary engineeringProvide input to assist in the development of cost estimates for contracted services and procurement activities supporting ADR, BEAR, and HIPPO, for review/action by the Government.Conduct on-site training of Small Unmanned Aerial System (SUAS) CONUS/OCONUS in support of the Rapid Airfield Damage Assessment System (RADAS). This is to include curriculum development, creation of training materials, air space coordination, delivery of hands-on training, and training record maintenance (i.e., SUASMAN).Support the AFCEC SUAS and robotic development with coordination of range/air space and frequency approval, safety plan development, and site preparation (i.e., coordination for live blasting events).Assist in performing operator and instructor duties for AFCEC’s SUAS and robotic platforms in accordance with DFARS 252.228-7001, Ground and Flight Risk (GCRC).Job Requirements: Bachelor’s degree and 10 years experience in a U.S. Air Force Civil Engineering career field Or Minimum 20 years of experience in a U.S. Air Force Civil Engineering career fieldSecret security clearance is required.Excellent customer service skills such as knowledge of product (Air Force Civil Engineering), patience, attentiveness, clear communication skills, time management and ability to use positive language to interact with customers on behalf of an organization.Proficiency in computer skills to work and maintain SharePoint sites, websites, input data and perform trend analysis using computer software such as Microsoft Office, Adobe Acrobat Professional.Experience in fielding, maintaining, and operating SUAS.Experience in developing and delivering formalized training materials such as Points of Instruction (POIs), lesson plans, workbooks, briefing slides, exercises, and evaluation criteria is highly desired.Experience with Microsoft Office Suite.Excellent written and verbal skills.Ability to research, analyze data/trends, and present findings at the executive level.Why AGEISS Inc.: AGEISS Inc is a 30-year successful small business federal consulting firm offering a full range of comprehensive employee benefits.About AGEISS Inc: AGEISS provides engineering, environmental, and advisory and assistance services to Federal agencies nationwide and overseas. Building on our 30 years of success, AGEISS continues to expand its professional services while earning exceptional levels of customer satisfaction. AGEISS’ headquarters is in Cheyenne WY, with branch offices in Colorado and Texas, and additional locations in more than 36 states. AGEISS is a woman-owned and operated small business, and a successful graduate of the 8(a) program.Please submit resume, references, and salary requirements on AGEISS’ career page at http://www.ageiss.com/careers/.We are an Equal Opportunity Employer, Female/Minority/Veterans/Disabled/Sexual Orientation/Gender IdentityJob Type: Full-timeExperience:Air Force Civil Engineering: 10 years (Required)research, analyze data/trends & present findings: 10 years (Required)developing & delivering formalized training materials: 10 years (Required)Education:Bachelor's (Required)Work authorization:United States (Preferred)Benefits offered:Paid time offHealth insuranceDental insuranceOther types of insuranceRetirement benefits or accountsFlexible schedulesWorkplace perks such as food/coffee and flexible work schedules\", 'AGEISS Inc.', 'Tyndall AFB, FL', 'Assist in performing operator and instructor duties for AFCEC’s SUAS and robotic platforms in accordance with DFARS 252.228-7001, Ground and Flight Risk (GCRC)....']\n",
      "Durée total réelle:36154.258504629135\n",
      "(19058, 6)\n"
     ]
    }
   ],
   "source": [
    "nb_resu_par_ville = 40\n",
    "us_city=pd.read_table(\"us_city.txt\",sep=\",\")\n",
    "ville_usa=[k.replace(\" \",\"+\") for k in us_city.city]\n",
    "city_set =ville_usa.copy()\n",
    "city_set=city_set\n",
    "URL=\"https://www.indeed.com/jobs?q=robotics+engineer\"\n",
    "t1=time.time()\n",
    "res_robotics=scrap_indeed_offer(URL,city_set,nb_resu_par_ville)\n",
    "delta=time.time()-t1\n",
    "print(\"Durée total réelle:{}\".format(delta))\n",
    "\n",
    "res_duplicate_robotics_usa=res_robotics.drop_duplicates()\n",
    "print(res_duplicate_robotics_usa.shape)\n",
    "res_duplicate_robotics_usa.to_csv(\"robotics_USA.csv\",index=False)"
   ]
  },
  {
   "cell_type": "code",
   "execution_count": 4,
   "metadata": {},
   "outputs": [
    {
     "name": "stdout",
     "output_type": "stream",
     "text": [
      "nb_boocle:20563\n",
      "len job_post=6\n",
      "['Beloit', 'Kids Tech and Game Design Camp Instructors Needed', \"TemporaryYou are talented, passionate, and wanting to share your tech skills with the next generation of innovators. You want to shape the next blockbuster game designer, lead the person who advances artificial intelligence, or guide that person who crafts the next platform that brings millions of people together. iD Tech wants people like you. So, let's talk!iD Tech is a purpose-driven company that inspires students ages 7-18 to innovate using cutting-edge technology. This summer, iD Tech is hiring over 1,000 instructors. You’ll mentor students ages 7-17 in a fun, dynamic learning environment. Each week, you will lead a class of around 8 students in a subject like robotics, game design, programming, or 3D printing. For any of our 60+ courses, we provide the curriculum – you bring your knowledge of tech and passion for teaching.You’ll do more than instruct. You will be a role model. You’ll demonstrate that fun, learning, and collaboration work hand-in-hand. You will help students make their vision for their projects come to life. Through awesome activities, teambuilding games, and theme days, you will instill confidence in your students. And, you will help parents see how truly talented and knowledgeable their students are.iD Tech has repeatedly been named a Top Workplace by the Bay Area News Group. Our programs are located at 160 university and school locations across the country. We have both day and overnight positions available.We have already begun the interview process and are hiring some great candidates. Positions are filling up! APPLY TODAY!An iD Tech instructor:-Is passionate about teaching technology to kids and teens.-Loves to work hard AND play hard.-Is a flexible team player with strong communication skills.-Has a positive attitude and a sense of humor.-Will be at least 18 years old before their first day of work.Qualified applicants must also demonstrate proficiency in one or more of the following areas:-Programming in Java, Python, or C++.-Robotics building and programming.-Mobile App Development for iPhone, iPad & Android.-Web Design and Digital Photography.-Digital Video Editing.-2D or 3D Video Game Design.-Game Modding.-Character Modeling.-Cyber Security or Cryptography-Artificial Intelligence or Machine LearningPreferred qualities:-Teaching or tutoring experience.-Camp experience.-Customer service experience.-Ideal candidates have completed 2+ years of college in a related field of study.Here are a few awesome side effects of a summer with iD Tech:-Your students will look up to you as the coolest person they’ve ever met.-You will add leadership and teaching experience to your resume.-You will receive competitive compensation.-You will get exposure to cutting-edge technology, including access to our curriculum for 60+ courses.-You will have the opportunity to network with other instructors, parents, and university staff.-Did we mention changing young lives through tech?APPLY ONLINE at https://www.idtech.com/jobs/summer-jobsJob Types: Full-time, Temporary\", 'iD Tech', 'Madison, WI', 'Cyber Security or Cryptography. You are talented, passionate, and wanting to share your tech skills with the next generation of innovators....']\n"
     ]
    },
    {
     "name": "stderr",
     "output_type": "stream",
     "text": [
      "/home/tantely/anaconda3/lib/python3.7/site-packages/pandas/core/indexing.py:1472: FutureWarning: \n",
      "Passing list-likes to .loc or [] with any missing label will raise\n",
      "KeyError in the future, you can use .reindex() as an alternative.\n",
      "\n",
      "See the documentation here:\n",
      "https://pandas.pydata.org/pandas-docs/stable/indexing.html#deprecate-loc-reindex-listlike\n",
      "  return self._getitem_tuple(key)\n"
     ]
    },
    {
     "name": "stdout",
     "output_type": "stream",
     "text": [
      "Durée total réelle:27894.054426908493\n",
      "(10560, 6)\n"
     ]
    }
   ],
   "source": [
    "nb_resu_par_ville = 40\n",
    "us_city=pd.read_table(\"us_city.txt\",sep=\",\")\n",
    "ville_usa=[k.replace(\" \",\"+\") for k in us_city.city]\n",
    "city_set =ville_usa.copy()\n",
    "city_set=city_set\n",
    "URL=\"https://www.indeed.com/jobs?q=Cryptography\"\n",
    "t1=time.time()\n",
    "res_Cryptography=scrap_indeed_offer(URL,city_set,nb_resu_par_ville)\n",
    "delta=time.time()-t1\n",
    "print(\"Durée total réelle:{}\".format(delta))\n",
    "\n",
    "res_duplicate_Cryptography_usa=res_Cryptography.drop_duplicates()\n",
    "print(res_duplicate_Cryptography_usa.shape)\n",
    "res_duplicate_Cryptography_usa.to_csv(\"Cryptography_USA.csv\",index=False)"
   ]
  }
 ],
 "metadata": {
  "kernelspec": {
   "display_name": "Python 3",
   "language": "python",
   "name": "python3"
  },
  "language_info": {
   "codemirror_mode": {
    "name": "ipython",
    "version": 3
   },
   "file_extension": ".py",
   "mimetype": "text/x-python",
   "name": "python",
   "nbconvert_exporter": "python",
   "pygments_lexer": "ipython3",
   "version": "3.7.1"
  },
  "toc": {
   "base_numbering": 1,
   "nav_menu": {},
   "number_sections": false,
   "sideBar": false,
   "skip_h1_title": false,
   "title_cell": "Table of Contents",
   "title_sidebar": "Contents",
   "toc_cell": false,
   "toc_position": {},
   "toc_section_display": false,
   "toc_window_display": false
  }
 },
 "nbformat": 4,
 "nbformat_minor": 2
}
