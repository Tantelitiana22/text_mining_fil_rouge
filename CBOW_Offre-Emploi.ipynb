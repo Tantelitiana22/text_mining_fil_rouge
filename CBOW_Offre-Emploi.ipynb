{
 "cells": [
  {
   "cell_type": "code",
   "execution_count": 1,
   "metadata": {},
   "outputs": [],
   "source": [
    "import pandas as pd\n",
    "import numpy as np\n",
    "import nltk\n",
    "import string\n",
    "import regex\n",
    "import re\n",
    "import seaborn as sn\n",
    "import matplotlib.pyplot as plt\n",
    "from nltk.corpus import stopwords\n",
    "from textblob import Word\n",
    "from sklearn.model_selection import train_test_split\n",
    "from sklearn.feature_extraction.text import TfidfVectorizer\n",
    "from sklearn.naive_bayes import MultinomialNB\n",
    "from sklearn.svm import LinearSVC\n",
    "from sklearn.calibration import CalibratedClassifierCV\n",
    "from sklearn.metrics import accuracy_score,roc_curve,auc\n",
    "from sklearn.multiclass import OneVsOneClassifier\n",
    "from sklearn.metrics import confusion_matrix\n",
    "from sklearn.linear_model import LogisticRegression\n",
    "from sklearn.model_selection import GridSearchCV\n",
    "from sklearn.neighbors import KNeighborsClassifier\n",
    "from sklearn.model_selection import cross_val_score\n",
    "from sklearn.pipeline import Pipeline\n",
    "from tqdm import tqdm\n",
    "from sklearn.manifold import TSNE\n",
    "from sklearn.feature_extraction.text import CountVectorizer,TfidfTransformer\n",
    "from sklearn.preprocessing import LabelEncoder,LabelBinarizer\n",
    "from sklearn.metrics import classification_report\n",
    "plt.style.use('ggplot')\n",
    "%matplotlib notebook"
   ]
  },
  {
   "cell_type": "markdown",
   "metadata": {},
   "source": [
    "## Chargement des données et néttoyage:"
   ]
  },
  {
   "cell_type": "code",
   "execution_count": 2,
   "metadata": {},
   "outputs": [],
   "source": [
    "def fonction_nettoyage_text(df):\n",
    "    # supprission des ponctuations\n",
    "    rm_ponct = str.maketrans('','',string.punctuation)\n",
    "    df = df.apply(lambda x:x.translate(rm_ponct))\n",
    "    # suppression les unicodes\n",
    "    df = df.apply(lambda x:x.encode(\"ascii\",\"ignore\").decode(\"utf-8\"))\n",
    "                                                \n",
    "    # suppression des URLs\n",
    "    df = df.apply(lambda x:re.sub(r'http\\S+',\"\",x))\n",
    "    \n",
    "    # suppression des stopwords\n",
    "    stop_en = stopwords.words(\"english\")\n",
    "    df = df.apply(lambda x:\" \".join(x.lower() for x in np.str(x).split() if x.lower() not in stop_en))\n",
    "                                                  # Lemmatisation\n",
    "    df = df.apply(lambda x:\" \".join([Word(word).lemmatize() for word in x.split()]))\n",
    "                  \n",
    "    return(df)"
   ]
  },
  {
   "cell_type": "markdown",
   "metadata": {},
   "source": [
    "## Split train-test validation:"
   ]
  },
  {
   "cell_type": "code",
   "execution_count": 3,
   "metadata": {},
   "outputs": [],
   "source": [
    "dataset = pd.read_csv(\"data_set_version_final.csv\")\n",
    "dataset.resume=fonction_nettoyage_text(dataset.resume)"
   ]
  },
  {
   "cell_type": "code",
   "execution_count": 4,
   "metadata": {},
   "outputs": [],
   "source": [
    "X_train,X_test,Y_train,y_test = train_test_split(dataset.resume,dataset.Labels,test_size=0.3,shuffle=True)\n",
    "x_train,x_val,y_train,y_val = train_test_split(X_train,Y_train,test_size=0.3,shuffle=True)"
   ]
  },
  {
   "cell_type": "markdown",
   "metadata": {},
   "source": [
    "## CBOW:\n",
    "Dans ce notebook, on va faire la même chose que l'on a réalisé dans le notebook SkpiGram_Offre-Emploi pour tester si l'on va avoir des meilleurs résultats ou non si l'on utilise le CBOW."
   ]
  },
  {
   "cell_type": "code",
   "execution_count": 7,
   "metadata": {},
   "outputs": [],
   "source": [
    "from Word2VecTransformer import Embedding_Word2Vec"
   ]
  },
  {
   "cell_type": "markdown",
   "metadata": {},
   "source": [
    "Nous allon changer la valeur de $n_sg=0$ pour appliquer CBOW au lieu de Skip-Gram."
   ]
  },
  {
   "cell_type": "code",
   "execution_count": 8,
   "metadata": {},
   "outputs": [],
   "source": [
    "word2vecmodel=Embedding_Word2Vec(n_size=150,n_window=10,n_min_count=5,n_workers=4,n_sg=0)"
   ]
  },
  {
   "cell_type": "code",
   "execution_count": 9,
   "metadata": {},
   "outputs": [
    {
     "data": {
      "text/plain": [
       "<Word2VecTransformer.Embedding_Word2Vec at 0x7fc2a8a3c128>"
      ]
     },
     "execution_count": 9,
     "metadata": {},
     "output_type": "execute_result"
    }
   ],
   "source": [
    "word2vecmodel.fit(x_train)"
   ]
  },
  {
   "cell_type": "code",
   "execution_count": 10,
   "metadata": {},
   "outputs": [
    {
     "name": "stderr",
     "output_type": "stream",
     "text": [
      "/home/tantely/anaconda3/lib/python3.6/site-packages/gensim/matutils.py:737: FutureWarning: Conversion of the second argument of issubdtype from `int` to `np.signedinteger` is deprecated. In future, it will be treated as `np.int64 == np.dtype(int).type`.\n",
      "  if np.issubdtype(vec.dtype, np.int):\n"
     ]
    }
   ],
   "source": [
    "X_embeded_train_w2v=word2vecmodel.transform(x_train)\n",
    "X_embeded_val_w2v=word2vecmodel.transform(x_val)\n",
    "X_embeded_test_w2v=word2vecmodel.transform(X_test)"
   ]
  },
  {
   "cell_type": "markdown",
   "metadata": {},
   "source": [
    "Utilisons maintenant les différentes algorithmes de classifications sur ces plongements de mots que l'on a réalisé."
   ]
  },
  {
   "cell_type": "markdown",
   "metadata": {},
   "source": [
    "## SVM:"
   ]
  },
  {
   "cell_type": "code",
   "execution_count": 11,
   "metadata": {},
   "outputs": [
    {
     "name": "stderr",
     "output_type": "stream",
     "text": [
      "/home/tantely/anaconda3/lib/python3.6/site-packages/sklearn/svm/base.py:931: ConvergenceWarning: Liblinear failed to converge, increase the number of iterations.\n",
      "  \"the number of iterations.\", ConvergenceWarning)\n",
      "/home/tantely/anaconda3/lib/python3.6/site-packages/sklearn/svm/base.py:931: ConvergenceWarning: Liblinear failed to converge, increase the number of iterations.\n",
      "  \"the number of iterations.\", ConvergenceWarning)\n",
      "/home/tantely/anaconda3/lib/python3.6/site-packages/sklearn/svm/base.py:931: ConvergenceWarning: Liblinear failed to converge, increase the number of iterations.\n",
      "  \"the number of iterations.\", ConvergenceWarning)\n"
     ]
    },
    {
     "name": "stdout",
     "output_type": "stream",
     "text": [
      "\n",
      " C optimal = 43.93970560760795\n"
     ]
    },
    {
     "data": {
      "image/png": "[encoded data removed]",
      "text/plain": [
       "<Figure size 432x288 with 1 Axes>"
      ]
     },
     "metadata": {
      "needs_background": "light"
     },
     "output_type": "display_data"
    }
   ],
   "source": [
    "vectC = np.logspace(-3, 2, 15)\n",
    "err_val = np.empty(vectC.shape[0])\n",
    "err_app = np.empty(vectC.shape[0])\n",
    "clf_svm=LinearSVC(C=1)\n",
    "\n",
    "for ind_C, C in enumerate(vectC):\n",
    "    clf_svm.C = C\n",
    "    clf_svm.fit(X_embeded_train_w2v, y_train)\n",
    "    # calcule erreur sur les donnees de validation et app\n",
    "    err_val[ind_C] = 1 - accuracy_score(y_val, clf_svm.predict(X_embeded_val_w2v))\n",
    "    err_app[ind_C] = 1 - accuracy_score(y_train, clf_svm.predict(X_embeded_train_w2v))\n",
    "err_min_val, ind_min = err_val.min(), err_val.argmin()\n",
    "Copt = vectC[ind_min]\n",
    "print(\"\\n C optimal = {}\".format(Copt))\n",
    "# Trace courbe erreur\n",
    "plt.figure()\n",
    "plt.semilogx(vectC, err_app, color=\"blue\", linestyle=\"--\", marker=\"s\", markersize=5, label=\"Apprentissage\")\n",
    "plt.semilogx(vectC, err_val, color=\"green\", linestyle=\"--\", marker=\"s\", markersize=5, label=\"Validation\")\n",
    "plt.xlabel(\"Parametre C\")\n",
    "plt.ylabel(\"Erreur Classification\")\n",
    "plt.legend(loc=\"best\")\n",
    "plt.show()"
   ]
  },
  {
   "cell_type": "markdown",
   "metadata": {},
   "source": [
    "## Qualité du modèle:"
   ]
  },
  {
   "cell_type": "code",
   "execution_count": 12,
   "metadata": {},
   "outputs": [],
   "source": [
    "from sklearn.metrics import recall_score,average_precision_score,f1_score\n",
    "from sklearn.calibration import CalibratedClassifierCV"
   ]
  },
  {
   "cell_type": "code",
   "execution_count": 13,
   "metadata": {},
   "outputs": [
    {
     "name": "stderr",
     "output_type": "stream",
     "text": [
      "/home/tantely/anaconda3/lib/python3.6/site-packages/sklearn/svm/base.py:931: ConvergenceWarning: Liblinear failed to converge, increase the number of iterations.\n",
      "  \"the number of iterations.\", ConvergenceWarning)\n",
      "/home/tantely/anaconda3/lib/python3.6/site-packages/sklearn/svm/base.py:931: ConvergenceWarning: Liblinear failed to converge, increase the number of iterations.\n",
      "  \"the number of iterations.\", ConvergenceWarning)\n",
      "/home/tantely/anaconda3/lib/python3.6/site-packages/sklearn/svm/base.py:931: ConvergenceWarning: Liblinear failed to converge, increase the number of iterations.\n",
      "  \"the number of iterations.\", ConvergenceWarning)\n",
      "/home/tantely/anaconda3/lib/python3.6/site-packages/sklearn/svm/base.py:931: ConvergenceWarning: Liblinear failed to converge, increase the number of iterations.\n",
      "  \"the number of iterations.\", ConvergenceWarning)\n",
      "/home/tantely/anaconda3/lib/python3.6/site-packages/sklearn/svm/base.py:931: ConvergenceWarning: Liblinear failed to converge, increase the number of iterations.\n",
      "  \"the number of iterations.\", ConvergenceWarning)\n"
     ]
    }
   ],
   "source": [
    "clf_svm.C = Copt\n",
    "clf_svm_prob=CalibratedClassifierCV(clf_svm,cv=5)\n",
    "clf_svm_prob.fit(X_embeded_train_w2v, y_train)\n",
    "prediction_proba=clf_svm_prob.predict_proba(X_embeded_test_w2v)"
   ]
  },
  {
   "cell_type": "code",
   "execution_count": 14,
   "metadata": {},
   "outputs": [
    {
     "name": "stdout",
     "output_type": "stream",
     "text": [
      "                   precision    recall  f1-score   support\n",
      "\n",
      "Finance_actuariat       0.98      0.99      0.99      1569\n",
      "       chirurgien       0.94      0.92      0.93      7910\n",
      "     cryptography       0.97      0.96      0.96      3166\n",
      "   data scientist       0.92      0.94      0.93      3416\n",
      "          dentist       0.95      0.94      0.94      8188\n",
      "        developer       0.95      0.90      0.93      2270\n",
      "ditital_marketing       0.99      0.99      0.99      3545\n",
      " network_engineer       0.98      0.98      0.98      3684\n",
      "            nurse       0.92      0.94      0.93     10900\n",
      "       pharmacist       0.94      0.94      0.94      6385\n",
      "          robotic       0.95      0.96      0.96      5734\n",
      "\n",
      "        micro avg       0.94      0.94      0.94     56767\n",
      "        macro avg       0.95      0.95      0.95     56767\n",
      "     weighted avg       0.94      0.94      0.94     56767\n",
      "\n"
     ]
    }
   ],
   "source": [
    "prediction=clf_svm.predict(X_embeded_test_w2v)\n",
    "print(classification_report(y_test, prediction))"
   ]
  },
  {
   "cell_type": "code",
   "execution_count": 24,
   "metadata": {},
   "outputs": [
    {
     "name": "stdout",
     "output_type": "stream",
     "text": [
      "recall:0.9447214050416616\n",
      "accuracy:0.9447214050416616\n",
      "F1-score:0.9447287929022321\n"
     ]
    }
   ],
   "source": [
    "print(\"recall:{}\".format(recall_score(y_test, prediction,average='weighted')))\n",
    "print(\"accuracy:{}\".format(accuracy_score(y_test,prediction)))\n",
    "print(\"F1-score:{}\".format(f1_score(y_test,prediction,average='weighted')))"
   ]
  },
  {
   "cell_type": "markdown",
   "metadata": {},
   "source": [
    "## Logisitic Regression:"
   ]
  },
  {
   "cell_type": "code",
   "execution_count": 15,
   "metadata": {},
   "outputs": [],
   "source": [
    "rl=LogisticRegression(multi_class=\"auto\",solver=\"lbfgs\")"
   ]
  },
  {
   "cell_type": "code",
   "execution_count": 16,
   "metadata": {},
   "outputs": [
    {
     "name": "stderr",
     "output_type": "stream",
     "text": [
      "4it [00:12,  3.13s/it]/home/tantely/anaconda3/lib/python3.6/site-packages/sklearn/linear_model/logistic.py:758: ConvergenceWarning: lbfgs failed to converge. Increase the number of iterations.\n",
      "  \"of iterations.\", ConvergenceWarning)\n",
      "5it [00:18,  4.12s/it]/home/tantely/anaconda3/lib/python3.6/site-packages/sklearn/linear_model/logistic.py:758: ConvergenceWarning: lbfgs failed to converge. Increase the number of iterations.\n",
      "  \"of iterations.\", ConvergenceWarning)\n",
      "6it [00:25,  4.80s/it]/home/tantely/anaconda3/lib/python3.6/site-packages/sklearn/linear_model/logistic.py:758: ConvergenceWarning: lbfgs failed to converge. Increase the number of iterations.\n",
      "  \"of iterations.\", ConvergenceWarning)\n",
      "7it [00:31,  5.26s/it]/home/tantely/anaconda3/lib/python3.6/site-packages/sklearn/linear_model/logistic.py:758: ConvergenceWarning: lbfgs failed to converge. Increase the number of iterations.\n",
      "  \"of iterations.\", ConvergenceWarning)\n",
      "8it [00:37,  5.59s/it]/home/tantely/anaconda3/lib/python3.6/site-packages/sklearn/linear_model/logistic.py:758: ConvergenceWarning: lbfgs failed to converge. Increase the number of iterations.\n",
      "  \"of iterations.\", ConvergenceWarning)\n",
      "9it [00:44,  5.93s/it]/home/tantely/anaconda3/lib/python3.6/site-packages/sklearn/linear_model/logistic.py:758: ConvergenceWarning: lbfgs failed to converge. Increase the number of iterations.\n",
      "  \"of iterations.\", ConvergenceWarning)\n",
      "10it [00:50,  6.04s/it]/home/tantely/anaconda3/lib/python3.6/site-packages/sklearn/linear_model/logistic.py:758: ConvergenceWarning: lbfgs failed to converge. Increase the number of iterations.\n",
      "  \"of iterations.\", ConvergenceWarning)\n",
      "11it [00:56,  6.09s/it]/home/tantely/anaconda3/lib/python3.6/site-packages/sklearn/linear_model/logistic.py:758: ConvergenceWarning: lbfgs failed to converge. Increase the number of iterations.\n",
      "  \"of iterations.\", ConvergenceWarning)\n",
      "12it [01:03,  6.21s/it]/home/tantely/anaconda3/lib/python3.6/site-packages/sklearn/linear_model/logistic.py:758: ConvergenceWarning: lbfgs failed to converge. Increase the number of iterations.\n",
      "  \"of iterations.\", ConvergenceWarning)\n",
      "13it [01:09,  6.29s/it]/home/tantely/anaconda3/lib/python3.6/site-packages/sklearn/linear_model/logistic.py:758: ConvergenceWarning: lbfgs failed to converge. Increase the number of iterations.\n",
      "  \"of iterations.\", ConvergenceWarning)\n",
      "14it [01:16,  6.38s/it]/home/tantely/anaconda3/lib/python3.6/site-packages/sklearn/linear_model/logistic.py:758: ConvergenceWarning: lbfgs failed to converge. Increase the number of iterations.\n",
      "  \"of iterations.\", ConvergenceWarning)\n",
      "15it [01:22,  6.34s/it]/home/tantely/anaconda3/lib/python3.6/site-packages/sklearn/linear_model/logistic.py:758: ConvergenceWarning: lbfgs failed to converge. Increase the number of iterations.\n",
      "  \"of iterations.\", ConvergenceWarning)\n",
      "16it [01:29,  6.32s/it]/home/tantely/anaconda3/lib/python3.6/site-packages/sklearn/linear_model/logistic.py:758: ConvergenceWarning: lbfgs failed to converge. Increase the number of iterations.\n",
      "  \"of iterations.\", ConvergenceWarning)\n",
      "17it [01:35,  6.33s/it]/home/tantely/anaconda3/lib/python3.6/site-packages/sklearn/linear_model/logistic.py:758: ConvergenceWarning: lbfgs failed to converge. Increase the number of iterations.\n",
      "  \"of iterations.\", ConvergenceWarning)\n",
      "18it [01:41,  6.29s/it]/home/tantely/anaconda3/lib/python3.6/site-packages/sklearn/linear_model/logistic.py:758: ConvergenceWarning: lbfgs failed to converge. Increase the number of iterations.\n",
      "  \"of iterations.\", ConvergenceWarning)\n",
      "19it [01:47,  6.30s/it]/home/tantely/anaconda3/lib/python3.6/site-packages/sklearn/linear_model/logistic.py:758: ConvergenceWarning: lbfgs failed to converge. Increase the number of iterations.\n",
      "  \"of iterations.\", ConvergenceWarning)\n",
      "20it [01:53,  6.24s/it]/home/tantely/anaconda3/lib/python3.6/site-packages/sklearn/linear_model/logistic.py:758: ConvergenceWarning: lbfgs failed to converge. Increase the number of iterations.\n",
      "  \"of iterations.\", ConvergenceWarning)\n",
      "21it [02:00,  6.28s/it]/home/tantely/anaconda3/lib/python3.6/site-packages/sklearn/linear_model/logistic.py:758: ConvergenceWarning: lbfgs failed to converge. Increase the number of iterations.\n",
      "  \"of iterations.\", ConvergenceWarning)\n",
      "22it [02:06,  6.31s/it]/home/tantely/anaconda3/lib/python3.6/site-packages/sklearn/linear_model/logistic.py:758: ConvergenceWarning: lbfgs failed to converge. Increase the number of iterations.\n",
      "  \"of iterations.\", ConvergenceWarning)\n",
      "23it [02:12,  6.29s/it]/home/tantely/anaconda3/lib/python3.6/site-packages/sklearn/linear_model/logistic.py:758: ConvergenceWarning: lbfgs failed to converge. Increase the number of iterations.\n",
      "  \"of iterations.\", ConvergenceWarning)\n",
      "24it [02:19,  6.37s/it]\n"
     ]
    },
    {
     "name": "stdout",
     "output_type": "stream",
     "text": [
      "\n",
      " C optimal = 5.5\n"
     ]
    },
    {
     "data": {
      "image/png": "[encoded data removed]",
      "text/plain": [
       "<Figure size 432x288 with 1 Axes>"
      ]
     },
     "metadata": {
      "needs_background": "light"
     },
     "output_type": "display_data"
    }
   ],
   "source": [
    "vectC = np.array([1e-4,1e-3,1e-2,1e-1,0.2,0.3,0.4,0.5,0.6,0.7,0.8,0.9,1,1.5,1.6,2,2.5,3,3.5,4,4.5,5,5.5,10])\n",
    "err_val = np.empty(vectC.shape[0])\n",
    "err_app = np.empty(vectC.shape[0])\n",
    "for ind_C, C in tqdm(enumerate(vectC)):\n",
    "    rl.C=C\n",
    "    temp=rl.fit(X_embeded_train_w2v, y_train)\n",
    "    # calcule erreur sur les donnees de validation et app\n",
    "    err_val[ind_C] = 1 - accuracy_score(y_val, rl.predict(X_embeded_val_w2v))\n",
    "    err_app[ind_C] = 1 - accuracy_score(y_train, rl.predict(X_embeded_train_w2v))\n",
    "err_min_val, ind_min = err_val.min(), err_val.argmin()\n",
    "Copt = vectC[ind_min]\n",
    "print(\"\\n C optimal = {}\".format(Copt))\n",
    "# Trace courbe erreur\n",
    "plt.figure()\n",
    "plt.semilogx(vectC, err_app, color=\"blue\", linestyle=\"--\", marker=\"s\", markersize=5, label=\"Apprentissage\")\n",
    "plt.semilogx(vectC, err_val, color=\"green\", linestyle=\"--\", marker=\"s\", markersize=5, label=\"Validation\")\n",
    "plt.xlabel(\"Parametre alpha\")\n",
    "plt.ylabel(\"Erreur Classification\")\n",
    "plt.legend(loc=\"best\")\n",
    "plt.show()"
   ]
  },
  {
   "cell_type": "code",
   "execution_count": 17,
   "metadata": {},
   "outputs": [
    {
     "name": "stderr",
     "output_type": "stream",
     "text": [
      "/home/tantely/anaconda3/lib/python3.6/site-packages/sklearn/linear_model/logistic.py:758: ConvergenceWarning: lbfgs failed to converge. Increase the number of iterations.\n",
      "  \"of iterations.\", ConvergenceWarning)\n"
     ]
    },
    {
     "name": "stdout",
     "output_type": "stream",
     "text": [
      "recall:0.9489315975831029\n",
      "accuracy:0.9489315975831029\n",
      "F1-score:0.9489379126786675\n"
     ]
    }
   ],
   "source": [
    "rl.C=Copt\n",
    "temp=rl.fit(X_embeded_train_w2v, y_train)\n",
    "predRL=rl.predict(X_embeded_test_w2v)   \n",
    "print(\"recall:{}\".format(recall_score(y_test, predRL,average='weighted')))\n",
    "print(\"accuracy:{}\".format(accuracy_score(y_test,predRL)))\n",
    "print(\"F1-score:{}\".format(f1_score(y_test,predRL,average='weighted')))"
   ]
  },
  {
   "cell_type": "code",
   "execution_count": 18,
   "metadata": {},
   "outputs": [
    {
     "name": "stdout",
     "output_type": "stream",
     "text": [
      "                   precision    recall  f1-score   support\n",
      "\n",
      "Finance_actuariat       0.99      0.99      0.99      1569\n",
      "       chirurgien       0.94      0.92      0.93      7910\n",
      "     cryptography       0.97      0.96      0.97      3166\n",
      "   data scientist       0.94      0.93      0.94      3416\n",
      "          dentist       0.95      0.95      0.95      8188\n",
      "        developer       0.95      0.92      0.94      2270\n",
      "ditital_marketing       0.99      0.99      0.99      3545\n",
      " network_engineer       0.99      0.98      0.98      3684\n",
      "            nurse       0.92      0.94      0.93     10900\n",
      "       pharmacist       0.95      0.94      0.94      6385\n",
      "          robotic       0.95      0.98      0.96      5734\n",
      "\n",
      "        micro avg       0.95      0.95      0.95     56767\n",
      "        macro avg       0.96      0.95      0.96     56767\n",
      "     weighted avg       0.95      0.95      0.95     56767\n",
      "\n"
     ]
    }
   ],
   "source": [
    "print(classification_report(y_test, predRL))"
   ]
  },
  {
   "cell_type": "code",
   "execution_count": 25,
   "metadata": {},
   "outputs": [
    {
     "name": "stdout",
     "output_type": "stream",
     "text": [
      "recall:0.9489315975831029\n",
      "accuracy:0.9489315975831029\n",
      "F1-score:0.9489379126786675\n"
     ]
    }
   ],
   "source": [
    "print(\"recall:{}\".format(recall_score(y_test, predRL,average='weighted')))\n",
    "print(\"accuracy:{}\".format(accuracy_score(y_test,predRL)))\n",
    "print(\"F1-score:{}\".format(f1_score(y_test,predRL,average='weighted')))"
   ]
  },
  {
   "cell_type": "markdown",
   "metadata": {},
   "source": [
    "## KNN:"
   ]
  },
  {
   "cell_type": "code",
   "execution_count": 19,
   "metadata": {},
   "outputs": [],
   "source": [
    "knn=KNeighborsClassifier()"
   ]
  },
  {
   "cell_type": "code",
   "execution_count": 20,
   "metadata": {},
   "outputs": [
    {
     "name": "stderr",
     "output_type": "stream",
     "text": [
      "100%|██████████| 8/8 [4:13:49<00:00, 2183.98s/it]  "
     ]
    },
    {
     "name": "stdout",
     "output_type": "stream",
     "text": [
      "With all being CV, best k is 2 and best perf is 0.9767974431889674\n"
     ]
    },
    {
     "name": "stderr",
     "output_type": "stream",
     "text": [
      "\n"
     ]
    },
    {
     "data": {
      "image/png": "[encoded data removed]",
      "text/plain": [
       "<Figure size 432x288 with 1 Axes>"
      ]
     },
     "metadata": {
      "needs_background": "light"
     },
     "output_type": "display_data"
    }
   ],
   "source": [
    "k_values = [2,3,5,6,7,8,9,10]\n",
    "perf_train=[]\n",
    "perf_val=[]\n",
    "for k in tqdm(k_values):\n",
    "    knn.n_neighbors=k\n",
    "    knn.fit(X_embeded_train_w2v, y_train)\n",
    "    y_pred_train = knn.predict(X_embeded_train_w2v)\n",
    "    y_pred_val=knn.predict(X_embeded_val_w2v)\n",
    "    scores_train = accuracy_score(y_train, y_pred_train)\n",
    "    scores_val=accuracy_score(y_val,y_pred_val)\n",
    "    perf_train.append(scores_train)\n",
    "    perf_val.append(scores_val)\n",
    "plt.figure()\n",
    "plt.plot(range(1,len(perf_train)+1),perf_train,\"--r\",range(1,len(perf_val)+1),perf_val,\"--g^\")\n",
    "plt.legend(['accuracy train', 'accuracy val'],loc=\"lower right\")\n",
    "print('With all being CV, best k is '    +repr(k_values[perf_val.index(max(perf_val))])+ ' and best perf is ' + repr(max(perf_val)))"
   ]
  },
  {
   "cell_type": "code",
   "execution_count": 21,
   "metadata": {},
   "outputs": [],
   "source": [
    "knn.n_neighbors=k_values[perf_val.index(max(perf_val))]\n",
    "knn.fit(X_embeded_train_w2v, y_train)\n",
    "pred_knn = knn.predict(X_embeded_test_w2v)"
   ]
  },
  {
   "cell_type": "code",
   "execution_count": 22,
   "metadata": {},
   "outputs": [
    {
     "name": "stdout",
     "output_type": "stream",
     "text": [
      "                   precision    recall  f1-score   support\n",
      "\n",
      "Finance_actuariat       0.99      0.99      0.99      1569\n",
      "       chirurgien       0.95      0.98      0.97      7910\n",
      "     cryptography       0.99      1.00      0.99      3166\n",
      "   data scientist       0.96      0.99      0.98      3416\n",
      "          dentist       0.98      0.98      0.98      8188\n",
      "        developer       0.99      0.95      0.97      2270\n",
      "ditital_marketing       0.98      1.00      0.99      3545\n",
      " network_engineer       0.99      1.00      0.99      3684\n",
      "            nurse       0.97      0.96      0.97     10900\n",
      "       pharmacist       0.99      0.97      0.98      6385\n",
      "          robotic       0.99      0.98      0.99      5734\n",
      "\n",
      "        micro avg       0.98      0.98      0.98     56767\n",
      "        macro avg       0.98      0.98      0.98     56767\n",
      "     weighted avg       0.98      0.98      0.98     56767\n",
      "\n"
     ]
    }
   ],
   "source": [
    "print(classification_report(y_test, pred_knn))"
   ]
  },
  {
   "cell_type": "code",
   "execution_count": 23,
   "metadata": {},
   "outputs": [
    {
     "name": "stdout",
     "output_type": "stream",
     "text": [
      "recall:0.9767822854827629\n",
      "accuracy:0.9767822854827629\n",
      "F1-score:0.9767731174286239\n"
     ]
    }
   ],
   "source": [
    "print(\"recall:{}\".format(recall_score(y_test, pred_knn,average='weighted')))\n",
    "print(\"accuracy:{}\".format(accuracy_score(y_test,pred_knn)))\n",
    "print(\"F1-score:{}\".format(f1_score(y_test,pred_knn,average='weighted')))"
   ]
  }
 ],
 "metadata": {
  "kernelspec": {
   "display_name": "Python 3",
   "language": "python",
   "name": "python3"
  },
  "language_info": {
   "codemirror_mode": {
    "name": "ipython",
    "version": 3
   },
   "file_extension": ".py",
   "mimetype": "text/x-python",
   "name": "python",
   "nbconvert_exporter": "python",
   "pygments_lexer": "ipython3",
   "version": "3.6.8"
  },
  "toc": {
   "base_numbering": 1,
   "nav_menu": {},
   "number_sections": false,
   "sideBar": false,
   "skip_h1_title": false,
   "title_cell": "Table of Contents",
   "title_sidebar": "Contents",
   "toc_cell": false,
   "toc_position": {},
   "toc_section_display": false,
   "toc_window_display": false
  }
 },
 "nbformat": 4,
 "nbformat_minor": 2
}
