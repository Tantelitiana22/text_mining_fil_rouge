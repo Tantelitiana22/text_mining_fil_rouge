{
 "cells": [
  {
   "cell_type": "code",
   "execution_count": 1,
   "metadata": {},
   "outputs": [],
   "source": [
    "import pandas as pd\n",
    "import numpy as np\n",
    "import nltk\n",
    "import string\n",
    "import regex\n",
    "import re\n",
    "import seaborn as sn\n",
    "import matplotlib.pyplot as plt\n",
    "from nltk.corpus import stopwords\n",
    "from textblob import Word\n",
    "from sklearn.model_selection import train_test_split\n",
    "from sklearn.feature_extraction.text import TfidfVectorizer\n",
    "from sklearn.naive_bayes import MultinomialNB\n",
    "from sklearn.svm import LinearSVC\n",
    "from sklearn.calibration import CalibratedClassifierCV\n",
    "from sklearn.metrics import accuracy_score,roc_curve,auc\n",
    "from sklearn.multiclass import OneVsOneClassifier\n",
    "from sklearn.metrics import confusion_matrix\n",
    "from sklearn.linear_model import LogisticRegression\n",
    "from sklearn.model_selection import GridSearchCV\n",
    "from sklearn.neighbors import KNeighborsClassifier\n",
    "from sklearn.model_selection import cross_val_score\n",
    "from sklearn.pipeline import Pipeline\n",
    "from tqdm import tqdm\n",
    "from sklearn.manifold import TSNE\n",
    "from sklearn.feature_extraction.text import CountVectorizer,TfidfTransformer\n",
    "from sklearn.preprocessing import LabelEncoder,LabelBinarizer\n",
    "from sklearn.metrics import classification_report\n",
    "from tqdm import tqdm\n",
    "tqdm.pandas(desc=\"progress-bar\")\n",
    "from gensim.models.doc2vec import Doc2Vec,TaggedDocument\n",
    "from nltk.tokenize import word_tokenize\n",
    "from gensim.models.doc2vec import LabeledSentence\n",
    "import multiprocessing\n",
    "from sklearn import utils\n",
    "plt.style.use('ggplot')\n",
    "%matplotlib notebook"
   ]
  },
  {
   "cell_type": "markdown",
   "metadata": {},
   "source": [
    "## Chargement des données et néttoyage:"
   ]
  },
  {
   "cell_type": "code",
   "execution_count": 2,
   "metadata": {},
   "outputs": [],
   "source": [
    "import spacy\n",
    "nlp = spacy.load('en')\n",
    "def fonction_nettoyage_text(df):\n",
    "    # supprission des ponctuations\n",
    "    rm_ponct = str.maketrans('','',string.punctuation)\n",
    "    df = df.apply(lambda x:x.translate(rm_ponct))\n",
    "    # suppression les unicodes\n",
    "    df = df.apply(lambda x:x.encode(\"ascii\",\"ignore\").decode(\"utf-8\"))\n",
    "                                                \n",
    "    # suppression des URLs\n",
    "    df = df.apply(lambda x:re.sub(r'http\\S+',\"\",x))\n",
    "    \n",
    "    # suppression des stopwords\n",
    "    stop_en = stopwords.words(\"english\")\n",
    "    df = df.apply(lambda x:\" \".join(x.lower() for x in np.str(x).split() if x.lower() not in stop_en))\n",
    "                                                  # Lemmatisation\n",
    "    df = df.apply(lambda x:\" \".join([ word.lemma_ for word in nlp(x) if word.lemma_!=\"-PRON-\"]))              \n",
    "    return(df)"
   ]
  },
  {
   "cell_type": "markdown",
   "metadata": {},
   "source": [
    "## Split train-test validation:"
   ]
  },
  {
   "cell_type": "code",
   "execution_count": 3,
   "metadata": {},
   "outputs": [],
   "source": [
    "dataset = pd.read_csv(\"data_set_version_final.csv\")\n",
    "dataset.resume=fonction_nettoyage_text(dataset.resume)"
   ]
  },
  {
   "cell_type": "code",
   "execution_count": 4,
   "metadata": {},
   "outputs": [],
   "source": [
    "X_train,X_test,Y_train,y_test = train_test_split(dataset.resume,dataset.Labels,test_size=0.3,shuffle=True)\n",
    "x_train,x_val,y_train,y_val = train_test_split(X_train,Y_train,test_size=0.3,shuffle=True)"
   ]
  },
  {
   "cell_type": "markdown",
   "metadata": {},
   "source": [
    "## Transformation Doc2Vec:"
   ]
  },
  {
   "cell_type": "markdown",
   "metadata": {},
   "source": [
    "## BDOW:\n",
    "Nous allons utilisé le paramètre dm=0 pour préciser que l'on va utiliser le DBOW. Pour les autres paramètres, on va prendre les paramètres par défaut. "
   ]
  },
  {
   "cell_type": "code",
   "execution_count": 5,
   "metadata": {},
   "outputs": [],
   "source": [
    "from Doc2VecTransformer import EmbeddingDoc2Vec"
   ]
  },
  {
   "cell_type": "code",
   "execution_count": 6,
   "metadata": {},
   "outputs": [],
   "source": [
    "docvecbd=EmbeddingDoc2Vec(dm=0)"
   ]
  },
  {
   "cell_type": "code",
   "execution_count": 7,
   "metadata": {},
   "outputs": [
    {
     "name": "stderr",
     "output_type": "stream",
     "text": [
      "100%|██████████| 92717/92717 [00:00<00:00, 3540484.56it/s]\n",
      "100%|██████████| 92717/92717 [00:00<00:00, 3452597.19it/s]\n"
     ]
    },
    {
     "data": {
      "text/plain": [
       "<Doc2VecTransformer.EmbeddingDoc2Vec at 0x7fe0b5516748>"
      ]
     },
     "execution_count": 7,
     "metadata": {},
     "output_type": "execute_result"
    }
   ],
   "source": [
    "docvecbd.fit(x_train,y_train)"
   ]
  },
  {
   "cell_type": "code",
   "execution_count": 12,
   "metadata": {},
   "outputs": [],
   "source": [
    "y_train,X_embeded_train_D2v=docvecbd.transform(x_train,y_train)\n",
    "y_val,X_embeded_val_D2v=docvecbd.transform(x_val,y_val)\n",
    "y_test,X_embeded_test_D2v=docvecbd.transform(X_test,y_test)"
   ]
  },
  {
   "cell_type": "markdown",
   "metadata": {},
   "source": [
    "## SVM:"
   ]
  },
  {
   "cell_type": "code",
   "execution_count": 13,
   "metadata": {},
   "outputs": [
    {
     "name": "stderr",
     "output_type": "stream",
     "text": [
      "/home/tantely/anaconda3/lib/python3.6/site-packages/sklearn/svm/base.py:931: ConvergenceWarning: Liblinear failed to converge, increase the number of iterations.\n",
      "  \"the number of iterations.\", ConvergenceWarning)\n",
      "/home/tantely/anaconda3/lib/python3.6/site-packages/sklearn/svm/base.py:931: ConvergenceWarning: Liblinear failed to converge, increase the number of iterations.\n",
      "  \"the number of iterations.\", ConvergenceWarning)\n",
      "/home/tantely/anaconda3/lib/python3.6/site-packages/sklearn/svm/base.py:931: ConvergenceWarning: Liblinear failed to converge, increase the number of iterations.\n",
      "  \"the number of iterations.\", ConvergenceWarning)\n",
      "/home/tantely/anaconda3/lib/python3.6/site-packages/sklearn/svm/base.py:931: ConvergenceWarning: Liblinear failed to converge, increase the number of iterations.\n",
      "  \"the number of iterations.\", ConvergenceWarning)\n",
      "/home/tantely/anaconda3/lib/python3.6/site-packages/sklearn/svm/base.py:931: ConvergenceWarning: Liblinear failed to converge, increase the number of iterations.\n",
      "  \"the number of iterations.\", ConvergenceWarning)\n",
      "/home/tantely/anaconda3/lib/python3.6/site-packages/sklearn/svm/base.py:931: ConvergenceWarning: Liblinear failed to converge, increase the number of iterations.\n",
      "  \"the number of iterations.\", ConvergenceWarning)\n",
      "/home/tantely/anaconda3/lib/python3.6/site-packages/sklearn/svm/base.py:931: ConvergenceWarning: Liblinear failed to converge, increase the number of iterations.\n",
      "  \"the number of iterations.\", ConvergenceWarning)\n"
     ]
    },
    {
     "name": "stdout",
     "output_type": "stream",
     "text": [
      "\n",
      " C optimal = 0.13894954943731375\n"
     ]
    },
    {
     "data": {
      "image/png": "[encoded data removed]",
      "text/plain": [
       "<Figure size 432x288 with 1 Axes>"
      ]
     },
     "metadata": {
      "needs_background": "light"
     },
     "output_type": "display_data"
    }
   ],
   "source": [
    "vectC = np.logspace(-3, 2, 15)\n",
    "err_val = np.empty(vectC.shape[0])\n",
    "err_app = np.empty(vectC.shape[0])\n",
    "clf_svm=LinearSVC(C=1)\n",
    "\n",
    "for ind_C, C in enumerate(vectC):\n",
    "    clf_svm.C = C\n",
    "    clf_svm.fit(X_embeded_train_D2v, y_train)\n",
    "    # calcule erreur sur les donnees de validation et app\n",
    "    err_val[ind_C] = 1 - accuracy_score(y_val, clf_svm.predict(X_embeded_val_D2v))\n",
    "    err_app[ind_C] = 1 - accuracy_score(y_train, clf_svm.predict(X_embeded_train_D2v))\n",
    "err_min_val, ind_min = err_val.min(), err_val.argmin()\n",
    "Copt = vectC[ind_min]\n",
    "print(\"\\n C optimal = {}\".format(Copt))\n",
    "# Trace courbe erreur\n",
    "plt.figure()\n",
    "plt.semilogx(vectC, err_app, color=\"blue\", linestyle=\"--\", marker=\"s\", markersize=5, label=\"Apprentissage\")\n",
    "plt.semilogx(vectC, err_val, color=\"green\", linestyle=\"--\", marker=\"s\", markersize=5, label=\"Validation\")\n",
    "plt.xlabel(\"Parametre C\")\n",
    "plt.ylabel(\"Erreur Classification\")\n",
    "plt.legend(loc=\"best\")\n",
    "plt.show()"
   ]
  },
  {
   "cell_type": "markdown",
   "metadata": {},
   "source": [
    "## Qualité du modèle:"
   ]
  },
  {
   "cell_type": "code",
   "execution_count": 14,
   "metadata": {},
   "outputs": [],
   "source": [
    "from sklearn.metrics import recall_score,average_precision_score,f1_score\n",
    "from sklearn.calibration import CalibratedClassifierCV"
   ]
  },
  {
   "cell_type": "code",
   "execution_count": 16,
   "metadata": {},
   "outputs": [
    {
     "name": "stdout",
     "output_type": "stream",
     "text": [
      "                   precision    recall  f1-score   support\n",
      "\n",
      "Finance_actuariat       0.98      0.97      0.98      1531\n",
      "       chirurgien       0.76      0.97      0.85      7997\n",
      "     cryptography       0.98      0.96      0.97      3224\n",
      "   data scientist       0.81      0.97      0.88      3427\n",
      "          dentist       0.98      0.85      0.91      8388\n",
      "        developer       1.00      0.50      0.67      2212\n",
      "ditital_marketing       0.98      0.98      0.98      3573\n",
      " network_engineer       0.99      0.91      0.95      3744\n",
      "            nurse       0.97      0.84      0.90     10851\n",
      "       pharmacist       0.95      0.94      0.95      6254\n",
      "          robotic       0.82      0.99      0.90      5566\n",
      "\n",
      "        micro avg       0.90      0.90      0.90     56767\n",
      "        macro avg       0.93      0.90      0.90     56767\n",
      "     weighted avg       0.92      0.90      0.90     56767\n",
      "\n"
     ]
    }
   ],
   "source": [
    "prediction=clf_svm.predict(X_embeded_test_D2v)\n",
    "print(classification_report(y_test, prediction))"
   ]
  },
  {
   "cell_type": "code",
   "execution_count": 17,
   "metadata": {},
   "outputs": [
    {
     "name": "stdout",
     "output_type": "stream",
     "text": [
      "recall:0.9049095425158983\n",
      "accuracy:0.9049095425158983\n",
      "F1-score:0.9039058305131785\n"
     ]
    }
   ],
   "source": [
    "print(\"recall:{}\".format(recall_score(y_test, prediction,average='weighted')))\n",
    "print(\"accuracy:{}\".format(accuracy_score(y_test,prediction)))\n",
    "print(\"F1-score:{}\".format(f1_score(y_test,prediction,average='weighted')))"
   ]
  },
  {
   "cell_type": "markdown",
   "metadata": {},
   "source": [
    "## Logisitic Regression:"
   ]
  },
  {
   "cell_type": "code",
   "execution_count": 20,
   "metadata": {},
   "outputs": [],
   "source": [
    "rl=LogisticRegression(multi_class=\"auto\",solver=\"lbfgs\")"
   ]
  },
  {
   "cell_type": "code",
   "execution_count": 21,
   "metadata": {},
   "outputs": [
    {
     "name": "stderr",
     "output_type": "stream",
     "text": [
      "1it [00:05,  5.86s/it]/home/tantely/anaconda3/lib/python3.6/site-packages/sklearn/linear_model/logistic.py:758: ConvergenceWarning: lbfgs failed to converge. Increase the number of iterations.\n",
      "  \"of iterations.\", ConvergenceWarning)\n",
      "2it [00:14,  6.70s/it]/home/tantely/anaconda3/lib/python3.6/site-packages/sklearn/linear_model/logistic.py:758: ConvergenceWarning: lbfgs failed to converge. Increase the number of iterations.\n",
      "  \"of iterations.\", ConvergenceWarning)\n",
      "3it [00:23,  7.24s/it]/home/tantely/anaconda3/lib/python3.6/site-packages/sklearn/linear_model/logistic.py:758: ConvergenceWarning: lbfgs failed to converge. Increase the number of iterations.\n",
      "  \"of iterations.\", ConvergenceWarning)\n",
      "4it [00:31,  7.63s/it]/home/tantely/anaconda3/lib/python3.6/site-packages/sklearn/linear_model/logistic.py:758: ConvergenceWarning: lbfgs failed to converge. Increase the number of iterations.\n",
      "  \"of iterations.\", ConvergenceWarning)\n",
      "5it [00:39,  7.80s/it]/home/tantely/anaconda3/lib/python3.6/site-packages/sklearn/linear_model/logistic.py:758: ConvergenceWarning: lbfgs failed to converge. Increase the number of iterations.\n",
      "  \"of iterations.\", ConvergenceWarning)\n",
      "6it [00:47,  7.90s/it]/home/tantely/anaconda3/lib/python3.6/site-packages/sklearn/linear_model/logistic.py:758: ConvergenceWarning: lbfgs failed to converge. Increase the number of iterations.\n",
      "  \"of iterations.\", ConvergenceWarning)\n",
      "7it [00:56,  8.19s/it]/home/tantely/anaconda3/lib/python3.6/site-packages/sklearn/linear_model/logistic.py:758: ConvergenceWarning: lbfgs failed to converge. Increase the number of iterations.\n",
      "  \"of iterations.\", ConvergenceWarning)\n",
      "8it [01:05,  8.39s/it]/home/tantely/anaconda3/lib/python3.6/site-packages/sklearn/linear_model/logistic.py:758: ConvergenceWarning: lbfgs failed to converge. Increase the number of iterations.\n",
      "  \"of iterations.\", ConvergenceWarning)\n",
      "9it [01:14,  8.47s/it]/home/tantely/anaconda3/lib/python3.6/site-packages/sklearn/linear_model/logistic.py:758: ConvergenceWarning: lbfgs failed to converge. Increase the number of iterations.\n",
      "  \"of iterations.\", ConvergenceWarning)\n",
      "10it [01:22,  8.48s/it]/home/tantely/anaconda3/lib/python3.6/site-packages/sklearn/linear_model/logistic.py:758: ConvergenceWarning: lbfgs failed to converge. Increase the number of iterations.\n",
      "  \"of iterations.\", ConvergenceWarning)\n",
      "11it [01:31,  8.58s/it]/home/tantely/anaconda3/lib/python3.6/site-packages/sklearn/linear_model/logistic.py:758: ConvergenceWarning: lbfgs failed to converge. Increase the number of iterations.\n",
      "  \"of iterations.\", ConvergenceWarning)\n",
      "12it [01:40,  8.70s/it]/home/tantely/anaconda3/lib/python3.6/site-packages/sklearn/linear_model/logistic.py:758: ConvergenceWarning: lbfgs failed to converge. Increase the number of iterations.\n",
      "  \"of iterations.\", ConvergenceWarning)\n",
      "13it [01:49,  8.62s/it]/home/tantely/anaconda3/lib/python3.6/site-packages/sklearn/linear_model/logistic.py:758: ConvergenceWarning: lbfgs failed to converge. Increase the number of iterations.\n",
      "  \"of iterations.\", ConvergenceWarning)\n",
      "14it [01:57,  8.63s/it]/home/tantely/anaconda3/lib/python3.6/site-packages/sklearn/linear_model/logistic.py:758: ConvergenceWarning: lbfgs failed to converge. Increase the number of iterations.\n",
      "  \"of iterations.\", ConvergenceWarning)\n",
      "15it [02:06,  8.58s/it]/home/tantely/anaconda3/lib/python3.6/site-packages/sklearn/linear_model/logistic.py:758: ConvergenceWarning: lbfgs failed to converge. Increase the number of iterations.\n",
      "  \"of iterations.\", ConvergenceWarning)\n",
      "16it [02:14,  8.58s/it]/home/tantely/anaconda3/lib/python3.6/site-packages/sklearn/linear_model/logistic.py:758: ConvergenceWarning: lbfgs failed to converge. Increase the number of iterations.\n",
      "  \"of iterations.\", ConvergenceWarning)\n",
      "17it [02:23,  8.56s/it]/home/tantely/anaconda3/lib/python3.6/site-packages/sklearn/linear_model/logistic.py:758: ConvergenceWarning: lbfgs failed to converge. Increase the number of iterations.\n",
      "  \"of iterations.\", ConvergenceWarning)\n",
      "18it [02:31,  8.50s/it]/home/tantely/anaconda3/lib/python3.6/site-packages/sklearn/linear_model/logistic.py:758: ConvergenceWarning: lbfgs failed to converge. Increase the number of iterations.\n",
      "  \"of iterations.\", ConvergenceWarning)\n",
      "19it [02:40,  8.54s/it]/home/tantely/anaconda3/lib/python3.6/site-packages/sklearn/linear_model/logistic.py:758: ConvergenceWarning: lbfgs failed to converge. Increase the number of iterations.\n",
      "  \"of iterations.\", ConvergenceWarning)\n",
      "20it [02:48,  8.58s/it]/home/tantely/anaconda3/lib/python3.6/site-packages/sklearn/linear_model/logistic.py:758: ConvergenceWarning: lbfgs failed to converge. Increase the number of iterations.\n",
      "  \"of iterations.\", ConvergenceWarning)\n",
      "21it [02:57,  8.49s/it]/home/tantely/anaconda3/lib/python3.6/site-packages/sklearn/linear_model/logistic.py:758: ConvergenceWarning: lbfgs failed to converge. Increase the number of iterations.\n",
      "  \"of iterations.\", ConvergenceWarning)\n",
      "22it [03:05,  8.50s/it]/home/tantely/anaconda3/lib/python3.6/site-packages/sklearn/linear_model/logistic.py:758: ConvergenceWarning: lbfgs failed to converge. Increase the number of iterations.\n",
      "  \"of iterations.\", ConvergenceWarning)\n",
      "23it [03:14,  8.50s/it]/home/tantely/anaconda3/lib/python3.6/site-packages/sklearn/linear_model/logistic.py:758: ConvergenceWarning: lbfgs failed to converge. Increase the number of iterations.\n",
      "  \"of iterations.\", ConvergenceWarning)\n",
      "24it [03:22,  8.53s/it]\n"
     ]
    },
    {
     "name": "stdout",
     "output_type": "stream",
     "text": [
      "\n",
      " C optimal = 1.6\n"
     ]
    },
    {
     "data": {
      "image/png": "[encoded data removed]",
      "text/plain": [
       "<Figure size 432x288 with 1 Axes>"
      ]
     },
     "metadata": {
      "needs_background": "light"
     },
     "output_type": "display_data"
    }
   ],
   "source": [
    "vectC = np.array([1e-4,1e-3,1e-2,1e-1,0.2,0.3,0.4,0.5,0.6,0.7,0.8,0.9,1,1.5,1.6,2,2.5,3,3.5,4,4.5,5,5.5,10])\n",
    "err_val = np.empty(vectC.shape[0])\n",
    "err_app = np.empty(vectC.shape[0])\n",
    "for ind_C, C in tqdm(enumerate(vectC)):\n",
    "    rl.C=C\n",
    "    temp=rl.fit(X_embeded_train_D2v, y_train)\n",
    "    # calcule erreur sur les donnees de validation et app\n",
    "    err_val[ind_C] = 1 - accuracy_score(y_val, rl.predict(X_embeded_val_D2v))\n",
    "    err_app[ind_C] = 1 - accuracy_score(y_train, rl.predict(X_embeded_train_D2v))\n",
    "err_min_val, ind_min = err_val.min(), err_val.argmin()\n",
    "Copt = vectC[ind_min]\n",
    "print(\"\\n C optimal = {}\".format(Copt))\n",
    "# Trace courbe erreur\n",
    "plt.figure()\n",
    "plt.semilogx(vectC, err_app, color=\"blue\", linestyle=\"--\", marker=\"s\", markersize=5, label=\"Apprentissage\")\n",
    "plt.semilogx(vectC, err_val, color=\"green\", linestyle=\"--\", marker=\"s\", markersize=5, label=\"Validation\")\n",
    "plt.xlabel(\"Parametre alpha\")\n",
    "plt.ylabel(\"Erreur Classification\")\n",
    "plt.legend(loc=\"best\")\n",
    "plt.show()"
   ]
  },
  {
   "cell_type": "code",
   "execution_count": 22,
   "metadata": {},
   "outputs": [
    {
     "name": "stderr",
     "output_type": "stream",
     "text": [
      "/home/tantely/anaconda3/lib/python3.6/site-packages/sklearn/linear_model/logistic.py:758: ConvergenceWarning: lbfgs failed to converge. Increase the number of iterations.\n",
      "  \"of iterations.\", ConvergenceWarning)\n"
     ]
    },
    {
     "name": "stdout",
     "output_type": "stream",
     "text": [
      "recall:0.9582151602163229\n",
      "accuracy:0.9582151602163229\n",
      "F1-score:0.9582215482665992\n"
     ]
    }
   ],
   "source": [
    "rl.C=Copt\n",
    "temp=rl.fit(X_embeded_train_D2v, y_train)\n",
    "predRL=rl.predict(X_embeded_test_D2v)   \n",
    "print(\"recall:{}\".format(recall_score(y_test, predRL,average='weighted')))\n",
    "print(\"accuracy:{}\".format(accuracy_score(y_test,predRL)))\n",
    "print(\"F1-score:{}\".format(f1_score(y_test,predRL,average='weighted')))"
   ]
  },
  {
   "cell_type": "code",
   "execution_count": 23,
   "metadata": {},
   "outputs": [
    {
     "name": "stdout",
     "output_type": "stream",
     "text": [
      "                   precision    recall  f1-score   support\n",
      "\n",
      "Finance_actuariat       0.99      0.98      0.99      1531\n",
      "       chirurgien       0.94      0.94      0.94      7997\n",
      "     cryptography       0.98      0.99      0.98      3224\n",
      "   data scientist       0.96      0.96      0.96      3427\n",
      "          dentist       0.95      0.96      0.95      8388\n",
      "        developer       0.97      0.95      0.96      2212\n",
      "ditital_marketing       0.99      0.98      0.98      3573\n",
      " network_engineer       0.98      0.97      0.98      3744\n",
      "            nurse       0.94      0.94      0.94     10851\n",
      "       pharmacist       0.96      0.96      0.96      6254\n",
      "          robotic       0.96      0.97      0.97      5566\n",
      "\n",
      "        micro avg       0.96      0.96      0.96     56767\n",
      "        macro avg       0.97      0.96      0.97     56767\n",
      "     weighted avg       0.96      0.96      0.96     56767\n",
      "\n"
     ]
    }
   ],
   "source": [
    "print(classification_report(y_test, predRL))"
   ]
  },
  {
   "cell_type": "markdown",
   "metadata": {},
   "source": [
    "## KNN:"
   ]
  },
  {
   "cell_type": "code",
   "execution_count": 24,
   "metadata": {},
   "outputs": [],
   "source": [
    "knn=KNeighborsClassifier()"
   ]
  },
  {
   "cell_type": "code",
   "execution_count": 25,
   "metadata": {},
   "outputs": [
    {
     "name": "stderr",
     "output_type": "stream",
     "text": [
      "100%|██████████| 8/8 [2:14:14<00:00, 1140.50s/it]"
     ]
    },
    {
     "name": "stdout",
     "output_type": "stream",
     "text": [
      "With all being CV, best k is 3 and best perf is 0.9746080479150414\n"
     ]
    },
    {
     "name": "stderr",
     "output_type": "stream",
     "text": [
      "\n"
     ]
    },
    {
     "data": {
      "image/png": "[encoded data removed]",
      "text/plain": [
       "<Figure size 432x288 with 1 Axes>"
      ]
     },
     "metadata": {
      "needs_background": "light"
     },
     "output_type": "display_data"
    }
   ],
   "source": [
    "k_values = [2,3,5,6,7,8,9,10]\n",
    "perf_train=[]\n",
    "perf_val=[]\n",
    "for k in tqdm(k_values):\n",
    "    knn.n_neighbors=k\n",
    "    knn.fit(X_embeded_train_D2v, y_train)\n",
    "    y_pred_train = knn.predict(X_embeded_train_D2v)\n",
    "    y_pred_val=knn.predict(X_embeded_val_D2v)\n",
    "    scores_train = accuracy_score(y_train, y_pred_train)\n",
    "    scores_val=accuracy_score(y_val,y_pred_val)\n",
    "    perf_train.append(scores_train)\n",
    "    perf_val.append(scores_val)\n",
    "plt.figure()\n",
    "plt.plot(range(1,len(perf_train)+1),perf_train,\"--r\",range(1,len(perf_val)+1),perf_val,\"--g^\")\n",
    "plt.legend(['accuracy train', 'accuracy val'],loc=\"lower right\")\n",
    "print('With all being CV, best k is '    +repr(k_values[perf_val.index(max(perf_val))])+ ' and best perf is ' + repr(max(perf_val)))"
   ]
  },
  {
   "cell_type": "code",
   "execution_count": 26,
   "metadata": {},
   "outputs": [],
   "source": [
    "knn.n_neighbors=k_values[perf_val.index(max(perf_val))]\n",
    "knn.fit(X_embeded_train_D2v, y_train)\n",
    "pred_knn = knn.predict(X_embeded_test_D2v)"
   ]
  },
  {
   "cell_type": "code",
   "execution_count": 27,
   "metadata": {},
   "outputs": [
    {
     "name": "stdout",
     "output_type": "stream",
     "text": [
      "                   precision    recall  f1-score   support\n",
      "\n",
      "Finance_actuariat       0.99      0.99      0.99      1531\n",
      "       chirurgien       0.95      0.97      0.96      7997\n",
      "     cryptography       0.99      0.99      0.99      3224\n",
      "   data scientist       0.97      0.98      0.97      3427\n",
      "          dentist       0.97      0.97      0.97      8388\n",
      "        developer       0.98      0.96      0.97      2212\n",
      "ditital_marketing       0.99      0.99      0.99      3573\n",
      " network_engineer       0.99      0.99      0.99      3744\n",
      "            nurse       0.97      0.96      0.96     10851\n",
      "       pharmacist       0.98      0.97      0.98      6254\n",
      "          robotic       0.99      0.99      0.99      5566\n",
      "\n",
      "        micro avg       0.97      0.97      0.97     56767\n",
      "        macro avg       0.98      0.98      0.98     56767\n",
      "     weighted avg       0.97      0.97      0.97     56767\n",
      "\n"
     ]
    }
   ],
   "source": [
    "print(classification_report(y_test, pred_knn))"
   ]
  },
  {
   "cell_type": "code",
   "execution_count": 28,
   "metadata": {},
   "outputs": [
    {
     "name": "stdout",
     "output_type": "stream",
     "text": [
      "recall:0.9737699719907693\n",
      "accuracy:0.9737699719907693\n",
      "F1-score:0.9737781363567246\n"
     ]
    }
   ],
   "source": [
    "print(\"recall:{}\".format(recall_score(y_test, pred_knn,average='weighted')))\n",
    "print(\"accuracy:{}\".format(accuracy_score(y_test,pred_knn)))\n",
    "print(\"F1-score:{}\".format(f1_score(y_test,pred_knn,average='weighted')))"
   ]
  },
  {
   "cell_type": "markdown",
   "metadata": {},
   "source": [
    "### Naîve Baysian:"
   ]
  },
  {
   "cell_type": "code",
   "execution_count": 29,
   "metadata": {},
   "outputs": [],
   "source": [
    "modelNB=MultinomialNB()"
   ]
  },
  {
   "cell_type": "code",
   "execution_count": 36,
   "metadata": {},
   "outputs": [
    {
     "name": "stderr",
     "output_type": "stream",
     "text": [
      "24it [00:08,  2.99it/s]\n"
     ]
    },
    {
     "name": "stdout",
     "output_type": "stream",
     "text": [
      "\n",
      " C optimal = 4.5\n"
     ]
    },
    {
     "data": {
      "image/png": "[encoded data removed]",
      "text/plain": [
       "<Figure size 432x288 with 1 Axes>"
      ]
     },
     "metadata": {
      "needs_background": "light"
     },
     "output_type": "display_data"
    }
   ],
   "source": [
    "vectC = np.array([1e-4,1e-3,1e-2,1e-1,0.2,0.3,0.4,0.5,0.6,0.7,0.8,0.9,1,1.5,1.6,2,2.5,3,3.5,4,4.5,5,5.5,10])\n",
    "err_val = np.empty(vectC.shape[0])\n",
    "err_app = np.empty(vectC.shape[0])\n",
    "for ind_C, C in tqdm(enumerate(vectC)):\n",
    "    modelNB.set_params(alpha=C)\n",
    "    modelNB.fit(X_embeded_train_D2v, y_train)\n",
    "    # calcule erreur sur les donnees de validation et app\n",
    "    err_val[ind_C] = accuracy_score(y_val, modelNB.predict(X_embeded_val_D2v))\n",
    "    err_app[ind_C] =accuracy_score(y_train, modelNB.predict(X_embeded_train_D2v))\n",
    "err_min_val, ind_min = err_val.min(), err_val.argmin()\n",
    "Copt = vectC[ind_min]\n",
    "print(\"\\n C optimal = {}\".format(Copt))\n",
    "# Trace courbe erreur\n",
    "plt.figure()\n",
    "plt.semilogx(vectC, err_app, color=\"blue\", linestyle=\"--\", marker=\"s\", markersize=5, label=\"Apprentissage\")\n",
    "plt.semilogx(vectC, err_val, color=\"green\", linestyle=\"--\", marker=\"s\", markersize=5, label=\"Validation\")\n",
    "plt.xlabel(\"Parametre alpha\")\n",
    "plt.ylabel(\"Accuracy Classification\")\n",
    "plt.legend(loc=\"best\")\n",
    "plt.show()"
   ]
  },
  {
   "cell_type": "markdown",
   "metadata": {},
   "source": [
    "On remarque une écare de 0.006% entre validation et apprentissage, donc on peut dire que notre modèle est acceptable."
   ]
  },
  {
   "cell_type": "code",
   "execution_count": 33,
   "metadata": {},
   "outputs": [],
   "source": [
    "modelNB.set_params(alpha=Copt)\n",
    "modelNB.fit(X_embeded_train_D2v, y_train)\n",
    "pred=modelNB.predict(X_embeded_test_D2v)"
   ]
  },
  {
   "cell_type": "code",
   "execution_count": 34,
   "metadata": {},
   "outputs": [
    {
     "name": "stdout",
     "output_type": "stream",
     "text": [
      "                   precision    recall  f1-score   support\n",
      "\n",
      "Finance_actuariat       0.97      0.99      0.98      1531\n",
      "       chirurgien       0.94      0.93      0.94      7997\n",
      "     cryptography       0.98      0.98      0.98      3224\n",
      "   data scientist       0.96      0.96      0.96      3427\n",
      "          dentist       0.95      0.94      0.95      8388\n",
      "        developer       0.98      0.93      0.96      2212\n",
      "ditital_marketing       0.97      0.99      0.98      3573\n",
      " network_engineer       0.97      0.97      0.97      3744\n",
      "            nurse       0.93      0.95      0.94     10851\n",
      "       pharmacist       0.96      0.95      0.95      6254\n",
      "          robotic       0.97      0.96      0.97      5566\n",
      "\n",
      "        micro avg       0.95      0.95      0.95     56767\n",
      "        macro avg       0.96      0.96      0.96     56767\n",
      "     weighted avg       0.95      0.95      0.95     56767\n",
      "\n"
     ]
    }
   ],
   "source": [
    "print(classification_report(y_test, pred))"
   ]
  },
  {
   "cell_type": "code",
   "execution_count": 35,
   "metadata": {},
   "outputs": [
    {
     "name": "stdout",
     "output_type": "stream",
     "text": [
      "recall:0.9542163580953723\n",
      "accuracy:0.9542163580953723\n",
      "F1-score:0.9542162034181619\n"
     ]
    }
   ],
   "source": [
    "print(\"recall:{}\".format(recall_score(y_test, pred,average='weighted')))\n",
    "print(\"accuracy:{}\".format(accuracy_score(y_test,pred)))\n",
    "print(\"F1-score:{}\".format(f1_score(y_test,pred,average='weighted')))"
   ]
  }
 ],
 "metadata": {
  "kernelspec": {
   "display_name": "Python 3",
   "language": "python",
   "name": "python3"
  },
  "language_info": {
   "codemirror_mode": {
    "name": "ipython",
    "version": 3
   },
   "file_extension": ".py",
   "mimetype": "text/x-python",
   "name": "python",
   "nbconvert_exporter": "python",
   "pygments_lexer": "ipython3",
   "version": "3.6.8"
  },
  "toc": {
   "base_numbering": 1,
   "nav_menu": {},
   "number_sections": false,
   "sideBar": false,
   "skip_h1_title": false,
   "title_cell": "Table of Contents",
   "title_sidebar": "Contents",
   "toc_cell": false,
   "toc_position": {},
   "toc_section_display": false,
   "toc_window_display": false
  }
 },
 "nbformat": 4,
 "nbformat_minor": 2
}
