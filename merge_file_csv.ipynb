{
 "cells": [
  {
   "cell_type": "code",
   "execution_count": 2,
   "metadata": {},
   "outputs": [],
   "source": [
    "import pandas as pd\n",
    "import numpy as np"
   ]
  },
  {
   "cell_type": "code",
   "execution_count": 43,
   "metadata": {},
   "outputs": [],
   "source": [
    "data_BI=pd.read_csv(\"developer_BI_usa.csv\")\n",
    "data_DS=pd.read_csv(\"data_science_filtered_job.csv\")\n",
    "data_FA=pd.read_csv(\"Finance_actuariat_filtered_job.csv\")\n",
    "data_RO=pd.read_csv(\"robotics_USA.csv\")\n",
    "data_NE=pd.read_csv(\"network_engineer_filtered.csv\")\n",
    "data_DM=pd.read_csv(\"digital_marketing_filtered.csv\")\n",
    "data_CRY=pd.read_csv(\"Cryptography_USA.csv\")\n",
    "data_NURSE=pd.read_csv(\"Nurse_USA.csv\")\n",
    "data_PHA=pd.read_csv(\"Pharmacist_USA.csv\")\n",
    "data_CHI=pd.read_csv(\"chirurgien_USA.csv\")\n",
    "data_DE=pd.read_csv(\"dentist_USA.csv\")"
   ]
  },
  {
   "cell_type": "code",
   "execution_count": null,
   "metadata": {},
   "outputs": [],
   "source": []
  },
  {
   "cell_type": "code",
   "execution_count": 44,
   "metadata": {},
   "outputs": [],
   "source": [
    "data_BI[\"Labels\"]=[\"developer\"]*data_BI.shape[0]\n",
    "data_DS[\"Labels\"]=[\"data scientist\"]*data_DS.shape[0]\n",
    "data_FA[\"Labels\"]=[\"Finance_actuariat\"]*data_FA.shape[0]\n",
    "data_DM[\"Labels\"]=[\"ditital_marketing\"]*data_DM.shape[0]\n",
    "data_CRY[\"Labels\"]=[\"cryptography\"]*data_CRY.shape[0]\n",
    "data_NE[\"Labels\"]=[\"network_engineer\"]*data_NE.shape[0]\n",
    "data_RO[\"Labels\"]=[\"robotic\"]*data_RO.shape[0]\n",
    "data_NURSE[\"Labels\"]=[\"nurse\"]*data_NURSE.shape[0]\n",
    "data_PHA[\"Labels\"]=[\"pharmacist\"]*data_PHA.shape[0]\n",
    "data_CHI[\"Labels\"]=[\"chirurgien\"]*data_CHI.shape[0]\n",
    "data_DE[\"Labels\"]=[\"dentist\"]*data_DE.shape[0]"
   ]
  },
  {
   "cell_type": "code",
   "execution_count": 55,
   "metadata": {},
   "outputs": [
    {
     "data": {
      "text/plain": [
       "(27495, 7)"
      ]
     },
     "execution_count": 55,
     "metadata": {},
     "output_type": "execute_result"
    }
   ],
   "source": [
    "data_DE.shape"
   ]
  },
  {
   "cell_type": "code",
   "execution_count": 11,
   "metadata": {},
   "outputs": [],
   "source": []
  },
  {
   "cell_type": "code",
   "execution_count": 47,
   "metadata": {},
   "outputs": [],
   "source": [
    "data_concate=pd.concat([data_DS,data_BI,data_FA,data_DM,data_CRY,data_NE,data_RO,data_NURSE,data_PHA,data_CHI,data_DE])\n",
    "colonne_finale=['Labels','ville', 'utituler_offre', 'entreprise', 'resume','description']"
   ]
  },
  {
   "cell_type": "code",
   "execution_count": 48,
   "metadata": {},
   "outputs": [],
   "source": [
    "data_concate=data_concate[colonne_finale]"
   ]
  },
  {
   "cell_type": "code",
   "execution_count": 49,
   "metadata": {},
   "outputs": [],
   "source": [
    "data_concate.to_csv(\"data_set_version_final.csv\",index=False)"
   ]
  },
  {
   "cell_type": "code",
   "execution_count": 51,
   "metadata": {},
   "outputs": [
    {
     "data": {
      "text/plain": [
       "(189221, 6)"
      ]
     },
     "execution_count": 51,
     "metadata": {},
     "output_type": "execute_result"
    }
   ],
   "source": [
    "data_concate.shape"
   ]
  }
 ],
 "metadata": {
  "kernelspec": {
   "display_name": "Python 3",
   "language": "python",
   "name": "python3"
  },
  "language_info": {
   "codemirror_mode": {
    "name": "ipython",
    "version": 3
   },
   "file_extension": ".py",
   "mimetype": "text/x-python",
   "name": "python",
   "nbconvert_exporter": "python",
   "pygments_lexer": "ipython3",
   "version": "3.7.1"
  },
  "toc": {
   "base_numbering": 1,
   "nav_menu": {},
   "number_sections": false,
   "sideBar": false,
   "skip_h1_title": false,
   "title_cell": "Table of Contents",
   "title_sidebar": "Contents",
   "toc_cell": false,
   "toc_position": {},
   "toc_section_display": false,
   "toc_window_display": false
  }
 },
 "nbformat": 4,
 "nbformat_minor": 2
}
