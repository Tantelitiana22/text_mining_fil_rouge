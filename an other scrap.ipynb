version https://git-lfs.github.com/spec/v1
oid sha256:a466b29befd0856f95923d3d8d0a481d0127465dfa15acc57f7d0a9adbe03f1a
size 10654
