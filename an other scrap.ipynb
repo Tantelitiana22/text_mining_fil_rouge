{
 "cells": [
  {
   "cell_type": "code",
   "execution_count": 1,
   "metadata": {},
   "outputs": [],
   "source": [
    "import requests\n",
    "import bs4\n",
    "from bs4 import BeautifulSoup\n",
    "import pandas as pd\n",
    "import time\n",
    "from IPython.display import clear_output"
   ]
  },
  {
   "cell_type": "code",
   "execution_count": 2,
   "metadata": {},
   "outputs": [],
   "source": [
    "def scrap_indeed_offer(URL,city_set,nb_resu_par_ville=1,extension=\"https://www.indeed.com\"):\n",
    "    columns = [\"ville\", \"utituler_offre\",\"description\",\"entreprise\",\"lacalisation\", \"resume\"]\n",
    "    sample_df = pd.DataFrame(columns = columns)\n",
    "    for city in city_set:\n",
    "      for start in range(0,nb_resu_par_ville, 10):\n",
    "          page = requests.get(URL+\"&l=\"+str(city)+'&start='+str(start))\n",
    "          soup = BeautifulSoup(page.text, \"lxml\", from_encoding=\"utf-8\")\n",
    "          for div in soup.find_all(name=\"div\", attrs={\"class\":\"row\"}): \n",
    "            #specification du nombre de lignes\n",
    "            num = (len(sample_df) + 1) \n",
    "            \n",
    "            job_post = [] \n",
    "            job_post.append(city) \n",
    "            for a in div.find_all(name=\"a\", attrs={\"data-tn-element\":\"jobTitle\"}):\n",
    "              job_post.append(a[\"title\"])\n",
    "             # recuperer site sousjacent contenant le descriptif de l'offre \n",
    "              url_fils=extension+a[\"href\"]\n",
    "              page_fils=requests.get(url_fils)\n",
    "              soup_fils=BeautifulSoup(page_fils.text,\"lxml\",from_encoding=\"utf-8\")\n",
    "              div_class=\"jobsearch-JobComponent-description icl-u-xs-mt--md\"\n",
    "              for desc in soup_fils.find_all(name=\"div\",attrs={\"class\":div_class}):\n",
    "                  if len(desc.text)>0:\n",
    "                     job_post.append(desc.text)\n",
    "                  else:\n",
    "                     job_post.append(\"\")\n",
    "              #NOm de la companie\n",
    "              company = div.find_all(name=\"span\", attrs={\"class\":\"company\"}) \n",
    "              if len(company) > 0: \n",
    "                  for b in company:\n",
    "                    job_post.append(b.text.strip()) \n",
    "              else: \n",
    "                sec_try = div.find_all(name=\"span\", attrs={\"class\":\"result-link-source\"})\n",
    "                for span in sec_try:\n",
    "                    job_post.append(span.text) \n",
    "        #localisation\n",
    "              c = div.findAll(\"span\", attrs={\"class\": \"location\"}) \n",
    "              if len(c)>0:\n",
    "                for span in c: \n",
    "                    job_post.append(span.text)\n",
    "              else:\n",
    "                    job_post.append(\"pas localisé\")\n",
    "        #resumer\n",
    "              d = div.findAll(\"span\", attrs={\"class\": \"summary\"}) \n",
    "              for span in d:\n",
    "                if len(span.text.strip())>0:\n",
    "                    job_post.append(span.text.strip())\n",
    "                else:\n",
    "                    job_post.append(\"\")        \n",
    "        #mise a jours de notre dataframe\n",
    "            clear_output(wait=True)\n",
    "            print(\"nb_boocle:{}\".format(num))\n",
    "            print(\"len job_post={}\".format(len(job_post)))\n",
    "            print(job_post)\n",
    "            if len(job_post)==sample_df.shape[1]:\n",
    "                sample_df.loc[num,:] = job_post\n",
    "    t=[\"ville\", \"utituler_offre\",\"entreprise\",\"localisation\", \"resume\",\"description\"]\n",
    "    res=sample_df.loc[:,t]\n",
    "    return(res)"
   ]
  },
  {
   "cell_type": "code",
   "execution_count": 3,
   "metadata": {},
   "outputs": [
    {
     "name": "stdout",
     "output_type": "stream",
     "text": [
      "nb_boocle:36661\n",
      "len job_post=6\n",
      "['Panama+City', 'SharePoint Consultant', 'JOB DESCRIPTIONProvide full time on-site advanced SharePoint consulting, development and support services for a Solution Foundry government customer in the Panama City, Fl area.MUST-HAVESThe ideal candidate possesses the capabilities and experience listed below and can demonstrate ability to expertly apply these skills in a SharePoint environment.3+ recent years of primary work experience as a Microsoft SharePoint power user and/or developer2+ years of experience supporting federal government customer(s)Ability to design, develop and implement advanced SharePoint 2013, 2016 or Office 365 solutionsAdvanced knowledge of all out-of-the-box SharePoint features, functionality and configurationsExperience managing SharePoint site content, sites/site collections, permissions and groups, and workflowsExperience customizing SharePoint sites using SharePoint DesignerAbility to analyze data and determine opportunities for SharePoint integration and improvementAbility to design, lead, manage and perform SharePoint solution coordination, roll-out and end user trainingAbility to translate customer business requirements into technical specification-based documentation, mockups, and technical solutionsExperience providing customer technical supportAbility to develop and maintain technical program design documentationUnderstanding of government network security and user access and authenticationAbility to favorably pass a federal government background investigation for a position of public trustPROFESSIONAL CAPABILITIESThe ideal candidate possesses the professional capabilities and experience listed below and can successfully apply these capabilities in a customer and team environment.Have a strong commitment to customer satisfactionExcel in communication, problem solving, analytical, and interpersonal skillsPositively collaborate in a team environment, and work independentlyDemonstrate ability to establish and meet multiple project timelines and deliverablesHave strong mentoring and training skills to provide support and constructive feedbackNICE-TO-HAVESCandidates who meet the must-haves and professional requirements above, and who have the additional experience below are of high value to this Advanced SharePoint Consultant position:Code-based client-side web application development experience in SharePointExperience applying JavaScript, JQuery, HTML, and CSS on SharePoint forms, web parts, pages, lists, and librariesUnderstanding of how RESTFul API Endpoints, AJAX, and JSON objects are used in SharePointUnderstanding of how to apply the above technologies in object-oriented programming and CRUD operationsExperience administering SharePoint environmentsMicrosoft SharePoint accreditation a plusFederal government security clearance a plusEDUCATIONDegree in Computer Information Systems, Computer Science, Management Information Systems, or related fieldCOMPANY DESCRIPTIONSolution Foundry is a nimble, technology-focused management consulting firm based in the Atlanta metropolitan area. We provide high-value consulting services and develop innovative and sustainable information management tools, applications and solutions for our customers. Solution Foundry is committed to attracting, growing, and retaining talented and qualified associates. Our skilled team of engineers, scientists, consultants, and IT professionals strive to satisfy our customers in everything we do. Serving our customers well is the single most important thing we do. To succeed at satisfying our customers, we continually seek the best of the best. While we serve many large organizations, we enjoy the benefits and flexibility of being a responsive, small business. Solution Foundry fosters an engaging work culture where our associates thrive and make a difference for our customers, the company, and themselves.Job Type: Full-timeExperience:Technical Support: 3 years (Preferred)Microsoft Office: 3 years (Preferred)Microsoft SharePoint: 3 years (Preferred)Location:Panama City Beach, FL (Preferred)Work authorization:United States (Required)', 'Solution Foundry', 'Panama City Beach, FL', 'Understanding of government network security and user access and authentication. Our skilled team of engineers, scientists, consultants, and IT professionals...']\n",
      "Durée total réelle:47645.98618197441\n"
     ]
    },
    {
     "name": "stderr",
     "output_type": "stream",
     "text": [
      "/home/tantely/anaconda3/lib/python3.7/site-packages/pandas/core/indexing.py:1472: FutureWarning: \n",
      "Passing list-likes to .loc or [] with any missing label will raise\n",
      "KeyError in the future, you can use .reindex() as an alternative.\n",
      "\n",
      "See the documentation here:\n",
      "https://pandas.pydata.org/pandas-docs/stable/indexing.html#deprecate-loc-reindex-listlike\n",
      "  return self._getitem_tuple(key)\n"
     ]
    },
    {
     "name": "stdout",
     "output_type": "stream",
     "text": [
      "(27759, 6)\n"
     ]
    }
   ],
   "source": [
    "nb_resu_par_ville = 40\n",
    "us_city=pd.read_table(\"us_city.txt\",sep=\",\")\n",
    "ville_usa=[k.replace(\" \",\"+\") for k in us_city.city]\n",
    "city_set =ville_usa.copy()\n",
    "city_set=city_set\n",
    " \n",
    "URL=\"https://www.indeed.com/jobs?q=network+engineer\"\n",
    "t1=time.time()\n",
    "res_network=scrap_indeed_offer(URL,city_set,nb_resu_par_ville)\n",
    "delta=time.time()-t1\n",
    "print(\"Durée total réelle:{}\".format(delta))\n",
    "\n",
    "res_duplicate_network_usa=res_network.drop_duplicates()\n",
    "print(res_duplicate_network_usa.shape)\n",
    "res_duplicate_network_usa.to_csv(\"network_USA.csv\",index=False)"
   ]
  },
  {
   "cell_type": "code",
   "execution_count": null,
   "metadata": {},
   "outputs": [],
   "source": []
  }
 ],
 "metadata": {
  "kernelspec": {
   "display_name": "Python 3",
   "language": "python",
   "name": "python3"
  },
  "language_info": {
   "codemirror_mode": {
    "name": "ipython",
    "version": 3
   },
   "file_extension": ".py",
   "mimetype": "text/x-python",
   "name": "python",
   "nbconvert_exporter": "python",
   "pygments_lexer": "ipython3",
   "version": "3.7.1"
  },
  "toc": {
   "base_numbering": 1,
   "nav_menu": {},
   "number_sections": false,
   "sideBar": false,
   "skip_h1_title": false,
   "title_cell": "Table of Contents",
   "title_sidebar": "Contents",
   "toc_cell": false,
   "toc_position": {},
   "toc_section_display": false,
   "toc_window_display": false
  }
 },
 "nbformat": 4,
 "nbformat_minor": 2
}
