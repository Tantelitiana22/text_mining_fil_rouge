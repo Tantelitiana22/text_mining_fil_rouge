{
 "cells": [
  {
   "cell_type": "markdown",
   "metadata": {},
   "source": [
    "# NORMALISATION DES DONNEES"
   ]
  },
  {
   "cell_type": "code",
   "execution_count": 2,
   "metadata": {},
   "outputs": [],
   "source": [
    "import pandas as pd\n",
    "import numpy as np\n",
    "import nltk\n",
    "import string\n",
    "import regex\n",
    "import re\n",
    "import seaborn as sn\n",
    "import matplotlib.pyplot as plt\n",
    "from nltk.corpus import stopwords\n",
    "from textblob import Word\n",
    "from sklearn.model_selection import train_test_split\n",
    "from sklearn.feature_extraction.text import TfidfVectorizer\n",
    "from sklearn.naive_bayes import MultinomialNB\n",
    "from sklearn.svm import LinearSVC\n",
    "from sklearn.metrics import accuracy_score\n",
    "from sklearn.multiclass import OneVsOneClassifier\n",
    "from sklearn.metrics import confusion_matrix\n",
    "from sklearn.linear_model import LogisticRegression\n",
    "from sklearn.model_selection import GridSearchCV\n",
    "from sklearn.neighbors import KNeighborsClassifier\n",
    "from sklearn.model_selection import cross_val_score\n",
    "from tqdm import tqdm\n",
    "from sklearn.manifold import TSNE\n",
    "from sklearn.feature_extraction.text import CountVectorizer,TfidfTransformer\n",
    "plt.style.use('ggplot')"
   ]
  },
  {
   "cell_type": "code",
   "execution_count": 60,
   "metadata": {},
   "outputs": [],
   "source": [
    "# import des données\n",
    "dataset3 = pd.read_csv(\"data_set_version_final.csv\")"
   ]
  },
  {
   "cell_type": "markdown",
   "metadata": {},
   "source": [
    "### suppréssion des ponctuations:"
   ]
  },
  {
   "cell_type": "code",
   "execution_count": 61,
   "metadata": {},
   "outputs": [
    {
     "name": "stdout",
     "output_type": "stream",
     "text": [
      "showing info https://raw.githubusercontent.com/nltk/nltk_data/gh-pages/index.xml\n"
     ]
    },
    {
     "data": {
      "text/plain": [
       "True"
      ]
     },
     "execution_count": 61,
     "metadata": {},
     "output_type": "execute_result"
    }
   ],
   "source": [
    "# chargement de tous les sous modules du packages nltk\n",
    "nltk.download()"
   ]
  },
  {
   "cell_type": "code",
   "execution_count": 62,
   "metadata": {},
   "outputs": [],
   "source": [
    "# supprission des ponctuations\n",
    "rm_ponct = str.maketrans('','',string.punctuation)\n",
    "dataset3.description = dataset3.description.apply(lambda x:x.translate(rm_ponct))"
   ]
  },
  {
   "cell_type": "code",
   "execution_count": 63,
   "metadata": {},
   "outputs": [],
   "source": [
    "# suppression les unicodes\n",
    "dataset3.description = dataset3.description.apply(lambda x:x.encode(\"ascii\",\"ignore\").decode(\"utf-8\"))"
   ]
  },
  {
   "cell_type": "code",
   "execution_count": 64,
   "metadata": {},
   "outputs": [],
   "source": [
    "# suppression des URLs\n",
    "dataset3.description = dataset3.description.apply(lambda x:re.sub(r'http\\S+',\"\",x))"
   ]
  },
  {
   "cell_type": "code",
   "execution_count": 65,
   "metadata": {},
   "outputs": [],
   "source": [
    "# suppression des stopwords\n",
    "stop_en = stopwords.words(\"english\")\n",
    "dataset3.description = dataset3.description.apply(lambda x:\" \".join(x.lower() for x in np.str(x).split() if x not in stop_en))"
   ]
  },
  {
   "cell_type": "code",
   "execution_count": 66,
   "metadata": {},
   "outputs": [],
   "source": [
    "# Lemmatisation\n",
    "dataset3.description = dataset3.description.apply(lambda x:\" \".join([Word(word).lemmatize() for word in x.split()]))"
   ]
  },
  {
   "cell_type": "code",
   "execution_count": 67,
   "metadata": {},
   "outputs": [],
   "source": [
    "dataset3.to_csv(\"Final_database_clean.csv\",index=False)"
   ]
  },
  {
   "cell_type": "markdown",
   "metadata": {},
   "source": [
    "# PRESENTATION DE TF-IDF"
   ]
  },
  {
   "cell_type": "markdown",
   "metadata": {},
   "source": [
    "### Principe de la méthode"
   ]
  },
  {
   "cell_type": "markdown",
   "metadata": {},
   "source": [
    "TF ou term frequency:\n",
    "\n",
    "Le TF consisite tout simplement à calculer le nombre d'occurence d'un terme dans un document, soit la fréquence. On définit le TF comme suite:\n",
    "\n",
    "Soit P l'ensemble des lettres qui se trouvent dans notre corpus. Soit i l'indice d'une lettre se trouvent dans P et j l'indice d'un document dans notre corpus."
   ]
  },
  {
   "cell_type": "markdown",
   "metadata": {},
   "source": [
    "### IDF ou Inverse Frequency Document:\n",
    "La fréquence inverse de document (inverse document frequency) est une mesure de l'importance du terme dans l'ensemble du corpus.Dans le schéma TF-IDF, elle vise à donner un poids plus important aux termes les moins fréquents, considérés comme plus discriminants. Elle consiste à calculer le logarithme (en base 10 ou en base 21) de l'inverse de la proportion de documents du corpus qui contiennent le terme : \n",
    "$$IDF_{i,j}=log\\left( \\frac{|D|}{|d_j,t_i \\in d_j|}\\right)+1$$\n",
    "- $|D|$: Nombre total de documents dans le corpus.\n",
    "- $|d_j,t_i \\in d_j|$: Nombre de document où apparait le mot $t_i$ dans le corpus."
   ]
  },
  {
   "cell_type": "markdown",
   "metadata": {},
   "source": [
    "### TF-IDF:\n",
    "\n",
    "On définit le TF-IDF d'une lettre par:\n",
    "$$TF\\_IDF_{i,j}=TF_{i,j}\\times IDF_{i,j}$$\n",
    "\n",
    "Dans sklearn, le résulatat noud donne directement la matrice "
   ]
  },
  {
   "cell_type": "markdown",
   "metadata": {},
   "source": [
    "# PREDICTION AVEC LA MATRICE TF-IDF"
   ]
  },
  {
   "cell_type": "markdown",
   "metadata": {},
   "source": [
    "En utilisant la matrice du TFIDF, on peut réaliser une prédiction. Appliquons le TFIDF avec notre vraie données textuelle. Comme dans les données test et train on a pas le même nombre de mots, on va alors utiliser un PIPLINE pour pouvoir faire la prédiction sur nos données test. Dans la partie prédiction, on va tester le multinomial naive baesienne"
   ]
  },
  {
   "cell_type": "markdown",
   "metadata": {},
   "source": [
    "Nous allons proceder à la division des données en deux parties parties : données d'entrainement et de test"
   ]
  },
  {
   "cell_type": "code",
   "execution_count": 6,
   "metadata": {},
   "outputs": [],
   "source": [
    "data=pd.read_csv(\"Final_database_clean.csv\")"
   ]
  },
  {
   "cell_type": "markdown",
   "metadata": {},
   "source": [
    "# DETERMINATION DU NOMBRE DE LIGNES PAR CLASSE"
   ]
  },
  {
   "cell_type": "code",
   "execution_count": 7,
   "metadata": {},
   "outputs": [
    {
     "name": "stdout",
     "output_type": "stream",
     "text": [
      "On a 11 classes :\n",
      "['Finance_actuariat' 'chirurgien' 'cryptography' 'data scientist'\n",
      " 'dentist' 'developer' 'ditital_marketing' 'network_engineer' 'nurse'\n",
      " 'pharmacist' 'robotic']\n",
      "\n",
      "\n",
      "Pour la classe Finance_actuariat, on a 5087 nombres de lignes\n",
      "Pour la classe chirurgien, on a 26462 nombres de lignes\n",
      "Pour la classe cryptography, on a 10560 nombres de lignes\n",
      "Pour la classe data scientist, on a 11374 nombres de lignes\n",
      "Pour la classe dentist, on a 27495 nombres de lignes\n",
      "Pour la classe developer, on a 7380 nombres de lignes\n",
      "Pour la classe ditital_marketing, on a 12088 nombres de lignes\n",
      "Pour la classe network_engineer, on a 12336 nombres de lignes\n",
      "Pour la classe nurse, on a 36287 nombres de lignes\n",
      "Pour la classe pharmacist, on a 21094 nombres de lignes\n",
      "Pour la classe robotic, on a 19058 nombres de lignes\n",
      "Nombre de points total: 189221\n"
     ]
    }
   ],
   "source": [
    "classes, nbpoint = np.unique(data[\"Labels\"], return_counts=True)\n",
    "print(\"On a {} classes :\\n{}\\n\\n\".format(len(classes),classes))\n",
    "for ind, cl in enumerate(classes):\n",
    "    print(\"Pour la classe {}, on a {} nombres de lignes\".format(cl, nbpoint[ind] ))\n",
    "print(\"Nombre de points total:\",len(data[\"Labels\"]))"
   ]
  },
  {
   "cell_type": "markdown",
   "metadata": {},
   "source": [
    "## Split data tain test and validation:\n",
    "Comme on a beaucoup de points, on ne va utiliser que la moitier pour faire avancer plus vite nos algorithme.Soit 94610 points."
   ]
  },
  {
   "cell_type": "code",
   "execution_count": 8,
   "metadata": {},
   "outputs": [],
   "source": [
    "X,X_non_utiliser,Y,Y_non_utiliser=train_test_split(data[\"description\"],data[\"Labels\"],test_size=0.5,shuffle=True,stratify =data[\"Labels\"])\n",
    "X_train,X_test,y_train,y_test = train_test_split(X,Y,test_size=0.3,shuffle=True)\n",
    "X_train,X_val,y_train,y_val = train_test_split(X_train,y_train,test_size=0.3,shuffle=True)"
   ]
  },
  {
   "cell_type": "code",
   "execution_count": 9,
   "metadata": {},
   "outputs": [
    {
     "name": "stdout",
     "output_type": "stream",
     "text": [
      "On a 11 classes :\n",
      "['Finance_actuariat' 'chirurgien' 'cryptography' 'data scientist'\n",
      " 'dentist' 'developer' 'ditital_marketing' 'network_engineer' 'nurse'\n",
      " 'pharmacist' 'robotic']\n",
      "\n",
      "\n",
      "Pour la classe Finance_actuariat, on a 753 nombres de lignes\n",
      "Pour la classe chirurgien, on a 4038 nombres de lignes\n",
      "Pour la classe cryptography, on a 1571 nombres de lignes\n",
      "Pour la classe data scientist, on a 1751 nombres de lignes\n",
      "Pour la classe dentist, on a 4129 nombres de lignes\n",
      "Pour la classe developer, on a 1116 nombres de lignes\n",
      "Pour la classe ditital_marketing, on a 1800 nombres de lignes\n",
      "Pour la classe network_engineer, on a 1811 nombres de lignes\n",
      "Pour la classe nurse, on a 5335 nombres de lignes\n",
      "Pour la classe pharmacist, on a 3173 nombres de lignes\n",
      "Pour la classe robotic, on a 2906 nombres de lignes\n",
      "Nombre de points total: 46358\n"
     ]
    }
   ],
   "source": [
    "classes, nbpoint = np.unique(y_test, return_counts=True)\n",
    "print(\"On a {} classes :\\n{}\\n\\n\".format(len(classes),classes))\n",
    "for ind, cl in enumerate(classes):\n",
    "    print(\"Pour la classe {}, on a {} nombres de lignes\".format(cl, nbpoint[ind] ))\n",
    "print(\"Nombre de points total:\",len(y_train))"
   ]
  },
  {
   "cell_type": "code",
   "execution_count": 10,
   "metadata": {},
   "outputs": [],
   "source": [
    "vct=TfidfVectorizer()\n",
    "trsfm=vct.fit(X_train)\n",
    "Xa=trsfm.transform(X_train)\n",
    "Xv=trsfm.transform(X_val)\n",
    "Xt=trsfm.transform(X_test)"
   ]
  },
  {
   "cell_type": "markdown",
   "metadata": {},
   "source": [
    "## Prédiction avec le KNN:\n",
    "Déterminons d'abord la valeur de k optimal pour l'application du knn."
   ]
  },
  {
   "cell_type": "code",
   "execution_count": 6,
   "metadata": {},
   "outputs": [
    {
     "name": "stderr",
     "output_type": "stream",
     "text": [
      "100%|██████████| 8/8 [52:03<00:00, 383.16s/it]  \n"
     ]
    },
    {
     "name": "stdout",
     "output_type": "stream",
     "text": [
      "With all being CV, best k is 2 and best perf is 0.9331118828325532\n"
     ]
    },
    {
     "data": {
      "image/png": "[encoded data removed]",
      "text/plain": [
       "<Figure size 432x288 with 1 Axes>"
      ]
     },
     "metadata": {
      "needs_background": "light"
     },
     "output_type": "display_data"
    }
   ],
   "source": [
    "k_values = [2,3,5,6,7,8,9,10]\n",
    "perf_train=[]\n",
    "perf_val=[]\n",
    "for k in tqdm(k_values):\n",
    "    knn = KNeighborsClassifier(k)\n",
    "    knn.fit(Xa, y_train)\n",
    "    y_pred_train = knn.predict(Xa)\n",
    "    y_pred_val=knn.predict(Xv)\n",
    "    scores_train = accuracy_score(y_train, y_pred_train)\n",
    "    scores_val=accuracy_score(y_val,y_pred_val)\n",
    "    perf_train.append(scores_train)\n",
    "    perf_val.append(scores_val)\n",
    "plt.figure()\n",
    "plt.plot(range(1,len(perf_train)+1),perf_train,\"--r\",range(1,len(perf_val)+1),perf_val,\"--g^\")\n",
    "plt.legend(['accuracy train', 'accuracy val'],loc=\"lower right\")\n",
    "print('With all being CV, best k is '    +repr(k_values[perf_val.index(max(perf_val))])+ ' and best perf is ' + repr(max(perf_val)))"
   ]
  },
  {
   "cell_type": "code",
   "execution_count": 8,
   "metadata": {},
   "outputs": [],
   "source": [
    "# valeur optimale de k:\n",
    "from sklearn.metrics import confusion_matrix\n",
    "def ConfusionMatrix(Y_predict, Y_true):\n",
    "    confusion_matrix(Y_true, Y_predict,labels=np.unique(Y_true))\n",
    "    confu = pd.DataFrame(confusion_matrix(Y_true, Y_predict,labels=np.unique(Y_true)),columns=np.unique(Y_true),index=np.unique(Y_true))\n",
    "    confu[\"marge_true\"]=confu.sum(axis=1)\n",
    "    confu.loc[\"marge_pred\"]=confu.sum(axis=0)\n",
    "    #sn.heatmap(confu,annot=True,annot_kws={\"size\": 16})\n",
    "    return confu"
   ]
  },
  {
   "cell_type": "markdown",
   "metadata": {},
   "source": [
    "### Score obtenu avec la meilleure valeur de k sur les données test:"
   ]
  },
  {
   "cell_type": "code",
   "execution_count": 9,
   "metadata": {},
   "outputs": [
    {
     "name": "stdout",
     "output_type": "stream",
     "text": [
      "Le score de notre modèle sur les données test=0.9320367825811225\n"
     ]
    },
    {
     "data": {
      "text/html": [
       "<div>\n",
       "<style scoped>\n",
       "    .dataframe tbody tr th:only-of-type {\n",
       "        vertical-align: middle;\n",
       "    }\n",
       "\n",
       "    .dataframe tbody tr th {\n",
       "        vertical-align: top;\n",
       "    }\n",
       "\n",
       "    .dataframe thead th {\n",
       "        text-align: right;\n",
       "    }\n",
       "</style>\n",
       "<table border=\"1\" class=\"dataframe\">\n",
       "  <thead>\n",
       "    <tr style=\"text-align: right;\">\n",
       "      <th></th>\n",
       "      <th>Finance_actuariat</th>\n",
       "      <th>chirurgien</th>\n",
       "      <th>cryptography</th>\n",
       "      <th>data scientist</th>\n",
       "      <th>dentist</th>\n",
       "      <th>developer</th>\n",
       "      <th>ditital_marketing</th>\n",
       "      <th>network_engineer</th>\n",
       "      <th>nurse</th>\n",
       "      <th>pharmacist</th>\n",
       "      <th>robotic</th>\n",
       "      <th>marge_true</th>\n",
       "    </tr>\n",
       "  </thead>\n",
       "  <tbody>\n",
       "    <tr>\n",
       "      <th>Finance_actuariat</th>\n",
       "      <td>750</td>\n",
       "      <td>1</td>\n",
       "      <td>1</td>\n",
       "      <td>7</td>\n",
       "      <td>0</td>\n",
       "      <td>0</td>\n",
       "      <td>0</td>\n",
       "      <td>1</td>\n",
       "      <td>1</td>\n",
       "      <td>0</td>\n",
       "      <td>0</td>\n",
       "      <td>761</td>\n",
       "    </tr>\n",
       "    <tr>\n",
       "      <th>chirurgien</th>\n",
       "      <td>2</td>\n",
       "      <td>3687</td>\n",
       "      <td>3</td>\n",
       "      <td>5</td>\n",
       "      <td>57</td>\n",
       "      <td>1</td>\n",
       "      <td>4</td>\n",
       "      <td>1</td>\n",
       "      <td>135</td>\n",
       "      <td>21</td>\n",
       "      <td>19</td>\n",
       "      <td>3935</td>\n",
       "    </tr>\n",
       "    <tr>\n",
       "      <th>cryptography</th>\n",
       "      <td>2</td>\n",
       "      <td>7</td>\n",
       "      <td>1568</td>\n",
       "      <td>5</td>\n",
       "      <td>0</td>\n",
       "      <td>4</td>\n",
       "      <td>0</td>\n",
       "      <td>2</td>\n",
       "      <td>0</td>\n",
       "      <td>1</td>\n",
       "      <td>9</td>\n",
       "      <td>1598</td>\n",
       "    </tr>\n",
       "    <tr>\n",
       "      <th>data scientist</th>\n",
       "      <td>18</td>\n",
       "      <td>11</td>\n",
       "      <td>22</td>\n",
       "      <td>1590</td>\n",
       "      <td>0</td>\n",
       "      <td>18</td>\n",
       "      <td>9</td>\n",
       "      <td>6</td>\n",
       "      <td>7</td>\n",
       "      <td>3</td>\n",
       "      <td>8</td>\n",
       "      <td>1692</td>\n",
       "    </tr>\n",
       "    <tr>\n",
       "      <th>dentist</th>\n",
       "      <td>9</td>\n",
       "      <td>191</td>\n",
       "      <td>0</td>\n",
       "      <td>2</td>\n",
       "      <td>3823</td>\n",
       "      <td>0</td>\n",
       "      <td>8</td>\n",
       "      <td>1</td>\n",
       "      <td>21</td>\n",
       "      <td>8</td>\n",
       "      <td>1</td>\n",
       "      <td>4064</td>\n",
       "    </tr>\n",
       "    <tr>\n",
       "      <th>developer</th>\n",
       "      <td>4</td>\n",
       "      <td>7</td>\n",
       "      <td>12</td>\n",
       "      <td>57</td>\n",
       "      <td>2</td>\n",
       "      <td>979</td>\n",
       "      <td>10</td>\n",
       "      <td>4</td>\n",
       "      <td>3</td>\n",
       "      <td>9</td>\n",
       "      <td>3</td>\n",
       "      <td>1090</td>\n",
       "    </tr>\n",
       "    <tr>\n",
       "      <th>ditital_marketing</th>\n",
       "      <td>2</td>\n",
       "      <td>15</td>\n",
       "      <td>12</td>\n",
       "      <td>33</td>\n",
       "      <td>11</td>\n",
       "      <td>6</td>\n",
       "      <td>1782</td>\n",
       "      <td>3</td>\n",
       "      <td>3</td>\n",
       "      <td>1</td>\n",
       "      <td>2</td>\n",
       "      <td>1870</td>\n",
       "    </tr>\n",
       "    <tr>\n",
       "      <th>network_engineer</th>\n",
       "      <td>7</td>\n",
       "      <td>5</td>\n",
       "      <td>25</td>\n",
       "      <td>18</td>\n",
       "      <td>4</td>\n",
       "      <td>14</td>\n",
       "      <td>13</td>\n",
       "      <td>1789</td>\n",
       "      <td>2</td>\n",
       "      <td>2</td>\n",
       "      <td>7</td>\n",
       "      <td>1886</td>\n",
       "    </tr>\n",
       "    <tr>\n",
       "      <th>nurse</th>\n",
       "      <td>8</td>\n",
       "      <td>385</td>\n",
       "      <td>3</td>\n",
       "      <td>20</td>\n",
       "      <td>140</td>\n",
       "      <td>4</td>\n",
       "      <td>15</td>\n",
       "      <td>9</td>\n",
       "      <td>4808</td>\n",
       "      <td>63</td>\n",
       "      <td>4</td>\n",
       "      <td>5459</td>\n",
       "    </tr>\n",
       "    <tr>\n",
       "      <th>pharmacist</th>\n",
       "      <td>2</td>\n",
       "      <td>51</td>\n",
       "      <td>1</td>\n",
       "      <td>8</td>\n",
       "      <td>17</td>\n",
       "      <td>1</td>\n",
       "      <td>2</td>\n",
       "      <td>3</td>\n",
       "      <td>82</td>\n",
       "      <td>2965</td>\n",
       "      <td>1</td>\n",
       "      <td>3133</td>\n",
       "    </tr>\n",
       "    <tr>\n",
       "      <th>robotic</th>\n",
       "      <td>2</td>\n",
       "      <td>46</td>\n",
       "      <td>27</td>\n",
       "      <td>41</td>\n",
       "      <td>6</td>\n",
       "      <td>15</td>\n",
       "      <td>21</td>\n",
       "      <td>18</td>\n",
       "      <td>3</td>\n",
       "      <td>3</td>\n",
       "      <td>2713</td>\n",
       "      <td>2895</td>\n",
       "    </tr>\n",
       "    <tr>\n",
       "      <th>marge_pred</th>\n",
       "      <td>806</td>\n",
       "      <td>4406</td>\n",
       "      <td>1674</td>\n",
       "      <td>1786</td>\n",
       "      <td>4060</td>\n",
       "      <td>1042</td>\n",
       "      <td>1864</td>\n",
       "      <td>1837</td>\n",
       "      <td>5065</td>\n",
       "      <td>3076</td>\n",
       "      <td>2767</td>\n",
       "      <td>28383</td>\n",
       "    </tr>\n",
       "  </tbody>\n",
       "</table>\n",
       "</div>"
      ],
      "text/plain": [
       "                   Finance_actuariat  chirurgien  cryptography  \\\n",
       "Finance_actuariat                750           1             1   \n",
       "chirurgien                         2        3687             3   \n",
       "cryptography                       2           7          1568   \n",
       "data scientist                    18          11            22   \n",
       "dentist                            9         191             0   \n",
       "developer                          4           7            12   \n",
       "ditital_marketing                  2          15            12   \n",
       "network_engineer                   7           5            25   \n",
       "nurse                              8         385             3   \n",
       "pharmacist                         2          51             1   \n",
       "robotic                            2          46            27   \n",
       "marge_pred                       806        4406          1674   \n",
       "\n",
       "                   data scientist  dentist  developer  ditital_marketing  \\\n",
       "Finance_actuariat               7        0          0                  0   \n",
       "chirurgien                      5       57          1                  4   \n",
       "cryptography                    5        0          4                  0   \n",
       "data scientist               1590        0         18                  9   \n",
       "dentist                         2     3823          0                  8   \n",
       "developer                      57        2        979                 10   \n",
       "ditital_marketing              33       11          6               1782   \n",
       "network_engineer               18        4         14                 13   \n",
       "nurse                          20      140          4                 15   \n",
       "pharmacist                      8       17          1                  2   \n",
       "robotic                        41        6         15                 21   \n",
       "marge_pred                   1786     4060       1042               1864   \n",
       "\n",
       "                   network_engineer  nurse  pharmacist  robotic  marge_true  \n",
       "Finance_actuariat                 1      1           0        0         761  \n",
       "chirurgien                        1    135          21       19        3935  \n",
       "cryptography                      2      0           1        9        1598  \n",
       "data scientist                    6      7           3        8        1692  \n",
       "dentist                           1     21           8        1        4064  \n",
       "developer                         4      3           9        3        1090  \n",
       "ditital_marketing                 3      3           1        2        1870  \n",
       "network_engineer               1789      2           2        7        1886  \n",
       "nurse                             9   4808          63        4        5459  \n",
       "pharmacist                        3     82        2965        1        3133  \n",
       "robotic                          18      3           3     2713        2895  \n",
       "marge_pred                     1837   5065        3076     2767       28383  "
      ]
     },
     "execution_count": 9,
     "metadata": {},
     "output_type": "execute_result"
    }
   ],
   "source": [
    "knn= KNeighborsClassifier(k_values[perf_val.index(max(perf_val))])\n",
    "knn.fit(Xa,y_train)\n",
    "pred_test=knn.predict(Xt)\n",
    "d=ConfusionMatrix(Y_predict=pred_test,Y_true=y_test)\n",
    "print(\"Le score de notre modèle sur les données test={}\".format(np.mean(pred_test==y_test)))\n",
    "d"
   ]
  },
  {
   "cell_type": "markdown",
   "metadata": {},
   "source": [
    "### Modélisation avec l'algorithme Naive baysian  "
   ]
  },
  {
   "cell_type": "code",
   "execution_count": 76,
   "metadata": {
    "scrolled": true
   },
   "outputs": [
    {
     "name": "stdout",
     "output_type": "stream",
     "text": [
      "Le score du modèle=0.8107176831201776\n"
     ]
    },
    {
     "data": {
      "text/html": [
       "<div>\n",
       "<style scoped>\n",
       "    .dataframe tbody tr th:only-of-type {\n",
       "        vertical-align: middle;\n",
       "    }\n",
       "\n",
       "    .dataframe tbody tr th {\n",
       "        vertical-align: top;\n",
       "    }\n",
       "\n",
       "    .dataframe thead th {\n",
       "        text-align: right;\n",
       "    }\n",
       "</style>\n",
       "<table border=\"1\" class=\"dataframe\">\n",
       "  <thead>\n",
       "    <tr style=\"text-align: right;\">\n",
       "      <th></th>\n",
       "      <th>Finance_actuariat</th>\n",
       "      <th>chirurgien</th>\n",
       "      <th>cryptography</th>\n",
       "      <th>data scientist</th>\n",
       "      <th>dentist</th>\n",
       "      <th>developer</th>\n",
       "      <th>ditital_marketing</th>\n",
       "      <th>network_engineer</th>\n",
       "      <th>nurse</th>\n",
       "      <th>pharmacist</th>\n",
       "      <th>robotic</th>\n",
       "      <th>marge_true</th>\n",
       "    </tr>\n",
       "  </thead>\n",
       "  <tbody>\n",
       "    <tr>\n",
       "      <th>Finance_actuariat</th>\n",
       "      <td>394</td>\n",
       "      <td>63</td>\n",
       "      <td>0</td>\n",
       "      <td>123</td>\n",
       "      <td>41</td>\n",
       "      <td>0</td>\n",
       "      <td>0</td>\n",
       "      <td>0</td>\n",
       "      <td>560</td>\n",
       "      <td>7</td>\n",
       "      <td>72</td>\n",
       "      <td>1260</td>\n",
       "    </tr>\n",
       "    <tr>\n",
       "      <th>chirurgien</th>\n",
       "      <td>0</td>\n",
       "      <td>4361</td>\n",
       "      <td>0</td>\n",
       "      <td>1</td>\n",
       "      <td>240</td>\n",
       "      <td>0</td>\n",
       "      <td>5</td>\n",
       "      <td>1</td>\n",
       "      <td>1956</td>\n",
       "      <td>4</td>\n",
       "      <td>89</td>\n",
       "      <td>6657</td>\n",
       "    </tr>\n",
       "    <tr>\n",
       "      <th>cryptography</th>\n",
       "      <td>0</td>\n",
       "      <td>7</td>\n",
       "      <td>1779</td>\n",
       "      <td>1</td>\n",
       "      <td>2</td>\n",
       "      <td>0</td>\n",
       "      <td>4</td>\n",
       "      <td>41</td>\n",
       "      <td>151</td>\n",
       "      <td>2</td>\n",
       "      <td>645</td>\n",
       "      <td>2632</td>\n",
       "    </tr>\n",
       "    <tr>\n",
       "      <th>data scientist</th>\n",
       "      <td>0</td>\n",
       "      <td>6</td>\n",
       "      <td>0</td>\n",
       "      <td>2313</td>\n",
       "      <td>7</td>\n",
       "      <td>0</td>\n",
       "      <td>3</td>\n",
       "      <td>0</td>\n",
       "      <td>227</td>\n",
       "      <td>0</td>\n",
       "      <td>261</td>\n",
       "      <td>2817</td>\n",
       "    </tr>\n",
       "    <tr>\n",
       "      <th>dentist</th>\n",
       "      <td>0</td>\n",
       "      <td>69</td>\n",
       "      <td>0</td>\n",
       "      <td>0</td>\n",
       "      <td>5822</td>\n",
       "      <td>0</td>\n",
       "      <td>11</td>\n",
       "      <td>0</td>\n",
       "      <td>910</td>\n",
       "      <td>5</td>\n",
       "      <td>29</td>\n",
       "      <td>6846</td>\n",
       "    </tr>\n",
       "    <tr>\n",
       "      <th>developer</th>\n",
       "      <td>0</td>\n",
       "      <td>29</td>\n",
       "      <td>5</td>\n",
       "      <td>70</td>\n",
       "      <td>12</td>\n",
       "      <td>555</td>\n",
       "      <td>8</td>\n",
       "      <td>12</td>\n",
       "      <td>223</td>\n",
       "      <td>6</td>\n",
       "      <td>966</td>\n",
       "      <td>1886</td>\n",
       "    </tr>\n",
       "    <tr>\n",
       "      <th>ditital_marketing</th>\n",
       "      <td>0</td>\n",
       "      <td>34</td>\n",
       "      <td>0</td>\n",
       "      <td>22</td>\n",
       "      <td>45</td>\n",
       "      <td>0</td>\n",
       "      <td>2656</td>\n",
       "      <td>8</td>\n",
       "      <td>155</td>\n",
       "      <td>12</td>\n",
       "      <td>91</td>\n",
       "      <td>3023</td>\n",
       "    </tr>\n",
       "    <tr>\n",
       "      <th>network_engineer</th>\n",
       "      <td>0</td>\n",
       "      <td>3</td>\n",
       "      <td>5</td>\n",
       "      <td>2</td>\n",
       "      <td>6</td>\n",
       "      <td>0</td>\n",
       "      <td>0</td>\n",
       "      <td>2676</td>\n",
       "      <td>144</td>\n",
       "      <td>2</td>\n",
       "      <td>212</td>\n",
       "      <td>3050</td>\n",
       "    </tr>\n",
       "    <tr>\n",
       "      <th>nurse</th>\n",
       "      <td>0</td>\n",
       "      <td>82</td>\n",
       "      <td>0</td>\n",
       "      <td>0</td>\n",
       "      <td>4</td>\n",
       "      <td>0</td>\n",
       "      <td>0</td>\n",
       "      <td>0</td>\n",
       "      <td>8947</td>\n",
       "      <td>5</td>\n",
       "      <td>2</td>\n",
       "      <td>9040</td>\n",
       "    </tr>\n",
       "    <tr>\n",
       "      <th>pharmacist</th>\n",
       "      <td>0</td>\n",
       "      <td>8</td>\n",
       "      <td>0</td>\n",
       "      <td>0</td>\n",
       "      <td>29</td>\n",
       "      <td>0</td>\n",
       "      <td>0</td>\n",
       "      <td>0</td>\n",
       "      <td>1030</td>\n",
       "      <td>4278</td>\n",
       "      <td>2</td>\n",
       "      <td>5347</td>\n",
       "    </tr>\n",
       "    <tr>\n",
       "      <th>robotic</th>\n",
       "      <td>0</td>\n",
       "      <td>59</td>\n",
       "      <td>0</td>\n",
       "      <td>10</td>\n",
       "      <td>7</td>\n",
       "      <td>0</td>\n",
       "      <td>0</td>\n",
       "      <td>8</td>\n",
       "      <td>93</td>\n",
       "      <td>0</td>\n",
       "      <td>4570</td>\n",
       "      <td>4747</td>\n",
       "    </tr>\n",
       "    <tr>\n",
       "      <th>marge_pred</th>\n",
       "      <td>394</td>\n",
       "      <td>4721</td>\n",
       "      <td>1789</td>\n",
       "      <td>2542</td>\n",
       "      <td>6215</td>\n",
       "      <td>555</td>\n",
       "      <td>2687</td>\n",
       "      <td>2746</td>\n",
       "      <td>14396</td>\n",
       "      <td>4321</td>\n",
       "      <td>6939</td>\n",
       "      <td>47305</td>\n",
       "    </tr>\n",
       "  </tbody>\n",
       "</table>\n",
       "</div>"
      ],
      "text/plain": [
       "                   Finance_actuariat  chirurgien  cryptography  \\\n",
       "Finance_actuariat                394          63             0   \n",
       "chirurgien                         0        4361             0   \n",
       "cryptography                       0           7          1779   \n",
       "data scientist                     0           6             0   \n",
       "dentist                            0          69             0   \n",
       "developer                          0          29             5   \n",
       "ditital_marketing                  0          34             0   \n",
       "network_engineer                   0           3             5   \n",
       "nurse                              0          82             0   \n",
       "pharmacist                         0           8             0   \n",
       "robotic                            0          59             0   \n",
       "marge_pred                       394        4721          1789   \n",
       "\n",
       "                   data scientist  dentist  developer  ditital_marketing  \\\n",
       "Finance_actuariat             123       41          0                  0   \n",
       "chirurgien                      1      240          0                  5   \n",
       "cryptography                    1        2          0                  4   \n",
       "data scientist               2313        7          0                  3   \n",
       "dentist                         0     5822          0                 11   \n",
       "developer                      70       12        555                  8   \n",
       "ditital_marketing              22       45          0               2656   \n",
       "network_engineer                2        6          0                  0   \n",
       "nurse                           0        4          0                  0   \n",
       "pharmacist                      0       29          0                  0   \n",
       "robotic                        10        7          0                  0   \n",
       "marge_pred                   2542     6215        555               2687   \n",
       "\n",
       "                   network_engineer  nurse  pharmacist  robotic  marge_true  \n",
       "Finance_actuariat                 0    560           7       72        1260  \n",
       "chirurgien                        1   1956           4       89        6657  \n",
       "cryptography                     41    151           2      645        2632  \n",
       "data scientist                    0    227           0      261        2817  \n",
       "dentist                           0    910           5       29        6846  \n",
       "developer                        12    223           6      966        1886  \n",
       "ditital_marketing                 8    155          12       91        3023  \n",
       "network_engineer               2676    144           2      212        3050  \n",
       "nurse                             0   8947           5        2        9040  \n",
       "pharmacist                        0   1030        4278        2        5347  \n",
       "robotic                           8     93           0     4570        4747  \n",
       "marge_pred                     2746  14396        4321     6939       47305  "
      ]
     },
     "execution_count": 76,
     "metadata": {},
     "output_type": "execute_result"
    }
   ],
   "source": [
    "modelNV = MultinomialNB()\n",
    "modelNV.fit(Xa,y_train)\n",
    "pred = modelNV.predict(Xt)\n",
    "print(\"Le score du modèle={}\".format(modelNV.score(Xt,y_test)))\n",
    "#sn.heatmap(confusion_matrix(pred,y_test),annot = True,annot_kws = {\"size\": 16});\n",
    "ConfusionMatrix(pred,y_test)"
   ]
  },
  {
   "cell_type": "markdown",
   "metadata": {},
   "source": [
    "### Modélisation avec l'algorthime SVM lineaire:\n",
    "#### Recherche du paramêtre optimal C:"
   ]
  },
  {
   "cell_type": "markdown",
   "metadata": {},
   "source": [
    "Initialisation du modèle:"
   ]
  },
  {
   "cell_type": "code",
   "execution_count": 61,
   "metadata": {},
   "outputs": [],
   "source": [
    "paramC = 1\n",
    "clf_svm = LinearSVC(C = paramC)"
   ]
  },
  {
   "cell_type": "markdown",
   "metadata": {},
   "source": [
    "Estimation de la meilleurs paramètre C:"
   ]
  },
  {
   "cell_type": "code",
   "execution_count": 62,
   "metadata": {},
   "outputs": [
    {
     "name": "stderr",
     "output_type": "stream",
     "text": [
      "/home/tantely/anaconda3/lib/python3.7/site-packages/sklearn/svm/base.py:922: ConvergenceWarning: Liblinear failed to converge, increase the number of iterations.\n",
      "  \"the number of iterations.\", ConvergenceWarning)\n",
      "/home/tantely/anaconda3/lib/python3.7/site-packages/sklearn/svm/base.py:922: ConvergenceWarning: Liblinear failed to converge, increase the number of iterations.\n",
      "  \"the number of iterations.\", ConvergenceWarning)\n",
      "/home/tantely/anaconda3/lib/python3.7/site-packages/sklearn/svm/base.py:922: ConvergenceWarning: Liblinear failed to converge, increase the number of iterations.\n",
      "  \"the number of iterations.\", ConvergenceWarning)\n"
     ]
    },
    {
     "name": "stdout",
     "output_type": "stream",
     "text": [
      "\n",
      " C optimal = 1.6378937069540647\n"
     ]
    },
    {
     "data": {
      "image/png": "[encoded data removed]",
      "text/plain": [
       "<Figure size 432x288 with 1 Axes>"
      ]
     },
     "metadata": {},
     "output_type": "display_data"
    }
   ],
   "source": [
    "vectC = np.logspace(-3, 2, 15)\n",
    "err_val = np.empty(vectC.shape[0])\n",
    "err_app = np.empty(vectC.shape[0])\n",
    "for ind_C, C in enumerate(vectC):\n",
    "    clf_svm.C = C\n",
    "    clf_svm.fit(Xa, y_train)\n",
    "    # calcule erreur sur les donnees de validation et app\n",
    "    err_val[ind_C] = 1 - accuracy_score(y_val, clf_svm.predict(Xv))\n",
    "    err_app[ind_C] = 1 - accuracy_score(y_train, clf_svm.predict(Xa))\n",
    "err_min_val, ind_min = err_val.min(), err_val.argmin()\n",
    "Copt = vectC[ind_min]\n",
    "print(\"\\n C optimal = {}\".format(Copt))\n",
    "# Trace courbe erreur\n",
    "plt.figure()\n",
    "plt.semilogx(vectC, err_app, color=\"blue\", linestyle=\"--\", marker=\"s\", markersize=5, label=\"Apprentissage\")\n",
    "plt.semilogx(vectC, err_val, color=\"green\", linestyle=\"--\", marker=\"s\", markersize=5, label=\"Validation\")\n",
    "plt.xlabel(\"Parametre C\")\n",
    "plt.ylabel(\"Erreur Classification\")\n",
    "plt.legend(loc=\"best\")\n",
    "plt.show()"
   ]
  },
  {
   "cell_type": "markdown",
   "metadata": {},
   "source": [
    "On constate qu'il n'y a pas beaucoup d'écart entre les erreurs dans l'apprentissage et les erreurs dans la validation de notre modèle."
   ]
  },
  {
   "cell_type": "markdown",
   "metadata": {},
   "source": [
    "## Score obtenu avec la meilleure valeur de C sur les données test:"
   ]
  },
  {
   "cell_type": "code",
   "execution_count": 67,
   "metadata": {},
   "outputs": [
    {
     "name": "stdout",
     "output_type": "stream",
     "text": [
      "Le score optimal pour svm=0.9761336010992495\n"
     ]
    },
    {
     "data": {
      "text/html": [
       "<div>\n",
       "<style scoped>\n",
       "    .dataframe tbody tr th:only-of-type {\n",
       "        vertical-align: middle;\n",
       "    }\n",
       "\n",
       "    .dataframe tbody tr th {\n",
       "        vertical-align: top;\n",
       "    }\n",
       "\n",
       "    .dataframe thead th {\n",
       "        text-align: right;\n",
       "    }\n",
       "</style>\n",
       "<table border=\"1\" class=\"dataframe\">\n",
       "  <thead>\n",
       "    <tr style=\"text-align: right;\">\n",
       "      <th></th>\n",
       "      <th>Finance_actuariat</th>\n",
       "      <th>chirurgien</th>\n",
       "      <th>cryptography</th>\n",
       "      <th>data scientist</th>\n",
       "      <th>dentist</th>\n",
       "      <th>developer</th>\n",
       "      <th>ditital_marketing</th>\n",
       "      <th>network_engineer</th>\n",
       "      <th>nurse</th>\n",
       "      <th>pharmacist</th>\n",
       "      <th>robotic</th>\n",
       "      <th>marge_true</th>\n",
       "    </tr>\n",
       "  </thead>\n",
       "  <tbody>\n",
       "    <tr>\n",
       "      <th>Finance_actuariat</th>\n",
       "      <td>1255</td>\n",
       "      <td>0</td>\n",
       "      <td>0</td>\n",
       "      <td>1</td>\n",
       "      <td>3</td>\n",
       "      <td>1</td>\n",
       "      <td>0</td>\n",
       "      <td>0</td>\n",
       "      <td>0</td>\n",
       "      <td>0</td>\n",
       "      <td>0</td>\n",
       "      <td>1260</td>\n",
       "    </tr>\n",
       "    <tr>\n",
       "      <th>chirurgien</th>\n",
       "      <td>1</td>\n",
       "      <td>6227</td>\n",
       "      <td>3</td>\n",
       "      <td>3</td>\n",
       "      <td>154</td>\n",
       "      <td>4</td>\n",
       "      <td>7</td>\n",
       "      <td>0</td>\n",
       "      <td>214</td>\n",
       "      <td>13</td>\n",
       "      <td>31</td>\n",
       "      <td>6657</td>\n",
       "    </tr>\n",
       "    <tr>\n",
       "      <th>cryptography</th>\n",
       "      <td>0</td>\n",
       "      <td>3</td>\n",
       "      <td>2605</td>\n",
       "      <td>0</td>\n",
       "      <td>0</td>\n",
       "      <td>1</td>\n",
       "      <td>0</td>\n",
       "      <td>8</td>\n",
       "      <td>0</td>\n",
       "      <td>0</td>\n",
       "      <td>15</td>\n",
       "      <td>2632</td>\n",
       "    </tr>\n",
       "    <tr>\n",
       "      <th>data scientist</th>\n",
       "      <td>5</td>\n",
       "      <td>1</td>\n",
       "      <td>1</td>\n",
       "      <td>2790</td>\n",
       "      <td>1</td>\n",
       "      <td>6</td>\n",
       "      <td>6</td>\n",
       "      <td>7</td>\n",
       "      <td>0</td>\n",
       "      <td>0</td>\n",
       "      <td>0</td>\n",
       "      <td>2817</td>\n",
       "    </tr>\n",
       "    <tr>\n",
       "      <th>dentist</th>\n",
       "      <td>2</td>\n",
       "      <td>116</td>\n",
       "      <td>3</td>\n",
       "      <td>0</td>\n",
       "      <td>6645</td>\n",
       "      <td>5</td>\n",
       "      <td>9</td>\n",
       "      <td>0</td>\n",
       "      <td>60</td>\n",
       "      <td>5</td>\n",
       "      <td>1</td>\n",
       "      <td>6846</td>\n",
       "    </tr>\n",
       "    <tr>\n",
       "      <th>developer</th>\n",
       "      <td>0</td>\n",
       "      <td>0</td>\n",
       "      <td>1</td>\n",
       "      <td>4</td>\n",
       "      <td>3</td>\n",
       "      <td>1863</td>\n",
       "      <td>2</td>\n",
       "      <td>0</td>\n",
       "      <td>4</td>\n",
       "      <td>0</td>\n",
       "      <td>9</td>\n",
       "      <td>1886</td>\n",
       "    </tr>\n",
       "    <tr>\n",
       "      <th>ditital_marketing</th>\n",
       "      <td>2</td>\n",
       "      <td>1</td>\n",
       "      <td>0</td>\n",
       "      <td>10</td>\n",
       "      <td>1</td>\n",
       "      <td>1</td>\n",
       "      <td>2995</td>\n",
       "      <td>1</td>\n",
       "      <td>6</td>\n",
       "      <td>0</td>\n",
       "      <td>6</td>\n",
       "      <td>3023</td>\n",
       "    </tr>\n",
       "    <tr>\n",
       "      <th>network_engineer</th>\n",
       "      <td>0</td>\n",
       "      <td>0</td>\n",
       "      <td>18</td>\n",
       "      <td>2</td>\n",
       "      <td>0</td>\n",
       "      <td>0</td>\n",
       "      <td>1</td>\n",
       "      <td>3022</td>\n",
       "      <td>4</td>\n",
       "      <td>0</td>\n",
       "      <td>3</td>\n",
       "      <td>3050</td>\n",
       "    </tr>\n",
       "    <tr>\n",
       "      <th>nurse</th>\n",
       "      <td>1</td>\n",
       "      <td>227</td>\n",
       "      <td>0</td>\n",
       "      <td>0</td>\n",
       "      <td>9</td>\n",
       "      <td>0</td>\n",
       "      <td>1</td>\n",
       "      <td>0</td>\n",
       "      <td>8786</td>\n",
       "      <td>12</td>\n",
       "      <td>4</td>\n",
       "      <td>9040</td>\n",
       "    </tr>\n",
       "    <tr>\n",
       "      <th>pharmacist</th>\n",
       "      <td>0</td>\n",
       "      <td>6</td>\n",
       "      <td>0</td>\n",
       "      <td>0</td>\n",
       "      <td>4</td>\n",
       "      <td>5</td>\n",
       "      <td>0</td>\n",
       "      <td>0</td>\n",
       "      <td>16</td>\n",
       "      <td>5316</td>\n",
       "      <td>0</td>\n",
       "      <td>5347</td>\n",
       "    </tr>\n",
       "    <tr>\n",
       "      <th>robotic</th>\n",
       "      <td>1</td>\n",
       "      <td>28</td>\n",
       "      <td>10</td>\n",
       "      <td>18</td>\n",
       "      <td>0</td>\n",
       "      <td>4</td>\n",
       "      <td>2</td>\n",
       "      <td>9</td>\n",
       "      <td>3</td>\n",
       "      <td>0</td>\n",
       "      <td>4672</td>\n",
       "      <td>4747</td>\n",
       "    </tr>\n",
       "    <tr>\n",
       "      <th>marge_pred</th>\n",
       "      <td>1267</td>\n",
       "      <td>6609</td>\n",
       "      <td>2641</td>\n",
       "      <td>2828</td>\n",
       "      <td>6820</td>\n",
       "      <td>1890</td>\n",
       "      <td>3023</td>\n",
       "      <td>3047</td>\n",
       "      <td>9093</td>\n",
       "      <td>5346</td>\n",
       "      <td>4741</td>\n",
       "      <td>47305</td>\n",
       "    </tr>\n",
       "  </tbody>\n",
       "</table>\n",
       "</div>"
      ],
      "text/plain": [
       "                   Finance_actuariat  chirurgien  cryptography  \\\n",
       "Finance_actuariat               1255           0             0   \n",
       "chirurgien                         1        6227             3   \n",
       "cryptography                       0           3          2605   \n",
       "data scientist                     5           1             1   \n",
       "dentist                            2         116             3   \n",
       "developer                          0           0             1   \n",
       "ditital_marketing                  2           1             0   \n",
       "network_engineer                   0           0            18   \n",
       "nurse                              1         227             0   \n",
       "pharmacist                         0           6             0   \n",
       "robotic                            1          28            10   \n",
       "marge_pred                      1267        6609          2641   \n",
       "\n",
       "                   data scientist  dentist  developer  ditital_marketing  \\\n",
       "Finance_actuariat               1        3          1                  0   \n",
       "chirurgien                      3      154          4                  7   \n",
       "cryptography                    0        0          1                  0   \n",
       "data scientist               2790        1          6                  6   \n",
       "dentist                         0     6645          5                  9   \n",
       "developer                       4        3       1863                  2   \n",
       "ditital_marketing              10        1          1               2995   \n",
       "network_engineer                2        0          0                  1   \n",
       "nurse                           0        9          0                  1   \n",
       "pharmacist                      0        4          5                  0   \n",
       "robotic                        18        0          4                  2   \n",
       "marge_pred                   2828     6820       1890               3023   \n",
       "\n",
       "                   network_engineer  nurse  pharmacist  robotic  marge_true  \n",
       "Finance_actuariat                 0      0           0        0        1260  \n",
       "chirurgien                        0    214          13       31        6657  \n",
       "cryptography                      8      0           0       15        2632  \n",
       "data scientist                    7      0           0        0        2817  \n",
       "dentist                           0     60           5        1        6846  \n",
       "developer                         0      4           0        9        1886  \n",
       "ditital_marketing                 1      6           0        6        3023  \n",
       "network_engineer               3022      4           0        3        3050  \n",
       "nurse                             0   8786          12        4        9040  \n",
       "pharmacist                        0     16        5316        0        5347  \n",
       "robotic                           9      3           0     4672        4747  \n",
       "marge_pred                     3047   9093        5346     4741       47305  "
      ]
     },
     "execution_count": 67,
     "metadata": {},
     "output_type": "execute_result"
    }
   ],
   "source": [
    "clf_svm.C = Copt \n",
    "clf_svm.fit(Xa, y_train)\n",
    "pred=clf_svm.predict(Xt)\n",
    "score_svm=accuracy_score(y_test, clf_svm.predict(Xt))\n",
    "print(\"Le score optimal pour svm={}\".format(score_svm))\n",
    "ConfusionMatrix(pred,y_test)"
   ]
  },
  {
   "cell_type": "markdown",
   "metadata": {},
   "source": [
    "### Modélisation avec l'algorithme de la régression logistique"
   ]
  },
  {
   "cell_type": "code",
   "execution_count": 77,
   "metadata": {
    "scrolled": true
   },
   "outputs": [
    {
     "name": "stderr",
     "output_type": "stream",
     "text": [
      "/home/tantely/anaconda3/lib/python3.7/site-packages/sklearn/linear_model/logistic.py:433: FutureWarning: Default solver will be changed to 'lbfgs' in 0.22. Specify a solver to silence this warning.\n",
      "  FutureWarning)\n",
      "/home/tantely/anaconda3/lib/python3.7/site-packages/sklearn/linear_model/logistic.py:460: FutureWarning: Default multi_class will be changed to 'auto' in 0.22. Specify the multi_class option to silence this warning.\n",
      "  \"this warning.\", FutureWarning)\n"
     ]
    },
    {
     "name": "stdout",
     "output_type": "stream",
     "text": [
      "Erreur du modèle=0.9615685445513159\n"
     ]
    },
    {
     "data": {
      "text/html": [
       "<div>\n",
       "<style scoped>\n",
       "    .dataframe tbody tr th:only-of-type {\n",
       "        vertical-align: middle;\n",
       "    }\n",
       "\n",
       "    .dataframe tbody tr th {\n",
       "        vertical-align: top;\n",
       "    }\n",
       "\n",
       "    .dataframe thead th {\n",
       "        text-align: right;\n",
       "    }\n",
       "</style>\n",
       "<table border=\"1\" class=\"dataframe\">\n",
       "  <thead>\n",
       "    <tr style=\"text-align: right;\">\n",
       "      <th></th>\n",
       "      <th>Finance_actuariat</th>\n",
       "      <th>chirurgien</th>\n",
       "      <th>cryptography</th>\n",
       "      <th>data scientist</th>\n",
       "      <th>dentist</th>\n",
       "      <th>developer</th>\n",
       "      <th>ditital_marketing</th>\n",
       "      <th>network_engineer</th>\n",
       "      <th>nurse</th>\n",
       "      <th>pharmacist</th>\n",
       "      <th>robotic</th>\n",
       "      <th>marge_true</th>\n",
       "    </tr>\n",
       "  </thead>\n",
       "  <tbody>\n",
       "    <tr>\n",
       "      <th>Finance_actuariat</th>\n",
       "      <td>1229</td>\n",
       "      <td>0</td>\n",
       "      <td>0</td>\n",
       "      <td>22</td>\n",
       "      <td>3</td>\n",
       "      <td>4</td>\n",
       "      <td>0</td>\n",
       "      <td>0</td>\n",
       "      <td>2</td>\n",
       "      <td>0</td>\n",
       "      <td>0</td>\n",
       "      <td>1260</td>\n",
       "    </tr>\n",
       "    <tr>\n",
       "      <th>chirurgien</th>\n",
       "      <td>4</td>\n",
       "      <td>6010</td>\n",
       "      <td>8</td>\n",
       "      <td>4</td>\n",
       "      <td>191</td>\n",
       "      <td>7</td>\n",
       "      <td>13</td>\n",
       "      <td>0</td>\n",
       "      <td>358</td>\n",
       "      <td>12</td>\n",
       "      <td>50</td>\n",
       "      <td>6657</td>\n",
       "    </tr>\n",
       "    <tr>\n",
       "      <th>cryptography</th>\n",
       "      <td>0</td>\n",
       "      <td>0</td>\n",
       "      <td>2533</td>\n",
       "      <td>0</td>\n",
       "      <td>0</td>\n",
       "      <td>11</td>\n",
       "      <td>4</td>\n",
       "      <td>33</td>\n",
       "      <td>3</td>\n",
       "      <td>0</td>\n",
       "      <td>48</td>\n",
       "      <td>2632</td>\n",
       "    </tr>\n",
       "    <tr>\n",
       "      <th>data scientist</th>\n",
       "      <td>8</td>\n",
       "      <td>4</td>\n",
       "      <td>1</td>\n",
       "      <td>2744</td>\n",
       "      <td>2</td>\n",
       "      <td>18</td>\n",
       "      <td>6</td>\n",
       "      <td>7</td>\n",
       "      <td>14</td>\n",
       "      <td>0</td>\n",
       "      <td>13</td>\n",
       "      <td>2817</td>\n",
       "    </tr>\n",
       "    <tr>\n",
       "      <th>dentist</th>\n",
       "      <td>2</td>\n",
       "      <td>114</td>\n",
       "      <td>2</td>\n",
       "      <td>1</td>\n",
       "      <td>6518</td>\n",
       "      <td>4</td>\n",
       "      <td>20</td>\n",
       "      <td>5</td>\n",
       "      <td>167</td>\n",
       "      <td>7</td>\n",
       "      <td>6</td>\n",
       "      <td>6846</td>\n",
       "    </tr>\n",
       "    <tr>\n",
       "      <th>developer</th>\n",
       "      <td>0</td>\n",
       "      <td>1</td>\n",
       "      <td>1</td>\n",
       "      <td>20</td>\n",
       "      <td>0</td>\n",
       "      <td>1832</td>\n",
       "      <td>7</td>\n",
       "      <td>0</td>\n",
       "      <td>7</td>\n",
       "      <td>0</td>\n",
       "      <td>18</td>\n",
       "      <td>1886</td>\n",
       "    </tr>\n",
       "    <tr>\n",
       "      <th>ditital_marketing</th>\n",
       "      <td>1</td>\n",
       "      <td>3</td>\n",
       "      <td>0</td>\n",
       "      <td>13</td>\n",
       "      <td>1</td>\n",
       "      <td>2</td>\n",
       "      <td>2979</td>\n",
       "      <td>1</td>\n",
       "      <td>12</td>\n",
       "      <td>1</td>\n",
       "      <td>10</td>\n",
       "      <td>3023</td>\n",
       "    </tr>\n",
       "    <tr>\n",
       "      <th>network_engineer</th>\n",
       "      <td>0</td>\n",
       "      <td>0</td>\n",
       "      <td>36</td>\n",
       "      <td>9</td>\n",
       "      <td>0</td>\n",
       "      <td>1</td>\n",
       "      <td>0</td>\n",
       "      <td>2992</td>\n",
       "      <td>6</td>\n",
       "      <td>0</td>\n",
       "      <td>6</td>\n",
       "      <td>3050</td>\n",
       "    </tr>\n",
       "    <tr>\n",
       "      <th>nurse</th>\n",
       "      <td>0</td>\n",
       "      <td>252</td>\n",
       "      <td>0</td>\n",
       "      <td>4</td>\n",
       "      <td>5</td>\n",
       "      <td>0</td>\n",
       "      <td>1</td>\n",
       "      <td>0</td>\n",
       "      <td>8766</td>\n",
       "      <td>8</td>\n",
       "      <td>4</td>\n",
       "      <td>9040</td>\n",
       "    </tr>\n",
       "    <tr>\n",
       "      <th>pharmacist</th>\n",
       "      <td>0</td>\n",
       "      <td>20</td>\n",
       "      <td>0</td>\n",
       "      <td>0</td>\n",
       "      <td>6</td>\n",
       "      <td>6</td>\n",
       "      <td>0</td>\n",
       "      <td>0</td>\n",
       "      <td>29</td>\n",
       "      <td>5284</td>\n",
       "      <td>2</td>\n",
       "      <td>5347</td>\n",
       "    </tr>\n",
       "    <tr>\n",
       "      <th>robotic</th>\n",
       "      <td>1</td>\n",
       "      <td>45</td>\n",
       "      <td>29</td>\n",
       "      <td>39</td>\n",
       "      <td>0</td>\n",
       "      <td>13</td>\n",
       "      <td>1</td>\n",
       "      <td>10</td>\n",
       "      <td>9</td>\n",
       "      <td>0</td>\n",
       "      <td>4600</td>\n",
       "      <td>4747</td>\n",
       "    </tr>\n",
       "    <tr>\n",
       "      <th>marge_pred</th>\n",
       "      <td>1245</td>\n",
       "      <td>6449</td>\n",
       "      <td>2610</td>\n",
       "      <td>2856</td>\n",
       "      <td>6726</td>\n",
       "      <td>1898</td>\n",
       "      <td>3031</td>\n",
       "      <td>3048</td>\n",
       "      <td>9373</td>\n",
       "      <td>5312</td>\n",
       "      <td>4757</td>\n",
       "      <td>47305</td>\n",
       "    </tr>\n",
       "  </tbody>\n",
       "</table>\n",
       "</div>"
      ],
      "text/plain": [
       "                   Finance_actuariat  chirurgien  cryptography  \\\n",
       "Finance_actuariat               1229           0             0   \n",
       "chirurgien                         4        6010             8   \n",
       "cryptography                       0           0          2533   \n",
       "data scientist                     8           4             1   \n",
       "dentist                            2         114             2   \n",
       "developer                          0           1             1   \n",
       "ditital_marketing                  1           3             0   \n",
       "network_engineer                   0           0            36   \n",
       "nurse                              0         252             0   \n",
       "pharmacist                         0          20             0   \n",
       "robotic                            1          45            29   \n",
       "marge_pred                      1245        6449          2610   \n",
       "\n",
       "                   data scientist  dentist  developer  ditital_marketing  \\\n",
       "Finance_actuariat              22        3          4                  0   \n",
       "chirurgien                      4      191          7                 13   \n",
       "cryptography                    0        0         11                  4   \n",
       "data scientist               2744        2         18                  6   \n",
       "dentist                         1     6518          4                 20   \n",
       "developer                      20        0       1832                  7   \n",
       "ditital_marketing              13        1          2               2979   \n",
       "network_engineer                9        0          1                  0   \n",
       "nurse                           4        5          0                  1   \n",
       "pharmacist                      0        6          6                  0   \n",
       "robotic                        39        0         13                  1   \n",
       "marge_pred                   2856     6726       1898               3031   \n",
       "\n",
       "                   network_engineer  nurse  pharmacist  robotic  marge_true  \n",
       "Finance_actuariat                 0      2           0        0        1260  \n",
       "chirurgien                        0    358          12       50        6657  \n",
       "cryptography                     33      3           0       48        2632  \n",
       "data scientist                    7     14           0       13        2817  \n",
       "dentist                           5    167           7        6        6846  \n",
       "developer                         0      7           0       18        1886  \n",
       "ditital_marketing                 1     12           1       10        3023  \n",
       "network_engineer               2992      6           0        6        3050  \n",
       "nurse                             0   8766           8        4        9040  \n",
       "pharmacist                        0     29        5284        2        5347  \n",
       "robotic                          10      9           0     4600        4747  \n",
       "marge_pred                     3048   9373        5312     4757       47305  "
      ]
     },
     "execution_count": 77,
     "metadata": {},
     "output_type": "execute_result"
    }
   ],
   "source": [
    "Lgre=LogisticRegression()\n",
    "Lgre.fit(Xa,y_train)\n",
    "pred=Lgre.predict(Xt)\n",
    "print(\"score du modèle={}\".format(Lgre.score(Xt,y_test)))\n",
    "#sn.heatmap(confusion_matrix(pred,y_test),annot=True, fmt='.3f');\n",
    "ConfusionMatrix(pred,y_test)"
   ]
  },
  {
   "cell_type": "markdown",
   "metadata": {},
   "source": [
    "## Optimisation de l'algorithme Naïf Baysian:\n",
    "Pour faire l'optimisation, on va utiliser un Pipeline qui va nous permettre d'enchainer plusieurs transformation en une seule fois. D'autre part, La calibration de notre modèle va se faire sur la transformation de notre corpus de text en numérique(tf_idf), le lien entre "
   ]
  },
  {
   "cell_type": "code",
   "execution_count": 8,
   "metadata": {},
   "outputs": [],
   "source": [
    "from sklearn.pipeline import Pipeline\n",
    "text_clf = Pipeline([('vect', CountVectorizer()),\n",
    "                      ('tfidf', TfidfTransformer()),\n",
    "                      ('clf', MultinomialNB()),])\n"
   ]
  },
  {
   "cell_type": "code",
   "execution_count": 9,
   "metadata": {},
   "outputs": [],
   "source": [
    "from sklearn.model_selection import GridSearchCV\n",
    "parametre = {'vect__ngram_range': [(1, 1), (1, 2)],'tfidf__use_idf': (True, False),'clf__alpha': (1e-2, 1e-3)}\n",
    "## n_job=-1 veut dire qu'on utilise l'ensemble des processeurs. \n",
    "NB_model= GridSearchCV(text_clf,parametre,n_jobs=-1)\n"
   ]
  },
  {
   "cell_type": "code",
   "execution_count": 10,
   "metadata": {},
   "outputs": [
    {
     "name": "stderr",
     "output_type": "stream",
     "text": [
      "/home/tantely/anaconda3/lib/python3.7/site-packages/sklearn/model_selection/_split.py:2053: FutureWarning: You should specify a value for 'cv' instead of relying on the default value. The default value will change from 3 to 5 in version 0.22.\n",
      "  warnings.warn(CV_WARNING, FutureWarning)\n"
     ]
    }
   ],
   "source": [
    "NB_model=NB_model.fit(X_train,y_train)"
   ]
  },
  {
   "cell_type": "code",
   "execution_count": 11,
   "metadata": {},
   "outputs": [
    {
     "name": "stdout",
     "output_type": "stream",
     "text": [
      "score du meilleurs modèle: 0.9524355993114487\n",
      "les paramètres qui donnent le modèle optimal: {'clf__alpha': 0.001, 'tfidf__use_idf': False, 'vect__ngram_range': (1, 2)}\n"
     ]
    }
   ],
   "source": [
    "print(\"score du meilleurs modèle:\",NB_model.best_score_)\n",
    "print(\"les paramètres qui donnent le modèle optimal:\",NB_model.best_params_) "
   ]
  },
  {
   "cell_type": "markdown",
   "metadata": {},
   "source": [
    "Sur les paramètres que l'on obtient, on peut dire que le modèle est meilleurs lorsque l'on n'utilise pas la pondération avec idf, car ici on a use_idf=False dan s la partie tf-idf. D'autre part, pour la partie vectorizer, on a comme paramètre ngram_range:(1,2), cela veut dire que l'on a construit notre matrice Fréquence de Terme à partir de la relation 2-gram. "
   ]
  },
  {
   "cell_type": "code",
   "execution_count": 39,
   "metadata": {},
   "outputs": [
    {
     "name": "stdout",
     "output_type": "stream",
     "text": [
      "{'hello': 2, 'world': 10, 'whatsup': 9, 'hello world': 3, 'world whatsup': 11, 'bonjour': 0, 'tout': 7, 'le': 4, 'monde': 6, 'bonjour tout': 1, 'tout le': 8, 'le monde': 5}\n"
     ]
    }
   ],
   "source": [
    "vectoriz=CountVectorizer(ngram_range=(1,2))\n",
    "print(vectoriz.fit([\"Hello world Whatsup\",\"bonjour tout le monde\"]).)\n",
    "tran=vectoriz.transform([\"Hello world\",\"bonjour le monde\"])"
   ]
  },
  {
   "cell_type": "code",
   "execution_count": 40,
   "metadata": {},
   "outputs": [
    {
     "data": {
      "text/plain": [
       "array([[0, 0, 1, 1, 0, 0, 0, 0, 0, 0, 1, 0],\n",
       "       [1, 0, 0, 0, 1, 1, 1, 0, 0, 0, 0, 0]])"
      ]
     },
     "execution_count": 40,
     "metadata": {},
     "output_type": "execute_result"
    }
   ],
   "source": [
    "tran.toarray()"
   ]
  },
  {
   "cell_type": "markdown",
   "metadata": {},
   "source": [
    "### Evaluation du modèle à partir des données test:"
   ]
  },
  {
   "cell_type": "code",
   "execution_count": 101,
   "metadata": {},
   "outputs": [
    {
     "data": {
      "text/plain": [
       "0.9583553535567064"
      ]
     },
     "execution_count": 101,
     "metadata": {},
     "output_type": "execute_result"
    }
   ],
   "source": [
    "NB_model.score(X_test,y_test)"
   ]
  },
  {
   "cell_type": "markdown",
   "metadata": {},
   "source": [
    "Sur notre modèle, on remarque que le score entre les données test et le gridsearch restent assez proche, donc on peut déjà dire que l'on ne fait pas de sur-apprentissage. D'autre part, sur les scores, on est aussi passé de 81% à 95% sur les scores."
   ]
  },
  {
   "cell_type": "code",
   "execution_count": 118,
   "metadata": {},
   "outputs": [],
   "source": [
    "corpus=[\"Hello world, Whatsup\",\"Hey world, how are you\",\"Good morning world, Are you fine\"]\n",
    "vectoriz=CountVectorizer(ngram_range=(1,2))"
   ]
  },
  {
   "cell_type": "code",
   "execution_count": 119,
   "metadata": {},
   "outputs": [],
   "source": [
    "vectoriz.fit(corpus)\n",
    "tran=vectoriz.transform(corpus)"
   ]
  },
  {
   "cell_type": "code",
   "execution_count": 117,
   "metadata": {},
   "outputs": [
    {
     "data": {
      "text/plain": [
       "array([[0, 0, 0, 1, 0, 0, 0, 1, 1, 0],\n",
       "       [1, 0, 0, 0, 1, 1, 0, 0, 1, 1],\n",
       "       [1, 1, 1, 0, 0, 0, 1, 0, 1, 1]])"
      ]
     },
     "execution_count": 117,
     "metadata": {},
     "output_type": "execute_result"
    }
   ],
   "source": [
    "tran.toarray()"
   ]
  },
  {
   "cell_type": "code",
   "execution_count": 41,
   "metadata": {},
   "outputs": [
    {
     "data": {
      "text/plain": [
       "array([[0, 0, 1, 1, 0, 0, 0, 0, 0, 0, 1, 0],\n",
       "       [1, 0, 0, 0, 1, 1, 1, 0, 0, 0, 0, 0]])"
      ]
     },
     "execution_count": 41,
     "metadata": {},
     "output_type": "execute_result"
    }
   ],
   "source": [
    "tran.toarray()"
   ]
  },
  {
   "cell_type": "markdown",
   "metadata": {},
   "source": [
    "## Word2vec method:"
   ]
  },
  {
   "cell_type": "markdown",
   "metadata": {},
   "source": [
    "Word2vec est un groupe de modèles associés utilisés pour produire des incorporations de mots . Ces modèles sont des réseaux de neurones à deux couches peu profondes formés pour reconstruire les contextes linguistiques des mots. Word2vec prend en entrée un grand corpus de texte et crée un espace vectoriel , généralement de plusieurs centaines de dimensions , chaque mot unique du corpus étant associé à un vecteur correspondant"
   ]
  },
  {
   "cell_type": "code",
   "execution_count": 12,
   "metadata": {},
   "outputs": [],
   "source": [
    "import gensim\n",
    "\n",
    "reclean_text=[]\n",
    "for x in X_train:\n",
    "    reclean_text.append(gensim.utils.simple_preprocess(x))"
   ]
  },
  {
   "cell_type": "code",
   "execution_count": 13,
   "metadata": {},
   "outputs": [],
   "source": [
    "model = gensim.models.Word2Vec(reclean_text,size=150,window=10,min_count=2,workers=10)\n",
    "# To make the model memory efficient\n",
    "model.init_sims(replace=True)"
   ]
  },
  {
   "cell_type": "code",
   "execution_count": 14,
   "metadata": {},
   "outputs": [
    {
     "name": "stderr",
     "output_type": "stream",
     "text": [
      "/home/tantely/anaconda3/lib/python3.7/site-packages/ipykernel_launcher.py:1: DeprecationWarning: Call to deprecated `syn0norm` (Attribute will be removed in 4.0.0, use self.vectors_norm instead).\n",
      "  \"\"\"Entry point for launching an IPython kernel.\n"
     ]
    },
    {
     "data": {
      "text/plain": [
       "array([[-0.01412151, -0.02911667,  0.11848644, ...,  0.03243154,\n",
       "        -0.04859224, -0.01350094],\n",
       "       [ 0.0837061 ,  0.16223013, -0.02951479, ...,  0.04163713,\n",
       "        -0.03430424, -0.04323665],\n",
       "       [ 0.09879825,  0.15274322,  0.04386517, ...,  0.07164742,\n",
       "        -0.05962464,  0.08637821],\n",
       "       ...,\n",
       "       [ 0.11390449,  0.15211469, -0.06637954, ...,  0.1186387 ,\n",
       "        -0.05673444,  0.01223519],\n",
       "       [ 0.08290468, -0.02575617, -0.01954884, ..., -0.02253071,\n",
       "         0.08598673, -0.01681938],\n",
       "       [-0.02093836,  0.00933726, -0.06666116, ...,  0.11405331,\n",
       "         0.06746437,  0.04588412]], dtype=float32)"
      ]
     },
     "execution_count": 14,
     "metadata": {},
     "output_type": "execute_result"
    }
   ],
   "source": [
    "model.wv.syn0norm"
   ]
  },
  {
   "cell_type": "code",
   "execution_count": 15,
   "metadata": {},
   "outputs": [
    {
     "data": {
      "text/plain": [
       "[('engineering', 0.639894962310791),\n",
       " ('developer', 0.5852555632591248),\n",
       " ('architect', 0.536454439163208),\n",
       " ('weekposting', 0.48037800192832947),\n",
       " ('drafter', 0.4726769030094147),\n",
       " ('ngms', 0.46953085064888)]"
      ]
     },
     "execution_count": 15,
     "metadata": {},
     "output_type": "execute_result"
    }
   ],
   "source": [
    "w1 = [\"data\"]\n",
    "w2=[\"engineer\"]\n",
    "\n",
    "x"
   ]
  },
  {
   "cell_type": "code",
   "execution_count": 16,
   "metadata": {},
   "outputs": [
    {
     "name": "stderr",
     "output_type": "stream",
     "text": [
      "/home/tantely/anaconda3/lib/python3.7/site-packages/ipykernel_launcher.py:4: DeprecationWarning: Call to deprecated `__getitem__` (Method will be removed in 4.0.0, use self.wv.__getitem__() instead).\n",
      "  after removing the cwd from sys.path.\n"
     ]
    },
    {
     "data": {
      "text/plain": [
       "array([[-0.06739987,  0.01608485, -0.09532426, ...,  0.09815955,\n",
       "        -0.00022427,  0.13398272],\n",
       "       [ 0.03489593,  0.13152274,  0.04805328, ..., -0.00187766,\n",
       "         0.14716092, -0.02547006],\n",
       "       [-0.02661698,  0.02495852,  0.04010939, ...,  0.04715573,\n",
       "        -0.01040998, -0.07887734],\n",
       "       ...,\n",
       "       [ 0.0236948 ,  0.00659381,  0.03357509, ..., -0.08535966,\n",
       "        -0.04912556,  0.00844506],\n",
       "       [ 0.08290468, -0.02575617, -0.01954884, ..., -0.02253071,\n",
       "         0.08598673, -0.01681938],\n",
       "       [-0.02093836,  0.00933726, -0.06666116, ...,  0.11405331,\n",
       "         0.06746437,  0.04588412]])"
      ]
     },
     "execution_count": 16,
     "metadata": {},
     "output_type": "execute_result"
    }
   ],
   "source": [
    "words=list(model.wv.vocab)\n",
    "vect=[]\n",
    "for word in words:\n",
    "    vect.append(model[word].tolist())\n",
    "data=np.array(vect)\n",
    "data"
   ]
  },
  {
   "cell_type": "markdown",
   "metadata": {},
   "source": [
    "  "
   ]
  },
  {
   "cell_type": "markdown",
   "metadata": {},
   "source": [
    "On peut alors constater dans notre cas que chaque mot de notre bag of word peut être représenté par un vecteur numérique."
   ]
  },
  {
   "cell_type": "code",
   "execution_count": 17,
   "metadata": {},
   "outputs": [
    {
     "name": "stdout",
     "output_type": "stream",
     "text": [
      "['finance', 'actuary', 'surgeon', 'cryptography', 'data', 'scientist', 'dentist', 'developer', 'digital', 'marketing', 'network', 'engineer', 'nurse', 'pharmacist', 'robotic']\n"
     ]
    }
   ],
   "source": [
    "#model.wv.most_similar(positive=[\"nurse\"],topn=5)\n",
    "n_word_label=np.unique(y_train)\n",
    "n_word_label[1].split(\"_\")\n",
    "\n",
    "list_word=[]\n",
    "for word in n_word_label:\n",
    "    for k in word.split(\"_\"):\n",
    "        for l in k.split(\" \"):\n",
    "            list_word.append(l.lower())\n",
    "\n",
    "list_word[1]='actuary'\n",
    "list_word[2]='surgeon'\n",
    "list_word[8]='digital'\n",
    "\n",
    "print(list_word)"
   ]
  },
  {
   "cell_type": "code",
   "execution_count": 18,
   "metadata": {},
   "outputs": [],
   "source": [
    "X = model.wv[list_word] # X is an array of word vectors, each vector containing 150 tokens\n",
    "tsne_model = TSNE(perplexity=40, n_components=2, init=\"pca\", n_iter=5000, random_state=23)\n",
    "Y = tsne_model.fit_transform(X)"
   ]
  },
  {
   "cell_type": "code",
   "execution_count": 19,
   "metadata": {},
   "outputs": [
    {
     "data": {
      "image/png": "[encoded data removed]",
      "text/plain": [
       "<Figure size 1440x720 with 1 Axes>"
      ]
     },
     "metadata": {
      "needs_background": "light"
     },
     "output_type": "display_data"
    }
   ],
   "source": [
    "fig, ax = plt.subplots(figsize=(20,10))\n",
    "ax.scatter(Y[:, 0], Y[:, 1])\n",
    "words = list(list_word)\n",
    "for i, word in enumerate(words):\n",
    "    plt.annotate(word, xy=(Y[i, 0], Y[i, 1]))\n",
    "ax.set_yticklabels([]) \n",
    "ax.set_xticklabels([]) \n",
    "_ = plt.show()"
   ]
  },
  {
   "cell_type": "markdown",
   "metadata": {},
   "source": [
    "On remarque que les mots n'ont pas de relation logique entre eux. "
   ]
  },
  {
   "cell_type": "markdown",
   "metadata": {},
   "source": [
    "## Classification avec word2vec:"
   ]
  },
  {
   "cell_type": "markdown",
   "metadata": {},
   "source": [
    "L'idée dans cette partie est d'utiliser les métriques qui se trouvent dans la construction de la méthode word2vec pour réaliser des prédictions. \n",
    "Plus précisément, quand nous allons modéliser nous allons appliquer sur chaqu'un des mots dans notre corpus un CBOW(continious Bag Of Word) pour construire un\n",
    "réseau de neurone qui sera composé d'un couche caché. Donc pour faire le back propragation, nous allons obtenir des poids $W_{in}$ (entre les données d'entrée et la couche caché) et $W_{out}$ (entre la couche caché et la sortie)."
   ]
  },
  {
   "cell_type": "markdown",
   "metadata": {},
   "source": [
    "\n",
    "<img src=\"image_file/word_embeding.png\" width=\"400\">\n"
   ]
  },
  {
   "cell_type": "markdown",
   "metadata": {},
   "source": [
    "Nous allons définir une fonction qui va nous permettre de calculer la moyenne des vecteurs que l'on peut obtenir pour chaque mots dans notre corpus.\n",
    "## Remarque:\n",
    "Dans gensim, les deux matrices de poids sont syn0 et syn1. Dans la fonction qu'on va définier ci-dessous, on va utiliser syn0 normalisé."
   ]
  },
  {
   "cell_type": "code",
   "execution_count": 20,
   "metadata": {},
   "outputs": [],
   "source": [
    "import logging\n",
    "def word_averaging(wv, words):\n",
    "    all_words, mean = set(), []\n",
    "    \n",
    "    for word in words:\n",
    "        if isinstance(word, np.ndarray):\n",
    "            mean.append(word)\n",
    "        elif word in wv.vocab:\n",
    "            mean.append(wv.syn0norm[wv.vocab[word].index])\n",
    "            all_words.add(wv.vocab[word].index)\n",
    "\n",
    "    if not mean:\n",
    "        logging.warning(\"cannot compute similarity with no input %s\", words)\n",
    "        # FIXME: remove these examples in pre-processing\n",
    "        return np.zeros(wv.vector_size,)\n",
    "\n",
    "    mean = gensim.matutils.unitvec(np.array(mean).mean(axis=0)).astype(np.float32)\n",
    "    return mean\n",
    "\n",
    "def  word_averaging_list(wv, text_list):\n",
    "    return np.vstack([word_averaging(wv, post) for post in text_list ])"
   ]
  },
  {
   "cell_type": "markdown",
   "metadata": {},
   "source": [
    "## Tokenizer les mots:"
   ]
  },
  {
   "cell_type": "code",
   "execution_count": 21,
   "metadata": {},
   "outputs": [],
   "source": [
    "def w2v_tokenize_text(text):\n",
    "    tokens = []\n",
    "    for sent in nltk.sent_tokenize(text, language='english'):\n",
    "        for word in nltk.word_tokenize(sent, language='english'):\n",
    "            if len(word) < 2:\n",
    "                continue\n",
    "            else:\n",
    "                tokens.append(word)\n",
    "    return tokens"
   ]
  },
  {
   "cell_type": "code",
   "execution_count": 22,
   "metadata": {},
   "outputs": [],
   "source": [
    "test_tokenized = X_test.apply(lambda r: w2v_tokenize_text(r)).values\n",
    "train_tokenized = X_train.apply(lambda r: w2v_tokenize_text(r)).values"
   ]
  },
  {
   "cell_type": "code",
   "execution_count": 23,
   "metadata": {},
   "outputs": [],
   "source": [
    "val_tokenized = X_val.apply(lambda r: w2v_tokenize_text(r)).values"
   ]
  },
  {
   "cell_type": "code",
   "execution_count": 16,
   "metadata": {},
   "outputs": [
    {
     "data": {
      "text/plain": [
       "array([[-0.10766504,  0.11296782, -0.10563813, ..., -0.05156879,\n",
       "        -0.02273908, -0.00372436],\n",
       "       [ 0.00485332,  0.18609859, -0.13571453, ..., -0.00089446,\n",
       "         0.06409808, -0.01887149],\n",
       "       [-0.01072713,  0.12195555, -0.04319037, ..., -0.01243771,\n",
       "         0.013438  ,  0.10089758],\n",
       "       ...,\n",
       "       [-0.11741962,  0.13035469, -0.06972109, ...,  0.01960327,\n",
       "         0.00084553, -0.01709296],\n",
       "       [-0.09057272,  0.00790588, -0.02541178, ..., -0.13149543,\n",
       "        -0.1631154 ,  0.10452981],\n",
       "       [ 0.05012202, -0.10070967,  0.16513011, ..., -0.06264692,\n",
       "        -0.09095634,  0.10510645]], dtype=float32)"
      ]
     },
     "execution_count": 16,
     "metadata": {},
     "output_type": "execute_result"
    }
   ],
   "source": [
    "#X_train_word_average = word_averaging_list(model.wv,train_tokenized)\n",
    "#X_test_word_average = word_averaging_list(model.wv,test_tokenized)\n",
    "\n",
    "#X_train_word_average = word_averaging_list(model.wv,reclean_text)\n",
    "X_train_word_average"
   ]
  },
  {
   "cell_type": "code",
   "execution_count": 99,
   "metadata": {},
   "outputs": [
    {
     "name": "stderr",
     "output_type": "stream",
     "text": [
      "/home/tantely/anaconda3/lib/python3.7/site-packages/ipykernel_launcher.py:9: DeprecationWarning: Call to deprecated `syn0norm` (Attribute will be removed in 4.0.0, use self.vectors_norm instead).\n",
      "  if __name__ == '__main__':\n"
     ]
    }
   ],
   "source": [
    "X_val_word_average=word_averaging_list(model.wv,val_tokenized)"
   ]
  },
  {
   "cell_type": "code",
   "execution_count": 84,
   "metadata": {},
   "outputs": [],
   "source": [
    "## n_job=-1 veut dire qu'on utilise l'ensemble des processeurs.\n",
    "md_NB=LogisticRegression()"
   ]
  },
  {
   "cell_type": "code",
   "execution_count": 94,
   "metadata": {},
   "outputs": [
    {
     "name": "stderr",
     "output_type": "stream",
     "text": [
      "/home/tantely/anaconda3/lib/python3.7/site-packages/sklearn/linear_model/logistic.py:433: FutureWarning: Default solver will be changed to 'lbfgs' in 0.22. Specify a solver to silence this warning.\n",
      "  FutureWarning)\n",
      "/home/tantely/anaconda3/lib/python3.7/site-packages/sklearn/linear_model/logistic.py:460: FutureWarning: Default multi_class will be changed to 'auto' in 0.22. Specify the multi_class option to silence this warning.\n",
      "  \"this warning.\", FutureWarning)\n"
     ]
    },
    {
     "data": {
      "text/plain": [
       "LogisticRegression(C=1.0, class_weight=None, dual=False, fit_intercept=True,\n",
       "          intercept_scaling=1, max_iter=100, multi_class='warn',\n",
       "          n_jobs=None, penalty='l2', random_state=None, solver='warn',\n",
       "          tol=0.0001, verbose=0, warm_start=False)"
      ]
     },
     "execution_count": 94,
     "metadata": {},
     "output_type": "execute_result"
    }
   ],
   "source": [
    "md_NB.fit(X_train_word_average,y_train)"
   ]
  },
  {
   "cell_type": "code",
   "execution_count": 95,
   "metadata": {},
   "outputs": [
    {
     "data": {
      "text/plain": [
       "0.9238135503646548"
      ]
     },
     "execution_count": 95,
     "metadata": {},
     "output_type": "execute_result"
    }
   ],
   "source": [
    "md_NB.score(X_test_word_average,y_test)"
   ]
  },
  {
   "cell_type": "markdown",
   "metadata": {},
   "source": [
    "## Optimisation des résultats:"
   ]
  },
  {
   "cell_type": "code",
   "execution_count": 91,
   "metadata": {},
   "outputs": [
    {
     "name": "stderr",
     "output_type": "stream",
     "text": [
      "/home/tantely/anaconda3/lib/python3.7/site-packages/sklearn/model_selection/_split.py:2053: FutureWarning: You should specify a value for 'cv' instead of relying on the default value. The default value will change from 3 to 5 in version 0.22.\n",
      "  warnings.warn(CV_WARNING, FutureWarning)\n",
      "/home/tantely/anaconda3/lib/python3.7/site-packages/sklearn/linear_model/logistic.py:433: FutureWarning: Default solver will be changed to 'lbfgs' in 0.22. Specify a solver to silence this warning.\n",
      "  FutureWarning)\n",
      "/home/tantely/anaconda3/lib/python3.7/site-packages/sklearn/linear_model/logistic.py:460: FutureWarning: Default multi_class will be changed to 'auto' in 0.22. Specify the multi_class option to silence this warning.\n",
      "  \"this warning.\", FutureWarning)\n"
     ]
    },
    {
     "data": {
      "text/plain": [
       "GridSearchCV(cv='warn', error_score='raise-deprecating',\n",
       "       estimator=LogisticRegression(C=1.0, class_weight=None, dual=False, fit_intercept=True,\n",
       "          intercept_scaling=1, max_iter=100, multi_class='warn',\n",
       "          n_jobs=None, penalty='l2', random_state=None, solver='warn',\n",
       "          tol=0.0001, verbose=0, warm_start=False),\n",
       "       fit_params=None, iid='warn', n_jobs=-1,\n",
       "       param_grid={'C': [0.01, 0.001, 1, 1.5]}, pre_dispatch='2*n_jobs',\n",
       "       refit=True, return_train_score='warn', scoring=None, verbose=0)"
      ]
     },
     "execution_count": 91,
     "metadata": {},
     "output_type": "execute_result"
    }
   ],
   "source": [
    "md_NB=LogisticRegression()\n",
    "parametre = {'C': [1e-2, 1e-3,1,1.5]}\n",
    "NB_model= GridSearchCV(md_NB,parametre,n_jobs=-1)\n",
    "NB_model.fit(X_train_word_average,y_train)"
   ]
  },
  {
   "cell_type": "code",
   "execution_count": 97,
   "metadata": {},
   "outputs": [
    {
     "data": {
      "text/plain": [
       "0.9264559771694324"
      ]
     },
     "execution_count": 97,
     "metadata": {},
     "output_type": "execute_result"
    }
   ],
   "source": [
    "NB_model.score(X_test_word_average,y_test)"
   ]
  },
  {
   "cell_type": "markdown",
   "metadata": {},
   "source": [
    "L'amélioration n'est pas si important que cela, mais on peut déjà considérer que l'on a de bon résultat."
   ]
  },
  {
   "cell_type": "markdown",
   "metadata": {},
   "source": [
    "### SVM:"
   ]
  },
  {
   "cell_type": "code",
   "execution_count": 100,
   "metadata": {},
   "outputs": [
    {
     "name": "stderr",
     "output_type": "stream",
     "text": [
      "/home/tantely/anaconda3/lib/python3.7/site-packages/sklearn/svm/base.py:922: ConvergenceWarning: Liblinear failed to converge, increase the number of iterations.\n",
      "  \"the number of iterations.\", ConvergenceWarning)\n",
      "/home/tantely/anaconda3/lib/python3.7/site-packages/sklearn/svm/base.py:922: ConvergenceWarning: Liblinear failed to converge, increase the number of iterations.\n",
      "  \"the number of iterations.\", ConvergenceWarning)\n",
      "/home/tantely/anaconda3/lib/python3.7/site-packages/sklearn/svm/base.py:922: ConvergenceWarning: Liblinear failed to converge, increase the number of iterations.\n",
      "  \"the number of iterations.\", ConvergenceWarning)\n"
     ]
    },
    {
     "name": "stdout",
     "output_type": "stream",
     "text": [
      "\n",
      " C optimal = 43.93970560760795\n"
     ]
    },
    {
     "data": {
      "image/png": "[encoded data removed]",
      "text/plain": [
       "<Figure size 432x288 with 1 Axes>"
      ]
     },
     "metadata": {
      "needs_background": "light"
     },
     "output_type": "display_data"
    }
   ],
   "source": [
    "paramC = 1\n",
    "clf_svm = LinearSVC(C = paramC)\n",
    "vectC = np.logspace(-3, 2, 15)\n",
    "err_val = np.empty(vectC.shape[0])\n",
    "err_app = np.empty(vectC.shape[0])\n",
    "for ind_C, C in enumerate(vectC):\n",
    "    clf_svm.C = C\n",
    "    clf_svm.fit(X_train_word_average, y_train)\n",
    "    # calcule erreur sur les donnees de validation et app\n",
    "    err_val[ind_C] = 1 - accuracy_score(y_val, clf_svm.predict(X_val_word_average))\n",
    "    err_app[ind_C] = 1 - accuracy_score(y_train, clf_svm.predict(X_train_word_average))\n",
    "err_min_val, ind_min = err_val.min(), err_val.argmin()\n",
    "Copt = vectC[ind_min]\n",
    "print(\"\\n C optimal = {}\".format(Copt))\n",
    "# Trace courbe erreur\n",
    "plt.figure()\n",
    "plt.semilogx(vectC, err_app, color=\"blue\", linestyle=\"--\", marker=\"s\", markersize=5, label=\"Apprentissage\")\n",
    "plt.semilogx(vectC, err_val, color=\"green\", linestyle=\"--\", marker=\"s\", markersize=5, label=\"Validation\")\n",
    "plt.xlabel(\"Parametre C\")\n",
    "plt.ylabel(\"Erreur Classification\")\n",
    "plt.legend(loc=\"best\")\n",
    "plt.show()"
   ]
  },
  {
   "cell_type": "code",
   "execution_count": 103,
   "metadata": {},
   "outputs": [
    {
     "name": "stderr",
     "output_type": "stream",
     "text": [
      "/home/tantely/anaconda3/lib/python3.7/site-packages/sklearn/svm/base.py:922: ConvergenceWarning: Liblinear failed to converge, increase the number of iterations.\n",
      "  \"the number of iterations.\", ConvergenceWarning)\n"
     ]
    },
    {
     "name": "stdout",
     "output_type": "stream",
     "text": [
      "Le score optimal pour svm=0.9385477222280942\n"
     ]
    },
    {
     "data": {
      "text/html": [
       "<div>\n",
       "<style scoped>\n",
       "    .dataframe tbody tr th:only-of-type {\n",
       "        vertical-align: middle;\n",
       "    }\n",
       "\n",
       "    .dataframe tbody tr th {\n",
       "        vertical-align: top;\n",
       "    }\n",
       "\n",
       "    .dataframe thead th {\n",
       "        text-align: right;\n",
       "    }\n",
       "</style>\n",
       "<table border=\"1\" class=\"dataframe\">\n",
       "  <thead>\n",
       "    <tr style=\"text-align: right;\">\n",
       "      <th></th>\n",
       "      <th>Finance_actuariat</th>\n",
       "      <th>chirurgien</th>\n",
       "      <th>cryptography</th>\n",
       "      <th>data scientist</th>\n",
       "      <th>dentist</th>\n",
       "      <th>developer</th>\n",
       "      <th>ditital_marketing</th>\n",
       "      <th>network_engineer</th>\n",
       "      <th>nurse</th>\n",
       "      <th>pharmacist</th>\n",
       "      <th>robotic</th>\n",
       "      <th>marge_true</th>\n",
       "    </tr>\n",
       "  </thead>\n",
       "  <tbody>\n",
       "    <tr>\n",
       "      <th>Finance_actuariat</th>\n",
       "      <td>1276</td>\n",
       "      <td>8</td>\n",
       "      <td>0</td>\n",
       "      <td>13</td>\n",
       "      <td>2</td>\n",
       "      <td>3</td>\n",
       "      <td>0</td>\n",
       "      <td>0</td>\n",
       "      <td>1</td>\n",
       "      <td>0</td>\n",
       "      <td>0</td>\n",
       "      <td>1303</td>\n",
       "    </tr>\n",
       "    <tr>\n",
       "      <th>chirurgien</th>\n",
       "      <td>2</td>\n",
       "      <td>5596</td>\n",
       "      <td>10</td>\n",
       "      <td>1</td>\n",
       "      <td>268</td>\n",
       "      <td>13</td>\n",
       "      <td>26</td>\n",
       "      <td>2</td>\n",
       "      <td>508</td>\n",
       "      <td>12</td>\n",
       "      <td>92</td>\n",
       "      <td>6530</td>\n",
       "    </tr>\n",
       "    <tr>\n",
       "      <th>cryptography</th>\n",
       "      <td>0</td>\n",
       "      <td>4</td>\n",
       "      <td>2488</td>\n",
       "      <td>12</td>\n",
       "      <td>7</td>\n",
       "      <td>13</td>\n",
       "      <td>1</td>\n",
       "      <td>42</td>\n",
       "      <td>2</td>\n",
       "      <td>0</td>\n",
       "      <td>96</td>\n",
       "      <td>2665</td>\n",
       "    </tr>\n",
       "    <tr>\n",
       "      <th>data scientist</th>\n",
       "      <td>11</td>\n",
       "      <td>3</td>\n",
       "      <td>10</td>\n",
       "      <td>2741</td>\n",
       "      <td>3</td>\n",
       "      <td>46</td>\n",
       "      <td>8</td>\n",
       "      <td>14</td>\n",
       "      <td>18</td>\n",
       "      <td>5</td>\n",
       "      <td>31</td>\n",
       "      <td>2890</td>\n",
       "    </tr>\n",
       "    <tr>\n",
       "      <th>dentist</th>\n",
       "      <td>0</td>\n",
       "      <td>179</td>\n",
       "      <td>14</td>\n",
       "      <td>0</td>\n",
       "      <td>6492</td>\n",
       "      <td>7</td>\n",
       "      <td>34</td>\n",
       "      <td>2</td>\n",
       "      <td>174</td>\n",
       "      <td>4</td>\n",
       "      <td>13</td>\n",
       "      <td>6919</td>\n",
       "    </tr>\n",
       "    <tr>\n",
       "      <th>developer</th>\n",
       "      <td>0</td>\n",
       "      <td>5</td>\n",
       "      <td>21</td>\n",
       "      <td>32</td>\n",
       "      <td>6</td>\n",
       "      <td>1693</td>\n",
       "      <td>7</td>\n",
       "      <td>13</td>\n",
       "      <td>5</td>\n",
       "      <td>0</td>\n",
       "      <td>20</td>\n",
       "      <td>1802</td>\n",
       "    </tr>\n",
       "    <tr>\n",
       "      <th>ditital_marketing</th>\n",
       "      <td>5</td>\n",
       "      <td>8</td>\n",
       "      <td>3</td>\n",
       "      <td>20</td>\n",
       "      <td>8</td>\n",
       "      <td>3</td>\n",
       "      <td>2953</td>\n",
       "      <td>5</td>\n",
       "      <td>15</td>\n",
       "      <td>1</td>\n",
       "      <td>12</td>\n",
       "      <td>3033</td>\n",
       "    </tr>\n",
       "    <tr>\n",
       "      <th>network_engineer</th>\n",
       "      <td>0</td>\n",
       "      <td>4</td>\n",
       "      <td>35</td>\n",
       "      <td>6</td>\n",
       "      <td>1</td>\n",
       "      <td>5</td>\n",
       "      <td>3</td>\n",
       "      <td>3070</td>\n",
       "      <td>0</td>\n",
       "      <td>0</td>\n",
       "      <td>17</td>\n",
       "      <td>3141</td>\n",
       "    </tr>\n",
       "    <tr>\n",
       "      <th>nurse</th>\n",
       "      <td>1</td>\n",
       "      <td>421</td>\n",
       "      <td>4</td>\n",
       "      <td>6</td>\n",
       "      <td>31</td>\n",
       "      <td>5</td>\n",
       "      <td>8</td>\n",
       "      <td>1</td>\n",
       "      <td>8509</td>\n",
       "      <td>64</td>\n",
       "      <td>14</td>\n",
       "      <td>9064</td>\n",
       "    </tr>\n",
       "    <tr>\n",
       "      <th>pharmacist</th>\n",
       "      <td>2</td>\n",
       "      <td>17</td>\n",
       "      <td>2</td>\n",
       "      <td>3</td>\n",
       "      <td>1</td>\n",
       "      <td>0</td>\n",
       "      <td>4</td>\n",
       "      <td>0</td>\n",
       "      <td>40</td>\n",
       "      <td>5157</td>\n",
       "      <td>0</td>\n",
       "      <td>5226</td>\n",
       "    </tr>\n",
       "    <tr>\n",
       "      <th>robotic</th>\n",
       "      <td>2</td>\n",
       "      <td>100</td>\n",
       "      <td>86</td>\n",
       "      <td>28</td>\n",
       "      <td>6</td>\n",
       "      <td>59</td>\n",
       "      <td>6</td>\n",
       "      <td>18</td>\n",
       "      <td>4</td>\n",
       "      <td>0</td>\n",
       "      <td>4423</td>\n",
       "      <td>4732</td>\n",
       "    </tr>\n",
       "    <tr>\n",
       "      <th>marge_pred</th>\n",
       "      <td>1299</td>\n",
       "      <td>6345</td>\n",
       "      <td>2673</td>\n",
       "      <td>2862</td>\n",
       "      <td>6825</td>\n",
       "      <td>1847</td>\n",
       "      <td>3050</td>\n",
       "      <td>3167</td>\n",
       "      <td>9276</td>\n",
       "      <td>5243</td>\n",
       "      <td>4718</td>\n",
       "      <td>47305</td>\n",
       "    </tr>\n",
       "  </tbody>\n",
       "</table>\n",
       "</div>"
      ],
      "text/plain": [
       "                   Finance_actuariat  chirurgien  cryptography  \\\n",
       "Finance_actuariat               1276           8             0   \n",
       "chirurgien                         2        5596            10   \n",
       "cryptography                       0           4          2488   \n",
       "data scientist                    11           3            10   \n",
       "dentist                            0         179            14   \n",
       "developer                          0           5            21   \n",
       "ditital_marketing                  5           8             3   \n",
       "network_engineer                   0           4            35   \n",
       "nurse                              1         421             4   \n",
       "pharmacist                         2          17             2   \n",
       "robotic                            2         100            86   \n",
       "marge_pred                      1299        6345          2673   \n",
       "\n",
       "                   data scientist  dentist  developer  ditital_marketing  \\\n",
       "Finance_actuariat              13        2          3                  0   \n",
       "chirurgien                      1      268         13                 26   \n",
       "cryptography                   12        7         13                  1   \n",
       "data scientist               2741        3         46                  8   \n",
       "dentist                         0     6492          7                 34   \n",
       "developer                      32        6       1693                  7   \n",
       "ditital_marketing              20        8          3               2953   \n",
       "network_engineer                6        1          5                  3   \n",
       "nurse                           6       31          5                  8   \n",
       "pharmacist                      3        1          0                  4   \n",
       "robotic                        28        6         59                  6   \n",
       "marge_pred                   2862     6825       1847               3050   \n",
       "\n",
       "                   network_engineer  nurse  pharmacist  robotic  marge_true  \n",
       "Finance_actuariat                 0      1           0        0        1303  \n",
       "chirurgien                        2    508          12       92        6530  \n",
       "cryptography                     42      2           0       96        2665  \n",
       "data scientist                   14     18           5       31        2890  \n",
       "dentist                           2    174           4       13        6919  \n",
       "developer                        13      5           0       20        1802  \n",
       "ditital_marketing                 5     15           1       12        3033  \n",
       "network_engineer               3070      0           0       17        3141  \n",
       "nurse                             1   8509          64       14        9064  \n",
       "pharmacist                        0     40        5157        0        5226  \n",
       "robotic                          18      4           0     4423        4732  \n",
       "marge_pred                     3167   9276        5243     4718       47305  "
      ]
     },
     "execution_count": 103,
     "metadata": {},
     "output_type": "execute_result"
    }
   ],
   "source": [
    "clf_svm.C = Copt \n",
    "clf_svm.fit(X_train_word_average, y_train)\n",
    "pred=clf_svm.predict(X_test_word_average)\n",
    "score_svm=accuracy_score(y_test, clf_svm.predict(X_test_word_average))\n",
    "print(\"Le score optimal pour svm={}\".format(score_svm))\n",
    "ConfusionMatrix(pred,y_test)"
   ]
  },
  {
   "cell_type": "markdown",
   "metadata": {},
   "source": [
    "Pour le plongement de mot se basant sur la moyenne des metriques que sort le word2vec, on constate que les résultats des prédictions que l'on obtient n'est pas si efficace que celui du TF-IDF sur les deux algorithmes de références que l'on a choisis. "
   ]
  },
  {
   "cell_type": "markdown",
   "metadata": {},
   "source": [
    "## Autre méthodes:"
   ]
  },
  {
   "cell_type": "code",
   "execution_count": 24,
   "metadata": {},
   "outputs": [],
   "source": [
    "def featureVecMethod(words, model, num_features):\n",
    "    # Pre-initialising empty numpy array for speed\n",
    "    featureVec = np.zeros(num_features,dtype=\"float32\")\n",
    "    nwords = 0\n",
    "    \n",
    "    #Converting Index2Word which is a list to a set for better speed in the execution.\n",
    "    index2word_set = set(model.wv.index2word)\n",
    "    \n",
    "    for word in  words:\n",
    "        if word in index2word_set:\n",
    "            nwords = nwords + 1\n",
    "            featureVec = np.add(featureVec,model[word])\n",
    "    \n",
    "    # Dividing the result by number of words to get average\n",
    "    if nwords==0:\n",
    "        return np.zeros(num_features,)\n",
    "    featureVec = np.divide(featureVec, nwords)\n",
    "    return featureVec"
   ]
  },
  {
   "cell_type": "code",
   "execution_count": 25,
   "metadata": {},
   "outputs": [],
   "source": [
    "# Function for calculating the average feature vector\n",
    "def getAvgFeatureVecs(reviews, model, num_features):\n",
    "    counter = 0\n",
    "    reviewFeatureVecs = np.zeros((len(reviews),num_features),dtype=\"float32\")\n",
    "    for review in reviews:\n",
    "        \n",
    "        reviewFeatureVecs[counter] = featureVecMethod(review, model, num_features)\n",
    "        counter = counter+1\n",
    "        \n",
    "    return reviewFeatureVecs"
   ]
  },
  {
   "cell_type": "code",
   "execution_count": 26,
   "metadata": {},
   "outputs": [
    {
     "name": "stderr",
     "output_type": "stream",
     "text": [
      "/home/tantely/anaconda3/lib/python3.7/site-packages/ipykernel_launcher.py:12: DeprecationWarning: Call to deprecated `__getitem__` (Method will be removed in 4.0.0, use self.wv.__getitem__() instead).\n",
      "  if sys.path[0] == '':\n"
     ]
    }
   ],
   "source": [
    "trainDataVecs = getAvgFeatureVecs(train_tokenized, model, 150)"
   ]
  },
  {
   "cell_type": "code",
   "execution_count": 27,
   "metadata": {},
   "outputs": [
    {
     "name": "stderr",
     "output_type": "stream",
     "text": [
      "/home/tantely/anaconda3/lib/python3.7/site-packages/ipykernel_launcher.py:12: DeprecationWarning: Call to deprecated `__getitem__` (Method will be removed in 4.0.0, use self.wv.__getitem__() instead).\n",
      "  if sys.path[0] == '':\n"
     ]
    }
   ],
   "source": [
    "testDataVecs = getAvgFeatureVecs(test_tokenized, model, 150)"
   ]
  },
  {
   "cell_type": "code",
   "execution_count": 31,
   "metadata": {},
   "outputs": [
    {
     "name": "stderr",
     "output_type": "stream",
     "text": [
      "/home/tantely/anaconda3/lib/python3.7/site-packages/sklearn/linear_model/logistic.py:433: FutureWarning: Default solver will be changed to 'lbfgs' in 0.22. Specify a solver to silence this warning.\n",
      "  FutureWarning)\n",
      "/home/tantely/anaconda3/lib/python3.7/site-packages/sklearn/linear_model/logistic.py:460: FutureWarning: Default multi_class will be changed to 'auto' in 0.22. Specify the multi_class option to silence this warning.\n",
      "  \"this warning.\", FutureWarning)\n"
     ]
    },
    {
     "data": {
      "text/plain": [
       "0"
      ]
     },
     "execution_count": 31,
     "metadata": {},
     "output_type": "execute_result"
    }
   ],
   "source": [
    "md_NB=LogisticRegression()\n",
    "md_NB.fit(trainDataVecs ,y_train)\n",
    "np.sum(np.isnan(trainDataVecs))\n",
    "np.sum(np.isnan(testDataVecs))"
   ]
  },
  {
   "cell_type": "code",
   "execution_count": 32,
   "metadata": {},
   "outputs": [
    {
     "data": {
      "text/plain": [
       "0.8955360603177959"
      ]
     },
     "execution_count": 32,
     "metadata": {},
     "output_type": "execute_result"
    }
   ],
   "source": [
    "md_NB.score(testDataVecs ,y_test)"
   ]
  },
  {
   "cell_type": "code",
   "execution_count": 33,
   "metadata": {},
   "outputs": [],
   "source": [
    "md_NB=LogisticRegression()\n",
    "parametre={\"C\":[-0.5,-0.2,-0.1,0,0.1,0.5,1,2]}\n",
    "lrg=GridSearchCV(md_NB,param_grid=parametre,n_jobs=-1)"
   ]
  },
  {
   "cell_type": "code",
   "execution_count": 34,
   "metadata": {},
   "outputs": [
    {
     "data": {
      "text/plain": [
       "46358"
      ]
     },
     "execution_count": 34,
     "metadata": {},
     "output_type": "execute_result"
    }
   ],
   "source": []
  },
  {
   "cell_type": "markdown",
   "metadata": {},
   "source": [
    "# Utilisation de Keras:"
   ]
  },
  {
   "cell_type": "code",
   "execution_count": 80,
   "metadata": {},
   "outputs": [],
   "source": [
    "from keras.preprocessing.text import Tokenizer\n",
    "\n",
    "tokenizer = Tokenizer()\n",
    "tokenizer.fit_on_texts(X_train)\n",
    "\n",
    "X_train_keras = tokenizer.texts_to_sequences(X_train)\n",
    "X_test_keras = tokenizer.texts_to_sequences(X_test)\n",
    "X_val_keras = tokenizer.texts_to_sequences(X_val)\n",
    " # Adding 1 because of reserved 0 index\n",
    "\n",
    "\n",
    "print(X_train_keras[2])"
   ]
  },
  {
   "cell_type": "markdown",
   "metadata": {},
   "source": [
    "Pour avoir une taille fixe de nos données, on va regarder qui est le document contenant le plus de mot. Nous allons fixer un pad par rapport à la longuer du document possèdant le plus de mot.Le numéro de chaque mot est dans tokenizer.word_index, donc comme il se peut que dans la suite on aurait besoin du nombre de mot total, on va alors prendre la longueur de tokenizer.word_index+1 pour avoir le nombre de mot qu'on a. (+1 car on numérote les mots à partir de 0)"
   ]
  },
  {
   "cell_type": "code",
   "execution_count": 126,
   "metadata": {},
   "outputs": [
    {
     "data": {
      "text/plain": [
       "{'experience': 1,\n",
       " 'patient': 2,\n",
       " 'care': 3,\n",
       " 'work': 4,\n",
       " 'team': 5,\n",
       " 'service': 6,\n",
       " 'required': 7,\n",
       " 'skill': 8,\n",
       " 'data': 9,\n",
       " 'health': 10,\n",
       " 'ability': 11,\n",
       " 'system': 12,\n",
       " 'year': 13,\n",
       " 'the': 14,\n",
       " 'support': 15,\n",
       " 'including': 16,\n",
       " 'opportunity': 17,\n",
       " 'management': 18,\n",
       " 'position': 19,\n",
       " 'information': 20,\n",
       " 'job': 21,\n",
       " 'knowledge': 22,\n",
       " 'medical': 23,\n",
       " 'business': 24,\n",
       " 'practice': 25,\n",
       " 'customer': 26,\n",
       " 'program': 27,\n",
       " 'must': 28,\n",
       " 'requirement': 29,\n",
       " 'dental': 30,\n",
       " 'network': 31,\n",
       " 'provide': 32,\n",
       " 'development': 33,\n",
       " 'pharmacy': 34,\n",
       " 'nursing': 35,\n",
       " 'technology': 36,\n",
       " 'education': 37,\n",
       " 'employee': 38,\n",
       " 'product': 39,\n",
       " 'clinical': 40,\n",
       " 'new': 41,\n",
       " 'security': 42,\n",
       " 'professional': 43,\n",
       " 'environment': 44,\n",
       " 'state': 45,\n",
       " 'responsibility': 46,\n",
       " 'preferred': 47,\n",
       " 'qualification': 48,\n",
       " 'company': 49,\n",
       " 'process': 50,\n",
       " 'we': 51,\n",
       " 'degree': 52,\n",
       " 'procedure': 53,\n",
       " 'working': 54,\n",
       " 'design': 55,\n",
       " 'need': 56,\n",
       " 'application': 57,\n",
       " 'may': 58,\n",
       " 'time': 59,\n",
       " 'project': 60,\n",
       " 'nurse': 61,\n",
       " 'plan': 62,\n",
       " 'status': 63,\n",
       " 'staff': 64,\n",
       " 'communication': 65,\n",
       " 'quality': 66,\n",
       " 'solution': 67,\n",
       " 'within': 68,\n",
       " 'related': 69,\n",
       " 'u': 70,\n",
       " 'employment': 71,\n",
       " 'andor': 72,\n",
       " 'technical': 73,\n",
       " 'duty': 74,\n",
       " 'member': 75,\n",
       " 'strong': 76,\n",
       " 'hospital': 77,\n",
       " 'benefit': 78,\n",
       " 'marketing': 79,\n",
       " 'level': 80,\n",
       " 'standard': 81,\n",
       " 'engineering': 82,\n",
       " 'software': 83,\n",
       " 'center': 84,\n",
       " 'one': 85,\n",
       " 'training': 86,\n",
       " 'department': 87,\n",
       " 'policy': 88,\n",
       " 'current': 89,\n",
       " 'digital': 90,\n",
       " 'appropriate': 91,\n",
       " 'a': 92,\n",
       " 'office': 93,\n",
       " 'this': 94,\n",
       " 'responsible': 95,\n",
       " 'assist': 96,\n",
       " 'area': 97,\n",
       " 'equipment': 98,\n",
       " 'certification': 99,\n",
       " 'ensure': 100,\n",
       " 'provides': 101,\n",
       " 'physician': 102,\n",
       " 'medication': 103,\n",
       " 'applicant': 104,\n",
       " 'individual': 105,\n",
       " 'disability': 106,\n",
       " 'life': 107,\n",
       " 'community': 108,\n",
       " 'develop': 109,\n",
       " 'well': 110,\n",
       " 'excellent': 111,\n",
       " 'day': 112,\n",
       " 'problem': 113,\n",
       " 'organization': 114,\n",
       " 'perform': 115,\n",
       " 'make': 116,\n",
       " 'role': 117,\n",
       " 'analysis': 118,\n",
       " 'computer': 119,\n",
       " 'function': 120,\n",
       " 'performance': 121,\n",
       " 'help': 122,\n",
       " 'maintain': 123,\n",
       " 'include': 124,\n",
       " 'healthcare': 125,\n",
       " 'minimum': 126,\n",
       " 'employer': 127,\n",
       " 'tool': 128,\n",
       " 'candidate': 129,\n",
       " 'equal': 130,\n",
       " 'use': 131,\n",
       " 'activity': 132,\n",
       " 'career': 133,\n",
       " 'report': 134,\n",
       " 'review': 135,\n",
       " 'client': 136,\n",
       " 'license': 137,\n",
       " 'veteran': 138,\n",
       " 'using': 139,\n",
       " 'providing': 140,\n",
       " 'people': 141,\n",
       " 'drug': 142,\n",
       " 'assigned': 143,\n",
       " 'you': 144,\n",
       " 'national': 145,\n",
       " 'apply': 146,\n",
       " 'engineer': 147,\n",
       " 'manager': 148,\n",
       " 'based': 149,\n",
       " 'able': 150,\n",
       " 'operation': 151,\n",
       " 'best': 152,\n",
       " 'research': 153,\n",
       " 'science': 154,\n",
       " 'part': 155,\n",
       " 'meet': 156,\n",
       " 'treatment': 157,\n",
       " 'family': 158,\n",
       " 'group': 159,\n",
       " 'school': 160,\n",
       " 'offer': 161,\n",
       " 'field': 162,\n",
       " 'high': 163,\n",
       " 'sale': 164,\n",
       " 'pharmacist': 165,\n",
       " 'bachelor': 166,\n",
       " 'control': 167,\n",
       " 'understanding': 168,\n",
       " 'etc': 169,\n",
       " 'also': 170,\n",
       " 'provider': 171,\n",
       " 'test': 172,\n",
       " 'physical': 173,\n",
       " 'record': 174,\n",
       " '1': 175,\n",
       " 'issue': 176,\n",
       " 'order': 177,\n",
       " 'location': 178,\n",
       " 'across': 179,\n",
       " 'value': 180,\n",
       " 'surgical': 181,\n",
       " 'our': 182,\n",
       " 'written': 183,\n",
       " 'change': 184,\n",
       " 'dentist': 185,\n",
       " 'insurance': 186,\n",
       " 'following': 187,\n",
       " 'industry': 188,\n",
       " 'vision': 189,\n",
       " 'join': 190,\n",
       " 'needed': 191,\n",
       " 'document': 192,\n",
       " 'age': 193,\n",
       " 'registered': 194,\n",
       " 'orientation': 195,\n",
       " 'lead': 196,\n",
       " 'gender': 197,\n",
       " '2': 198,\n",
       " 'goal': 199,\n",
       " 'general': 200,\n",
       " 'rn': 201,\n",
       " 'please': 202,\n",
       " 'advanced': 203,\n",
       " 'leadership': 204,\n",
       " 'learning': 205,\n",
       " 'strategy': 206,\n",
       " 'accredited': 207,\n",
       " 'essential': 208,\n",
       " 'complex': 209,\n",
       " 'hour': 210,\n",
       " 'law': 211,\n",
       " 'model': 212,\n",
       " 'schedule': 213,\n",
       " 'color': 214,\n",
       " 'facility': 215,\n",
       " 'world': 216,\n",
       " 'result': 217,\n",
       " 'youll': 218,\n",
       " 'build': 219,\n",
       " 'qualified': 220,\n",
       " 'access': 221,\n",
       " '3': 222,\n",
       " 'basic': 223,\n",
       " 'looking': 224,\n",
       " 'testing': 225,\n",
       " 'safety': 226,\n",
       " 'analytics': 227,\n",
       " 'manage': 228,\n",
       " 'implement': 229,\n",
       " 'race': 230,\n",
       " 'religion': 231,\n",
       " 'partner': 232,\n",
       " 'resource': 233,\n",
       " 'without': 234,\n",
       " 'origin': 235,\n",
       " 'effectively': 236,\n",
       " 'protected': 237,\n",
       " 'key': 238,\n",
       " 'necessary': 239,\n",
       " 'implementation': 240,\n",
       " 'planning': 241,\n",
       " 'financial': 242,\n",
       " 'mission': 243,\n",
       " 'if': 244,\n",
       " 'documentation': 245,\n",
       " 'internal': 246,\n",
       " 'action': 247,\n",
       " 'sexual': 248,\n",
       " 'multiple': 249,\n",
       " 'full': 250,\n",
       " 'description': 251,\n",
       " 'platform': 252,\n",
       " 'effective': 253,\n",
       " 'additional': 254,\n",
       " 'unit': 255,\n",
       " 'relationship': 256,\n",
       " 'take': 257,\n",
       " 'equivalent': 258,\n",
       " 'surgery': 259,\n",
       " 'drive': 260,\n",
       " 'student': 261,\n",
       " 'condition': 262,\n",
       " 'federal': 263,\n",
       " 'maintains': 264,\n",
       " 'specific': 265,\n",
       " 'surgeon': 266,\n",
       " 'performs': 267,\n",
       " 'improvement': 268,\n",
       " 'social': 269,\n",
       " 'improve': 270,\n",
       " 'in': 271,\n",
       " 'developing': 272,\n",
       " 'create': 273,\n",
       " '5': 274,\n",
       " 'compliance': 275,\n",
       " 'identity': 276,\n",
       " 'setting': 277,\n",
       " 'good': 278,\n",
       " 'highly': 279,\n",
       " 'travel': 280,\n",
       " 'assessment': 281,\n",
       " 'receive': 282,\n",
       " 'task': 283,\n",
       " 'growth': 284,\n",
       " 'shift': 285,\n",
       " 'plus': 286,\n",
       " 'oral': 287,\n",
       " 'sex': 288,\n",
       " 'paid': 289,\n",
       " 'communicate': 290,\n",
       " 'medium': 291,\n",
       " 'others': 292,\n",
       " 'various': 293,\n",
       " 'learn': 294,\n",
       " 'associate': 295,\n",
       " 'machine': 296,\n",
       " 'identify': 297,\n",
       " 'specialty': 298,\n",
       " 'technique': 299,\n",
       " 'type': 300,\n",
       " 'risk': 301,\n",
       " 'comprehensive': 302,\n",
       " 'every': 303,\n",
       " 'per': 304,\n",
       " 'complete': 305,\n",
       " 'critical': 306,\n",
       " 'focus': 307,\n",
       " 'primary': 308,\n",
       " 'clinic': 309,\n",
       " 'includes': 310,\n",
       " 'leader': 311,\n",
       " 'contact': 312,\n",
       " 'global': 313,\n",
       " 'committed': 314,\n",
       " 'protocol': 315,\n",
       " 'summary': 316,\n",
       " 'monitoring': 317,\n",
       " 'direct': 318,\n",
       " 'content': 319,\n",
       " 'delivery': 320,\n",
       " 'competitive': 321,\n",
       " 'leading': 322,\n",
       " 'manner': 323,\n",
       " 'operating': 324,\n",
       " 'requires': 325,\n",
       " 'it': 326,\n",
       " 'therapy': 327,\n",
       " 'outcome': 328,\n",
       " 'university': 329,\n",
       " 'applicable': 330,\n",
       " 'local': 331,\n",
       " 'available': 332,\n",
       " 'building': 333,\n",
       " 'background': 334,\n",
       " 'automation': 335,\n",
       " 'monitor': 336,\n",
       " 'expertise': 337,\n",
       " 'decision': 338,\n",
       " 'eg': 339,\n",
       " 'fulltime': 340,\n",
       " 'supply': 341,\n",
       " 'reporting': 342,\n",
       " 'meeting': 343,\n",
       " 'board': 344,\n",
       " 'demonstrated': 345,\n",
       " 'variety': 346,\n",
       " 'regulation': 347,\n",
       " 'coordinate': 348,\n",
       " 'regard': 349,\n",
       " 'maintenance': 350,\n",
       " 'participate': 351,\n",
       " 'participates': 352,\n",
       " 'agency': 353,\n",
       " 'personnel': 354,\n",
       " 'initiative': 355,\n",
       " 'set': 356,\n",
       " 'successful': 357,\n",
       " 'future': 358,\n",
       " 'relevant': 359,\n",
       " 'way': 360,\n",
       " 'great': 361,\n",
       " 'regarding': 362,\n",
       " 'to': 363,\n",
       " 'verbal': 364,\n",
       " 'deliver': 365,\n",
       " 'supervision': 366,\n",
       " 'assistant': 367,\n",
       " 'completion': 368,\n",
       " 'case': 369,\n",
       " 'limited': 370,\n",
       " 'material': 371,\n",
       " 'infrastructure': 372,\n",
       " 'graduate': 373,\n",
       " 'consideration': 374,\n",
       " 'manufacturing': 375,\n",
       " 'user': 376,\n",
       " 'home': 377,\n",
       " 'serve': 378,\n",
       " 'seeking': 379,\n",
       " 'market': 380,\n",
       " 'diverse': 381,\n",
       " 'basis': 382,\n",
       " 'understand': 383,\n",
       " 'production': 384,\n",
       " 'success': 385,\n",
       " 'accordance': 386,\n",
       " 'device': 387,\n",
       " 'call': 388,\n",
       " 'culture': 389,\n",
       " 'detail': 390,\n",
       " 'architecture': 391,\n",
       " 'demonstrates': 392,\n",
       " 'director': 393,\n",
       " 'external': 394,\n",
       " 'site': 395,\n",
       " 'range': 396,\n",
       " 'person': 397,\n",
       " 'innovative': 398,\n",
       " 'timely': 399,\n",
       " 'supporting': 400,\n",
       " 'like': 401,\n",
       " 'established': 402,\n",
       " 'email': 403,\n",
       " 'account': 404,\n",
       " 'enterprise': 405,\n",
       " 'administration': 406,\n",
       " 'united': 407,\n",
       " 'brand': 408,\n",
       " 'room': 409,\n",
       " 'online': 410,\n",
       " 'conduct': 411,\n",
       " 'american': 412,\n",
       " 'maintaining': 413,\n",
       " 'resident': 414,\n",
       " 'innovation': 415,\n",
       " 'licensed': 416,\n",
       " 'integration': 417,\n",
       " 'date': 418,\n",
       " 'analytical': 419,\n",
       " 'assistance': 420,\n",
       " 'package': 421,\n",
       " 'personal': 422,\n",
       " 'for': 423,\n",
       " 'positive': 424,\n",
       " 'hire': 425,\n",
       " 'potential': 426,\n",
       " 'visit': 427,\n",
       " 'compensation': 428,\n",
       " 'better': 429,\n",
       " 'evaluation': 430,\n",
       " 'daily': 431,\n",
       " 'guideline': 432,\n",
       " 'throughout': 433,\n",
       " 'dentistry': 434,\n",
       " 'excellence': 435,\n",
       " 'growing': 436,\n",
       " 'interpersonal': 437,\n",
       " 'month': 438,\n",
       " 'all': 439,\n",
       " 'prior': 440,\n",
       " 'collaboration': 441,\n",
       " 'active': 442,\n",
       " 'impact': 443,\n",
       " 'code': 444,\n",
       " 'programming': 445,\n",
       " 'expert': 446,\n",
       " 'safe': 447,\n",
       " 'cloud': 448,\n",
       " 'campaign': 449,\n",
       " 'california': 450,\n",
       " 'emergency': 451,\n",
       " 'accommodation': 452,\n",
       " 'act': 453,\n",
       " 'modeling': 454,\n",
       " 'database': 455,\n",
       " 'at': 456,\n",
       " 'organizational': 457,\n",
       " 'objective': 458,\n",
       " 'web': 459,\n",
       " 'licensure': 460,\n",
       " 'college': 461,\n",
       " 'posse': 462,\n",
       " 'microsoft': 463,\n",
       " 'check': 464,\n",
       " 'robotics': 465,\n",
       " 'va': 466,\n",
       " 'medicine': 467,\n",
       " 'cost': 468,\n",
       " 'first': 469,\n",
       " 'pay': 470,\n",
       " 'direction': 471,\n",
       " 'senior': 472,\n",
       " 'performing': 473,\n",
       " 'making': 474,\n",
       " 'request': 475,\n",
       " 'technician': 476,\n",
       " 'least': 477,\n",
       " 'salary': 478,\n",
       " 'certified': 479,\n",
       " 'independently': 480,\n",
       " 'public': 481,\n",
       " 'overview': 482,\n",
       " 'hardware': 483,\n",
       " 'ensures': 484,\n",
       " 'right': 485,\n",
       " 'achieve': 486,\n",
       " 'commitment': 487,\n",
       " 'large': 488,\n",
       " 'two': 489,\n",
       " 'and': 490,\n",
       " 'used': 491,\n",
       " 'language': 492,\n",
       " 'strategic': 493,\n",
       " 'concept': 494,\n",
       " '4': 495,\n",
       " 'want': 496,\n",
       " 'master': 497,\n",
       " 'place': 498,\n",
       " 'existing': 499,\n",
       " 'addition': 500,\n",
       " '10': 501,\n",
       " 'managing': 502,\n",
       " 'competency': 503,\n",
       " 'largest': 504,\n",
       " 'core': 505,\n",
       " 'operational': 506,\n",
       " 'principle': 507,\n",
       " 'challenge': 508,\n",
       " 'eligible': 509,\n",
       " '6': 510,\n",
       " 'disease': 511,\n",
       " 'specialist': 512,\n",
       " 'develops': 513,\n",
       " 'special': 514,\n",
       " 'analyze': 515,\n",
       " 'method': 516,\n",
       " 'demonstrate': 517,\n",
       " 'integrity': 518,\n",
       " 'creative': 519,\n",
       " 'instrument': 520,\n",
       " 'cisco': 521,\n",
       " 'collaborate': 522,\n",
       " 'event': 523,\n",
       " 'or': 524,\n",
       " 'according': 525,\n",
       " 'recommendation': 526,\n",
       " 'accurate': 527,\n",
       " 'effort': 528,\n",
       " 'diversity': 529,\n",
       " 'ongoing': 530,\n",
       " 'upon': 531,\n",
       " 'excel': 532,\n",
       " 'other': 533,\n",
       " 'approach': 534,\n",
       " 'closely': 535,\n",
       " 'processing': 536,\n",
       " 'idea': 537,\n",
       " 'proven': 538,\n",
       " 'vendor': 539,\n",
       " 'electrical': 540,\n",
       " 'require': 541,\n",
       " 'solving': 542,\n",
       " 'ass': 543,\n",
       " 'week': 544,\n",
       " 'regulatory': 545,\n",
       " 'number': 546,\n",
       " 'experienced': 547,\n",
       " 'insight': 548,\n",
       " 'capability': 549,\n",
       " 'heart': 550,\n",
       " 'troubleshooting': 551,\n",
       " 'history': 552,\n",
       " 'around': 553,\n",
       " 'colleague': 554,\n",
       " 'educational': 555,\n",
       " 'grow': 556,\n",
       " 'provided': 557,\n",
       " 'website': 558,\n",
       " 'note': 559,\n",
       " 'open': 560,\n",
       " 'hand': 561,\n",
       " 'ensuring': 562,\n",
       " 'subject': 563,\n",
       " 'sql': 564,\n",
       " 'hiring': 565,\n",
       " 'continuous': 566,\n",
       " 'c': 567,\n",
       " 'proficiency': 568,\n",
       " 'no': 569,\n",
       " 'python': 570,\n",
       " 'course': 571,\n",
       " 'resume': 572,\n",
       " 'human': 573,\n",
       " 'genetic': 574,\n",
       " 'interaction': 575,\n",
       " 'source': 576,\n",
       " 'networking': 577,\n",
       " 'keep': 578,\n",
       " 'desired': 579,\n",
       " 'demand': 580,\n",
       " 'flexible': 581,\n",
       " 'statistical': 582,\n",
       " 'assignment': 583,\n",
       " 'form': 584,\n",
       " 'aspect': 585,\n",
       " 'get': 586,\n",
       " 'pharmaceutical': 587,\n",
       " 'implementing': 588,\n",
       " 'actuarial': 589,\n",
       " 'dedicated': 590,\n",
       " 'b': 591,\n",
       " 'city': 592,\n",
       " 'reasonable': 593,\n",
       " 'presentation': 594,\n",
       " 'corporate': 595,\n",
       " 'question': 596,\n",
       " 'instruction': 597,\n",
       " 'stakeholder': 598,\n",
       " 'located': 599,\n",
       " 'top': 600,\n",
       " 'evaluate': 601,\n",
       " 'purpose': 602,\n",
       " 'obtain': 603,\n",
       " 'line': 604,\n",
       " 'difference': 605,\n",
       " 'period': 606,\n",
       " 'consistent': 607,\n",
       " 'currently': 608,\n",
       " 'today': 609,\n",
       " 'many': 610,\n",
       " 'three': 611,\n",
       " 'follow': 612,\n",
       " 'recognized': 613,\n",
       " 'residency': 614,\n",
       " 'overall': 615,\n",
       " 'functional': 616,\n",
       " 'together': 617,\n",
       " 'passion': 618,\n",
       " 'scientist': 619,\n",
       " 'study': 620,\n",
       " 'component': 621,\n",
       " 'characteristic': 622,\n",
       " 'collaborative': 623,\n",
       " 'dynamic': 624,\n",
       " 'discipline': 625,\n",
       " 'exceptional': 626,\n",
       " 'situation': 627,\n",
       " '401k': 628,\n",
       " 'doctor': 629,\n",
       " 'administrative': 630,\n",
       " 'inc': 631,\n",
       " 'share': 632,\n",
       " 'trend': 633,\n",
       " 'proper': 634,\n",
       " 'scope': 635,\n",
       " 'possible': 636,\n",
       " 'considered': 637,\n",
       " 'bls': 638,\n",
       " 'mechanical': 639,\n",
       " 'response': 640,\n",
       " 'regular': 641,\n",
       " 'mental': 642,\n",
       " 'valid': 643,\n",
       " 'inventory': 644,\n",
       " 'priority': 645,\n",
       " 'military': 646,\n",
       " 'directly': 647,\n",
       " 'resolve': 648,\n",
       " 'wide': 649,\n",
       " 'teaching': 650,\n",
       " 'marital': 651,\n",
       " 'offering': 652,\n",
       " 'weekend': 653,\n",
       " 'creating': 654,\n",
       " 'google': 655,\n",
       " 'utilizing': 656,\n",
       " 'come': 657,\n",
       " 'successfully': 658,\n",
       " 'would': 659,\n",
       " 'become': 660,\n",
       " 'lab': 661,\n",
       " 'next': 662,\n",
       " 'focused': 663,\n",
       " 'assisting': 664,\n",
       " 'word': 665,\n",
       " 'expected': 666,\n",
       " 'writing': 667,\n",
       " 'association': 668,\n",
       " 'division': 669,\n",
       " 'point': 670,\n",
       " 'contribute': 671,\n",
       " 'appointment': 672,\n",
       " 'matter': 673,\n",
       " 'acute': 674,\n",
       " 'supervisor': 675,\n",
       " 'solve': 676,\n",
       " 'intervention': 677,\n",
       " 'track': 678,\n",
       " 'attention': 679,\n",
       " 'exposure': 680,\n",
       " 'with': 681,\n",
       " 'class': 682,\n",
       " 'ie': 683,\n",
       " 'proficient': 684,\n",
       " 'referral': 685,\n",
       " 'unique': 686,\n",
       " 'country': 687,\n",
       " 'delivering': 688,\n",
       " 'efficient': 689,\n",
       " 'child': 690,\n",
       " 'million': 691,\n",
       " 'execution': 692,\n",
       " 'seek': 693,\n",
       " 'be': 694,\n",
       " 'population': 695,\n",
       " 'list': 696,\n",
       " 'server': 697,\n",
       " 'citizenship': 698,\n",
       " 'approved': 699,\n",
       " 'familiarity': 700,\n",
       " 'about': 701,\n",
       " 'coordination': 702,\n",
       " 'preparation': 703,\n",
       " 'prescription': 704,\n",
       " 'what': 705,\n",
       " 'guidance': 706,\n",
       " 'made': 707,\n",
       " 'county': 708,\n",
       " 'examination': 709,\n",
       " 'm': 710,\n",
       " 'asset': 711,\n",
       " 'love': 712,\n",
       " 'helping': 713,\n",
       " 'term': 714,\n",
       " 'statement': 715,\n",
       " 'annual': 716,\n",
       " 'holiday': 717,\n",
       " 'promote': 718,\n",
       " 'know': 719,\n",
       " 'retail': 720,\n",
       " '12': 721,\n",
       " 'completed': 722,\n",
       " 'analyst': 723,\n",
       " 'workplace': 724,\n",
       " 'your': 725,\n",
       " 'enjoy': 726,\n",
       " 'configuration': 727,\n",
       " 'determine': 728,\n",
       " 'update': 729,\n",
       " 'america': 730,\n",
       " 'respect': 731,\n",
       " '8': 732,\n",
       " 'coverage': 733,\n",
       " 'actively': 734,\n",
       " 'pediatric': 735,\n",
       " 'diploma': 736,\n",
       " '50': 737,\n",
       " 'enhance': 738,\n",
       " 'certificate': 739,\n",
       " 'standing': 740,\n",
       " 'address': 741,\n",
       " 'phone': 742,\n",
       " 'enable': 743,\n",
       " 'designing': 744,\n",
       " 'prepare': 745,\n",
       " 'behavior': 746,\n",
       " 'accountability': 747,\n",
       " 'eligibility': 748,\n",
       " 'major': 749,\n",
       " 'see': 750,\n",
       " 'representative': 751,\n",
       " 'institution': 752,\n",
       " 'youre': 753,\n",
       " 'clearance': 754,\n",
       " 'previous': 755,\n",
       " 'methodology': 756,\n",
       " 'statistic': 757,\n",
       " 'present': 758,\n",
       " 'nation': 759,\n",
       " 'st': 760,\n",
       " 'expression': 761,\n",
       " 'live': 762,\n",
       " 'different': 763,\n",
       " 'electronic': 764,\n",
       " 'regional': 765,\n",
       " 'accurately': 766,\n",
       " 'specification': 767,\n",
       " 'retirement': 768,\n",
       " 'interest': 769,\n",
       " 'intelligence': 770,\n",
       " 'mean': 771,\n",
       " 'consumer': 772,\n",
       " 'option': 773,\n",
       " 'associated': 774,\n",
       " 'algorithm': 775,\n",
       " 'handle': 776,\n",
       " 'outpatient': 777,\n",
       " 'budget': 778,\n",
       " 'investigation': 779,\n",
       " 'handson': 780,\n",
       " 'thinking': 781,\n",
       " 'pound': 782,\n",
       " 'serf': 783,\n",
       " 'find': 784,\n",
       " 'government': 785,\n",
       " 'thing': 786,\n",
       " 'ready': 787,\n",
       " '100': 788,\n",
       " 'fastpaced': 789,\n",
       " 'intern': 790,\n",
       " 'changing': 791,\n",
       " 'optimization': 792,\n",
       " 'cv': 793,\n",
       " 'bring': 794,\n",
       " 'do': 795,\n",
       " 'channel': 796,\n",
       " 'big': 797,\n",
       " 'power': 798,\n",
       " 'robotic': 799,\n",
       " 'video': 800,\n",
       " 'teamwork': 801,\n",
       " 'ideal': 802,\n",
       " 'wellness': 803,\n",
       " 'mobile': 804,\n",
       " 'passionate': 805,\n",
       " 'territory': 806,\n",
       " 'search': 807,\n",
       " 'discharge': 808,\n",
       " '7': 809,\n",
       " 'cpr': 810,\n",
       " 'via': 811,\n",
       " 'reimbursement': 812,\n",
       " 'english': 813,\n",
       " 'san': 814,\n",
       " 'legal': 815,\n",
       " 'applying': 816,\n",
       " 'driver': 817,\n",
       " 'cancer': 818,\n",
       " 'eeo': 819,\n",
       " 'talent': 820,\n",
       " 'aspen': 821,\n",
       " 'long': 822,\n",
       " 'card': 823,\n",
       " 'similar': 824,\n",
       " 'expectation': 825,\n",
       " 'utilization': 826,\n",
       " 'scheduling': 827,\n",
       " 'measure': 828,\n",
       " 'end': 829,\n",
       " 'performed': 830,\n",
       " 'secure': 831,\n",
       " 'tech': 832,\n",
       " 'proud': 833,\n",
       " 'laboratory': 834,\n",
       " 'independent': 835,\n",
       " 'highest': 836,\n",
       " 'deep': 837,\n",
       " 'five': 838,\n",
       " 'developer': 839,\n",
       " 'execute': 840,\n",
       " 'judgment': 841,\n",
       " 'start': 842,\n",
       " 'identifies': 843,\n",
       " 'registration': 844,\n",
       " 'facilitate': 845,\n",
       " 'integrated': 846,\n",
       " 'automated': 847,\n",
       " 'continuing': 848,\n",
       " 'corporation': 849,\n",
       " 'selection': 850,\n",
       " 'balance': 851,\n",
       " 'credit': 852,\n",
       " 'feedback': 853,\n",
       " 'therapeutic': 854,\n",
       " 'ca': 855,\n",
       " 'outside': 856,\n",
       " 'firewall': 857,\n",
       " 'resolution': 858,\n",
       " 'establish': 859,\n",
       " 'posting': 860,\n",
       " 'latest': 861,\n",
       " 'finance': 862,\n",
       " '25': 863,\n",
       " 'communicates': 864,\n",
       " 'space': 865,\n",
       " 'driving': 866,\n",
       " 'gain': 867,\n",
       " 'accuracy': 868,\n",
       " 'scale': 869,\n",
       " 'lift': 870,\n",
       " 'finding': 871,\n",
       " 'coordinator': 872,\n",
       " 'title': 873,\n",
       " 'smile': 874,\n",
       " 'suite': 875,\n",
       " 'interested': 876,\n",
       " 'generation': 877,\n",
       " 'designed': 878,\n",
       " 'advance': 879,\n",
       " 'deadline': 880,\n",
       " 'manages': 881,\n",
       " 'parttime': 882,\n",
       " 'talented': 883,\n",
       " 'prepares': 884,\n",
       " '30': 885,\n",
       " 'discriminate': 886,\n",
       " 'partnership': 887,\n",
       " 'academic': 888,\n",
       " 'detailed': 889,\n",
       " 'deployment': 890,\n",
       " 'contract': 891,\n",
       " 'installation': 892,\n",
       " 'healthy': 893,\n",
       " 'driven': 894,\n",
       " 'party': 895,\n",
       " 'quickly': 896,\n",
       " 'efficiency': 897,\n",
       " 'evaluates': 898,\n",
       " 'vehicle': 899,\n",
       " 'bsn': 900,\n",
       " 'metric': 901,\n",
       " 'charge': 902,\n",
       " 'etl': 903,\n",
       " 'promotes': 904,\n",
       " 'revenue': 905,\n",
       " 'small': 906,\n",
       " 'believe': 907,\n",
       " 'defined': 908,\n",
       " 'identifying': 909,\n",
       " 'path': 910,\n",
       " 'satisfaction': 911,\n",
       " 'interact': 912,\n",
       " 'progress': 913,\n",
       " 'ii': 914,\n",
       " 'campus': 915,\n",
       " 'base': 916,\n",
       " 'distribution': 917,\n",
       " 'id': 918,\n",
       " 'diagnosis': 919,\n",
       " 'interface': 920,\n",
       " 'along': 921,\n",
       " 'consulting': 922,\n",
       " 'improving': 923,\n",
       " 'clear': 924,\n",
       " 'exciting': 925,\n",
       " 'free': 926,\n",
       " 'inpatient': 927,\n",
       " 'preference': 928,\n",
       " 'handling': 929,\n",
       " 'answer': 930,\n",
       " 'dispensing': 931,\n",
       " 'not': 932,\n",
       " 'serving': 933,\n",
       " 'fast': 934,\n",
       " 'adult': 935,\n",
       " 'practical': 936,\n",
       " 'occasionally': 937,\n",
       " '40': 938,\n",
       " 'framework': 939,\n",
       " 'informatica': 940,\n",
       " 'are': 941,\n",
       " 'willing': 942,\n",
       " 'peer': 943,\n",
       " 'effectiveness': 944,\n",
       " 'audience': 945,\n",
       " 'reach': 946,\n",
       " 'bonus': 947,\n",
       " 'close': 948,\n",
       " 'clean': 949,\n",
       " 'prioritize': 950,\n",
       " 'assurance': 951,\n",
       " 'selected': 952,\n",
       " 'specialized': 953,\n",
       " 'optimize': 954,\n",
       " 'give': 955,\n",
       " 'affirmative': 956,\n",
       " 'rate': 957,\n",
       " 'verification': 958,\n",
       " 'submit': 959,\n",
       " 'common': 960,\n",
       " 'mentor': 961,\n",
       " 'longterm': 962,\n",
       " 'operate': 963,\n",
       " 'aws': 964,\n",
       " 'workflow': 965,\n",
       " 'exam': 966,\n",
       " 'ancestry': 967,\n",
       " 'engagement': 968,\n",
       " 'departmental': 969,\n",
       " 'portfolio': 970,\n",
       " 'workforce': 971,\n",
       " 'transfer': 972,\n",
       " 'texas': 973,\n",
       " 'important': 974,\n",
       " 'extensive': 975,\n",
       " 'approximately': 976,\n",
       " 'acls': 977,\n",
       " 'desire': 978,\n",
       " 'committee': 979,\n",
       " 'among': 980,\n",
       " 'faculty': 981,\n",
       " 'promotion': 982,\n",
       " 'flow': 983,\n",
       " 'trauma': 984,\n",
       " 'collection': 985,\n",
       " 'write': 986,\n",
       " 'monthly': 987,\n",
       " 'north': 988,\n",
       " 'caring': 989,\n",
       " 'designated': 990,\n",
       " 'awareness': 991,\n",
       " 'fun': 992,\n",
       " 'outstanding': 993,\n",
       " 'cryptography': 994,\n",
       " 'rule': 995,\n",
       " 'skilled': 996,\n",
       " 'appropriately': 997,\n",
       " 'broad': 998,\n",
       " 'copy': 999,\n",
       " 'collaborates': 1000,\n",
       " ...}"
      ]
     },
     "execution_count": 126,
     "metadata": {},
     "output_type": "execute_result"
    }
   ],
   "source": [
    "tokenizer.word_index"
   ]
  },
  {
   "cell_type": "code",
   "execution_count": 128,
   "metadata": {},
   "outputs": [],
   "source": [
    "vocab_size=len(tokenizer.word_index)+1"
   ]
  },
  {
   "cell_type": "markdown",
   "metadata": {},
   "source": [
    "Le nombre de mot (sans doublon) qu'on a dans notre corpus vaut alors:"
   ]
  },
  {
   "cell_type": "code",
   "execution_count": 129,
   "metadata": {},
   "outputs": [
    {
     "data": {
      "text/plain": [
       "126532"
      ]
     },
     "execution_count": 129,
     "metadata": {},
     "output_type": "execute_result"
    }
   ],
   "source": [
    "vocab_size"
   ]
  },
  {
   "cell_type": "markdown",
   "metadata": {},
   "source": [
    "Recherche de la longueur maximal d'un offre d'emploi."
   ]
  },
  {
   "cell_type": "code",
   "execution_count": 118,
   "metadata": {
    "scrolled": false
   },
   "outputs": [
    {
     "data": {
      "text/plain": [
       "3688"
      ]
     },
     "execution_count": 118,
     "metadata": {},
     "output_type": "execute_result"
    }
   ],
   "source": [
    "tab=[]\n",
    "for i,k in enumerate(data.description):\n",
    "    tab.append(len(k.split(\" \")))"
   ]
  },
  {
   "cell_type": "markdown",
   "metadata": {},
   "source": [
    "Découpons maintenant nos mots avec des longueurs de sequance maximales:"
   ]
  },
  {
   "cell_type": "code",
   "execution_count": 130,
   "metadata": {},
   "outputs": [],
   "source": [
    "from keras.preprocessing.sequence import pad_sequences\n",
    "\n",
    "maxlen = np.max(tab)\n",
    "\n",
    "X_train_keras1 = pad_sequences(X_train_keras, padding='post', maxlen=maxlen)\n",
    "X_test_keras1 = pad_sequences(X_test_keras, padding='post', maxlen=maxlen)\n"
   ]
  },
  {
   "cell_type": "code",
   "execution_count": 136,
   "metadata": {},
   "outputs": [
    {
     "data": {
      "text/plain": [
       "(46358, 3688)"
      ]
     },
     "execution_count": 136,
     "metadata": {},
     "output_type": "execute_result"
    }
   ],
   "source": [
    "X_train_keras1.shape"
   ]
  },
  {
   "cell_type": "markdown",
   "metadata": {},
   "source": [
    "Encodage des labels:"
   ]
  },
  {
   "cell_type": "code",
   "execution_count": 132,
   "metadata": {},
   "outputs": [],
   "source": [
    "from sklearn.preprocessing import LabelEncoder\n",
    "from keras.utils import to_categorical\n",
    "le =LabelEncoder()\n",
    "le.fit(y_train)\n",
    "Ya=to_categorical(le.transform(y_train))\n",
    "Yt=to_categorical(le.transform(y_test))\n",
    "Yv=to_categorical(le.transform(y_val))"
   ]
  },
  {
   "cell_type": "markdown",
   "metadata": {},
   "source": [
    "Modélisation"
   ]
  },
  {
   "cell_type": "code",
   "execution_count": 141,
   "metadata": {},
   "outputs": [
    {
     "name": "stdout",
     "output_type": "stream",
     "text": [
      "_________________________________________________________________\n",
      "Layer (type)                 Output Shape              Param #   \n",
      "=================================================================\n",
      "embedding_6 (Embedding)      (None, 3688, 50)          6326600   \n",
      "_________________________________________________________________\n",
      "flatten_6 (Flatten)          (None, 184400)            0         \n",
      "_________________________________________________________________\n",
      "dense_11 (Dense)             (None, 10)                1844010   \n",
      "_________________________________________________________________\n",
      "dense_12 (Dense)             (None, 11)                121       \n",
      "=================================================================\n",
      "Total params: 8,170,731\n",
      "Trainable params: 8,170,731\n",
      "Non-trainable params: 0\n",
      "_________________________________________________________________\n"
     ]
    }
   ],
   "source": [
    "from keras.models import Sequential\n",
    "from keras import layers\n",
    "\n",
    "embedding_dim = 50\n",
    "\n",
    "model = Sequential()\n",
    "model.add(layers.Embedding(input_dim=vocab_size, \n",
    "                           output_dim=embedding_dim, \n",
    "                           input_length=maxlen))\n",
    "model.add(layers.Flatten())\n",
    "model.add(layers.Dense(10, activation='relu'))\n",
    "model.add(layers.Dense(11, activation='softmax'))\n",
    "\n",
    "model.compile(optimizer='adam',loss='categorical_crossentropy',metrics=['accuracy'])\n",
    "model.summary()"
   ]
  },
  {
   "cell_type": "markdown",
   "metadata": {},
   "source": [
    "Entrainement du modèle et évaluation:"
   ]
  },
  {
   "cell_type": "code",
   "execution_count": 142,
   "metadata": {},
   "outputs": [],
   "source": [
    "history = model.fit(X_train_keras1, Ya,epochs=10,verbose=False,validation_split=0.25,batch_size=10)"
   ]
  },
  {
   "cell_type": "code",
   "execution_count": 144,
   "metadata": {},
   "outputs": [
    {
     "name": "stdout",
     "output_type": "stream",
     "text": [
      "Training Accuracy: 0.1917\n",
      "Testing Accuracy:  0.1904\n"
     ]
    }
   ],
   "source": [
    "loss, accuracy = model.evaluate(X_train_keras1, Ya, verbose=False)\n",
    "print(\"Training Accuracy: {:.4f}\".format(accuracy))\n",
    "loss, accuracy = model.evaluate(X_test_keras1, Yt, verbose=False)\n",
    "print(\"Testing Accuracy:  {:.4f}\".format(accuracy))"
   ]
  },
  {
   "cell_type": "code",
   "execution_count": 145,
   "metadata": {},
   "outputs": [],
   "source": [
    "def plot_history(history):\n",
    "    acc = history.history['acc']\n",
    "    val_acc = history.history['val_acc']\n",
    "    loss = history.history['loss']\n",
    "    val_loss = history.history['val_loss']\n",
    "    x = range(1, len(acc) + 1)\n",
    "\n",
    "    plt.figure(figsize=(12, 5))\n",
    "    plt.subplot(1, 2, 1)\n",
    "    plt.plot(x, acc, 'b', label='Training acc')\n",
    "    plt.plot(x, val_acc, 'r', label='Validation acc')\n",
    "    plt.title('Training and validation accuracy')\n",
    "    plt.legend()\n",
    "    plt.subplot(1, 2, 2)\n",
    "    plt.plot(x, loss, 'b', label='Training loss')\n",
    "    plt.plot(x, val_loss, 'r', label='Validation loss')\n",
    "    plt.title('Training and validation loss')\n",
    "    plt.legend()"
   ]
  },
  {
   "cell_type": "code",
   "execution_count": 146,
   "metadata": {},
   "outputs": [
    {
     "data": {
      "image/png": "[encoded data removed]",
      "text/plain": [
       "<Figure size 864x360 with 2 Axes>"
      ]
     },
     "metadata": {
      "needs_background": "light"
     },
     "output_type": "display_data"
    }
   ],
   "source": [
    "plot_history(history)"
   ]
  },
  {
   "cell_type": "markdown",
   "metadata": {},
   "source": [
    "On constate que les résultats qu'on obtient ne sont pas du tout satisfaisant avec un score de 19.04% d'accuracy sur les données test. On va alors essayer d'améliorer ces résultats en utilisant d'autres types de méthodes de "
   ]
  },
  {
   "cell_type": "markdown",
   "metadata": {},
   "source": [
    "## CNN Methode:"
   ]
  },
  {
   "cell_type": "code",
   "execution_count": 149,
   "metadata": {},
   "outputs": [
    {
     "name": "stdout",
     "output_type": "stream",
     "text": [
      "_________________________________________________________________\n",
      "Layer (type)                 Output Shape              Param #   \n",
      "=================================================================\n",
      "embedding_7 (Embedding)      (None, 3688, 50)          6326600   \n",
      "_________________________________________________________________\n",
      "conv1d_1 (Conv1D)            (None, 3679, 100)         50100     \n",
      "_________________________________________________________________\n",
      "global_max_pooling1d_1 (Glob (None, 100)               0         \n",
      "_________________________________________________________________\n",
      "dense_13 (Dense)             (None, 10)                1010      \n",
      "_________________________________________________________________\n",
      "dense_14 (Dense)             (None, 11)                121       \n",
      "=================================================================\n",
      "Total params: 6,377,831\n",
      "Trainable params: 6,377,831\n",
      "Non-trainable params: 0\n",
      "_________________________________________________________________\n"
     ]
    }
   ],
   "source": [
    "model = Sequential()\n",
    "model.add(layers.Embedding(vocab_size, embedding_dim, input_length=maxlen))\n",
    "model.add(layers.Conv1D(100, 10, activation='relu'))\n",
    "model.add(layers.GlobalMaxPooling1D())\n",
    "model.add(layers.Dense(10, activation='relu'))\n",
    "model.add(layers.Dense(11, activation='softmax'))\n",
    "model.compile(optimizer='adam',\n",
    "              loss='categorical_crossentropy',\n",
    "              metrics=['accuracy'])\n",
    "model.summary()"
   ]
  },
  {
   "cell_type": "markdown",
   "metadata": {},
   "source": [
    "Entrainement du modèle:"
   ]
  },
  {
   "cell_type": "code",
   "execution_count": 150,
   "metadata": {},
   "outputs": [
    {
     "name": "stdout",
     "output_type": "stream",
     "text": [
      "WARNING:tensorflow:From /home/tantely/anaconda3/lib/python3.7/site-packages/tensorflow/python/ops/math_grad.py:102: div (from tensorflow.python.ops.math_ops) is deprecated and will be removed in a future version.\n",
      "Instructions for updating:\n",
      "Deprecated in favor of operator or tf.math.divide.\n",
      "Train on 34768 samples, validate on 11590 samples\n",
      "Epoch 1/10\n",
      "34768/34768 [==============================] - 1144s 33ms/step - loss: 0.3196 - acc: 0.8948 - val_loss: 0.0789 - val_acc: 0.9817\n",
      "Epoch 2/10\n",
      "34768/34768 [==============================] - 1057s 30ms/step - loss: 0.0589 - acc: 0.9831 - val_loss: 0.0699 - val_acc: 0.9807\n",
      "Epoch 3/10\n",
      "34768/34768 [==============================] - 1072s 31ms/step - loss: 0.0423 - acc: 0.9882 - val_loss: 0.0887 - val_acc: 0.9748\n",
      "Epoch 4/10\n",
      "34768/34768 [==============================] - 1131s 33ms/step - loss: 0.0380 - acc: 0.9889 - val_loss: 0.0775 - val_acc: 0.9808\n",
      "Epoch 5/10\n",
      "34768/34768 [==============================] - 1072s 31ms/step - loss: 0.0325 - acc: 0.9902 - val_loss: 0.0803 - val_acc: 0.9768\n",
      "Epoch 6/10\n",
      "34768/34768 [==============================] - 1059s 30ms/step - loss: 0.0326 - acc: 0.9902 - val_loss: 0.0819 - val_acc: 0.9798\n",
      "Epoch 7/10\n",
      "34768/34768 [==============================] - 1031s 30ms/step - loss: 0.0301 - acc: 0.9902 - val_loss: 0.0895 - val_acc: 0.9770\n",
      "Epoch 8/10\n",
      "34768/34768 [==============================] - 1038s 30ms/step - loss: 0.0266 - acc: 0.9911 - val_loss: 0.0896 - val_acc: 0.9758\n",
      "Epoch 9/10\n",
      "34768/34768 [==============================] - 1046s 30ms/step - loss: 0.0270 - acc: 0.9909 - val_loss: 0.0781 - val_acc: 0.9825\n",
      "Epoch 10/10\n",
      "34768/34768 [==============================] - 1043s 30ms/step - loss: 0.0251 - acc: 0.9911 - val_loss: 0.0741 - val_acc: 0.9795\n"
     ]
    }
   ],
   "source": [
    "history = model.fit(X_train_keras1, Ya,epochs=10,validation_split=0.25,batch_size=10)"
   ]
  },
  {
   "cell_type": "code",
   "execution_count": 152,
   "metadata": {},
   "outputs": [
    {
     "name": "stdout",
     "output_type": "stream",
     "text": [
      "Training Accuracy: 0.9896\n",
      "Testing Accuracy:  0.9788\n"
     ]
    }
   ],
   "source": [
    "loss, accuracy = model.evaluate(X_train_keras1, Ya, verbose=False)\n",
    "print(\"Training Accuracy: {:.4f}\".format(accuracy))\n",
    "loss, accuracy = model.evaluate(X_test_keras1, Yt, verbose=False)\n",
    "print(\"Testing Accuracy:  {:.4f}\".format(accuracy))"
   ]
  },
  {
   "cell_type": "code",
   "execution_count": 153,
   "metadata": {},
   "outputs": [
    {
     "data": {
      "image/png": "[encoded data removed]",
      "text/plain": [
       "<Figure size 864x360 with 2 Axes>"
      ]
     },
     "metadata": {
      "needs_background": "light"
     },
     "output_type": "display_data"
    }
   ],
   "source": [
    "plot_history(history)"
   ]
  },
  {
   "cell_type": "markdown",
   "metadata": {},
   "source": []
  }
 ],
 "metadata": {
  "kernelspec": {
   "display_name": "Python 3",
   "language": "python",
   "name": "python3"
  },
  "language_info": {
   "codemirror_mode": {
    "name": "ipython",
    "version": 3
   },
   "file_extension": ".py",
   "mimetype": "text/x-python",
   "name": "python",
   "nbconvert_exporter": "python",
   "pygments_lexer": "ipython3",
   "version": "3.6.8"
  },
  "toc": {
   "base_numbering": 1,
   "nav_menu": {},
   "number_sections": false,
   "sideBar": false,
   "skip_h1_title": false,
   "title_cell": "Table of Contents",
   "title_sidebar": "Contents",
   "toc_cell": false,
   "toc_position": {},
   "toc_section_display": false,
   "toc_window_display": false
  }
 },
 "nbformat": 4,
 "nbformat_minor": 2
}
