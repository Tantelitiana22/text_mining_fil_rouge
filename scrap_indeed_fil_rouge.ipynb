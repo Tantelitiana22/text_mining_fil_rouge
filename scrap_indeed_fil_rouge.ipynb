{
 "cells": [
  {
   "cell_type": "markdown",
   "metadata": {},
   "source": [
    "# Andrianarivo RAKOTOARIJAONA:\n",
    "\n",
    "Le travail réalisé ici a pour but la construction de base de données pour un projet fil rouge en text mining. "
   ]
  },
  {
   "cell_type": "markdown",
   "metadata": {},
   "source": [
    "## Scraper indeed avec beautifulSoup:"
   ]
  },
  {
   "cell_type": "code",
   "execution_count": 1,
   "metadata": {},
   "outputs": [],
   "source": [
    "import requests\n",
    "import bs4\n",
    "from bs4 import BeautifulSoup\n",
    "import pandas as pd\n",
    "import time\n",
    "from IPython.display import clear_output"
   ]
  },
  {
   "cell_type": "markdown",
   "metadata": {},
   "source": [
    "## Création d'une fonction scrap:\n",
    "La fonction **scrap_indeed_offer** a comme objectif de scraper des offres sur indeed. Il suffit d'ajouter l'url de l'offre sans le nom de la ville. Comme exemple, si l'on veut avoir des offres concernant le poste de data scientit on tape sur indeed data scientist avec comme ville Paris et cela nous donne comme URL:https://www.indeed.fr/jobs?q=data+scientist&l=Paris.\n",
    "Dans notre cas, le paramètre URL va recevoir que https://www.indeed.fr/jobs?q=data+scientist. Cela est nécessaire car nous en veut récupérer les offres dans chaque ville que l'on soit en France, d'où le paramètre city_set. Dans notre cas, on va récuperer toutes"
   ]
  },
  {
   "cell_type": "code",
   "execution_count": 2,
   "metadata": {},
   "outputs": [],
   "source": [
    "def scrap_indeed_offer(URL,city_set,nb_resu_par_ville=1,extension=\"https://www.indeed.com\"):\n",
    "    columns = [\"ville\", \"utituler_offre\",\"description\",\"entreprise\",\"lacalisation\", \"resume\"]\n",
    "    sample_df = pd.DataFrame(columns = columns)\n",
    "    for city in city_set:\n",
    "      for start in range(0,nb_resu_par_ville, 10):\n",
    "          page = requests.get(URL+\"&l=\"+str(city)+'&start='+str(start))\n",
    "          soup = BeautifulSoup(page.text, \"lxml\", from_encoding=\"utf-8\")\n",
    "          for div in soup.find_all(name=\"div\", attrs={\"class\":\"row\"}): \n",
    "            #specification du nombre de lignes\n",
    "            num = (len(sample_df) + 1) \n",
    "            \n",
    "            job_post = [] \n",
    "            job_post.append(city) \n",
    "            for a in div.find_all(name=\"a\", attrs={\"data-tn-element\":\"jobTitle\"}):\n",
    "              job_post.append(a[\"title\"])\n",
    "             # recuperer site sousjacent contenant le descriptif de l'offre \n",
    "              url_fils=extension+a[\"href\"]\n",
    "              page_fils=requests.get(url_fils)\n",
    "              soup_fils=BeautifulSoup(page_fils.text,\"lxml\",from_encoding=\"utf-8\")\n",
    "              div_class=\"jobsearch-JobComponent-description icl-u-xs-mt--md\"\n",
    "              for desc in soup_fils.find_all(name=\"div\",attrs={\"class\":div_class}):\n",
    "                  if len(desc.text)>0:\n",
    "                     job_post.append(desc.text)\n",
    "                  else:\n",
    "                     job_post.append(\"\")\n",
    "              #NOm de la companie\n",
    "              company = div.find_all(name=\"span\", attrs={\"class\":\"company\"}) \n",
    "              if len(company) > 0: \n",
    "                  for b in company:\n",
    "                    job_post.append(b.text.strip()) \n",
    "              else: \n",
    "                sec_try = div.find_all(name=\"span\", attrs={\"class\":\"result-link-source\"})\n",
    "                for span in sec_try:\n",
    "                    job_post.append(span.text) \n",
    "        #localisation\n",
    "              c = div.findAll(\"span\", attrs={\"class\": \"location\"}) \n",
    "              if len(c)>0:\n",
    "                for span in c: \n",
    "                    job_post.append(span.text)\n",
    "              else:\n",
    "                    job_post.append(\"pas localisé\")\n",
    "        #resumer\n",
    "              d = div.findAll(\"span\", attrs={\"class\": \"summary\"}) \n",
    "              for span in d:\n",
    "                if len(span.text.strip())>0:\n",
    "                    job_post.append(span.text.strip())\n",
    "                else:\n",
    "                    job_post.append(\"\")        \n",
    "        #mise a jours de notre dataframe\n",
    "            clear_output(wait=True)\n",
    "            print(\"nb_boocle:{}\".format(num))\n",
    "            print(\"len job_post={}\".format(len(job_post)))\n",
    "            print(job_post)\n",
    "            if len(job_post)==sample_df.shape[1]:\n",
    "                sample_df.loc[num,:] = job_post\n",
    "    t=[\"ville\", \"utituler_offre\",\"entreprise\",\"localisation\", \"resume\",\"description\"]\n",
    "    res=sample_df.loc[:,t]\n",
    "    return(res)"
   ]
  },
  {
   "cell_type": "markdown",
   "metadata": {},
   "source": [
    "## Scraper les offres en data science avec au plus 100 offres par ville:"
   ]
  },
  {
   "cell_type": "code",
   "execution_count": 4,
   "metadata": {},
   "outputs": [
    {
     "name": "stdout",
     "output_type": "stream",
     "text": [
      "nb_boocle:25270\n",
      "len job_post=6\n",
      "['Panama+City', 'SharePoint Consultant', 'JOB DESCRIPTIONProvide full time on-site advanced SharePoint consulting, development and support services for a Solution Foundry government customer in the Panama City, Fl area.MUST-HAVESThe ideal candidate possesses the capabilities and experience listed below and can demonstrate ability to expertly apply these skills in a SharePoint environment.3+ recent years of primary work experience as a Microsoft SharePoint power user and/or developer2+ years of experience supporting federal government customer(s)Ability to design, develop and implement advanced SharePoint 2013, 2016 or Office 365 solutionsAdvanced knowledge of all out-of-the-box SharePoint features, functionality and configurationsExperience managing SharePoint site content, sites/site collections, permissions and groups, and workflowsExperience customizing SharePoint sites using SharePoint DesignerAbility to analyze data and determine opportunities for SharePoint integration and improvementAbility to design, lead, manage and perform SharePoint solution coordination, roll-out and end user trainingAbility to translate customer business requirements into technical specification-based documentation, mockups, and technical solutionsExperience providing customer technical supportAbility to develop and maintain technical program design documentationUnderstanding of government network security and user access and authenticationAbility to favorably pass a federal government background investigation for a position of public trustPROFESSIONAL CAPABILITIESThe ideal candidate possesses the professional capabilities and experience listed below and can successfully apply these capabilities in a customer and team environment.Have a strong commitment to customer satisfactionExcel in communication, problem solving, analytical, and interpersonal skillsPositively collaborate in a team environment, and work independentlyDemonstrate ability to establish and meet multiple project timelines and deliverablesHave strong mentoring and training skills to provide support and constructive feedbackNICE-TO-HAVESCandidates who meet the must-haves and professional requirements above, and who have the additional experience below are of high value to this Advanced SharePoint Consultant position:Code-based client-side web application development experience in SharePointExperience applying JavaScript, JQuery, HTML, and CSS on SharePoint forms, web parts, pages, lists, and librariesUnderstanding of how RESTFul API Endpoints, AJAX, and JSON objects are used in SharePointUnderstanding of how to apply the above technologies in object-oriented programming and CRUD operationsExperience administering SharePoint environmentsMicrosoft SharePoint accreditation a plusFederal government security clearance a plusEDUCATIONDegree in Computer Information Systems, Computer Science, Management Information Systems, or related fieldCOMPANY DESCRIPTIONSolution Foundry is a nimble, technology-focused management consulting firm based in the Atlanta metropolitan area. We provide high-value consulting services and develop innovative and sustainable information management tools, applications and solutions for our customers. Solution Foundry is committed to attracting, growing, and retaining talented and qualified associates. Our skilled team of engineers, scientists, consultants, and IT professionals strive to satisfy our customers in everything we do. Serving our customers well is the single most important thing we do. To succeed at satisfying our customers, we continually seek the best of the best. While we serve many large organizations, we enjoy the benefits and flexibility of being a responsive, small business. Solution Foundry fosters an engaging work culture where our associates thrive and make a difference for our customers, the company, and themselves.Job Type: Full-timeExperience:Technical Support: 3 years (Preferred)Microsoft Office: 3 years (Preferred)Microsoft SharePoint: 3 years (Preferred)Location:Panama City Beach, FL (Preferred)Work authorization:United States (Required)', 'Solution Foundry', 'Panama City Beach, FL', 'Ability to design, lead, manage and perform SharePoint solution coordination, roll-out and end user training....']\n"
     ]
    },
    {
     "name": "stderr",
     "output_type": "stream",
     "text": [
      "/home/tantely/anaconda3/lib/python3.7/site-packages/pandas/core/indexing.py:1472: FutureWarning: \n",
      "Passing list-likes to .loc or [] with any missing label will raise\n",
      "KeyError in the future, you can use .reindex() as an alternative.\n",
      "\n",
      "See the documentation here:\n",
      "https://pandas.pydata.org/pandas-docs/stable/indexing.html#deprecate-loc-reindex-listlike\n",
      "  return self._getitem_tuple(key)\n"
     ]
    },
    {
     "ename": "NameError",
     "evalue": "name 'delta' is not defined",
     "output_type": "error",
     "traceback": [
      "\u001b[0;31m---------------------------------------------------------------------------\u001b[0m",
      "\u001b[0;31mNameError\u001b[0m                                 Traceback (most recent call last)",
      "\u001b[0;32m<ipython-input-4-2c21113b4280>\u001b[0m in \u001b[0;36m<module>\u001b[0;34m\u001b[0m\n\u001b[1;32m      7\u001b[0m \u001b[0mres\u001b[0m\u001b[0;34m=\u001b[0m\u001b[0mscrap_indeed_offer\u001b[0m\u001b[0;34m(\u001b[0m\u001b[0mURL\u001b[0m\u001b[0;34m,\u001b[0m\u001b[0mcity_set\u001b[0m\u001b[0;34m,\u001b[0m\u001b[0mnb_resu_par_ville\u001b[0m\u001b[0;34m)\u001b[0m\u001b[0;34m\u001b[0m\u001b[0;34m\u001b[0m\u001b[0m\n\u001b[1;32m      8\u001b[0m \u001b[0mdetla\u001b[0m\u001b[0;34m=\u001b[0m\u001b[0mtime\u001b[0m\u001b[0;34m.\u001b[0m\u001b[0mtime\u001b[0m\u001b[0;34m(\u001b[0m\u001b[0;34m)\u001b[0m\u001b[0;34m-\u001b[0m\u001b[0mt1\u001b[0m\u001b[0;34m\u001b[0m\u001b[0;34m\u001b[0m\u001b[0m\n\u001b[0;32m----> 9\u001b[0;31m \u001b[0mprint\u001b[0m\u001b[0;34m(\u001b[0m\u001b[0;34m\"Durée total réelle:{}\"\u001b[0m\u001b[0;34m.\u001b[0m\u001b[0mformat\u001b[0m\u001b[0;34m(\u001b[0m\u001b[0mdelta\u001b[0m\u001b[0;34m)\u001b[0m\u001b[0;34m)\u001b[0m\u001b[0;34m\u001b[0m\u001b[0;34m\u001b[0m\u001b[0m\n\u001b[0m",
      "\u001b[0;31mNameError\u001b[0m: name 'delta' is not defined"
     ]
    }
   ],
   "source": [
    "nb_resu_par_ville = 30\n",
    "us_city=pd.read_table(\"us_city.txt\",sep=\",\")\n",
    "ville_usa=[k.replace(\" \",\"+\") for k in us_city.city]\n",
    "city_set =ville_usa.copy()\n",
    "URL=\"https://www.indeed.com/jobs?q=data+scientist\"\n",
    "t1=time.time()\n",
    "res=scrap_indeed_offer(URL,city_set,nb_resu_par_ville)\n",
    "delta=time.time()-t1\n",
    "print(\"Durée total réelle:{}\".format(delta))"
   ]
  },
  {
   "cell_type": "code",
   "execution_count": 5,
   "metadata": {},
   "outputs": [],
   "source": [
    "res1=res.drop_duplicates()"
   ]
  },
  {
   "cell_type": "code",
   "execution_count": 6,
   "metadata": {},
   "outputs": [
    {
     "data": {
      "text/plain": [
       "(19253, 6)"
      ]
     },
     "execution_count": 6,
     "metadata": {},
     "output_type": "execute_result"
    }
   ],
   "source": [
    "res1.shape"
   ]
  },
  {
   "cell_type": "markdown",
   "metadata": {},
   "source": [
    "L'execution de la fonction prend un certain temps pour **n_resu_par_ville=1000**. Mais comme on a pas de contrainte de temps cela ne pose pas de problème."
   ]
  },
  {
   "cell_type": "code",
   "execution_count": 7,
   "metadata": {},
   "outputs": [],
   "source": [
    "res1.to_csv(\"poste_data_scientist_scraped_usa.csv\",index=False)"
   ]
  },
  {
   "cell_type": "markdown",
   "metadata": {
    "collapsed": true
   },
   "source": [
    "### UK scrap data science:"
   ]
  },
  {
   "cell_type": "code",
   "execution_count": 53,
   "metadata": {},
   "outputs": [
    {
     "name": "stdout",
     "output_type": "stream",
     "text": [
      "nb_boocle:3663\n",
      "len job_post=6\n",
      "['Derby', 'Computational Scientist, Group Rios', 'The Princess Máxima Center for Pediatric Oncology is a new research hospital concentrating healthcare, research and education with regard to cancer in children in a single location in Utrecht. The institute aims to provide the highest level of care for all children with cancer and has the ambition to cure all children of cancer and significantly reduce unwanted side effects. The center brings together the best possible care and scientific research, creating a unique interdisciplinary institute for pediatric oncology in Europe.The research team led by Anne Rios, PhD has recently started to study the causes of childhood cancer and treatment-associated second malignancies via state-of-the-art-microscopy methods. By understanding the processes that cause cancers, effective preventive therapies can be developed, diagnostics improved and choice of treatment facilitated.To achieve these goals, we combine mouse genetics, developmental biology, and state-of the art microscopy. In our team, we value collegiality, enthusiasm, dedication, respect and reliability, which allow us to successfully reach our goals, while creating a stimulating working atmosphere.Our advanced microscopy methods generate large sets of 3D image data. However the handling, analysis and interpretation of this big imaging datasets is extremely complex and computational, bioinformatics and machine learning methods and tools are needed. For this aim we currently have an opening for a Computational scientist.Tasks and responsibilitiesYour role: Support the computational and image processing efforts of a dedicated team of scientists.You will be heading the computational efforts within the Rios group and collaborate with a strongly integrated team of computational experts from different groups within the institute, with connections to bioinformatics and computational groups within Utrecht. Your goal will be to exploit at maximum the information contained in large 3D imaging data sets. You will be given the opportunity to set up and drive your own research projects in the field of computational imaging and complex data analytics.\\n\\nSkills and educationWe are asking for: An independent and driven computational scientist to develop state of the art solutions for complex 3D imaging data processing, analysis and interpretation. The candidate should have an open and creative mind, strong analytical and computational skills. Experience if possible, in image or volume processing (e.g. pattern recognition, segmentation, non-rigid registration), algorithms development and implementation for imaging problems is desired. Knowledge of data mining, dimension reduction, machine (deep) learning and in silico predictive modelling is a plus.Note that Excellent background in computer science, ability to work independently and form a professional network for support are key since the candidate will be the only computational expert of the group.', 'Princess Máxima Center for Pediatric Oncology', 'pas localisé', 'An independent and driven computational scientist to develop state of the art solutions for complex 3D imaging data processing, analysis and interpretation....']\n",
      "Durée total réelle:6.961822509765625e-05\n"
     ]
    }
   ],
   "source": [
    "nb_resu_par_ville = 100\n",
    "city_set = [\"London\",\"Birmingham\",\"Leeds\",\"Glasgow\",\n",
    "            \"Sheffield\",\"Bradford\",\"Liverpool\",\"Edinburgh\",\n",
    "           \"Manchester\",\"Bristol\",\"Kirklees\",\"Newcastle-upon-Tyne\",\n",
    "           \"Kingston-upon-Hull\",\"Bolton\",\"Walsall\",\"Plymouth\",\n",
    "           \"Nottingham\",\"Doncaster\",\"Sunderland\",\"Scottish+Borders\",\n",
    "           \"Bassetlaw\",\"Cheltenham\",\"Erewash\",\"East+Dunbartonshire\",\n",
    "           \"Cambridgeshire\",\"Norwich\",\"Highland\",\"Derby\"]\n",
    "URL=\"https://www.indeed.co.uk/jobs?q=Data+Scientist\"\n",
    "extension=\"https://www.indeed.co.uk\"\n",
    "res_uk=scrap_indeed_offer(URL,city_set,nb_resu_par_ville,extension)"
   ]
  },
  {
   "cell_type": "code",
   "execution_count": 63,
   "metadata": {},
   "outputs": [
    {
     "data": {
      "text/plain": [
       "(1426, 6)"
      ]
     },
     "execution_count": 63,
     "metadata": {},
     "output_type": "execute_result"
    }
   ],
   "source": [
    "res_dedupliquer_uk=res_uk.drop_duplicates()"
   ]
  },
  {
   "cell_type": "code",
   "execution_count": 64,
   "metadata": {
    "collapsed": true
   },
   "outputs": [],
   "source": [
    "res_dedupliquer_uk.to_csv(\"data_science_job_uk.csv\",index=False)"
   ]
  },
  {
   "cell_type": "markdown",
   "metadata": {},
   "source": [
    "## Data scientist au canada:"
   ]
  },
  {
   "cell_type": "code",
   "execution_count": 74,
   "metadata": {},
   "outputs": [
    {
     "name": "stdout",
     "output_type": "stream",
     "text": [
      "nb_boocle:2199\n",
      "len job_post=6\n",
      "['Richmond', 'Human Resources Generalist', 'STEMCELL Technologies Inc. is a privately-owned biotechnology company based in Vancouver that helps power leading-edge life science research around the world. Scientists performing stem cell, immunology, cancer, regenerative medicine and cellular therapy research are among those who rely on our cell culture media, cell separation products, instruments, ancillary reagents and contract assay services. We create novel, useful, standardized products of unfailing quality and deliver them to more than 70 countries via our many regional offices plus distribution centres in Vancouver, Seattle, Grenoble and Singapore. Driven by our love of science and our passion for quality, we see ourselves simply as “Scientists Helping Scientists” – standing by our customers to provide outstanding products, technical support and training. We have over 1000 science-oriented employees globally, including 250 PhDs/MScs, with most others holding a BSc or engineering degree. STEMCELL is proud to be the largest Biotechnology employer in Canada.\\n\\nJob Description Summary\\nThe Human Resources Generalist works closely with the Senior Human Resources Business Partner, to deliver and execute a broad range of HR services and support to the assigned business units. Responsibilities include HRIS management, compensation and benefits, employee relations, disability management, conflict resolution, recruitment, training and development, and performance management in accordance with the established HR strategies, programs, policies, practices and processes.\\n\\nThe successful candidate will be a broadly skilled HR professional looking for a growth opportunity with the end goal of serving as a trusted advisor to employees at all levels. You are self-motivated to learn and grow your HR knowledge base in all practice areas, demonstrate the required confidence to deliver training and presentations to an audience, thrive under pressure and independently problem-solve through critical analysis.\\n\\nJob Description\\n\\nDuties and Responsibilities\\nWork in partnership with the Senior Human Resources Business Partner, to deliver superior client service for the assigned business units in all HR practice areas by understanding the current and future business needs in order to provide proactive, day-to-day HR services and support aligned to those needs.\\nEstablish effective employee relationships at all levels based on trust, experience and credibility by providing front-line HR consultation, advice and counsel.\\nRespond to employee requests, enquiries and concerns in a timely and solution-oriented manner.\\nCoach and support people managers in the application of HR policies and practices.\\nSupport the HR functional teams in the planning, implementation, execution and roll-out of HR programs and processes.\\nPromote, manage and maintain employee relations programs and approaches by understanding the work environment and driving employee engagement.\\nProvide counsel and guidance on performance management and corrective actions.\\nProvide HRIS (Workday) systems administration support to employees.\\nAssist with candidate immigration and relocation activities.\\nFacilitate training workshops, new hire orientation sessions and deliver presentations as needed.\\nAssist with employee onboarding and exit processes.\\nAdminister disability claims and return to work programs.\\nReview, prioritize and process HR administrative tasks.\\nAnalyze HR metrics through data retrieval from the HRIS systems and recommend improvements to the HR programs, processes and service levels.\\nContinually build and maintain knowledge and understanding of employment laws and regulations, ensuring legal compliance and employment standards.\\nSupport the Senior Human Resources Business Partner and other HR colleagues in managing the workload and special projects as needed.\\nPerform other duties as required.\\nQualifications\\nDegree in Commerce, Business Administration, Human Resources Management or related field. CPHR designation is required.\\nMinimum 3 years of relevant progressive HR experience in an HR Advisor or HR Generalist role.\\nAbility to build strong relationships, including interfacing and communicating effectively with employees at all levels across the organization.\\nAdept in dealing with sensitive and highly confidential HR issues with tact and discretion.\\nDemonstrated knowledge and practical experience in applying B.C. employment laws and standards are mandatory.\\nProven attention to details, clarity and accuracy in written language, data and analysis.\\nAbility to facilitate, influence and negotiate in order to reach consensus, resolve conflict and achieve desired outcomes. Excellent judgment, analytical and problem-solving skills are essential.\\nHighly flexible, good tolerance for ambiguity and time-driven deadlines and able to quickly adapt to changing priorities.\\nAbility to plan, organize, prioritize time and workload to accomplish tasks and meet deadlines.\\nExcellent communication skills (verbal, written, and presentation) coupled with strong interpersonal skills both in one-on-one and in group settings.\\nProficient working knowledge of HRIS systems (e.g. WorkDay), Gmail, Google Drive, Google Docs and MS Office program.\\nPassionate about meeting or exceeding goals and expectations.\\nTeam orientated –‘one-team’ behavior is a must.\\n\\nThis is an opportunity to work with highly motivated colleagues in a science-oriented, creative and dynamic environment. We offer a competitive salary, excellent benefits and significant career development opportunities.\\n\\nTo apply please select the apply button. You will then be directed to a login screen asking you to set up an account. You must set up an account in order to apply.\\nCreate an account by selecting the create account button. You will then be asked for your email and to create a password. Your Password must be eight characters long, contain at least one special character, one capital letter, and a number.Once you have created your password you will be asked to upload your resume. Uploading your resume will provide the ability to auto-populate your application with information from your resume. If you prefer to manually complete all of the fields in the application you can do this by clicking next. You can upload your cover letter as an attachment in the attachments screen. Thank you for your interest in STEMCELL!', 'STEMCELL Technologies', 'Vancouver, BC', 'Proven attention to details, clarity and accuracy in written language, data and analysis. Analyze HR metrics through data retrieval from the HRIS systems and...']\n"
     ]
    }
   ],
   "source": [
    "nb_resu_par_ville = 100\n",
    "city_set = [\"Toronto\",\"Montreal\",\"Calgary\",\"Ottawa\",\n",
    "            \"Edmonton\",\"Mississauga\",\"Winnipeg\",\"Vancouver\",\n",
    "           \"Brampton\",\"Hamilton\",\"Surrey\",\"Halifax\",\n",
    "            \"Quebec+City\",\"Markham\",\"Gatineau\",\"Oakville\",\n",
    "            \"Delta\",\"Terrebonne\",\"Ajax\",\"Lévis\",\n",
    "           \"Oshawa\",\"Windsor\",\"Burnaby\",\"Richmond\"]\n",
    "URL=\"https://ca.indeed.com/jobs?q=Data Scientist\"\n",
    "extension=\"https://ca.indeed.com\"\n",
    "res_canada=scrap_indeed_offer(URL,city_set,nb_resu_par_ville,extension)"
   ]
  },
  {
   "cell_type": "code",
   "execution_count": 75,
   "metadata": {
    "collapsed": true
   },
   "outputs": [],
   "source": [
    "res_duplicate_ca=res_canada.drop_duplicates()"
   ]
  },
  {
   "cell_type": "code",
   "execution_count": 76,
   "metadata": {},
   "outputs": [
    {
     "data": {
      "text/plain": [
       "(1635, 6)"
      ]
     },
     "execution_count": 76,
     "metadata": {},
     "output_type": "execute_result"
    }
   ],
   "source": [
    "res_duplicate_ca.shape"
   ]
  },
  {
   "cell_type": "code",
   "execution_count": 77,
   "metadata": {
    "collapsed": true
   },
   "outputs": [],
   "source": [
    "res_duplicate_ca.to_csv(\"data_scientist_in_canada.csv\",index=False)"
   ]
  },
  {
   "cell_type": "markdown",
   "metadata": {},
   "source": [
    "## Scraper les offres en informatique BI avec au plus 1000 offres par ville:"
   ]
  },
  {
   "cell_type": "markdown",
   "metadata": {},
   "source": [
    "### USA:"
   ]
  },
  {
   "cell_type": "code",
   "execution_count": 6,
   "metadata": {},
   "outputs": [
    {
     "name": "stdout",
     "output_type": "stream",
     "text": [
      "nb_boocle:10278\n",
      "len job_post=6\n",
      "['Mount+Vernon', 'Informatica Developer with Healthcare Exp', \"OVERVIEW: Our Client is Global leader in IT services, digital and business solutions that partners with its client to simplify, strengthen and transform their businesses. Our Client has been recognized by Brand Finance as one of the Big 4 Global IT Services Brands, is looking for a Informatica Developer with Healthcare Exp for project in NYC, NY, below is the detail requirement.\\n\\nResponsibilities:\\n Works collaboratively with allstakeholders and apply expertise in Informatica Development, , Maintenance Design, develop, implement,troubleshoot, optimize, tune and assist and in validating ETL processes Debug or reverse engineer existingETL process for any enhancements or incidents or tuning them to performanceoptimization. Work with dev team lead andbusiness partners to clarify ETL requirements and business rules. Provides accurate level of effortestimates and delivery plans for projects and initiatives. MS SQL Server/Oracle (PL/SQL)\\n\\nQualifications:\\n\\nBachelor's degree or equivalent, with minimum years of experience in Informatica, Healthcare Domain Exp.\\nDemonstrate excellent communication skills including the ability to effectively communicate with internal and external customers.\\nAbility to use strong industry knowledge to relate to customer needs and dissolve customer concerns and high level of focus and attention to detail.\\nStrong work ethic with good time management with ability to work with diverse teams and lead meetings.\", 'Lorven Technologies', 'New York, NY', \"Works collaboratively with allstakeholders and apply expertise in Informatica Development, , Maintenance. Bachelor's degree or equivalent, with minimum years of...\"]\n",
      "Durée total réelle:13209.764354467392\n"
     ]
    }
   ],
   "source": [
    "nb_resu_par_ville = 30\n",
    "us_city=pd.read_table(\"us_city.txt\",sep=\",\")\n",
    "ville_usa=[k.replace(\" \",\"+\") for k in us_city.city]\n",
    "city_set =ville_usa.copy()\n",
    "city_set=city_set[:500]\n",
    "URL=\"https://www.indeed.com/jobs?q=informatica\"\n",
    "t1=time.time()\n",
    "res_info=scrap_indeed_offer(URL,city_set,nb_resu_par_ville)\n",
    "delta=time.time()-t1\n",
    "print(\"Durée total réelle:{}\".format(delta))"
   ]
  },
  {
   "cell_type": "code",
   "execution_count": 19,
   "metadata": {},
   "outputs": [
    {
     "data": {
      "text/plain": [
       "(7380, 6)"
      ]
     },
     "execution_count": 19,
     "metadata": {},
     "output_type": "execute_result"
    }
   ],
   "source": [
    "res_duplicate_BI_usa=res_info.drop_duplicates()\n",
    "res_info.shape\n",
    "res_duplicate_BI_usa.shape"
   ]
  },
  {
   "cell_type": "code",
   "execution_count": 22,
   "metadata": {},
   "outputs": [
    {
     "data": {
      "text/plain": [
       "(7380, 6)"
      ]
     },
     "execution_count": 22,
     "metadata": {},
     "output_type": "execute_result"
    }
   ],
   "source": [
    "res_duplicate_BI_usa.to_csv(\"developer_BI_usa.csv\",index=False)\n",
    "res_duplicate_BI_usa.shape"
   ]
  },
  {
   "cell_type": "code",
   "execution_count": 102,
   "metadata": {},
   "outputs": [
    {
     "data": {
      "text/plain": [
       "ville                                                      New+York\n",
       "utituler_offre                       Applications Concierge Support\n",
       "entreprise                                                   IPsoft\n",
       "localisation                                                    NaN\n",
       "resume            Well versed in ETL tools like SSIS/Informatica...\n",
       "description       The cognitive revolution has arrived. Automati...\n",
       "Name: 17, dtype: object"
      ]
     },
     "execution_count": 102,
     "metadata": {},
     "output_type": "execute_result"
    }
   ],
   "source": [
    "res_duplicate_BI_usa.iloc[15,:]"
   ]
  },
  {
   "cell_type": "markdown",
   "metadata": {},
   "source": [
    "## UK BI:"
   ]
  },
  {
   "cell_type": "code",
   "execution_count": null,
   "metadata": {
    "collapsed": true
   },
   "outputs": [],
   "source": [
    "nb_resu_par_ville = 100\n",
    "city_set = [\"London\",\"Birmingham\",\"Leeds\",\"Glasgow\",\n",
    "            \"Sheffield\",\"Bradford\",\"Liverpool\",\"Edinburgh\",\n",
    "           \"Manchester\",\"Bristol\",\"Kirklees\",\"Newcastle-upon-Tyne\",\n",
    "           \"Kingston-upon-Hull\",\"Bolton\",\"Walsall\",\"Plymouth\",\n",
    "           \"Nottingham\",\"Doncaster\",\"Sunderland\",\"Scottish+Borders\",\n",
    "           \"Bassetlaw\",\"Cheltenham\",\"Erewash\",\"East+Dunbartonshire\",\n",
    "           \"Cambridgeshire\",\"Norwich\",\"Highland\",\"Derby\"]\n",
    "URL=\"https://www.indeed.co.uk/jobs?q=informatica\"\n",
    "extension=\"https://www.indeed.co.uk\"\n",
    "res_actuariat_uk=scrap_indeed_offer(URL,city_set,nb_resu_par_ville,extension)"
   ]
  },
  {
   "cell_type": "code",
   "execution_count": 113,
   "metadata": {},
   "outputs": [
    {
     "data": {
      "text/plain": [
       "(234, 6)"
      ]
     },
     "execution_count": 113,
     "metadata": {},
     "output_type": "execute_result"
    }
   ],
   "source": [
    "res_act_deduplicate_uk=res_actuariat_uk.drop_duplicates()\n",
    "res_act_deduplicate_uk.shape"
   ]
  },
  {
   "cell_type": "code",
   "execution_count": 109,
   "metadata": {
    "collapsed": true
   },
   "outputs": [],
   "source": [
    "res_act_deduplicate_uk.to_csv(\"developer_BI_uk.csv\",index=False)"
   ]
  },
  {
   "cell_type": "markdown",
   "metadata": {},
   "source": [
    "## Canada BI"
   ]
  },
  {
   "cell_type": "code",
   "execution_count": 110,
   "metadata": {},
   "outputs": [
    {
     "name": "stdout",
     "output_type": "stream",
     "text": [
      "nb_boocle:1744\n",
      "len job_post=6\n",
      "['Richmond', 'Data Architect - Visualization', 'ContractMatchBox Consulting Group is currently looking for a Data Architect for a 12-month full time contract position expected to start January 2019. This is a hands-on role, we’re looking for a strong resource in the Data Visualization space (Tableau and Power BI) and designing semantic layers to support Analytics (Views, data marts, DAT, others).\\nThe Data Architect - Visualization will work under the managerial direction of the Analytics Program Manager and the Manager, Innovation and Enterprise Architecture. The Data Architect for Visualization will turn data into information, information into insight and insight into business decisions by applying advanced data wrangling, cleansing and visualization techniques and best practices to tell the stories behind the numbers and delivery of highly visual and interactive reports and dashboards.\\nRequirements\\nExperience with business intelligence methodologies including disparate data source integration techniques, ETLs, Visual Analytics, KPI and reporting.\\nMastery in designing complex visual analytics solutions with Tableau and Power BI that are highly interactive, dashboards, or that offer data exploration or data mining capabilities.\\nExtensive experience with RDBMS (SQL, T-SQL), data profiling, data cleansing, ETL Tools (Informatica and SSIS) and BI reporting tools (Tableau, Power BI, SSRS).\\nExpertise implementing business semantic layers, business rules, KPIs and preferable Data Lakes to deliver near real time analytics.\\nExperience automating data sources to deliver BI dashboards and solutions.\\nExperience in agile / scrum project methodologies and change management practices.\\nSolid experience in all levels of BI data modeling (including conceptual, logical and physical) including star schemas, data lake design and implementation.\\nExperience with identification, definition and implementation of data lineage, business glossaries, quality workflow checkpoints, audit logging and reporting, reference and master data, and the use of dimensional arrays for matching processes.\\nExperience in proactive roles in data governance initiatives is a plus.\\nA level of knowledge equivalent to a Technical Diploma or Bachelor’s Degree, plus specialized computer training courses relating to software development and data modeling\\nStrong proficiency in communicating with business users and translating their data needs into solutions\\nProficiency in these technologies and tools are required:\\nData Warehouse and Structured Data Designs for OLAP and Analytics\\nTableau and Power BI\\nSybase PowerDesigner or ERWin\\nand T-SQL\\nMicrosoft SQLServer Enterprise stack\\nKnowledge of map/reduce framework (hive/pig/spark other tools for accessing data in Hadoop/HBase cluster systems) is a plus\\nExcellent communication and presentation skills; comfortable presenting topics to diverse audiences.\\nFacilitate meetings with team members and stakeholders.\\nResponsibilities\\nWorks with the business to understand data related needs and how our existing data assets can meet those needs or be extended to meet those needs.\\nAs part of the agile team, collaborates with Product Owners to understand analytics requirements, translating them into solutions that will serve business strategies and needs.\\nProvides thought leadership based on a balanced approach of technical expertise and business acumen.\\nDesigns highly interactive visualizations (dashboards and reports) based on business requirements and user stories.\\nWorks with management to establish long-term analytics solution architecture and data model strategies.\\nWorks with other Architects and developers to ensure that the data architectures and proposed analytics solutions match the software architectures.\\nCreates and maintains data semantic layers and complex calculated data fields to support the delivery of business analytics needs.\\nWorks with business users to define requirements, performs business analysis and design, and implements robust, maintainable solutions that meet the business requirements.\\nKeeps abreast with standards and trends with respect to software architectures, data architectures, and design and development concepts.\\nAssesses data related technologies related to the delivery of analytics and provides feedback to management as to their quality and appropriateness with respect to the enterprise environment.\\nUsing leading practices, develops and maintains highly interactive reports and dashboards to be delivered to business users across the business.\\nEstablishes, maintains and communicates standards, guidelines, and data architecture best practices.\\nCreates and communicates technology white papers relevant to the visual analytics technology and software and data development initiatives.\\nMentors, provides strong methodology leadership, and works closely with development and implementation teams; and for each phase of a project, works with the project management to identify and mitigate data architecture risks.\\nThrough reviews and quality assurance processes, ensures that the architectural solutions designed being adhered to.\\nAssist in conducting research and make recommendations on Visual Analytics / Data Management technologies, analytics tools, services, protocols, and standards in support of procurement and development efforts. Drive the collection of new data, proposes best solution to incorporate to existing Data Lake and the refinement of existing data sources.\\nWorks with the business to develop data quality rules for measuring and monitoring the quality of the data; develops data quality control and remediation plan; performs root cause analysis and tracks resolution of data quality issues; utilizes data quality tools and techniques to improve the quality of the data\\n\\n\\nHeadquartered in downtown Vancouver and serving clients nationally, MatchBox is a recruitment and solutions firm that specializes in the fields of Information Technology, Engineering & Technical, Real Estate & Construction, and Accounting & Finance.\\nWe offer unrivaled expertise with a team that has many years of experience in the recruitment and professional services industry. Our recruitment consultants work in specific vertical markets and our passion is building great connections, creating strong opportunities, and delivering that perfect match.\\nFor additional opportunities and relevant news feed, please VISIT us at http://www.matchboxhr.com and FOLLOW MatchBox on LinkedIn at https://www.linkedin.com/company/matchbox-recruitment', 'MatchBox Consulting Group', 'Burnaby, BC', 'MatchBox Consulting Group is currently looking for a Data Architect for a 12-month full time contract position expected to start January 2019. This is a hands...']\n"
     ]
    }
   ],
   "source": [
    "nb_resu_par_ville = 100\n",
    "city_set = [\"Toronto\",\"Montreal\",\"Calgary\",\"Ottawa\",\n",
    "            \"Edmonton\",\"Mississauga\",\"Winnipeg\",\"Vancouver\",\n",
    "           \"Brampton\",\"Hamilton\",\"Surrey\",\"Halifax\",\n",
    "            \"Quebec+City\",\"Markham\",\"Gatineau\",\"Oakville\",\n",
    "            \"Delta\",\"Terrebonne\",\"Ajax\",\"Lévis\",\n",
    "           \"Oshawa\",\"Windsor\",\"Burnaby\",\"Richmond\"]\n",
    "URL=\"https://ca.indeed.com/jobs?q=Informatica\"\n",
    "extension=\"https://ca.indeed.com\"\n",
    "res_canada=scrap_indeed_offer(URL,city_set,nb_resu_par_ville,extension)"
   ]
  },
  {
   "cell_type": "code",
   "execution_count": 111,
   "metadata": {
    "collapsed": true
   },
   "outputs": [],
   "source": [
    "res_dedup_BI_canada=res_canada.drop_duplicates()"
   ]
  },
  {
   "cell_type": "code",
   "execution_count": 114,
   "metadata": {},
   "outputs": [
    {
     "data": {
      "text/plain": [
       "(815, 6)"
      ]
     },
     "execution_count": 114,
     "metadata": {},
     "output_type": "execute_result"
    }
   ],
   "source": [
    "res_dedup_BI_canada.shape"
   ]
  },
  {
   "cell_type": "markdown",
   "metadata": {
    "collapsed": true
   },
   "source": [
    "## scrap actuariat job in USA:"
   ]
  },
  {
   "cell_type": "code",
   "execution_count": 3,
   "metadata": {},
   "outputs": [
    {
     "name": "stdout",
     "output_type": "stream",
     "text": [
      "nb_boocle:22122\n",
      "len job_post=6\n",
      "['Panama+City', 'Risk Management Insurance Analyst **Re-...', \"$2,937 - $4,699 a monthThis is varied and highly responsible paraprofessional and specialized administrative work, technical in nature involving the coordination of risk management and safety programs including commercial insurance related and employee related programs. Work to be performed under the general supervision of the Assistant Risk Management Director.\\n Essential Functions and Responsibilities:\\nAssists RM Director and Assistant RM with all insurance priorities.\\nAssists in the update/revision of the County's Risk Management Policies and Procedures.\\nAssists with monitoring the issuance and receipt of certificates of insurance.\\nAssists in organizing and collection of data and information for multi-line insurance claims.\\nAssists RM Director with renewal marketing for all County Insurance policies, both P&C and Health Insurance products.\\nMaintain an updated inventory of County owned property/equipment values for management of insurance/self-insurance needs.\\nAssists in maintaining CDL Drug and Alcohol Testing Program and the Drug-Free Workplace Program. Schedules, tracks and oversees completion of drug and/or drug/alcohol screening for compliance with Drug Free Work Place policy, and new employee acquisition.\\nAssists in compiling and maintaining claims history within an automated system.\\nAssists in performing semi-annual motor vehicle record checks on all employees\\nMaintains files and records of office correspondence, documents, reports and other materials.\\nAssists Assistant Risk Management Director with new employee orientations.\\nAssists with files and documentation of worker's compensation claims. May upload new work comp claims or coordinate physicians and other appointments for worker's compensation claimants.\\nAssists with the coordination and filing of citizen's liability complaints/claims, including proper administration of forms.\\nMay be called to assist the Assistant Risk Management Director with preparing paperwork for new employees explaining applicable Risk and Safety programs.\\nMay be called on to assist Assistant Risk Management Director with proper scheduling of all risk management related training classes.\\nPrepares reports and assembles budget data to be used in completion of annual budgets requests for the office of Risk Management.\\nAssist Risk Management Coordinator with setting up, maintaining, and modifing all computer databases and files relating to workers' compensation, general liability, automobile liability, and property claims insuring all documentation is current and accurate.\\nAssists in maintenance of automated property schedules.\\nRegular reliable full time attendance as scheduled.\\nThe employer may add to or change duties at any time and as determined by the County and its leaders to best ensure that the public is served through the work of the Department.\\nPerforms other related duties as assigned.\\n Minimum Qualifications:\\nGraduation from a four (4) year college or university in business administration, public administration, risk management or closely related field.\\nFive (5) years' experience in responsible administration and technical responsibilities, preferably relating to the risk management field.\\nFive (5) years' experience in all aspects of Commercial Insurance.\\nThree (3) years' experience in all aspects of Workers Compensation.\\nThree (3) years' customer service experience.\\nExpertise in the use of MS Word, Excel, Outlook and Access is essential\\nA comparable amount of training and/or experience may be substituted for the minimum qualifications.\\n\\nLICENSES AND/OR CERTIFICATIONS\\nPossession of or ability to obtain a valid Florida driver license upon offer of employment with a driving record acceptable to the County Driving Policy and insurance program.\\nPossess and maintain a Florida 2-20 Property & Casualty license.\\n Knowledge, Abilities and Skills:\\nKnowledge of commercial insurance terminology and claims processing.\\nKnowledge of business English, spelling, punctuation, and math skills.\\nKnowledge of modern office practices and procedures & related risk management software.\\nExcellent oral and written communication skills.\\nExpertise in the use of MS Word, Excel, Outlook and Access is essential.\\nAbility to work independently on complex and confidential tasks.\\nAbility to compose effective and accurate correspondence and to deal with non-routine matters such as assigning, receiving and completing complex work without recourse to a superior.\\nAbility to type from a draft or plain copy rapidly and accurately.\\nAbility to deal in an effective and courteous manner and to establish and maintain effective working relationships with superiors, co-workers, employees, carriers, hospitals, physicians, other organizations and the general public.\\nMust have good interpersonal and communication skills to deal with public and employees with considerable tact and poise to covey a favorable image of the County organization. .\\nOutstanding project management and organizational skills.\\nAbility to assume the responsibility of working with highly confidential material on a routine basis.\\n\\nPHYSICAL REQUIREMENTS/ENVIRONMENTAL CONDITIONS\\nWork is primarily performed indoors and may require some exposure to environmental changes (e.g., outdoor weather and/or field conditions, warehouses, garages, etc.) or irate customers, extreme noise, odors, heights and/or dust.\\n\\nThis position requires some exposure or risk to physical health and/or physical safety (e.g., exposure to environmentally hazardous material, heavy equipment, etc.). This position may require the use of Personal Protective Equipment (PPE) and may include completing and successfully passing medical evaluations or clearances.\\n\\nStooping, sitting, crouching, walking, pulling, lifting, grasping, hearing, seeing up close, seeing far away, kneeling, reaching, pulling, talking, standing, finger movement, repetitive motions, depth perception. Must be able to bend, stoop, squat and lift a minimum of 15 pounds and up to 25 pounds.\", 'Bay County, FL', 'Bay County, FL', 'This is varied and highly responsible paraprofessional and specialized administrative work, technical in nature involving the coordination of risk management...']\n",
      "Durée total réelle:30783.578292131424\n",
      "(12515, 6)\n"
     ]
    }
   ],
   "source": [
    "nb_resu_par_ville = 40\n",
    "us_city=pd.read_table(\"us_city.txt\",sep=\",\")\n",
    "ville_usa=[k.replace(\" \",\"+\") for k in us_city.city]\n",
    "city_set =ville_usa.copy()\n",
    "city_set=city_set\n",
    "URL=\"https://www.indeed.com/jobs?q=finance+actuarial\"\n",
    "t1=time.time()\n",
    "res_FA=scrap_indeed_offer(URL,city_set,nb_resu_par_ville)\n",
    "delta=time.time()-t1\n",
    "print(\"Durée total réelle:{}\".format(delta))\n",
    "\n",
    "res_duplicate_FA_usa=res_FA.drop_duplicates()\n",
    "print(res_duplicate_FA_usa.shape)\n",
    "res_duplicate_FA_usa.to_csv(\"Finance_actuariat_usa.csv\",index=False)"
   ]
  },
  {
   "cell_type": "code",
   "execution_count": 4,
   "metadata": {},
   "outputs": [
    {
     "data": {
      "text/plain": [
       "4793"
      ]
     },
     "execution_count": 4,
     "metadata": {},
     "output_type": "execute_result"
    }
   ],
   "source": [
    "sum([ True if \"actuar\" in  k.lower()  or \"insurance\" in k.lower() or \"cleam\" in k.lower() else False for k in res_duplicate_FA_usa.utituler_offre])"
   ]
  },
  {
   "cell_type": "markdown",
   "metadata": {},
   "source": [
    "## Scrap digital marketing:"
   ]
  },
  {
   "cell_type": "code",
   "execution_count": 3,
   "metadata": {},
   "outputs": [
    {
     "name": "stdout",
     "output_type": "stream",
     "text": [
      "nb_boocle:37002\n",
      "len job_post=6\n",
      "['Panama+City', 'Mortgage Loan Officer', 'CommissionGrande Mortgages is seeking talented Mortgage Loan Officers who are looking to build a team in their area and work remotely across the state of Florida. Grande Mortgages is a division of Grande Companies that encompasses a Custom Home Builder, Real Estate Company, Credit Repair Company and Digital Marketing Company. If you would like to take on a leadership role and be a part of an extremely dynamic company, apply today!Job Type: CommissionLicense:FL Loan Originator License (Required)Sales cycle:Less than 90 daysTypical deal size:$1-5kOnboarding time:Less than 1 month', 'Grande Mortgages', 'Panama City, FL', 'Grande Mortgages is a division of Grande Companies that encompasses a Custom Home Builder, Real Estate Company, Credit Repair Company and Digital Marketing...']\n",
      "Durée total réelle:45881.99751806259\n"
     ]
    },
    {
     "name": "stderr",
     "output_type": "stream",
     "text": [
      "/home/tantely/anaconda3/lib/python3.7/site-packages/pandas/core/indexing.py:1472: FutureWarning: \n",
      "Passing list-likes to .loc or [] with any missing label will raise\n",
      "KeyError in the future, you can use .reindex() as an alternative.\n",
      "\n",
      "See the documentation here:\n",
      "https://pandas.pydata.org/pandas-docs/stable/indexing.html#deprecate-loc-reindex-listlike\n",
      "  return self._getitem_tuple(key)\n"
     ]
    },
    {
     "name": "stdout",
     "output_type": "stream",
     "text": [
      "(28636, 6)\n"
     ]
    }
   ],
   "source": [
    "nb_resu_par_ville = 40\n",
    "us_city=pd.read_table(\"us_city.txt\",sep=\",\")\n",
    "ville_usa=[k.replace(\" \",\"+\") for k in us_city.city]\n",
    "city_set =ville_usa.copy()\n",
    "city_set=city_set\n",
    "URL=\"https://www.indeed.com/jobs?q=Digital+Marketing\"\n",
    "t1=time.time()\n",
    "res_DM=scrap_indeed_offer(URL,city_set,nb_resu_par_ville)\n",
    "delta=time.time()-t1\n",
    "print(\"Durée total réelle:{}\".format(delta))\n",
    "\n",
    "res_duplicate_DM_usa=res_DM.drop_duplicates()\n",
    "print(res_duplicate_DM_usa.shape)\n",
    "res_duplicate_DM_usa.to_csv(\"Digital_marketing_usa.csv\",index=False)"
   ]
  },
  {
   "cell_type": "markdown",
   "metadata": {},
   "source": [
    "## Scrap nursary post"
   ]
  },
  {
   "cell_type": "code",
   "execution_count": 4,
   "metadata": {},
   "outputs": [
    {
     "name": "stdout",
     "output_type": "stream",
     "text": [
      "nb_boocle:39546\n",
      "len job_post=6\n",
      "['Panama+City', 'RN Case Manager PRN', 'RN Case Manager PRN(Job Number: 00096-7303)\\n\\nWork Location: United States-Florida-Panama City-Gulf Coast Regional Medical Center\\nSchedule: PRN/Per Diem\\nJob Type: Case Management\\n\\n\\nDescription\\n\\nGulf Coast Regional Medical Center is a 216-bed acute care hospital proudly serving Bay County and surrounding communities for 40 years. The hospital was recently named a Joint Commission Top Performer on Key Quality Measures® – heart failure, heart attack, pneumonia, surgical care, and perinatal care – for the fourth consecutive year and has achieved certifications for its stroke and wound care.\\n\\nLocated in Panama City, Florida, its team of more than 450 providers and 1,000 employees work to ensure patients receive the highest quality of care every day. With the area’s only designated Pediatric ER, four-bed Pediatric ICU and 28-bed NICU, the hospital is ready to care for our youngest residents. The hospital has the only Accredited Chest Pain Center with Primary PCI as recognized by the Society of Cardiovascular Patient Care. Additionally, the hospital’s cancer program is accredited by the Commission on Cancer and the National Accreditation Program for Breast Centers (NAPBC). It is also an affiliate of the University of Alabama at Birmingham (UAB) Cancer Care Network. These designations enhance the hospital’s quality of care and demonstrate its commitment to higher, measurable standards of care.\\n\\nPOSITION SUMMARY:\\nThe primary purpose of the RN Case Manager is to serve as principal liaison between medical staff, administration, finance, health information management and other ancillary departments to ensure that patient care needs are met and treatment plans are executed in the most appropriate and efficient level of the health care continuum.\\n\\nESSENTIAL FUNCTIONS (including, but not limited to):\\nPerforms initial screening of identified patients for appropriate level of care, priority, payer status and high risk criteria.\\nCollaborates with physicians and Health care team in planning the care of patients and families within the acute setting and along the healthcare continuum.\\nInvolves the physician, patient and family in planning care and the discharge plan.\\nMonitors patient’s progress along the plan of care and intervenes appropriately on variances when identified.\\nMaintains liaison with hospital department managers and other individuals to ensure continuity of care and effective communication of plan of care.\\nProvides decision support to the admitting office, registration and nursing supervisor as well as physicians’ office staff regarding appropriateness of admission, as needed.\\nCoordinates with and corresponds to appropriate agencies and third party payers regarding pre-admission screening, concurrent, outpatient and retrospective review process as it relates to federal and commercial insurance plans to maximize positive financial outcomes.\\nCoordinates and assists with Baker Act placements.\\nArranges appropriate after care needs (i.e. HHC, SNF, hospice, etc)\\nProvides community resources for unfunded patients.\\n\\nQUALIFICATIONS:\\nAssociate Degree, Diploma in Nursing required from an accredited institution required; BSN preferred\\nCurrent Registered Nurse License in State of Florida required or appropriate multi-state license\\n5 years Case Management preferred\\n\\nAn EEO/AA Employer M/F/V/D\\n\\n\\n:', 'Gulf Coast Regional Medical Center', 'Panama City, FL', 'RN Case Manager PRN(Job Number: 00096-7303) Work Location: United States-Florida-Panama City-Gulf Coast Regional Medical Center Schedule: PRN/Per Diem Job...']\n",
      "Durée total réelle:53986.17151784897\n",
      "(36287, 6)\n"
     ]
    }
   ],
   "source": [
    "nb_resu_par_ville = 40\n",
    "us_city=pd.read_table(\"us_city.txt\",sep=\",\")\n",
    "ville_usa=[k.replace(\" \",\"+\") for k in us_city.city]\n",
    "city_set =ville_usa.copy()\n",
    "city_set=city_set\n",
    "URL=\"https://www.indeed.com/jobs?q=Nurse\"\n",
    "t1=time.time()\n",
    "res_Nurse=scrap_indeed_offer(URL,city_set,nb_resu_par_ville)\n",
    "delta=time.time()-t1\n",
    "print(\"Durée total réelle:{}\".format(delta))\n",
    "\n",
    "res_duplicate_Nurse_usa=res_Nurse.drop_duplicates()\n",
    "print(res_duplicate_Nurse_usa.shape)\n",
    "res_duplicate_Nurse_usa.to_csv(\"Nurse_USA.csv\",index=False)"
   ]
  },
  {
   "cell_type": "markdown",
   "metadata": {},
   "source": [
    "## Scrap Surgeon post"
   ]
  },
  {
   "cell_type": "code",
   "execution_count": 5,
   "metadata": {},
   "outputs": [
    {
     "name": "stdout",
     "output_type": "stream",
     "text": [
      "nb_boocle:35835\n",
      "len job_post=6\n",
      "['Panama+City', 'Medical Technologist (PRN)', 'CommissionMedical Technologist (PRN)(Job Number: 00096-7385)\\n\\nWork Location: United States-Florida-Panama City-Gulf Coast Regional Medical Center\\nSchedule: PRN/Per Diem\\nJob Type: Laboratory\\n\\n\\nDescription\\n\\nAt Gulf Coast Regional Medical Center, you’ll find a hospital that has earned the Joint Commission’s National Gold Seal of Approval for our spine, stroke and wound care programs.\\n\\nAdditionally, our cancer program is accredited with commendation by the American College of Surgeons Commission on Cancer.\\n\\nPosition Summary:\\n\\nThe Medical Technologist is responsible for various laboratory testing procedures in assigned areas as licensed.\\n\\nWork customarily involves analytical testing of blood and/or other human biological specimens. Depending on campus and department - various pre and post analytical work processes are included in the work duties customarily performed.\\n\\nQualifications:\\n\\nMust be eligible for Florida Medical Technologist license.\\n\\n\\n:', 'Gulf Coast Regional Medical Center', 'Panama City, FL', 'Additionally, our cancer program is accredited with commendation by the American College of Surgeons Commission on Cancer....']\n",
      "Durée total réelle:45697.87582397461\n",
      "(26462, 6)\n"
     ]
    }
   ],
   "source": [
    "nb_resu_par_ville = 40\n",
    "us_city=pd.read_table(\"us_city.txt\",sep=\",\")\n",
    "ville_usa=[k.replace(\" \",\"+\") for k in us_city.city]\n",
    "city_set =ville_usa.copy()\n",
    "city_set=city_set\n",
    "URL=\"https://www.indeed.com/jobs?q=surgeon\"\n",
    "t1=time.time()\n",
    "res_surgeon=scrap_indeed_offer(URL,city_set,nb_resu_par_ville)\n",
    "delta=time.time()-t1\n",
    "print(\"Durée total réelle:{}\".format(delta))\n",
    "\n",
    "res_duplicate_surgeon_usa=res_surgeon.drop_duplicates()\n",
    "print(res_duplicate_surgeon_usa.shape)\n",
    "res_duplicate_surgeon_usa.to_csv(\"chirurgien_USA.csv\",index=False)"
   ]
  },
  {
   "cell_type": "markdown",
   "metadata": {},
   "source": [
    "## Scrap Pharmacist job"
   ]
  },
  {
   "cell_type": "code",
   "execution_count": 3,
   "metadata": {},
   "outputs": [
    {
     "name": "stdout",
     "output_type": "stream",
     "text": [
      "nb_boocle:30950\n",
      "len job_post=6\n",
      "['Panama+City', 'Clinical Pharmacist', \"ContractJob Description:\\nConcentric Methods is seeking an experienced Clinical\\nPharmacist. This position is contingent upon contract\\naward.\\nJob Duty\\nThe Clinical Pharmacist performs clinical and\\neducational functions required in drug monitoring, with\\nemphasis on appropriateness, safety and cost-effective\\ndrug therapy.\\nEssential Functions and Responsibilities\\nAssess patient's response to drug therapy and planning\\ndrug therapy based on physician established diagnoses\\nOrder and evaluate laboratory tests necessary to\\nevaluate drug therapy effects and outcomes\\nInitiate, modify, or discontinue medications for ongoing\\ntherapy of chronic disease states (e.g. hypertension,\\nhyperlipidemia, anticoagulant, diabetes, asthma, refill\\nclinics, etc.), in cooperation with the medical staff\\nMonitor and manage pharmacotherapy requiring periodic\\nadjustment due to specific or changing pharmacokinetic\\ncharacteristics (e.g., aminoglycosides, phenytoin,\\nantithrombotic)\\nAdminister prescription or non-prescription drugs\\naccording to established agreements or protocols\\nAssess metabolic needs and order therapeutic enteral or\\nparenteral nutrition products in the inpatient setting\\nEvaluate medical and medication histories for\\ndrug-related problems and adjusting drug therapy\\naccordingly\\nConsult with other healthcare providers (e.g.\\nphysicians, dietitians, nurses, physical therapists,\\netc.) about patient treatment needs or options\\nPerform a full range of pharmacist procedures\\nReview patient profiles at the time of dispensing in\\norder to closely monitor medication therapy\\nEnsure prescription directions for use, dose, medication\\ninteractions, therapeutic duplications or overlaps,\\nallergy information, age specific dosage, and other\\npertinent data are appropriate for individual patients.\\nEnsure accuracy of all pharmaceutical products prepared\\nor processed by technical staff\\nProvide medication and healthcare related in service\\ntraining to clinical staff on new medications on the\\nmarket; appropriate use of medications; comparison of\\ncurrent medication therapies; and other topics as deemed\\nappropriate by the department head\\nConsult with other specialty practitioners to provide\\noptimal patient pharmaceutical care\\nDocument significant medication interactions, and\\npharmacy interactions with prescribers. Conduct Adverse\\nDrug Reaction (ADR) reporting in accordance with The\\nJoint Commission (TJC) or the Accreditation Association\\nfor Ambulatory Health Care, Inc. (AAAHC) standards as\\nappropriate\\nFacilitate medical staff drug utilization reviews (DURs)\\nas deemed necessary\\nOther duties as assigned\\n\\nJob Requirements:\\nStrong written and oral communication skills,\\norganizational skills and attention to detail\\nSelf-motivated with minimal oversight\\nComputer skills including Microsoft Word, Excel,\\nPowerPoint and Outlook\\nTravel may be required\\nEducation and/or Experience\\nDoctor of Pharmacy degree\\nGraduated from a college or university accredited by the\\nAccreditation Council on Pharmaceutical Education (ACPE)\\nCurrent, active license\\nCompletion of a clinical pharmacy residency or\\nfellowship accredited by the American Society of Health\\nSystem Pharmacists or American College of Clinical\\nPharmacy or documentation of appropriate education,\\ntraining, and/or CME in the practice of clinical\\npharmacy\\nAreas may cover the following areas: Ambulatory Care\\nPharmacy; Critical Care Pharmacy; Nuclear Pharmacy;\\nNutrition Support Pharmacy; Oncology Pharmacy; Pediatric\\nPharmacy; Pharmacotherapy Pharmacy; Psychiatric Pharmacy\\nMust have the authorization to work in the United States\\nas defined by the Immigration Reform Act of 1986\\nCape Fox Corporation, its subsidiaries and affiliates\\nprovide equal employment opportunities to all persons\\nand prohibit employment decisions on the basis of race,\\nreligion, color, creed, national origin, sex, age,\\ndisability, political affiliation, protected veteran\\nstatus, or sexual orientation. Cape Fox Corporation, its\\nsubsidiaries and affiliates offer preference to Cape Fox\\nCorporation shareholders, descendants and other Native\\nAmericans pursuant to Public Law 100-241.\", 'Concentric Methods', 'Tyndall AFB, FL 32403', 'Perform a full range of pharmacist procedures. The Clinical Pharmacist performs clinical and. Training, and/or CME in the practice of clinical....']\n",
      "Durée total réelle:43312.77954530716\n"
     ]
    },
    {
     "name": "stderr",
     "output_type": "stream",
     "text": [
      "/home/tantely/anaconda3/lib/python3.7/site-packages/pandas/core/indexing.py:1472: FutureWarning: \n",
      "Passing list-likes to .loc or [] with any missing label will raise\n",
      "KeyError in the future, you can use .reindex() as an alternative.\n",
      "\n",
      "See the documentation here:\n",
      "https://pandas.pydata.org/pandas-docs/stable/indexing.html#deprecate-loc-reindex-listlike\n",
      "  return self._getitem_tuple(key)\n"
     ]
    },
    {
     "name": "stdout",
     "output_type": "stream",
     "text": [
      "(21094, 6)\n"
     ]
    }
   ],
   "source": [
    "nb_resu_par_ville = 40\n",
    "us_city=pd.read_table(\"us_city.txt\",sep=\",\")\n",
    "ville_usa=[k.replace(\" \",\"+\") for k in us_city.city]\n",
    "city_set =ville_usa.copy()\n",
    "city_set=city_set\n",
    "URL=\"https://www.indeed.com/jobs?q=Pharmacist\"\n",
    "t1=time.time()\n",
    "res_Pharmacist=scrap_indeed_offer(URL,city_set,nb_resu_par_ville)\n",
    "delta=time.time()-t1\n",
    "print(\"Durée total réelle:{}\".format(delta))\n",
    "\n",
    "res_duplicate_Pharmacist_usa=res_Pharmacist.drop_duplicates()\n",
    "print(res_duplicate_Pharmacist_usa.shape)\n",
    "res_duplicate_Pharmacist_usa.to_csv(\"Pharmacist_USA.csv\",index=False)"
   ]
  },
  {
   "cell_type": "markdown",
   "metadata": {},
   "source": [
    " ## scrap dentist Job"
   ]
  },
  {
   "cell_type": "code",
   "execution_count": 4,
   "metadata": {},
   "outputs": [
    {
     "name": "stdout",
     "output_type": "stream",
     "text": [
      "nb_boocle:34873\n",
      "len job_post=6\n",
      "['Panama+City', 'Dentist (Weekends)', 'Part-timeGeneral Dentist needed to work Saturdays 8-5 Full time or Part Time availablePrefer Florida licensed but will consider experienced dentist licensed in another state.Competitive pay (DOE), All Full Time Benefits Include 13 paid holidays per year, paid time off (PTO), group medical, dental, vision & life benefits, plus an excellent retirement savings plan.Job Types: Full-time, Part-timeLicense:Dentist (Required)Benefits offered:Retirement benefits or accountsEmployee discountsOvertime often available:NoClinical Setting:General DentistryTypical start time:8AMTypical end time:5PM', 'PanCare of Florida, Inc.', 'Panama City, FL', '*General Dentist needed to work Saturdays 8-5  Full time or Part Time available* Prefer Florida licensed but will consider experienced dentist licensed in...']\n",
      "Durée total réelle:45178.20732712746\n",
      "(27495, 6)\n"
     ]
    }
   ],
   "source": [
    "nb_resu_par_ville = 40\n",
    "us_city=pd.read_table(\"us_city.txt\",sep=\",\")\n",
    "ville_usa=[k.replace(\" \",\"+\") for k in us_city.city]\n",
    "city_set =ville_usa.copy()\n",
    "city_set=city_set\n",
    "URL=\"https://www.indeed.com/jobs?q=dentist\"\n",
    "t1=time.time()\n",
    "res_dentist=scrap_indeed_offer(URL,city_set,nb_resu_par_ville)\n",
    "delta=time.time()-t1\n",
    "print(\"Durée total réelle:{}\".format(delta))\n",
    "\n",
    "res_duplicate_dentist_usa=res_dentist.drop_duplicates()\n",
    "print(res_duplicate_dentist_usa.shape)\n",
    "res_duplicate_dentist_usa.to_csv(\"dentist_USA.csv\",index=False)"
   ]
  },
  {
   "cell_type": "code",
   "execution_count": null,
   "metadata": {},
   "outputs": [],
   "source": []
  }
 ],
 "metadata": {
  "kernelspec": {
   "display_name": "Python 3",
   "language": "python",
   "name": "python3"
  },
  "language_info": {
   "codemirror_mode": {
    "name": "ipython",
    "version": 3
   },
   "file_extension": ".py",
   "mimetype": "text/x-python",
   "name": "python",
   "nbconvert_exporter": "python",
   "pygments_lexer": "ipython3",
   "version": "3.7.1"
  },
  "toc": {
   "base_numbering": 1,
   "nav_menu": {},
   "number_sections": false,
   "sideBar": false,
   "skip_h1_title": false,
   "title_cell": "Table of Contents",
   "title_sidebar": "Contents",
   "toc_cell": false,
   "toc_position": {},
   "toc_section_display": false,
   "toc_window_display": false
  }
 },
 "nbformat": 4,
 "nbformat_minor": 2
}
