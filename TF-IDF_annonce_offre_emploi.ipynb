{
 "cells": [
  {
   "cell_type": "code",
   "execution_count": 1,
   "metadata": {},
   "outputs": [],
   "source": [
    "import pandas as pd\n",
    "import numpy as np\n",
    "import nltk\n",
    "import string\n",
    "import regex\n",
    "import re\n",
    "import seaborn as sn\n",
    "import matplotlib.pyplot as plt\n",
    "from nltk.corpus import stopwords\n",
    "from textblob import Word\n",
    "from sklearn.model_selection import train_test_split\n",
    "from sklearn.feature_extraction.text import TfidfVectorizer\n",
    "from sklearn.naive_bayes import MultinomialNB\n",
    "from sklearn.svm import LinearSVC\n",
    "from sklearn.calibration import CalibratedClassifierCV\n",
    "from sklearn.metrics import accuracy_score,roc_curve,auc\n",
    "from sklearn.multiclass import OneVsOneClassifier\n",
    "from sklearn.metrics import confusion_matrix\n",
    "from sklearn.linear_model import LogisticRegression\n",
    "from sklearn.model_selection import GridSearchCV\n",
    "from sklearn.neighbors import KNeighborsClassifier\n",
    "from sklearn.model_selection import cross_val_score\n",
    "from sklearn.pipeline import Pipeline\n",
    "from tqdm import tqdm\n",
    "from sklearn.manifold import TSNE\n",
    "from sklearn.feature_extraction.text import CountVectorizer,TfidfTransformer\n",
    "from sklearn.preprocessing import LabelEncoder,LabelBinarizer\n",
    "from sklearn.metrics import classification_report\n",
    "plt.style.use('ggplot')\n",
    "%matplotlib notebook"
   ]
  },
  {
   "cell_type": "markdown",
   "metadata": {},
   "source": [
    "## Fonction qui a pour objectif de néttoyer le corpus de text que l'on souhaite étudier:"
   ]
  },
  {
   "cell_type": "code",
   "execution_count": 2,
   "metadata": {},
   "outputs": [],
   "source": [
    "def fonction_nettoyage_text(df):\n",
    "    # supprission des ponctuations\n",
    "    rm_ponct = str.maketrans('','',string.punctuation)\n",
    "    df = df.apply(lambda x:x.translate(rm_ponct))\n",
    "    # suppression les unicodes\n",
    "    df = df.apply(lambda x:x.encode(\"ascii\",\"ignore\").decode(\"utf-8\"))\n",
    "                                                \n",
    "    # suppression des URLs\n",
    "    df = df.apply(lambda x:re.sub(r'http\\S+',\"\",x))\n",
    "    \n",
    "    # suppression des stopwords\n",
    "    stop_en = stopwords.words(\"english\")\n",
    "    df = df.apply(lambda x:\" \".join(x.lower() for x in np.str(x).split() if x.lower() not in stop_en))\n",
    "                                                  # Lemmatisation\n",
    "    df = df.apply(lambda x:\" \".join([Word(word).lemmatize() for word in x.split()]))\n",
    "                  \n",
    "    return(df)"
   ]
  },
  {
   "cell_type": "markdown",
   "metadata": {},
   "source": [
    "Dans cette notebook, on va plutôt nous intéresser au résumés des annonces d'offre d'emploi plutôt qu'à l'ensemble du descriptif de l'offre pour réduire la dimension au niveau du nombre de mots que l'on va disposer, donc alléger notre corpus.On veut aussi savoir si les résumés représentent bien les offres."
   ]
  },
  {
   "cell_type": "code",
   "execution_count": 3,
   "metadata": {},
   "outputs": [],
   "source": [
    "# import des données\n",
    "dataset = pd.read_csv(\"data_set_version_final.csv\")\n",
    "dataset.resume=fonction_nettoyage_text(dataset.resume)"
   ]
  },
  {
   "cell_type": "markdown",
   "metadata": {},
   "source": [
    "On se basera pour commencer avec la méthode TF-IDF pour représenter chaque document dans notre corpus. Mais tout d'abord revérifiant les caractérisqtiques de nos lables."
   ]
  },
  {
   "cell_type": "code",
   "execution_count": 4,
   "metadata": {},
   "outputs": [
    {
     "name": "stdout",
     "output_type": "stream",
     "text": [
      "On a 11 classes :\n",
      "['Finance_actuariat' 'chirurgien' 'cryptography' 'data scientist'\n",
      " 'dentist' 'developer' 'ditital_marketing' 'network_engineer' 'nurse'\n",
      " 'pharmacist' 'robotic']\n",
      "\n",
      "\n",
      "Pour la classe Finance_actuariat, on a 5087 nombres de lignes\n",
      "Pour la classe chirurgien, on a 26462 nombres de lignes\n",
      "Pour la classe cryptography, on a 10560 nombres de lignes\n",
      "Pour la classe data scientist, on a 11374 nombres de lignes\n",
      "Pour la classe dentist, on a 27495 nombres de lignes\n",
      "Pour la classe developer, on a 7380 nombres de lignes\n",
      "Pour la classe ditital_marketing, on a 12088 nombres de lignes\n",
      "Pour la classe network_engineer, on a 12336 nombres de lignes\n",
      "Pour la classe nurse, on a 36287 nombres de lignes\n",
      "Pour la classe pharmacist, on a 21094 nombres de lignes\n",
      "Pour la classe robotic, on a 19058 nombres de lignes\n",
      "Nombre de points total: 189221\n"
     ]
    }
   ],
   "source": [
    "classes, nbpoint = np.unique(dataset[\"Labels\"], return_counts=True)\n",
    "print(\"On a {} classes :\\n{}\\n\\n\".format(len(classes),classes))\n",
    "for ind, cl in enumerate(classes):\n",
    "    print(\"Pour la classe {}, on a {} nombres de lignes\".format(cl, nbpoint[ind] ))\n",
    "print(\"Nombre de points total:\",len(dataset[\"Labels\"]))"
   ]
  },
  {
   "cell_type": "markdown",
   "metadata": {},
   "source": [
    "## Split train-test validation:"
   ]
  },
  {
   "cell_type": "code",
   "execution_count": 5,
   "metadata": {},
   "outputs": [],
   "source": [
    "X_train,X_test,Y_train,y_test = train_test_split(dataset.resume,dataset.Labels,test_size=0.3,shuffle=True)\n",
    "x_train,x_val,y_train,y_val = train_test_split(X_train,Y_train,test_size=0.3,shuffle=True)"
   ]
  },
  {
   "cell_type": "markdown",
   "metadata": {},
   "source": [
    "### Prédiction des types d'emplois à partir de l'algorithme KNN:"
   ]
  },
  {
   "cell_type": "code",
   "execution_count": 6,
   "metadata": {},
   "outputs": [],
   "source": [
    "def ConfusionMatrix(Y_predict, Y_true):\n",
    "    confusion_matrix(Y_true, Y_predict,labels=np.unique(Y_true))\n",
    "    confu = pd.DataFrame(confusion_matrix(Y_true, Y_predict,labels=np.unique(Y_true)),columns=np.unique(Y_true),index=np.unique(Y_true))\n",
    "    confu[\"marge_true\"]=confu.sum(axis=1)\n",
    "    confu.loc[\"marge_pred\"]=confu.sum(axis=0)\n",
    "    \n",
    "    return confu"
   ]
  },
  {
   "cell_type": "code",
   "execution_count": 7,
   "metadata": {},
   "outputs": [],
   "source": [
    "pipline=Pipeline([('tfidf',TfidfVectorizer()),('knn',KNeighborsClassifier())])"
   ]
  },
  {
   "cell_type": "code",
   "execution_count": 8,
   "metadata": {},
   "outputs": [
    {
     "data": {
      "text/plain": [
       "0.9538213755442031"
      ]
     },
     "execution_count": 8,
     "metadata": {},
     "output_type": "execute_result"
    }
   ],
   "source": [
    "pipline.set_params(knn__n_neighbors=5)\n",
    "pipline.fit(x_train,y_train)\n",
    "pipline.score(x_val,y_val)"
   ]
  },
  {
   "cell_type": "markdown",
   "metadata": {},
   "source": [
    "Calcul de la valeur du meilleur paramètre n_neighbors:"
   ]
  },
  {
   "cell_type": "code",
   "execution_count": 9,
   "metadata": {},
   "outputs": [
    {
     "name": "stderr",
     "output_type": "stream",
     "text": [
      "100%|██████████| 8/8 [43:45<00:00, 345.46s/it]\n"
     ]
    },
    {
     "name": "stdout",
     "output_type": "stream",
     "text": [
      "With all being CV, best k is 2 and best perf is 0.9665550997810605\n"
     ]
    },
    {
     "data": {
      "image/png": "[encoded data removed]",
      "text/plain": [
       "<Figure size 432x288 with 1 Axes>"
      ]
     },
     "metadata": {
      "needs_background": "light"
     },
     "output_type": "display_data"
    }
   ],
   "source": [
    "k_values = [2,3,5,6,7,8,9,10]\n",
    "perf_train=[]\n",
    "perf_val=[]\n",
    "for k in tqdm(k_values):\n",
    "    pipline.set_params(knn__n_neighbors=k)\n",
    "    y_pred_train = pipline.predict(x_train)\n",
    "    y_pred_val=pipline.predict(x_val)\n",
    "    scores_train = accuracy_score(y_train, y_pred_train)\n",
    "    scores_val=accuracy_score(y_val,y_pred_val)\n",
    "    perf_train.append(scores_train)\n",
    "    perf_val.append(scores_val)\n",
    "plt.figure()\n",
    "plt.plot(range(1,len(perf_train)+1),perf_train,\"--r\",range(1,len(perf_val)+1),perf_val,\"--g^\")\n",
    "plt.legend(['accuracy train', 'accuracy val'],loc=\"lower right\")\n",
    "print('With all being CV, best k is '    +repr(k_values[perf_val.index(max(perf_val))])+ ' and best perf is ' + repr(max(perf_val)))"
   ]
  },
  {
   "cell_type": "code",
   "execution_count": 10,
   "metadata": {},
   "outputs": [
    {
     "name": "stdout",
     "output_type": "stream",
     "text": [
      "Le score de notre modèle sur les données test=0.9756196381700636\n"
     ]
    },
    {
     "data": {
      "text/html": [
       "<div>\n",
       "<style scoped>\n",
       "    .dataframe tbody tr th:only-of-type {\n",
       "        vertical-align: middle;\n",
       "    }\n",
       "\n",
       "    .dataframe tbody tr th {\n",
       "        vertical-align: top;\n",
       "    }\n",
       "\n",
       "    .dataframe thead th {\n",
       "        text-align: right;\n",
       "    }\n",
       "</style>\n",
       "<table border=\"1\" class=\"dataframe\">\n",
       "  <thead>\n",
       "    <tr style=\"text-align: right;\">\n",
       "      <th></th>\n",
       "      <th>Finance_actuariat</th>\n",
       "      <th>chirurgien</th>\n",
       "      <th>cryptography</th>\n",
       "      <th>data scientist</th>\n",
       "      <th>dentist</th>\n",
       "      <th>developer</th>\n",
       "      <th>ditital_marketing</th>\n",
       "      <th>network_engineer</th>\n",
       "      <th>nurse</th>\n",
       "      <th>pharmacist</th>\n",
       "      <th>robotic</th>\n",
       "      <th>marge_true</th>\n",
       "    </tr>\n",
       "  </thead>\n",
       "  <tbody>\n",
       "    <tr>\n",
       "      <th>Finance_actuariat</th>\n",
       "      <td>1586</td>\n",
       "      <td>0</td>\n",
       "      <td>0</td>\n",
       "      <td>0</td>\n",
       "      <td>0</td>\n",
       "      <td>0</td>\n",
       "      <td>0</td>\n",
       "      <td>0</td>\n",
       "      <td>0</td>\n",
       "      <td>0</td>\n",
       "      <td>0</td>\n",
       "      <td>1586</td>\n",
       "    </tr>\n",
       "    <tr>\n",
       "      <th>chirurgien</th>\n",
       "      <td>1</td>\n",
       "      <td>7749</td>\n",
       "      <td>0</td>\n",
       "      <td>0</td>\n",
       "      <td>55</td>\n",
       "      <td>6</td>\n",
       "      <td>1</td>\n",
       "      <td>0</td>\n",
       "      <td>79</td>\n",
       "      <td>6</td>\n",
       "      <td>3</td>\n",
       "      <td>7900</td>\n",
       "    </tr>\n",
       "    <tr>\n",
       "      <th>cryptography</th>\n",
       "      <td>0</td>\n",
       "      <td>3</td>\n",
       "      <td>3147</td>\n",
       "      <td>4</td>\n",
       "      <td>0</td>\n",
       "      <td>1</td>\n",
       "      <td>0</td>\n",
       "      <td>2</td>\n",
       "      <td>1</td>\n",
       "      <td>1</td>\n",
       "      <td>2</td>\n",
       "      <td>3161</td>\n",
       "    </tr>\n",
       "    <tr>\n",
       "      <th>data scientist</th>\n",
       "      <td>5</td>\n",
       "      <td>9</td>\n",
       "      <td>1</td>\n",
       "      <td>3342</td>\n",
       "      <td>7</td>\n",
       "      <td>6</td>\n",
       "      <td>5</td>\n",
       "      <td>1</td>\n",
       "      <td>4</td>\n",
       "      <td>2</td>\n",
       "      <td>4</td>\n",
       "      <td>3386</td>\n",
       "    </tr>\n",
       "    <tr>\n",
       "      <th>dentist</th>\n",
       "      <td>1</td>\n",
       "      <td>88</td>\n",
       "      <td>4</td>\n",
       "      <td>8</td>\n",
       "      <td>7979</td>\n",
       "      <td>1</td>\n",
       "      <td>2</td>\n",
       "      <td>3</td>\n",
       "      <td>48</td>\n",
       "      <td>5</td>\n",
       "      <td>1</td>\n",
       "      <td>8140</td>\n",
       "    </tr>\n",
       "    <tr>\n",
       "      <th>developer</th>\n",
       "      <td>2</td>\n",
       "      <td>7</td>\n",
       "      <td>2</td>\n",
       "      <td>25</td>\n",
       "      <td>3</td>\n",
       "      <td>2168</td>\n",
       "      <td>1</td>\n",
       "      <td>4</td>\n",
       "      <td>7</td>\n",
       "      <td>4</td>\n",
       "      <td>4</td>\n",
       "      <td>2227</td>\n",
       "    </tr>\n",
       "    <tr>\n",
       "      <th>ditital_marketing</th>\n",
       "      <td>0</td>\n",
       "      <td>2</td>\n",
       "      <td>1</td>\n",
       "      <td>5</td>\n",
       "      <td>6</td>\n",
       "      <td>4</td>\n",
       "      <td>3539</td>\n",
       "      <td>1</td>\n",
       "      <td>2</td>\n",
       "      <td>0</td>\n",
       "      <td>2</td>\n",
       "      <td>3562</td>\n",
       "    </tr>\n",
       "    <tr>\n",
       "      <th>network_engineer</th>\n",
       "      <td>0</td>\n",
       "      <td>3</td>\n",
       "      <td>10</td>\n",
       "      <td>6</td>\n",
       "      <td>1</td>\n",
       "      <td>2</td>\n",
       "      <td>3</td>\n",
       "      <td>3678</td>\n",
       "      <td>3</td>\n",
       "      <td>1</td>\n",
       "      <td>9</td>\n",
       "      <td>3716</td>\n",
       "    </tr>\n",
       "    <tr>\n",
       "      <th>nurse</th>\n",
       "      <td>4</td>\n",
       "      <td>303</td>\n",
       "      <td>6</td>\n",
       "      <td>27</td>\n",
       "      <td>173</td>\n",
       "      <td>8</td>\n",
       "      <td>22</td>\n",
       "      <td>15</td>\n",
       "      <td>10417</td>\n",
       "      <td>43</td>\n",
       "      <td>11</td>\n",
       "      <td>11029</td>\n",
       "    </tr>\n",
       "    <tr>\n",
       "      <th>pharmacist</th>\n",
       "      <td>0</td>\n",
       "      <td>32</td>\n",
       "      <td>1</td>\n",
       "      <td>7</td>\n",
       "      <td>19</td>\n",
       "      <td>5</td>\n",
       "      <td>6</td>\n",
       "      <td>4</td>\n",
       "      <td>105</td>\n",
       "      <td>6091</td>\n",
       "      <td>4</td>\n",
       "      <td>6274</td>\n",
       "    </tr>\n",
       "    <tr>\n",
       "      <th>robotic</th>\n",
       "      <td>2</td>\n",
       "      <td>8</td>\n",
       "      <td>14</td>\n",
       "      <td>13</td>\n",
       "      <td>9</td>\n",
       "      <td>6</td>\n",
       "      <td>2</td>\n",
       "      <td>24</td>\n",
       "      <td>17</td>\n",
       "      <td>4</td>\n",
       "      <td>5687</td>\n",
       "      <td>5786</td>\n",
       "    </tr>\n",
       "    <tr>\n",
       "      <th>marge_pred</th>\n",
       "      <td>1601</td>\n",
       "      <td>8204</td>\n",
       "      <td>3186</td>\n",
       "      <td>3437</td>\n",
       "      <td>8252</td>\n",
       "      <td>2207</td>\n",
       "      <td>3581</td>\n",
       "      <td>3732</td>\n",
       "      <td>10683</td>\n",
       "      <td>6157</td>\n",
       "      <td>5727</td>\n",
       "      <td>56767</td>\n",
       "    </tr>\n",
       "  </tbody>\n",
       "</table>\n",
       "</div>"
      ],
      "text/plain": [
       "                   Finance_actuariat  chirurgien  cryptography  \\\n",
       "Finance_actuariat               1586           0             0   \n",
       "chirurgien                         1        7749             0   \n",
       "cryptography                       0           3          3147   \n",
       "data scientist                     5           9             1   \n",
       "dentist                            1          88             4   \n",
       "developer                          2           7             2   \n",
       "ditital_marketing                  0           2             1   \n",
       "network_engineer                   0           3            10   \n",
       "nurse                              4         303             6   \n",
       "pharmacist                         0          32             1   \n",
       "robotic                            2           8            14   \n",
       "marge_pred                      1601        8204          3186   \n",
       "\n",
       "                   data scientist  dentist  developer  ditital_marketing  \\\n",
       "Finance_actuariat               0        0          0                  0   \n",
       "chirurgien                      0       55          6                  1   \n",
       "cryptography                    4        0          1                  0   \n",
       "data scientist               3342        7          6                  5   \n",
       "dentist                         8     7979          1                  2   \n",
       "developer                      25        3       2168                  1   \n",
       "ditital_marketing               5        6          4               3539   \n",
       "network_engineer                6        1          2                  3   \n",
       "nurse                          27      173          8                 22   \n",
       "pharmacist                      7       19          5                  6   \n",
       "robotic                        13        9          6                  2   \n",
       "marge_pred                   3437     8252       2207               3581   \n",
       "\n",
       "                   network_engineer  nurse  pharmacist  robotic  marge_true  \n",
       "Finance_actuariat                 0      0           0        0        1586  \n",
       "chirurgien                        0     79           6        3        7900  \n",
       "cryptography                      2      1           1        2        3161  \n",
       "data scientist                    1      4           2        4        3386  \n",
       "dentist                           3     48           5        1        8140  \n",
       "developer                         4      7           4        4        2227  \n",
       "ditital_marketing                 1      2           0        2        3562  \n",
       "network_engineer               3678      3           1        9        3716  \n",
       "nurse                            15  10417          43       11       11029  \n",
       "pharmacist                        4    105        6091        4        6274  \n",
       "robotic                          24     17           4     5687        5786  \n",
       "marge_pred                     3732  10683        6157     5727       56767  "
      ]
     },
     "execution_count": 10,
     "metadata": {},
     "output_type": "execute_result"
    }
   ],
   "source": [
    "k_opt=k_values[perf_val.index(max(perf_val))]\n",
    "pipline.set_params(knn__n_neighbors=k_opt)\n",
    "pipline.fit(X_train,Y_train)\n",
    "pipline.score(X_test,y_test)\n",
    "pred_test=pipline.predict(X_test)\n",
    "d=ConfusionMatrix(Y_predict=pred_test,Y_true=y_test)\n",
    "print(\"Le score de notre modèle sur les données test={}\".format(np.mean(pred_test==y_test)))\n",
    "d"
   ]
  },
  {
   "cell_type": "code",
   "execution_count": 11,
   "metadata": {},
   "outputs": [
    {
     "name": "stdout",
     "output_type": "stream",
     "text": [
      "                   precision    recall  f1-score   support\n",
      "\n",
      "Finance_actuariat       0.99      1.00      1.00      1586\n",
      "       chirurgien       0.94      0.98      0.96      7900\n",
      "     cryptography       0.99      1.00      0.99      3161\n",
      "   data scientist       0.97      0.99      0.98      3386\n",
      "          dentist       0.97      0.98      0.97      8140\n",
      "        developer       0.98      0.97      0.98      2227\n",
      "ditital_marketing       0.99      0.99      0.99      3562\n",
      " network_engineer       0.99      0.99      0.99      3716\n",
      "            nurse       0.98      0.94      0.96     11029\n",
      "       pharmacist       0.99      0.97      0.98      6274\n",
      "          robotic       0.99      0.98      0.99      5786\n",
      "\n",
      "        micro avg       0.98      0.98      0.98     56767\n",
      "        macro avg       0.98      0.98      0.98     56767\n",
      "     weighted avg       0.98      0.98      0.98     56767\n",
      "\n"
     ]
    }
   ],
   "source": [
    "print(classification_report(y_test, pred_test))"
   ]
  },
  {
   "cell_type": "markdown",
   "metadata": {},
   "source": [
    " ### Prédiction des types d'emplois à partir de l'algorithme SVM:"
   ]
  },
  {
   "cell_type": "code",
   "execution_count": 12,
   "metadata": {},
   "outputs": [],
   "source": [
    "pipline_svm=Pipeline([('tfidf',TfidfVectorizer()),('LSVM',LinearSVC())])"
   ]
  },
  {
   "cell_type": "code",
   "execution_count": 43,
   "metadata": {},
   "outputs": [
    {
     "data": {
      "text/plain": [
       "0.9900093112212799"
      ]
     },
     "execution_count": 43,
     "metadata": {},
     "output_type": "execute_result"
    }
   ],
   "source": [
    "pipline_svm.set_params(LSVM__C=2)\n",
    "pipline_svm.fit(x_train,y_train)\n",
    "pipline_svm.score(x_val,y_val)"
   ]
  },
  {
   "cell_type": "markdown",
   "metadata": {},
   "source": [
    "## Parametre C optimal de l'algorithme SVM:"
   ]
  },
  {
   "cell_type": "code",
   "execution_count": 13,
   "metadata": {},
   "outputs": [
    {
     "name": "stderr",
     "output_type": "stream",
     "text": [
      "12it [01:17,  7.89s/it]/home/tantely/anaconda3/lib/python3.7/site-packages/sklearn/svm/base.py:922: ConvergenceWarning: Liblinear failed to converge, increase the number of iterations.\n",
      "  \"the number of iterations.\", ConvergenceWarning)\n",
      "13it [01:50, 15.25s/it]/home/tantely/anaconda3/lib/python3.7/site-packages/sklearn/svm/base.py:922: ConvergenceWarning: Liblinear failed to converge, increase the number of iterations.\n",
      "  \"the number of iterations.\", ConvergenceWarning)\n",
      "14it [02:26, 21.56s/it]/home/tantely/anaconda3/lib/python3.7/site-packages/sklearn/svm/base.py:922: ConvergenceWarning: Liblinear failed to converge, increase the number of iterations.\n",
      "  \"the number of iterations.\", ConvergenceWarning)\n",
      "15it [02:50, 22.30s/it]\n"
     ]
    },
    {
     "name": "stdout",
     "output_type": "stream",
     "text": [
      "\n",
      " C optimal = 1.6378937069540647\n"
     ]
    },
    {
     "data": {
      "image/png": "[encoded data removed]",
      "text/plain": [
       "<Figure size 432x288 with 1 Axes>"
      ]
     },
     "metadata": {
      "needs_background": "light"
     },
     "output_type": "display_data"
    }
   ],
   "source": [
    "vectC = np.logspace(-3, 2, 15)\n",
    "err_val = np.empty(vectC.shape[0])\n",
    "err_app = np.empty(vectC.shape[0])\n",
    "for ind_C, C in tqdm(enumerate(vectC)):\n",
    "    pipline_svm.set_params(LSVM__C=C)\n",
    "    pipline_svm.fit(x_train, y_train)\n",
    "    # calcule erreur sur les donnees de validation et app\n",
    "    err_val[ind_C] = 1 - accuracy_score(y_val, pipline_svm.predict(x_val))\n",
    "    err_app[ind_C] = 1 - accuracy_score(y_train, pipline_svm.predict(x_train))\n",
    "err_min_val, ind_min = err_val.min(), err_val.argmin()\n",
    "Copt = vectC[ind_min]\n",
    "print(\"\\n C optimal = {}\".format(Copt))\n",
    "# Trace courbe erreur\n",
    "plt.figure()\n",
    "plt.semilogx(vectC, err_app, color=\"blue\", linestyle=\"--\", marker=\"s\", markersize=5, label=\"Apprentissage\")\n",
    "plt.semilogx(vectC, err_val, color=\"green\", linestyle=\"--\", marker=\"s\", markersize=5, label=\"Validation\")\n",
    "plt.xlabel(\"Parametre C\")\n",
    "plt.ylabel(\"Erreur Classification\")\n",
    "plt.legend(loc=\"best\")\n",
    "plt.show()"
   ]
  },
  {
   "cell_type": "markdown",
   "metadata": {},
   "source": [
    "## Score obtenu avec la meilleure valeur de C sur les données test:"
   ]
  },
  {
   "cell_type": "code",
   "execution_count": 14,
   "metadata": {},
   "outputs": [
    {
     "name": "stdout",
     "output_type": "stream",
     "text": [
      "Le score optimal pour svm=0.9922314020469639\n"
     ]
    },
    {
     "data": {
      "text/html": [
       "<div>\n",
       "<style scoped>\n",
       "    .dataframe tbody tr th:only-of-type {\n",
       "        vertical-align: middle;\n",
       "    }\n",
       "\n",
       "    .dataframe tbody tr th {\n",
       "        vertical-align: top;\n",
       "    }\n",
       "\n",
       "    .dataframe thead th {\n",
       "        text-align: right;\n",
       "    }\n",
       "</style>\n",
       "<table border=\"1\" class=\"dataframe\">\n",
       "  <thead>\n",
       "    <tr style=\"text-align: right;\">\n",
       "      <th></th>\n",
       "      <th>Finance_actuariat</th>\n",
       "      <th>chirurgien</th>\n",
       "      <th>cryptography</th>\n",
       "      <th>data scientist</th>\n",
       "      <th>dentist</th>\n",
       "      <th>developer</th>\n",
       "      <th>ditital_marketing</th>\n",
       "      <th>network_engineer</th>\n",
       "      <th>nurse</th>\n",
       "      <th>pharmacist</th>\n",
       "      <th>robotic</th>\n",
       "      <th>marge_true</th>\n",
       "    </tr>\n",
       "  </thead>\n",
       "  <tbody>\n",
       "    <tr>\n",
       "      <th>Finance_actuariat</th>\n",
       "      <td>1586</td>\n",
       "      <td>0</td>\n",
       "      <td>0</td>\n",
       "      <td>0</td>\n",
       "      <td>0</td>\n",
       "      <td>0</td>\n",
       "      <td>0</td>\n",
       "      <td>0</td>\n",
       "      <td>0</td>\n",
       "      <td>0</td>\n",
       "      <td>0</td>\n",
       "      <td>1586</td>\n",
       "    </tr>\n",
       "    <tr>\n",
       "      <th>chirurgien</th>\n",
       "      <td>0</td>\n",
       "      <td>7805</td>\n",
       "      <td>0</td>\n",
       "      <td>1</td>\n",
       "      <td>30</td>\n",
       "      <td>0</td>\n",
       "      <td>0</td>\n",
       "      <td>0</td>\n",
       "      <td>55</td>\n",
       "      <td>8</td>\n",
       "      <td>1</td>\n",
       "      <td>7900</td>\n",
       "    </tr>\n",
       "    <tr>\n",
       "      <th>cryptography</th>\n",
       "      <td>0</td>\n",
       "      <td>0</td>\n",
       "      <td>3155</td>\n",
       "      <td>0</td>\n",
       "      <td>0</td>\n",
       "      <td>0</td>\n",
       "      <td>0</td>\n",
       "      <td>2</td>\n",
       "      <td>0</td>\n",
       "      <td>0</td>\n",
       "      <td>4</td>\n",
       "      <td>3161</td>\n",
       "    </tr>\n",
       "    <tr>\n",
       "      <th>data scientist</th>\n",
       "      <td>3</td>\n",
       "      <td>3</td>\n",
       "      <td>0</td>\n",
       "      <td>3363</td>\n",
       "      <td>4</td>\n",
       "      <td>6</td>\n",
       "      <td>2</td>\n",
       "      <td>0</td>\n",
       "      <td>2</td>\n",
       "      <td>1</td>\n",
       "      <td>2</td>\n",
       "      <td>3386</td>\n",
       "    </tr>\n",
       "    <tr>\n",
       "      <th>dentist</th>\n",
       "      <td>0</td>\n",
       "      <td>28</td>\n",
       "      <td>0</td>\n",
       "      <td>0</td>\n",
       "      <td>8064</td>\n",
       "      <td>1</td>\n",
       "      <td>1</td>\n",
       "      <td>0</td>\n",
       "      <td>44</td>\n",
       "      <td>1</td>\n",
       "      <td>1</td>\n",
       "      <td>8140</td>\n",
       "    </tr>\n",
       "    <tr>\n",
       "      <th>developer</th>\n",
       "      <td>0</td>\n",
       "      <td>0</td>\n",
       "      <td>0</td>\n",
       "      <td>6</td>\n",
       "      <td>0</td>\n",
       "      <td>2210</td>\n",
       "      <td>2</td>\n",
       "      <td>0</td>\n",
       "      <td>2</td>\n",
       "      <td>3</td>\n",
       "      <td>4</td>\n",
       "      <td>2227</td>\n",
       "    </tr>\n",
       "    <tr>\n",
       "      <th>ditital_marketing</th>\n",
       "      <td>0</td>\n",
       "      <td>0</td>\n",
       "      <td>0</td>\n",
       "      <td>3</td>\n",
       "      <td>1</td>\n",
       "      <td>1</td>\n",
       "      <td>3552</td>\n",
       "      <td>3</td>\n",
       "      <td>1</td>\n",
       "      <td>1</td>\n",
       "      <td>0</td>\n",
       "      <td>3562</td>\n",
       "    </tr>\n",
       "    <tr>\n",
       "      <th>network_engineer</th>\n",
       "      <td>0</td>\n",
       "      <td>1</td>\n",
       "      <td>0</td>\n",
       "      <td>0</td>\n",
       "      <td>0</td>\n",
       "      <td>0</td>\n",
       "      <td>0</td>\n",
       "      <td>3711</td>\n",
       "      <td>0</td>\n",
       "      <td>1</td>\n",
       "      <td>3</td>\n",
       "      <td>3716</td>\n",
       "    </tr>\n",
       "    <tr>\n",
       "      <th>nurse</th>\n",
       "      <td>0</td>\n",
       "      <td>62</td>\n",
       "      <td>4</td>\n",
       "      <td>7</td>\n",
       "      <td>36</td>\n",
       "      <td>5</td>\n",
       "      <td>0</td>\n",
       "      <td>2</td>\n",
       "      <td>10872</td>\n",
       "      <td>41</td>\n",
       "      <td>0</td>\n",
       "      <td>11029</td>\n",
       "    </tr>\n",
       "    <tr>\n",
       "      <th>pharmacist</th>\n",
       "      <td>0</td>\n",
       "      <td>2</td>\n",
       "      <td>0</td>\n",
       "      <td>2</td>\n",
       "      <td>9</td>\n",
       "      <td>1</td>\n",
       "      <td>0</td>\n",
       "      <td>1</td>\n",
       "      <td>24</td>\n",
       "      <td>6235</td>\n",
       "      <td>0</td>\n",
       "      <td>6274</td>\n",
       "    </tr>\n",
       "    <tr>\n",
       "      <th>robotic</th>\n",
       "      <td>0</td>\n",
       "      <td>1</td>\n",
       "      <td>0</td>\n",
       "      <td>1</td>\n",
       "      <td>2</td>\n",
       "      <td>0</td>\n",
       "      <td>0</td>\n",
       "      <td>5</td>\n",
       "      <td>3</td>\n",
       "      <td>1</td>\n",
       "      <td>5773</td>\n",
       "      <td>5786</td>\n",
       "    </tr>\n",
       "    <tr>\n",
       "      <th>marge_pred</th>\n",
       "      <td>1589</td>\n",
       "      <td>7902</td>\n",
       "      <td>3159</td>\n",
       "      <td>3383</td>\n",
       "      <td>8146</td>\n",
       "      <td>2224</td>\n",
       "      <td>3557</td>\n",
       "      <td>3724</td>\n",
       "      <td>11003</td>\n",
       "      <td>6292</td>\n",
       "      <td>5788</td>\n",
       "      <td>56767</td>\n",
       "    </tr>\n",
       "  </tbody>\n",
       "</table>\n",
       "</div>"
      ],
      "text/plain": [
       "                   Finance_actuariat  chirurgien  cryptography  \\\n",
       "Finance_actuariat               1586           0             0   \n",
       "chirurgien                         0        7805             0   \n",
       "cryptography                       0           0          3155   \n",
       "data scientist                     3           3             0   \n",
       "dentist                            0          28             0   \n",
       "developer                          0           0             0   \n",
       "ditital_marketing                  0           0             0   \n",
       "network_engineer                   0           1             0   \n",
       "nurse                              0          62             4   \n",
       "pharmacist                         0           2             0   \n",
       "robotic                            0           1             0   \n",
       "marge_pred                      1589        7902          3159   \n",
       "\n",
       "                   data scientist  dentist  developer  ditital_marketing  \\\n",
       "Finance_actuariat               0        0          0                  0   \n",
       "chirurgien                      1       30          0                  0   \n",
       "cryptography                    0        0          0                  0   \n",
       "data scientist               3363        4          6                  2   \n",
       "dentist                         0     8064          1                  1   \n",
       "developer                       6        0       2210                  2   \n",
       "ditital_marketing               3        1          1               3552   \n",
       "network_engineer                0        0          0                  0   \n",
       "nurse                           7       36          5                  0   \n",
       "pharmacist                      2        9          1                  0   \n",
       "robotic                         1        2          0                  0   \n",
       "marge_pred                   3383     8146       2224               3557   \n",
       "\n",
       "                   network_engineer  nurse  pharmacist  robotic  marge_true  \n",
       "Finance_actuariat                 0      0           0        0        1586  \n",
       "chirurgien                        0     55           8        1        7900  \n",
       "cryptography                      2      0           0        4        3161  \n",
       "data scientist                    0      2           1        2        3386  \n",
       "dentist                           0     44           1        1        8140  \n",
       "developer                         0      2           3        4        2227  \n",
       "ditital_marketing                 3      1           1        0        3562  \n",
       "network_engineer               3711      0           1        3        3716  \n",
       "nurse                             2  10872          41        0       11029  \n",
       "pharmacist                        1     24        6235        0        6274  \n",
       "robotic                           5      3           1     5773        5786  \n",
       "marge_pred                     3724  11003        6292     5788       56767  "
      ]
     },
     "execution_count": 14,
     "metadata": {},
     "output_type": "execute_result"
    }
   ],
   "source": [
    "pipline_svm.set_params(LSVM__C=Copt)\n",
    "pipline_svm.fit(X_train, Y_train)\n",
    "pred=pipline_svm.predict(X_test)\n",
    "score_svm=accuracy_score(y_test, pipline_svm.predict(X_test))\n",
    "print(\"Le score optimal pour svm={}\".format(score_svm))\n",
    "ConfusionMatrix(pred,y_test)"
   ]
  },
  {
   "cell_type": "code",
   "execution_count": null,
   "metadata": {},
   "outputs": [],
   "source": [
    "print(classification_report(y_test, pred))"
   ]
  },
  {
   "cell_type": "markdown",
   "metadata": {},
   "source": [
    " ### Prédiction des types d'emplois à partir de la regression logistique:"
   ]
  },
  {
   "cell_type": "code",
   "execution_count": 15,
   "metadata": {},
   "outputs": [],
   "source": [
    "pipline_RL=Pipeline([('tfidf',TfidfVectorizer()),('RL',LogisticRegression())])"
   ]
  },
  {
   "cell_type": "code",
   "execution_count": 16,
   "metadata": {},
   "outputs": [
    {
     "name": "stderr",
     "output_type": "stream",
     "text": [
      "/home/tantely/anaconda3/lib/python3.7/site-packages/sklearn/linear_model/logistic.py:433: FutureWarning: Default solver will be changed to 'lbfgs' in 0.22. Specify a solver to silence this warning.\n",
      "  FutureWarning)\n",
      "/home/tantely/anaconda3/lib/python3.7/site-packages/sklearn/linear_model/logistic.py:460: FutureWarning: Default multi_class will be changed to 'auto' in 0.22. Specify the multi_class option to silence this warning.\n",
      "  \"this warning.\", FutureWarning)\n"
     ]
    },
    {
     "data": {
      "text/plain": [
       "0.9844225784533307"
      ]
     },
     "execution_count": 16,
     "metadata": {},
     "output_type": "execute_result"
    }
   ],
   "source": [
    "pipline_RL.set_params(RL__C=2)\n",
    "pipline_RL.fit(x_train,y_train)\n",
    "pipline_RL.score(x_val,y_val)"
   ]
  },
  {
   "cell_type": "code",
   "execution_count": 17,
   "metadata": {},
   "outputs": [
    {
     "name": "stderr",
     "output_type": "stream",
     "text": [
      "15it [04:10, 26.18s/it]\n"
     ]
    },
    {
     "name": "stdout",
     "output_type": "stream",
     "text": [
      "\n",
      " C optimal = 43.93970560760795\n"
     ]
    },
    {
     "data": {
      "image/png": "[encoded data removed]",
      "text/plain": [
       "<Figure size 432x288 with 1 Axes>"
      ]
     },
     "metadata": {
      "needs_background": "light"
     },
     "output_type": "display_data"
    }
   ],
   "source": [
    "vectC = np.logspace(-3, 2, 15)\n",
    "err_val = np.empty(vectC.shape[0])\n",
    "err_app = np.empty(vectC.shape[0])\n",
    "for ind_C, C in tqdm(enumerate(vectC)):\n",
    "    pipline_RL.set_params(RL__C=C)\n",
    "    pipline_RL.fit(x_train, y_train)\n",
    "    # calcule erreur sur les donnees de validation et app\n",
    "    err_val[ind_C] = 1 - accuracy_score(y_val, pipline_RL.predict(x_val))\n",
    "    err_app[ind_C] = 1 - accuracy_score(y_train, pipline_RL.predict(x_train))\n",
    "err_min_val, ind_min = err_val.min(), err_val.argmin()\n",
    "Copt = vectC[ind_min]\n",
    "print(\"\\n C optimal = {}\".format(Copt))\n",
    "# Trace courbe erreur\n",
    "plt.figure()\n",
    "plt.semilogx(vectC, err_app, color=\"blue\", linestyle=\"--\", marker=\"s\", markersize=5, label=\"Apprentissage\")\n",
    "plt.semilogx(vectC, err_val, color=\"green\", linestyle=\"--\", marker=\"s\", markersize=5, label=\"Validation\")\n",
    "plt.xlabel(\"Parametre C\")\n",
    "plt.ylabel(\"Erreur Classification\")\n",
    "plt.legend(loc=\"best\")\n",
    "plt.show()"
   ]
  },
  {
   "cell_type": "code",
   "execution_count": 18,
   "metadata": {},
   "outputs": [
    {
     "name": "stdout",
     "output_type": "stream",
     "text": [
      "Le score optimal pour RL=0.9930417319921786\n"
     ]
    },
    {
     "data": {
      "text/html": [
       "<div>\n",
       "<style scoped>\n",
       "    .dataframe tbody tr th:only-of-type {\n",
       "        vertical-align: middle;\n",
       "    }\n",
       "\n",
       "    .dataframe tbody tr th {\n",
       "        vertical-align: top;\n",
       "    }\n",
       "\n",
       "    .dataframe thead th {\n",
       "        text-align: right;\n",
       "    }\n",
       "</style>\n",
       "<table border=\"1\" class=\"dataframe\">\n",
       "  <thead>\n",
       "    <tr style=\"text-align: right;\">\n",
       "      <th></th>\n",
       "      <th>Finance_actuariat</th>\n",
       "      <th>chirurgien</th>\n",
       "      <th>cryptography</th>\n",
       "      <th>data scientist</th>\n",
       "      <th>dentist</th>\n",
       "      <th>developer</th>\n",
       "      <th>ditital_marketing</th>\n",
       "      <th>network_engineer</th>\n",
       "      <th>nurse</th>\n",
       "      <th>pharmacist</th>\n",
       "      <th>robotic</th>\n",
       "      <th>marge_true</th>\n",
       "    </tr>\n",
       "  </thead>\n",
       "  <tbody>\n",
       "    <tr>\n",
       "      <th>Finance_actuariat</th>\n",
       "      <td>1586</td>\n",
       "      <td>0</td>\n",
       "      <td>0</td>\n",
       "      <td>0</td>\n",
       "      <td>0</td>\n",
       "      <td>0</td>\n",
       "      <td>0</td>\n",
       "      <td>0</td>\n",
       "      <td>0</td>\n",
       "      <td>0</td>\n",
       "      <td>0</td>\n",
       "      <td>1586</td>\n",
       "    </tr>\n",
       "    <tr>\n",
       "      <th>chirurgien</th>\n",
       "      <td>0</td>\n",
       "      <td>7815</td>\n",
       "      <td>0</td>\n",
       "      <td>1</td>\n",
       "      <td>28</td>\n",
       "      <td>0</td>\n",
       "      <td>0</td>\n",
       "      <td>0</td>\n",
       "      <td>47</td>\n",
       "      <td>8</td>\n",
       "      <td>1</td>\n",
       "      <td>7900</td>\n",
       "    </tr>\n",
       "    <tr>\n",
       "      <th>cryptography</th>\n",
       "      <td>0</td>\n",
       "      <td>0</td>\n",
       "      <td>3155</td>\n",
       "      <td>0</td>\n",
       "      <td>0</td>\n",
       "      <td>0</td>\n",
       "      <td>0</td>\n",
       "      <td>2</td>\n",
       "      <td>0</td>\n",
       "      <td>0</td>\n",
       "      <td>4</td>\n",
       "      <td>3161</td>\n",
       "    </tr>\n",
       "    <tr>\n",
       "      <th>data scientist</th>\n",
       "      <td>2</td>\n",
       "      <td>3</td>\n",
       "      <td>0</td>\n",
       "      <td>3365</td>\n",
       "      <td>1</td>\n",
       "      <td>4</td>\n",
       "      <td>0</td>\n",
       "      <td>0</td>\n",
       "      <td>6</td>\n",
       "      <td>1</td>\n",
       "      <td>4</td>\n",
       "      <td>3386</td>\n",
       "    </tr>\n",
       "    <tr>\n",
       "      <th>dentist</th>\n",
       "      <td>0</td>\n",
       "      <td>27</td>\n",
       "      <td>0</td>\n",
       "      <td>0</td>\n",
       "      <td>8070</td>\n",
       "      <td>1</td>\n",
       "      <td>0</td>\n",
       "      <td>0</td>\n",
       "      <td>41</td>\n",
       "      <td>0</td>\n",
       "      <td>1</td>\n",
       "      <td>8140</td>\n",
       "    </tr>\n",
       "    <tr>\n",
       "      <th>developer</th>\n",
       "      <td>0</td>\n",
       "      <td>0</td>\n",
       "      <td>0</td>\n",
       "      <td>6</td>\n",
       "      <td>0</td>\n",
       "      <td>2211</td>\n",
       "      <td>2</td>\n",
       "      <td>0</td>\n",
       "      <td>2</td>\n",
       "      <td>2</td>\n",
       "      <td>4</td>\n",
       "      <td>2227</td>\n",
       "    </tr>\n",
       "    <tr>\n",
       "      <th>ditital_marketing</th>\n",
       "      <td>0</td>\n",
       "      <td>0</td>\n",
       "      <td>0</td>\n",
       "      <td>3</td>\n",
       "      <td>1</td>\n",
       "      <td>0</td>\n",
       "      <td>3554</td>\n",
       "      <td>0</td>\n",
       "      <td>4</td>\n",
       "      <td>0</td>\n",
       "      <td>0</td>\n",
       "      <td>3562</td>\n",
       "    </tr>\n",
       "    <tr>\n",
       "      <th>network_engineer</th>\n",
       "      <td>0</td>\n",
       "      <td>1</td>\n",
       "      <td>0</td>\n",
       "      <td>0</td>\n",
       "      <td>0</td>\n",
       "      <td>0</td>\n",
       "      <td>0</td>\n",
       "      <td>3711</td>\n",
       "      <td>0</td>\n",
       "      <td>1</td>\n",
       "      <td>3</td>\n",
       "      <td>3716</td>\n",
       "    </tr>\n",
       "    <tr>\n",
       "      <th>nurse</th>\n",
       "      <td>0</td>\n",
       "      <td>65</td>\n",
       "      <td>3</td>\n",
       "      <td>6</td>\n",
       "      <td>26</td>\n",
       "      <td>4</td>\n",
       "      <td>0</td>\n",
       "      <td>2</td>\n",
       "      <td>10892</td>\n",
       "      <td>31</td>\n",
       "      <td>0</td>\n",
       "      <td>11029</td>\n",
       "    </tr>\n",
       "    <tr>\n",
       "      <th>pharmacist</th>\n",
       "      <td>0</td>\n",
       "      <td>2</td>\n",
       "      <td>0</td>\n",
       "      <td>2</td>\n",
       "      <td>7</td>\n",
       "      <td>1</td>\n",
       "      <td>0</td>\n",
       "      <td>1</td>\n",
       "      <td>22</td>\n",
       "      <td>6239</td>\n",
       "      <td>0</td>\n",
       "      <td>6274</td>\n",
       "    </tr>\n",
       "    <tr>\n",
       "      <th>robotic</th>\n",
       "      <td>0</td>\n",
       "      <td>2</td>\n",
       "      <td>0</td>\n",
       "      <td>1</td>\n",
       "      <td>0</td>\n",
       "      <td>0</td>\n",
       "      <td>0</td>\n",
       "      <td>5</td>\n",
       "      <td>3</td>\n",
       "      <td>1</td>\n",
       "      <td>5774</td>\n",
       "      <td>5786</td>\n",
       "    </tr>\n",
       "    <tr>\n",
       "      <th>marge_pred</th>\n",
       "      <td>1588</td>\n",
       "      <td>7915</td>\n",
       "      <td>3158</td>\n",
       "      <td>3384</td>\n",
       "      <td>8133</td>\n",
       "      <td>2221</td>\n",
       "      <td>3556</td>\n",
       "      <td>3721</td>\n",
       "      <td>11017</td>\n",
       "      <td>6283</td>\n",
       "      <td>5791</td>\n",
       "      <td>56767</td>\n",
       "    </tr>\n",
       "  </tbody>\n",
       "</table>\n",
       "</div>"
      ],
      "text/plain": [
       "                   Finance_actuariat  chirurgien  cryptography  \\\n",
       "Finance_actuariat               1586           0             0   \n",
       "chirurgien                         0        7815             0   \n",
       "cryptography                       0           0          3155   \n",
       "data scientist                     2           3             0   \n",
       "dentist                            0          27             0   \n",
       "developer                          0           0             0   \n",
       "ditital_marketing                  0           0             0   \n",
       "network_engineer                   0           1             0   \n",
       "nurse                              0          65             3   \n",
       "pharmacist                         0           2             0   \n",
       "robotic                            0           2             0   \n",
       "marge_pred                      1588        7915          3158   \n",
       "\n",
       "                   data scientist  dentist  developer  ditital_marketing  \\\n",
       "Finance_actuariat               0        0          0                  0   \n",
       "chirurgien                      1       28          0                  0   \n",
       "cryptography                    0        0          0                  0   \n",
       "data scientist               3365        1          4                  0   \n",
       "dentist                         0     8070          1                  0   \n",
       "developer                       6        0       2211                  2   \n",
       "ditital_marketing               3        1          0               3554   \n",
       "network_engineer                0        0          0                  0   \n",
       "nurse                           6       26          4                  0   \n",
       "pharmacist                      2        7          1                  0   \n",
       "robotic                         1        0          0                  0   \n",
       "marge_pred                   3384     8133       2221               3556   \n",
       "\n",
       "                   network_engineer  nurse  pharmacist  robotic  marge_true  \n",
       "Finance_actuariat                 0      0           0        0        1586  \n",
       "chirurgien                        0     47           8        1        7900  \n",
       "cryptography                      2      0           0        4        3161  \n",
       "data scientist                    0      6           1        4        3386  \n",
       "dentist                           0     41           0        1        8140  \n",
       "developer                         0      2           2        4        2227  \n",
       "ditital_marketing                 0      4           0        0        3562  \n",
       "network_engineer               3711      0           1        3        3716  \n",
       "nurse                             2  10892          31        0       11029  \n",
       "pharmacist                        1     22        6239        0        6274  \n",
       "robotic                           5      3           1     5774        5786  \n",
       "marge_pred                     3721  11017        6283     5791       56767  "
      ]
     },
     "execution_count": 18,
     "metadata": {},
     "output_type": "execute_result"
    }
   ],
   "source": [
    "pipline_RL.set_params(RL__C=Copt)\n",
    "pipline_RL.fit(X_train, Y_train)\n",
    "pred=pipline_RL.predict(X_test)\n",
    "score_RL=accuracy_score(y_test, pipline_RL.predict(X_test))\n",
    "print(\"Le score optimal pour RL={}\".format(score_RL))\n",
    "ConfusionMatrix(pred,y_test)"
   ]
  },
  {
   "cell_type": "code",
   "execution_count": null,
   "metadata": {},
   "outputs": [],
   "source": [
    "print(classification_report(y_test, pred))"
   ]
  },
  {
   "cell_type": "markdown",
   "metadata": {},
   "source": [
    "## Naive Baysian:"
   ]
  },
  {
   "cell_type": "code",
   "execution_count": 19,
   "metadata": {},
   "outputs": [],
   "source": [
    "pipline_NB=Pipeline([('tfidf',TfidfVectorizer()),('NB',MultinomialNB())])"
   ]
  },
  {
   "cell_type": "code",
   "execution_count": 20,
   "metadata": {},
   "outputs": [
    {
     "data": {
      "text/plain": [
       "0.958627978961673"
      ]
     },
     "execution_count": 20,
     "metadata": {},
     "output_type": "execute_result"
    }
   ],
   "source": [
    "pipline_NB.set_params(NB__alpha=1e-3)\n",
    "pipline_NB.fit(x_train,y_train)\n",
    "pipline_NB.score(x_val,y_val)"
   ]
  },
  {
   "cell_type": "markdown",
   "metadata": {},
   "source": [
    "### Optimisation du paramètre $\\alpha$ :"
   ]
  },
  {
   "cell_type": "code",
   "execution_count": 21,
   "metadata": {},
   "outputs": [
    {
     "name": "stderr",
     "output_type": "stream",
     "text": [
      "24it [02:05,  6.37s/it]\n"
     ]
    },
    {
     "name": "stdout",
     "output_type": "stream",
     "text": [
      "\n",
      " C optimal = 0.01\n"
     ]
    },
    {
     "data": {
      "image/png": "[encoded data removed]",
      "text/plain": [
       "<Figure size 432x288 with 1 Axes>"
      ]
     },
     "metadata": {
      "needs_background": "light"
     },
     "output_type": "display_data"
    }
   ],
   "source": [
    "vectC = np.array([1e-4,1e-3,1e-2,1e-1,0.2,0.3,0.4,0.5,0.6,0.7,0.8,0.9,1,1.5,1.6,2,2.5,3,3.5,4,4.5,5,5.5,10])\n",
    "err_val = np.empty(vectC.shape[0])\n",
    "err_app = np.empty(vectC.shape[0])\n",
    "for ind_C, C in tqdm(enumerate(vectC)):\n",
    "    pipline_NB.set_params(NB__alpha=C)\n",
    "    pipline_NB.fit(x_train, y_train)\n",
    "    # calcule erreur sur les donnees de validation et app\n",
    "    err_val[ind_C] = 1 - accuracy_score(y_val, pipline_NB.predict(x_val))\n",
    "    err_app[ind_C] = 1 - accuracy_score(y_train, pipline_NB.predict(x_train))\n",
    "err_min_val, ind_min = err_val.min(), err_val.argmin()\n",
    "Copt = vectC[ind_min]\n",
    "print(\"\\n C optimal = {}\".format(Copt))\n",
    "# Trace courbe erreur\n",
    "plt.figure()\n",
    "plt.semilogx(vectC, err_app, color=\"blue\", linestyle=\"--\", marker=\"s\", markersize=5, label=\"Apprentissage\")\n",
    "plt.semilogx(vectC, err_val, color=\"green\", linestyle=\"--\", marker=\"s\", markersize=5, label=\"Validation\")\n",
    "plt.xlabel(\"Parametre alpha\")\n",
    "plt.ylabel(\"Erreur Classification\")\n",
    "plt.legend(loc=\"best\")\n",
    "plt.show()"
   ]
  },
  {
   "cell_type": "markdown",
   "metadata": {},
   "source": [
    "On constate que plus $\\alpha$ est grand plus on évite un l'overfiting. "
   ]
  },
  {
   "cell_type": "code",
   "execution_count": 22,
   "metadata": {},
   "outputs": [
    {
     "name": "stdout",
     "output_type": "stream",
     "text": [
      "Le score optimal pour NB=0.9640988602533161\n"
     ]
    },
    {
     "data": {
      "text/html": [
       "<div>\n",
       "<style scoped>\n",
       "    .dataframe tbody tr th:only-of-type {\n",
       "        vertical-align: middle;\n",
       "    }\n",
       "\n",
       "    .dataframe tbody tr th {\n",
       "        vertical-align: top;\n",
       "    }\n",
       "\n",
       "    .dataframe thead th {\n",
       "        text-align: right;\n",
       "    }\n",
       "</style>\n",
       "<table border=\"1\" class=\"dataframe\">\n",
       "  <thead>\n",
       "    <tr style=\"text-align: right;\">\n",
       "      <th></th>\n",
       "      <th>Finance_actuariat</th>\n",
       "      <th>chirurgien</th>\n",
       "      <th>cryptography</th>\n",
       "      <th>data scientist</th>\n",
       "      <th>dentist</th>\n",
       "      <th>developer</th>\n",
       "      <th>ditital_marketing</th>\n",
       "      <th>network_engineer</th>\n",
       "      <th>nurse</th>\n",
       "      <th>pharmacist</th>\n",
       "      <th>robotic</th>\n",
       "      <th>marge_true</th>\n",
       "    </tr>\n",
       "  </thead>\n",
       "  <tbody>\n",
       "    <tr>\n",
       "      <th>Finance_actuariat</th>\n",
       "      <td>1575</td>\n",
       "      <td>0</td>\n",
       "      <td>0</td>\n",
       "      <td>9</td>\n",
       "      <td>1</td>\n",
       "      <td>0</td>\n",
       "      <td>0</td>\n",
       "      <td>0</td>\n",
       "      <td>1</td>\n",
       "      <td>0</td>\n",
       "      <td>0</td>\n",
       "      <td>1586</td>\n",
       "    </tr>\n",
       "    <tr>\n",
       "      <th>chirurgien</th>\n",
       "      <td>0</td>\n",
       "      <td>7414</td>\n",
       "      <td>0</td>\n",
       "      <td>10</td>\n",
       "      <td>181</td>\n",
       "      <td>0</td>\n",
       "      <td>8</td>\n",
       "      <td>0</td>\n",
       "      <td>249</td>\n",
       "      <td>20</td>\n",
       "      <td>18</td>\n",
       "      <td>7900</td>\n",
       "    </tr>\n",
       "    <tr>\n",
       "      <th>cryptography</th>\n",
       "      <td>0</td>\n",
       "      <td>0</td>\n",
       "      <td>3137</td>\n",
       "      <td>3</td>\n",
       "      <td>1</td>\n",
       "      <td>4</td>\n",
       "      <td>0</td>\n",
       "      <td>4</td>\n",
       "      <td>4</td>\n",
       "      <td>0</td>\n",
       "      <td>8</td>\n",
       "      <td>3161</td>\n",
       "    </tr>\n",
       "    <tr>\n",
       "      <th>data scientist</th>\n",
       "      <td>12</td>\n",
       "      <td>6</td>\n",
       "      <td>3</td>\n",
       "      <td>3280</td>\n",
       "      <td>4</td>\n",
       "      <td>15</td>\n",
       "      <td>3</td>\n",
       "      <td>5</td>\n",
       "      <td>31</td>\n",
       "      <td>3</td>\n",
       "      <td>24</td>\n",
       "      <td>3386</td>\n",
       "    </tr>\n",
       "    <tr>\n",
       "      <th>dentist</th>\n",
       "      <td>1</td>\n",
       "      <td>103</td>\n",
       "      <td>0</td>\n",
       "      <td>10</td>\n",
       "      <td>7752</td>\n",
       "      <td>0</td>\n",
       "      <td>27</td>\n",
       "      <td>3</td>\n",
       "      <td>221</td>\n",
       "      <td>17</td>\n",
       "      <td>6</td>\n",
       "      <td>8140</td>\n",
       "    </tr>\n",
       "    <tr>\n",
       "      <th>developer</th>\n",
       "      <td>6</td>\n",
       "      <td>5</td>\n",
       "      <td>0</td>\n",
       "      <td>24</td>\n",
       "      <td>1</td>\n",
       "      <td>2137</td>\n",
       "      <td>8</td>\n",
       "      <td>5</td>\n",
       "      <td>12</td>\n",
       "      <td>6</td>\n",
       "      <td>23</td>\n",
       "      <td>2227</td>\n",
       "    </tr>\n",
       "    <tr>\n",
       "      <th>ditital_marketing</th>\n",
       "      <td>1</td>\n",
       "      <td>6</td>\n",
       "      <td>1</td>\n",
       "      <td>11</td>\n",
       "      <td>9</td>\n",
       "      <td>3</td>\n",
       "      <td>3510</td>\n",
       "      <td>0</td>\n",
       "      <td>6</td>\n",
       "      <td>1</td>\n",
       "      <td>14</td>\n",
       "      <td>3562</td>\n",
       "    </tr>\n",
       "    <tr>\n",
       "      <th>network_engineer</th>\n",
       "      <td>0</td>\n",
       "      <td>6</td>\n",
       "      <td>18</td>\n",
       "      <td>7</td>\n",
       "      <td>9</td>\n",
       "      <td>1</td>\n",
       "      <td>0</td>\n",
       "      <td>3637</td>\n",
       "      <td>2</td>\n",
       "      <td>4</td>\n",
       "      <td>32</td>\n",
       "      <td>3716</td>\n",
       "    </tr>\n",
       "    <tr>\n",
       "      <th>nurse</th>\n",
       "      <td>3</td>\n",
       "      <td>222</td>\n",
       "      <td>6</td>\n",
       "      <td>12</td>\n",
       "      <td>73</td>\n",
       "      <td>3</td>\n",
       "      <td>3</td>\n",
       "      <td>1</td>\n",
       "      <td>10610</td>\n",
       "      <td>85</td>\n",
       "      <td>11</td>\n",
       "      <td>11029</td>\n",
       "    </tr>\n",
       "    <tr>\n",
       "      <th>pharmacist</th>\n",
       "      <td>0</td>\n",
       "      <td>26</td>\n",
       "      <td>1</td>\n",
       "      <td>9</td>\n",
       "      <td>21</td>\n",
       "      <td>0</td>\n",
       "      <td>7</td>\n",
       "      <td>1</td>\n",
       "      <td>215</td>\n",
       "      <td>5993</td>\n",
       "      <td>1</td>\n",
       "      <td>6274</td>\n",
       "    </tr>\n",
       "    <tr>\n",
       "      <th>robotic</th>\n",
       "      <td>2</td>\n",
       "      <td>17</td>\n",
       "      <td>7</td>\n",
       "      <td>36</td>\n",
       "      <td>5</td>\n",
       "      <td>1</td>\n",
       "      <td>10</td>\n",
       "      <td>17</td>\n",
       "      <td>7</td>\n",
       "      <td>0</td>\n",
       "      <td>5684</td>\n",
       "      <td>5786</td>\n",
       "    </tr>\n",
       "    <tr>\n",
       "      <th>marge_pred</th>\n",
       "      <td>1600</td>\n",
       "      <td>7805</td>\n",
       "      <td>3173</td>\n",
       "      <td>3411</td>\n",
       "      <td>8057</td>\n",
       "      <td>2164</td>\n",
       "      <td>3576</td>\n",
       "      <td>3673</td>\n",
       "      <td>11358</td>\n",
       "      <td>6129</td>\n",
       "      <td>5821</td>\n",
       "      <td>56767</td>\n",
       "    </tr>\n",
       "  </tbody>\n",
       "</table>\n",
       "</div>"
      ],
      "text/plain": [
       "                   Finance_actuariat  chirurgien  cryptography  \\\n",
       "Finance_actuariat               1575           0             0   \n",
       "chirurgien                         0        7414             0   \n",
       "cryptography                       0           0          3137   \n",
       "data scientist                    12           6             3   \n",
       "dentist                            1         103             0   \n",
       "developer                          6           5             0   \n",
       "ditital_marketing                  1           6             1   \n",
       "network_engineer                   0           6            18   \n",
       "nurse                              3         222             6   \n",
       "pharmacist                         0          26             1   \n",
       "robotic                            2          17             7   \n",
       "marge_pred                      1600        7805          3173   \n",
       "\n",
       "                   data scientist  dentist  developer  ditital_marketing  \\\n",
       "Finance_actuariat               9        1          0                  0   \n",
       "chirurgien                     10      181          0                  8   \n",
       "cryptography                    3        1          4                  0   \n",
       "data scientist               3280        4         15                  3   \n",
       "dentist                        10     7752          0                 27   \n",
       "developer                      24        1       2137                  8   \n",
       "ditital_marketing              11        9          3               3510   \n",
       "network_engineer                7        9          1                  0   \n",
       "nurse                          12       73          3                  3   \n",
       "pharmacist                      9       21          0                  7   \n",
       "robotic                        36        5          1                 10   \n",
       "marge_pred                   3411     8057       2164               3576   \n",
       "\n",
       "                   network_engineer  nurse  pharmacist  robotic  marge_true  \n",
       "Finance_actuariat                 0      1           0        0        1586  \n",
       "chirurgien                        0    249          20       18        7900  \n",
       "cryptography                      4      4           0        8        3161  \n",
       "data scientist                    5     31           3       24        3386  \n",
       "dentist                           3    221          17        6        8140  \n",
       "developer                         5     12           6       23        2227  \n",
       "ditital_marketing                 0      6           1       14        3562  \n",
       "network_engineer               3637      2           4       32        3716  \n",
       "nurse                             1  10610          85       11       11029  \n",
       "pharmacist                        1    215        5993        1        6274  \n",
       "robotic                          17      7           0     5684        5786  \n",
       "marge_pred                     3673  11358        6129     5821       56767  "
      ]
     },
     "execution_count": 22,
     "metadata": {},
     "output_type": "execute_result"
    }
   ],
   "source": [
    "pipline_NB.set_params(NB__alpha=Copt)\n",
    "pipline_NB.fit(X_train, Y_train)\n",
    "pred=pipline_NB.predict(X_test)\n",
    "score_NB=accuracy_score(y_test, pipline_NB.predict(X_test))\n",
    "print(\"Le score optimal pour NB={}\".format(score_NB))\n",
    "ConfusionMatrix(pred,y_test)"
   ]
  },
  {
   "cell_type": "code",
   "execution_count": 23,
   "metadata": {},
   "outputs": [
    {
     "name": "stdout",
     "output_type": "stream",
     "text": [
      "                   precision    recall  f1-score   support\n",
      "\n",
      "Finance_actuariat       0.98      0.99      0.99      1586\n",
      "       chirurgien       0.95      0.94      0.94      7900\n",
      "     cryptography       0.99      0.99      0.99      3161\n",
      "   data scientist       0.96      0.97      0.97      3386\n",
      "          dentist       0.96      0.95      0.96      8140\n",
      "        developer       0.99      0.96      0.97      2227\n",
      "ditital_marketing       0.98      0.99      0.98      3562\n",
      " network_engineer       0.99      0.98      0.98      3716\n",
      "            nurse       0.93      0.96      0.95     11029\n",
      "       pharmacist       0.98      0.96      0.97      6274\n",
      "          robotic       0.98      0.98      0.98      5786\n",
      "\n",
      "        micro avg       0.96      0.96      0.96     56767\n",
      "        macro avg       0.97      0.97      0.97     56767\n",
      "     weighted avg       0.96      0.96      0.96     56767\n",
      "\n"
     ]
    }
   ],
   "source": [
    "print(classification_report(y_test, pred))"
   ]
  },
  {
   "cell_type": "markdown",
   "metadata": {},
   "source": [
    "## Remarque:\n",
    "sur chaque algorithme que l'on a testé, on remarque que entre le métier de chirurgien et infirmier,les algorithmes font plus d'erreur. Réalisons alors sur ces deux types de métiers une prédiction binaire pour savoir à quel point on peut se tromper en se focalisans que sur ces deux metiers."
   ]
  },
  {
   "cell_type": "code",
   "execution_count": 24,
   "metadata": {},
   "outputs": [],
   "source": [
    "bol=[True if k==\"nurse\" or k==\"chirurgien\" else False for k in dataset.Labels]\n",
    "dataset1=dataset[bol]\n",
    "X_train,X_test,Y_train,y_test = train_test_split(dataset1.resume,dataset1.Labels,test_size=0.3,shuffle=True)\n",
    "x_train,x_val,y_train,y_val = train_test_split(X_train,Y_train,test_size=0.3,shuffle=True)"
   ]
  },
  {
   "cell_type": "code",
   "execution_count": 25,
   "metadata": {},
   "outputs": [
    {
     "name": "stdout",
     "output_type": "stream",
     "text": [
      "On a 2 classes :\n",
      "['chirurgien' 'nurse']\n",
      "\n",
      "\n",
      "Pour la classe chirurgien, on a 26462 nombres de lignes\n",
      "Pour la classe nurse, on a 36287 nombres de lignes\n",
      "Nombre de points total: 62749\n"
     ]
    }
   ],
   "source": [
    "classes, nbpoint = np.unique(dataset1[\"Labels\"], return_counts=True)\n",
    "print(\"On a {} classes :\\n{}\\n\\n\".format(len(classes),classes))\n",
    "for ind, cl in enumerate(classes):\n",
    "    print(\"Pour la classe {}, on a {} nombres de lignes\".format(cl, nbpoint[ind] ))\n",
    "print(\"Nombre de points total:\",len(dataset1[\"Labels\"]))"
   ]
  },
  {
   "cell_type": "code",
   "execution_count": 26,
   "metadata": {},
   "outputs": [
    {
     "name": "stdout",
     "output_type": "stream",
     "text": [
      "On a 2 classes :\n",
      "['chirurgien' 'nurse']\n",
      "\n",
      "\n",
      "Pour la classe chirurgien, on a 7778 nombres de lignes\n",
      "Pour la classe nurse, on a 11047 nombres de lignes\n",
      "Nombre de points total: 18825\n"
     ]
    }
   ],
   "source": [
    "classes, nbpoint = np.unique(y_test, return_counts=True)\n",
    "print(\"On a {} classes :\\n{}\\n\\n\".format(len(classes),classes))\n",
    "for ind, cl in enumerate(classes):\n",
    "    print(\"Pour la classe {}, on a {} nombres de lignes\".format(cl, nbpoint[ind] ))\n",
    "print(\"Nombre de points total:\",len(y_test))"
   ]
  },
  {
   "cell_type": "markdown",
   "metadata": {},
   "source": [
    "On a bien 2 classes maintenant avec 62749 points."
   ]
  },
  {
   "cell_type": "markdown",
   "metadata": {},
   "source": [
    "## Modèle avec le KNN:"
   ]
  },
  {
   "cell_type": "code",
   "execution_count": 27,
   "metadata": {},
   "outputs": [
    {
     "name": "stderr",
     "output_type": "stream",
     "text": [
      "100%|██████████| 8/8 [21:07<00:00, 149.44s/it]"
     ]
    },
    {
     "name": "stdout",
     "output_type": "stream",
     "text": [
      "With all being CV, best k is 2 and best perf is 0.9757929883138564\n"
     ]
    },
    {
     "name": "stderr",
     "output_type": "stream",
     "text": [
      "\n"
     ]
    },
    {
     "data": {
      "image/png": "[encoded data removed]",
      "text/plain": [
       "<Figure size 432x288 with 1 Axes>"
      ]
     },
     "metadata": {
      "needs_background": "light"
     },
     "output_type": "display_data"
    }
   ],
   "source": [
    "k_values = [2,3,5,6,7,8,9,10]\n",
    "perf_train=[]\n",
    "perf_val=[]\n",
    "for k in tqdm(k_values):\n",
    "    pipline.set_params(knn__n_neighbors=k)\n",
    "    y_pred_train = pipline.predict(x_train)\n",
    "    y_pred_val=pipline.predict(x_val)\n",
    "    scores_train = accuracy_score(y_train, y_pred_train)\n",
    "    scores_val=accuracy_score(y_val,y_pred_val)\n",
    "    perf_train.append(scores_train)\n",
    "    perf_val.append(scores_val)\n",
    "plt.figure()\n",
    "plt.plot(range(1,len(perf_train)+1),perf_train,\"--r\",range(1,len(perf_val)+1),perf_val,\"--g^\")\n",
    "plt.legend(['accuracy train', 'accuracy val'],loc=\"lower right\")\n",
    "print('With all being CV, best k is '    +repr(k_values[perf_val.index(max(perf_val))])+ ' and best perf is ' + repr(max(perf_val)))"
   ]
  },
  {
   "cell_type": "code",
   "execution_count": 28,
   "metadata": {},
   "outputs": [
    {
     "name": "stdout",
     "output_type": "stream",
     "text": [
      "Le score de notre modèle sur les données test=0.9716865869853918\n"
     ]
    },
    {
     "data": {
      "text/html": [
       "<div>\n",
       "<style scoped>\n",
       "    .dataframe tbody tr th:only-of-type {\n",
       "        vertical-align: middle;\n",
       "    }\n",
       "\n",
       "    .dataframe tbody tr th {\n",
       "        vertical-align: top;\n",
       "    }\n",
       "\n",
       "    .dataframe thead th {\n",
       "        text-align: right;\n",
       "    }\n",
       "</style>\n",
       "<table border=\"1\" class=\"dataframe\">\n",
       "  <thead>\n",
       "    <tr style=\"text-align: right;\">\n",
       "      <th></th>\n",
       "      <th>chirurgien</th>\n",
       "      <th>nurse</th>\n",
       "      <th>marge_true</th>\n",
       "    </tr>\n",
       "  </thead>\n",
       "  <tbody>\n",
       "    <tr>\n",
       "      <th>chirurgien</th>\n",
       "      <td>7661</td>\n",
       "      <td>117</td>\n",
       "      <td>7778</td>\n",
       "    </tr>\n",
       "    <tr>\n",
       "      <th>nurse</th>\n",
       "      <td>416</td>\n",
       "      <td>10631</td>\n",
       "      <td>11047</td>\n",
       "    </tr>\n",
       "    <tr>\n",
       "      <th>marge_pred</th>\n",
       "      <td>8077</td>\n",
       "      <td>10748</td>\n",
       "      <td>18825</td>\n",
       "    </tr>\n",
       "  </tbody>\n",
       "</table>\n",
       "</div>"
      ],
      "text/plain": [
       "            chirurgien  nurse  marge_true\n",
       "chirurgien        7661    117        7778\n",
       "nurse              416  10631       11047\n",
       "marge_pred        8077  10748       18825"
      ]
     },
     "execution_count": 28,
     "metadata": {},
     "output_type": "execute_result"
    }
   ],
   "source": [
    "k_opt=k_values[perf_val.index(max(perf_val))]\n",
    "pipline.set_params(knn__n_neighbors=k_opt)\n",
    "pipline.fit(X_train,Y_train)\n",
    "pipline.score(X_test,y_test)\n",
    "pred_test=pipline.predict(X_test)\n",
    "pred_prob_knn=pipline.predict_proba(X_test)\n",
    "d=ConfusionMatrix(Y_predict=pred_test,Y_true=y_test)\n",
    "print(\"Le score de notre modèle sur les données test={}\".format(np.mean(pred_test==y_test)))\n",
    "d"
   ]
  },
  {
   "cell_type": "code",
   "execution_count": 29,
   "metadata": {},
   "outputs": [
    {
     "name": "stdout",
     "output_type": "stream",
     "text": [
      "              precision    recall  f1-score   support\n",
      "\n",
      "  chirurgien       0.95      0.98      0.97      7778\n",
      "       nurse       0.99      0.96      0.98     11047\n",
      "\n",
      "   micro avg       0.97      0.97      0.97     18825\n",
      "   macro avg       0.97      0.97      0.97     18825\n",
      "weighted avg       0.97      0.97      0.97     18825\n",
      "\n"
     ]
    }
   ],
   "source": [
    "print(classification_report(y_test, pred_test))"
   ]
  },
  {
   "cell_type": "markdown",
   "metadata": {},
   "source": [
    "On constate que l'algorithme se trompe souvent losqu'on prédit un chirugien au lieu de prédire un infirmier"
   ]
  },
  {
   "cell_type": "markdown",
   "metadata": {},
   "source": [
    "## Modèle avec SVM:"
   ]
  },
  {
   "cell_type": "code",
   "execution_count": 30,
   "metadata": {},
   "outputs": [
    {
     "name": "stderr",
     "output_type": "stream",
     "text": [
      "12it [00:14,  1.28s/it]/home/tantely/anaconda3/lib/python3.7/site-packages/sklearn/svm/base.py:922: ConvergenceWarning: Liblinear failed to converge, increase the number of iterations.\n",
      "  \"the number of iterations.\", ConvergenceWarning)\n",
      "13it [00:15,  1.43s/it]/home/tantely/anaconda3/lib/python3.7/site-packages/sklearn/svm/base.py:922: ConvergenceWarning: Liblinear failed to converge, increase the number of iterations.\n",
      "  \"the number of iterations.\", ConvergenceWarning)\n",
      "14it [00:17,  1.56s/it]/home/tantely/anaconda3/lib/python3.7/site-packages/sklearn/svm/base.py:922: ConvergenceWarning: Liblinear failed to converge, increase the number of iterations.\n",
      "  \"the number of iterations.\", ConvergenceWarning)\n",
      "15it [00:19,  1.66s/it]\n"
     ]
    },
    {
     "name": "stdout",
     "output_type": "stream",
     "text": [
      "\n",
      " C optimal = 1.6378937069540647\n"
     ]
    },
    {
     "data": {
      "image/png": "[encoded data removed]",
      "text/plain": [
       "<Figure size 432x288 with 1 Axes>"
      ]
     },
     "metadata": {
      "needs_background": "light"
     },
     "output_type": "display_data"
    }
   ],
   "source": [
    "pipline_svm=Pipeline([('tfidf',TfidfVectorizer()),('LSVM',LinearSVC())])\n",
    "vectC = np.logspace(-3, 2, 15)\n",
    "err_val = np.empty(vectC.shape[0])\n",
    "err_app = np.empty(vectC.shape[0])\n",
    "for ind_C, C in tqdm(enumerate(vectC)):\n",
    "    pipline_svm.set_params(LSVM__C=C)\n",
    "    pipline_svm.fit(x_train, y_train)\n",
    "    # calcule erreur sur les donnees de validation et app\n",
    "    err_val[ind_C] = 1 - accuracy_score(y_val, pipline_svm.predict(x_val))\n",
    "    err_app[ind_C] = 1 - accuracy_score(y_train, pipline_svm.predict(x_train))\n",
    "err_min_val, ind_min = err_val.min(), err_val.argmin()\n",
    "Copt = vectC[ind_min]\n",
    "print(\"\\n C optimal = {}\".format(Copt))\n",
    "# Trace courbe erreur\n",
    "plt.figure()\n",
    "plt.semilogx(vectC, err_app, color=\"blue\", linestyle=\"--\", marker=\"s\", markersize=5, label=\"Apprentissage\")\n",
    "plt.semilogx(vectC, err_val, color=\"green\", linestyle=\"--\", marker=\"s\", markersize=5, label=\"Validation\")\n",
    "plt.xlabel(\"Parametre C\")\n",
    "plt.ylabel(\"Erreur Classification\")\n",
    "plt.legend(loc=\"best\")\n",
    "plt.show()"
   ]
  },
  {
   "cell_type": "code",
   "execution_count": 31,
   "metadata": {},
   "outputs": [
    {
     "name": "stderr",
     "output_type": "stream",
     "text": [
      "/home/tantely/anaconda3/lib/python3.7/site-packages/sklearn/model_selection/_split.py:2053: FutureWarning: You should specify a value for 'cv' instead of relying on the default value. The default value will change from 3 to 5 in version 0.22.\n",
      "  warnings.warn(CV_WARNING, FutureWarning)\n"
     ]
    },
    {
     "name": "stdout",
     "output_type": "stream",
     "text": [
      "Le score optimal pour svm=0.9935192563081009\n"
     ]
    },
    {
     "data": {
      "text/html": [
       "<div>\n",
       "<style scoped>\n",
       "    .dataframe tbody tr th:only-of-type {\n",
       "        vertical-align: middle;\n",
       "    }\n",
       "\n",
       "    .dataframe tbody tr th {\n",
       "        vertical-align: top;\n",
       "    }\n",
       "\n",
       "    .dataframe thead th {\n",
       "        text-align: right;\n",
       "    }\n",
       "</style>\n",
       "<table border=\"1\" class=\"dataframe\">\n",
       "  <thead>\n",
       "    <tr style=\"text-align: right;\">\n",
       "      <th></th>\n",
       "      <th>chirurgien</th>\n",
       "      <th>nurse</th>\n",
       "      <th>marge_true</th>\n",
       "    </tr>\n",
       "  </thead>\n",
       "  <tbody>\n",
       "    <tr>\n",
       "      <th>chirurgien</th>\n",
       "      <td>7711</td>\n",
       "      <td>67</td>\n",
       "      <td>7778</td>\n",
       "    </tr>\n",
       "    <tr>\n",
       "      <th>nurse</th>\n",
       "      <td>55</td>\n",
       "      <td>10992</td>\n",
       "      <td>11047</td>\n",
       "    </tr>\n",
       "    <tr>\n",
       "      <th>marge_pred</th>\n",
       "      <td>7766</td>\n",
       "      <td>11059</td>\n",
       "      <td>18825</td>\n",
       "    </tr>\n",
       "  </tbody>\n",
       "</table>\n",
       "</div>"
      ],
      "text/plain": [
       "            chirurgien  nurse  marge_true\n",
       "chirurgien        7711     67        7778\n",
       "nurse               55  10992       11047\n",
       "marge_pred        7766  11059       18825"
      ]
     },
     "execution_count": 31,
     "metadata": {},
     "output_type": "execute_result"
    }
   ],
   "source": [
    "pipline_svm=Pipeline([('tfidf',TfidfVectorizer()),('LSVM',LinearSVC())])\n",
    "pipline_svm.set_params(LSVM__C=Copt)\n",
    "\n",
    "lsvc=LinearSVC(C=Copt)\n",
    "clf = CalibratedClassifierCV(lsvc) \n",
    "pipline_svm.fit(X_train, Y_train)\n",
    "\n",
    "clf.fit(TfidfVectorizer().fit(X_train).transform(X_train), Y_train)\n",
    "pred_svm=pipline_svm.predict(X_test)\n",
    "pred_prob_svm=clf.predict_proba(TfidfVectorizer().fit(X_train).transform(X_test))\n",
    "score_svm=accuracy_score(y_test, pipline_svm.predict(X_test))\n",
    "print(\"Le score optimal pour svm={}\".format(score_svm))\n",
    "ConfusionMatrix(pred_svm,y_test)"
   ]
  },
  {
   "cell_type": "code",
   "execution_count": 32,
   "metadata": {},
   "outputs": [
    {
     "name": "stdout",
     "output_type": "stream",
     "text": [
      "              precision    recall  f1-score   support\n",
      "\n",
      "  chirurgien       0.99      0.99      0.99      7778\n",
      "       nurse       0.99      1.00      0.99     11047\n",
      "\n",
      "   micro avg       0.99      0.99      0.99     18825\n",
      "   macro avg       0.99      0.99      0.99     18825\n",
      "weighted avg       0.99      0.99      0.99     18825\n",
      "\n"
     ]
    }
   ],
   "source": [
    "print(classification_report(y_test, pred_svm))"
   ]
  },
  {
   "cell_type": "markdown",
   "metadata": {},
   "source": [
    "Pour svm, on a l'erreur du premier espèce qui est plus important que l'erreur du second espèce"
   ]
  },
  {
   "cell_type": "markdown",
   "metadata": {},
   "source": [
    "## Modèle avec la regression logistique:"
   ]
  },
  {
   "cell_type": "code",
   "execution_count": 33,
   "metadata": {},
   "outputs": [
    {
     "name": "stderr",
     "output_type": "stream",
     "text": [
      "0it [00:00, ?it/s]/home/tantely/anaconda3/lib/python3.7/site-packages/sklearn/linear_model/logistic.py:433: FutureWarning: Default solver will be changed to 'lbfgs' in 0.22. Specify a solver to silence this warning.\n",
      "  FutureWarning)\n",
      "15it [00:17,  1.25s/it]\n"
     ]
    },
    {
     "name": "stdout",
     "output_type": "stream",
     "text": [
      "\n",
      " C optimal = 43.93970560760795\n"
     ]
    },
    {
     "data": {
      "image/png": "[encoded data removed]",
      "text/plain": [
       "<Figure size 432x288 with 1 Axes>"
      ]
     },
     "metadata": {
      "needs_background": "light"
     },
     "output_type": "display_data"
    }
   ],
   "source": [
    "pipline_RL=Pipeline([('tfidf',TfidfVectorizer()),('RL',LogisticRegression())])\n",
    "vectC = np.logspace(-3, 2, 15)\n",
    "err_val = np.empty(vectC.shape[0])\n",
    "err_app = np.empty(vectC.shape[0])\n",
    "for ind_C, C in tqdm(enumerate(vectC)):\n",
    "    pipline_RL.set_params(RL__C=C)\n",
    "    pipline_RL.fit(x_train, y_train)\n",
    "    # calcule erreur sur les donnees de validation et app\n",
    "    err_val[ind_C] = 1 - accuracy_score(y_val, pipline_RL.predict(x_val))\n",
    "    err_app[ind_C] = 1 - accuracy_score(y_train, pipline_RL.predict(x_train))\n",
    "err_min_val, ind_min = err_val.min(), err_val.argmin()\n",
    "Copt = vectC[ind_min]\n",
    "print(\"\\n C optimal = {}\".format(Copt))\n",
    "# Trace courbe erreur\n",
    "plt.figure()\n",
    "plt.semilogx(vectC, err_app, color=\"blue\", linestyle=\"--\", marker=\"s\", markersize=5, label=\"Apprentissage\")\n",
    "plt.semilogx(vectC, err_val, color=\"green\", linestyle=\"--\", marker=\"s\", markersize=5, label=\"Validation\")\n",
    "plt.xlabel(\"Parametre C\")\n",
    "plt.ylabel(\"Erreur Classification\")\n",
    "plt.legend(loc=\"best\")\n",
    "plt.show()"
   ]
  },
  {
   "cell_type": "code",
   "execution_count": 34,
   "metadata": {},
   "outputs": [
    {
     "name": "stdout",
     "output_type": "stream",
     "text": [
      "Le score optimal pour RL=0.9936254980079682\n"
     ]
    },
    {
     "data": {
      "text/html": [
       "<div>\n",
       "<style scoped>\n",
       "    .dataframe tbody tr th:only-of-type {\n",
       "        vertical-align: middle;\n",
       "    }\n",
       "\n",
       "    .dataframe tbody tr th {\n",
       "        vertical-align: top;\n",
       "    }\n",
       "\n",
       "    .dataframe thead th {\n",
       "        text-align: right;\n",
       "    }\n",
       "</style>\n",
       "<table border=\"1\" class=\"dataframe\">\n",
       "  <thead>\n",
       "    <tr style=\"text-align: right;\">\n",
       "      <th></th>\n",
       "      <th>chirurgien</th>\n",
       "      <th>nurse</th>\n",
       "      <th>marge_true</th>\n",
       "    </tr>\n",
       "  </thead>\n",
       "  <tbody>\n",
       "    <tr>\n",
       "      <th>chirurgien</th>\n",
       "      <td>7713</td>\n",
       "      <td>65</td>\n",
       "      <td>7778</td>\n",
       "    </tr>\n",
       "    <tr>\n",
       "      <th>nurse</th>\n",
       "      <td>55</td>\n",
       "      <td>10992</td>\n",
       "      <td>11047</td>\n",
       "    </tr>\n",
       "    <tr>\n",
       "      <th>marge_pred</th>\n",
       "      <td>7768</td>\n",
       "      <td>11057</td>\n",
       "      <td>18825</td>\n",
       "    </tr>\n",
       "  </tbody>\n",
       "</table>\n",
       "</div>"
      ],
      "text/plain": [
       "            chirurgien  nurse  marge_true\n",
       "chirurgien        7713     65        7778\n",
       "nurse               55  10992       11047\n",
       "marge_pred        7768  11057       18825"
      ]
     },
     "execution_count": 34,
     "metadata": {},
     "output_type": "execute_result"
    }
   ],
   "source": [
    "pipline_RL.set_params(RL__C=Copt)\n",
    "pipline_RL.fit(X_train, Y_train)\n",
    "pred_RL=pipline_RL.predict(X_test)\n",
    "pred_prob_RL=pipline_RL.predict_proba(X_test)\n",
    "score_RL=accuracy_score(y_test, pipline_RL.predict(X_test))\n",
    "print(\"Le score optimal pour RL={}\".format(score_RL))\n",
    "ConfusionMatrix(pred_RL,y_test)"
   ]
  },
  {
   "cell_type": "code",
   "execution_count": 39,
   "metadata": {},
   "outputs": [
    {
     "name": "stdout",
     "output_type": "stream",
     "text": [
      "              precision    recall  f1-score   support\n",
      "\n",
      "  chirurgien       0.99      0.99      0.99      7778\n",
      "       nurse       0.99      1.00      0.99     11047\n",
      "\n",
      "   micro avg       0.99      0.99      0.99     18825\n",
      "   macro avg       0.99      0.99      0.99     18825\n",
      "weighted avg       0.99      0.99      0.99     18825\n",
      "\n"
     ]
    }
   ],
   "source": [
    "print(classification_report(y_test, pred_RL))"
   ]
  },
  {
   "cell_type": "markdown",
   "metadata": {},
   "source": [
    "On a un erreur du première espèce qui est plus important"
   ]
  },
  {
   "cell_type": "markdown",
   "metadata": {},
   "source": [
    "## Modèle de prédiction avec Naive Bayse:"
   ]
  },
  {
   "cell_type": "code",
   "execution_count": 35,
   "metadata": {},
   "outputs": [],
   "source": [
    "pipline_NB=Pipeline([('tfidf',TfidfVectorizer()),('NB',MultinomialNB())])"
   ]
  },
  {
   "cell_type": "code",
   "execution_count": 36,
   "metadata": {},
   "outputs": [
    {
     "name": "stderr",
     "output_type": "stream",
     "text": [
      "24it [00:25,  1.06s/it]\n"
     ]
    },
    {
     "name": "stdout",
     "output_type": "stream",
     "text": [
      "\n",
      " C optimal = 0.01\n"
     ]
    },
    {
     "data": {
      "image/png": "[encoded data removed]",
      "text/plain": [
       "<Figure size 432x288 with 1 Axes>"
      ]
     },
     "metadata": {
      "needs_background": "light"
     },
     "output_type": "display_data"
    }
   ],
   "source": [
    "vectC = np.array([1e-4,1e-3,1e-2,1e-1,0.2,0.3,0.4,0.5,0.6,0.7,0.8,0.9,1,1.5,1.6,2,2.5,3,3.5,4,4.5,5,5.5,10])\n",
    "err_val = np.empty(vectC.shape[0])\n",
    "err_app = np.empty(vectC.shape[0])\n",
    "for ind_C, C in tqdm(enumerate(vectC)):\n",
    "    pipline_NB.set_params(NB__alpha=C)\n",
    "    pipline_NB.fit(x_train, y_train)\n",
    "    # calcule erreur sur les donnees de validation et app\n",
    "    err_val[ind_C] = 1 - accuracy_score(y_val, pipline_NB.predict(x_val))\n",
    "    err_app[ind_C] = 1 - accuracy_score(y_train, pipline_NB.predict(x_train))\n",
    "err_min_val, ind_min = err_val.min(), err_val.argmin()\n",
    "Copt = vectC[ind_min]\n",
    "print(\"\\n C optimal = {}\".format(Copt))\n",
    "# Trace courbe erreur\n",
    "plt.figure()\n",
    "plt.semilogx(vectC, err_app, color=\"blue\", linestyle=\"--\", marker=\"s\", markersize=5, label=\"Apprentissage\")\n",
    "plt.semilogx(vectC, err_val, color=\"green\", linestyle=\"--\", marker=\"s\", markersize=5, label=\"Validation\")\n",
    "plt.xlabel(\"Parametre alpha\")\n",
    "plt.ylabel(\"Erreur Classification\")\n",
    "plt.legend(loc=\"best\")\n",
    "plt.show()"
   ]
  },
  {
   "cell_type": "code",
   "execution_count": 37,
   "metadata": {},
   "outputs": [
    {
     "name": "stdout",
     "output_type": "stream",
     "text": [
      "Le score optimal pour NB=0.9680743691899071\n"
     ]
    },
    {
     "data": {
      "text/html": [
       "<div>\n",
       "<style scoped>\n",
       "    .dataframe tbody tr th:only-of-type {\n",
       "        vertical-align: middle;\n",
       "    }\n",
       "\n",
       "    .dataframe tbody tr th {\n",
       "        vertical-align: top;\n",
       "    }\n",
       "\n",
       "    .dataframe thead th {\n",
       "        text-align: right;\n",
       "    }\n",
       "</style>\n",
       "<table border=\"1\" class=\"dataframe\">\n",
       "  <thead>\n",
       "    <tr style=\"text-align: right;\">\n",
       "      <th></th>\n",
       "      <th>chirurgien</th>\n",
       "      <th>nurse</th>\n",
       "      <th>marge_true</th>\n",
       "    </tr>\n",
       "  </thead>\n",
       "  <tbody>\n",
       "    <tr>\n",
       "      <th>chirurgien</th>\n",
       "      <td>7461</td>\n",
       "      <td>317</td>\n",
       "      <td>7778</td>\n",
       "    </tr>\n",
       "    <tr>\n",
       "      <th>nurse</th>\n",
       "      <td>284</td>\n",
       "      <td>10763</td>\n",
       "      <td>11047</td>\n",
       "    </tr>\n",
       "    <tr>\n",
       "      <th>marge_pred</th>\n",
       "      <td>7745</td>\n",
       "      <td>11080</td>\n",
       "      <td>18825</td>\n",
       "    </tr>\n",
       "  </tbody>\n",
       "</table>\n",
       "</div>"
      ],
      "text/plain": [
       "            chirurgien  nurse  marge_true\n",
       "chirurgien        7461    317        7778\n",
       "nurse              284  10763       11047\n",
       "marge_pred        7745  11080       18825"
      ]
     },
     "execution_count": 37,
     "metadata": {},
     "output_type": "execute_result"
    }
   ],
   "source": [
    "pipline_NB.set_params(NB__alpha=Copt)\n",
    "pipline_NB.fit(X_train, Y_train)\n",
    "pred_NB=pipline_NB.predict(X_test)\n",
    "pred_prob_NB=pipline_NB.predict_proba(X_test)\n",
    "score_NB=accuracy_score(y_test, pipline_NB.predict(X_test))\n",
    "print(\"Le score optimal pour NB={}\".format(score_NB))\n",
    "ConfusionMatrix(pred_NB,y_test)"
   ]
  },
  {
   "cell_type": "code",
   "execution_count": 48,
   "metadata": {},
   "outputs": [
    {
     "name": "stdout",
     "output_type": "stream",
     "text": [
      "              precision    recall  f1-score   support\n",
      "\n",
      "  chirurgien       0.96      0.96      0.96      7778\n",
      "       nurse       0.97      0.97      0.97     11047\n",
      "\n",
      "   micro avg       0.97      0.97      0.97     18825\n",
      "   macro avg       0.97      0.97      0.97     18825\n",
      "weighted avg       0.97      0.97      0.97     18825\n",
      "\n"
     ]
    }
   ],
   "source": [
    "print(classification_report(y_test, pred_NB))"
   ]
  },
  {
   "cell_type": "markdown",
   "metadata": {},
   "source": [
    "### Courbe ROC:"
   ]
  },
  {
   "cell_type": "code",
   "execution_count": 40,
   "metadata": {},
   "outputs": [],
   "source": [
    "def ROC_param(y_test,y_pred,y_proba):   \n",
    "    fpr_cl = dict()\n",
    "    tpr_cl = dict()\n",
    "    roc_auc=dict()\n",
    "\n",
    "    fpr_cl[\"classe 0\"], tpr_cl[\"classe 0\"], _ = roc_curve(y_test == 0, y_proba[:, 0].ravel())\n",
    "    roc_auc[\"classe 0\"] = auc(fpr_cl[\"classe 0\"], tpr_cl[\"classe 0\"])\n",
    "    fpr_cl[\"classe 1\"], tpr_cl[\"classe 1\"], _ = roc_curve(y_test, y_proba[:, 1].ravel())  \n",
    "    roc_auc[\"classe 1\"] = auc(fpr_cl[\"classe 1\"], tpr_cl[\"classe 1\"])\n",
    "    \n",
    "    prob_pred = np.array([y_proba[i, 1 if c else 0] for i, c in enumerate(y_pred)])\n",
    "    fpr_cl[\"tout\"], tpr_cl[\"tout\"], _ = roc_curve((y_pred == y_test).ravel(), prob_pred)\n",
    "    roc_auc[\"tout\"] = auc(fpr_cl[\"tout\"], tpr_cl[\"tout\"])\n",
    "    \n",
    "    return fpr_cl,tpr_cl,roc_auc\n"
   ]
  },
  {
   "cell_type": "code",
   "execution_count": 41,
   "metadata": {},
   "outputs": [],
   "source": [
    "le = LabelBinarizer()\n",
    "le.fit(y_test)\n",
    "y_test1=le.transform(y_test)\n",
    "pred1=le.transform(pred_test)\n",
    "pred_svm1=le.transform(pred_svm)\n",
    "pred_RL1=le.transform(pred_RL)\n",
    "pred_NB1=le.transform(pred_NB)\n",
    "fpr_knn,tpr_knn,auc_knn=ROC_param(y_test1,pred1,pred_knn)\n",
    "fpr_svm,tpr_svm,auc_svm=ROC_param(y_test1,pred_svm1,pred_prob_svm)\n",
    "fpr_RL,tpr_RL,auc_RL=ROC_param(y_test1,pred_RL1,pred_prob_RL)\n",
    "fpr_NB,tpr_NB,auc_NB=ROC_param(y_test1,pred_NB1,pred_prob_NB)"
   ]
  },
  {
   "cell_type": "code",
   "execution_count": 42,
   "metadata": {},
   "outputs": [
    {
     "data": {
      "image/png": "[encoded data removed]",
      "text/plain": [
       "<Figure size 432x288 with 1 Axes>"
      ]
     },
     "metadata": {
      "needs_background": "light"
     },
     "output_type": "display_data"
    }
   ],
   "source": [
    "for cl in (\"tout\",):\n",
    "    plt.plot(fpr_knn[cl], tpr_knn[cl], label='ROC knn (area = %0.2f)'% (auc_knn[cl]) )\n",
    "    plt.plot(fpr_svm[cl], tpr_svm[cl], label='ROC svm (area = %0.2f)' % (auc_svm[cl]))\n",
    "    plt.plot(fpr_RL[cl], tpr_RL[cl], label='ROC RL (area = %0.2f)'% (auc_RL[cl]))\n",
    "    plt.plot(fpr_NB[cl], tpr_NB[cl], label='ROC NB (area = %0.2f)'% (auc_NB[cl]))\n",
    "plt.legend()\n",
    "plt.show()"
   ]
  },
  {
   "cell_type": "markdown",
   "metadata": {},
   "source": [
    "On constate sur ce courbe que le modèle SMV et regression logistique maximise plus l'air sous la courbe ROC. Donc ces deux modèles donne des résultats plus pretinant sur l'ensemble des classes que l'on dispose. "
   ]
  },
  {
   "cell_type": "code",
   "execution_count": 43,
   "metadata": {},
   "outputs": [
    {
     "data": {
      "image/png": "[encoded data removed]",
      "text/plain": [
       "<Figure size 432x288 with 1 Axes>"
      ]
     },
     "metadata": {
      "needs_background": "light"
     },
     "output_type": "display_data"
    }
   ],
   "source": [
    "\n",
    "for cl in (\"classe 0\",):\n",
    "    plt.plot(fpr_knn[cl], tpr_knn[cl], label='ROC knn (area = %0.2f)'% (auc_knn[cl]) )\n",
    "    plt.plot(fpr_svm[cl], tpr_svm[cl], label='ROC svm (area = %0.2f)' % (auc_svm[cl]))\n",
    "    plt.plot(fpr_RL[cl], tpr_RL[cl], label='ROC RL (area = %0.2f)'% (auc_RL[cl]))\n",
    "    plt.plot(fpr_NB[cl], tpr_NB[cl], label='ROC NB (area = %0.2f)'% (auc_NB[cl]))\n",
    "plt.legend()\n",
    "plt.show()\n"
   ]
  },
  {
   "cell_type": "markdown",
   "metadata": {},
   "source": [
    "Sur la classe 0 qui correspond au chirurgien, on peut dire la même chose qu'avant."
   ]
  },
  {
   "cell_type": "code",
   "execution_count": 44,
   "metadata": {},
   "outputs": [
    {
     "data": {
      "image/png": "[encoded data removed]",
      "text/plain": [
       "<Figure size 432x288 with 1 Axes>"
      ]
     },
     "metadata": {
      "needs_background": "light"
     },
     "output_type": "display_data"
    }
   ],
   "source": [
    "for cl in (\"classe 1\",):\n",
    "    plt.plot(fpr_knn[cl], tpr_knn[cl], label='ROC knn (area = %0.2f)'% (auc_knn[cl]) )\n",
    "    plt.plot(fpr_svm[cl], tpr_svm[cl], label='ROC svm (area = %0.2f)' % (auc_svm[cl]))\n",
    "    plt.plot(fpr_RL[cl], tpr_RL[cl], label='ROC RL (area = %0.2f)'% (auc_RL[cl]))\n",
    "    plt.plot(fpr_NB[cl], tpr_NB[cl], label='ROC NB (area = %0.2f)'% (auc_NB[cl]))\n",
    "plt.legend()\n",
    "plt.show()"
   ]
  },
  {
   "cell_type": "markdown",
   "metadata": {},
   "source": [
    "Il en est de même pour la classe nurse"
   ]
  }
 ],
 "metadata": {
  "kernelspec": {
   "display_name": "Python 3",
   "language": "python",
   "name": "python3"
  },
  "language_info": {
   "codemirror_mode": {
    "name": "ipython",
    "version": 3
   },
   "file_extension": ".py",
   "mimetype": "text/x-python",
   "name": "python",
   "nbconvert_exporter": "python",
   "pygments_lexer": "ipython3",
   "version": "3.6.8"
  },
  "toc": {
   "base_numbering": 1,
   "nav_menu": {},
   "number_sections": false,
   "sideBar": false,
   "skip_h1_title": false,
   "title_cell": "Table of Contents",
   "title_sidebar": "Contents",
   "toc_cell": false,
   "toc_position": {},
   "toc_section_display": false,
   "toc_window_display": false
  }
 },
 "nbformat": 4,
 "nbformat_minor": 2
}
